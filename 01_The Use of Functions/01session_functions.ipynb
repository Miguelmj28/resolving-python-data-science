{
 "cells": [
  {
   "cell_type": "markdown",
   "id": "8e52b97d-1dd5-4585-b589-964f954af941",
   "metadata": {},
   "source": [
    "<font size=\"+5\">#01 | The Use of Functions</font>"
   ]
  },
  {
   "cell_type": "markdown",
   "id": "ee404e98-7cce-4d1a-897d-572ec26ee648",
   "metadata": {},
   "source": [
    "\n",
    "<div class=\"alert alert-warning\">\n",
    "  <ul>\n",
    "    <li>\n",
    "      <b>Python</b> + <b>Data Science</b> Tutorials in ↓\n",
    "      <ul>\n",
    "        <li>\n",
    "          <a href=\"https://www.youtube.com/c/PythonResolver?sub_confirmation=1\"\n",
    "            >YouTube</a\n",
    "          >\n",
    "        </li>\n",
    "        <li>\n",
    "          <a href=\"https://blog.pythonresolver.com/\">Blog</a>\n",
    "        </li>\n",
    "        <li>\n",
    "          <a href=\"https://github.com/jsulopz/00-python-resolver-discipline\">GitHub</a>\n",
    "        </li>\n",
    "      </ul>\n",
    "    </li>\n",
    "    <li>\n",
    "      Author: <a href=\"https://twitter.com/jsulopz\"><b>@jsulopz</b></a>\n",
    "    </li>\n",
    "  </ul>\n",
    "</div>\n"
   ]
  },
  {
   "cell_type": "markdown",
   "id": "ff269276-6dc1-406c-a20a-952c1792b995",
   "metadata": {},
   "source": [
    "# The starting *thing*"
   ]
  },
  {
   "cell_type": "code",
   "execution_count": null,
   "id": "f1ff71e2-efc5-4870-96c5-b755e3568a83",
   "metadata": {},
   "outputs": [],
   "source": []
  },
  {
   "cell_type": "markdown",
   "id": "ef8e6f83-a820-4c97-8da4-791c7679083c",
   "metadata": {},
   "source": [
    "- [ ] Type `your_name` and execute ↓"
   ]
  },
  {
   "cell_type": "code",
   "execution_count": null,
   "id": "7648540f-8bd3-4b97-9889-26ccc56d31d0",
   "metadata": {},
   "outputs": [],
   "source": []
  },
  {
   "cell_type": "markdown",
   "id": "b36f1c8f-8d3b-4629-afbe-2f8e29312c98",
   "metadata": {},
   "source": [
    "- [ ] Why is not Python recognising my name?"
   ]
  },
  {
   "cell_type": "markdown",
   "id": "8bd24a54-8440-4dae-8b39-7d20f1523af9",
   "metadata": {},
   "source": [
    "# Default *things* in Python"
   ]
  },
  {
   "cell_type": "markdown",
   "id": "3913e701-8960-419c-949f-00b6e58026c7",
   "metadata": {},
   "source": [
    "- It is not [**predefined by default**]() in Python\n",
    "- [ ] Then, what is predefined by default?\n",
    "    - [Functions](https://docs.python.org/3/library/functions.html)\n",
    "    - [Constants](https://docs.python.org/3/library/constants.html)\n",
    "    - [Types](https://docs.python.org/3/library/stdtypes.html)\n",
    "    - [Exceptions](https://docs.python.org/3/library/exceptions.html)"
   ]
  },
  {
   "cell_type": "code",
   "execution_count": null,
   "id": "d911c09f-1862-4ca3-b1e4-0f33bf007824",
   "metadata": {},
   "outputs": [],
   "source": []
  },
  {
   "cell_type": "markdown",
   "id": "19ec6fba-a21b-4620-bcd8-52411509c1bd",
   "metadata": {},
   "source": [
    "- [ ] Why is it recognizing `sum`? Why not `your_name`?\n",
    "- [ ] How can Python recognize `your_name`?"
   ]
  },
  {
   "cell_type": "code",
   "execution_count": null,
   "id": "fa512143-aaed-40c0-b934-06f54deba977",
   "metadata": {},
   "outputs": [],
   "source": []
  },
  {
   "cell_type": "code",
   "execution_count": null,
   "id": "16607e87-dd23-48c3-9a56-92dca0db4168",
   "metadata": {},
   "outputs": [],
   "source": []
  },
  {
   "cell_type": "markdown",
   "id": "133439a5-12f3-42fa-a4af-156f21f49524",
   "metadata": {},
   "source": [
    "# Object-Oriented Programming"
   ]
  },
  {
   "cell_type": "markdown",
   "id": "f33fef3f-0171-46de-8b0d-1d903a354d1f",
   "metadata": {},
   "source": [
    "Which `objects` are predefined by Python?\n",
    "- Numbers\n",
    "    - `int`eger\n",
    "    - `float`\n",
    "- Text\n",
    "    - `str`\n",
    "- and [more...](https://docs.python.org/3/library/stdtypes.html#sequence-types-list-tuple-range)"
   ]
  },
  {
   "cell_type": "markdown",
   "id": "96bb17cf-8bb2-49eb-9451-61b3c5713224",
   "metadata": {},
   "source": [
    "## `string`"
   ]
  },
  {
   "cell_type": "code",
   "execution_count": null,
   "id": "f150c97c-16b9-4929-80fc-7c4483060327",
   "metadata": {},
   "outputs": [],
   "source": []
  },
  {
   "cell_type": "code",
   "execution_count": null,
   "id": "282aad36-93ff-4fb4-9da6-7200bd6362ef",
   "metadata": {},
   "outputs": [],
   "source": []
  },
  {
   "cell_type": "markdown",
   "id": "349ccda8-726c-4c16-9a3b-564819d3c40e",
   "metadata": {},
   "source": [
    "## `integer`"
   ]
  },
  {
   "cell_type": "code",
   "execution_count": null,
   "id": "0cb69030-6107-4684-8a2c-3c199ab92ef2",
   "metadata": {},
   "outputs": [],
   "source": []
  },
  {
   "cell_type": "code",
   "execution_count": null,
   "id": "0d80807d-89b9-4953-8765-b79fd220ff4e",
   "metadata": {},
   "outputs": [],
   "source": []
  },
  {
   "cell_type": "markdown",
   "id": "854c79bb-3c80-49d1-be7b-eabe55bb0764",
   "metadata": {},
   "source": [
    "## `float`"
   ]
  },
  {
   "cell_type": "code",
   "execution_count": null,
   "id": "00c94f31-eb6d-4b49-8edc-83b92d3c1c35",
   "metadata": {},
   "outputs": [],
   "source": []
  },
  {
   "cell_type": "code",
   "execution_count": null,
   "id": "77b1b885-446f-4746-88d4-1913b75928e4",
   "metadata": {},
   "outputs": [],
   "source": []
  },
  {
   "cell_type": "markdown",
   "id": "1bf42dce-8ba7-4e31-bc5f-e7974a7ffb02",
   "metadata": {},
   "source": [
    "## `list`"
   ]
  },
  {
   "cell_type": "code",
   "execution_count": null,
   "id": "99319fbd-dbfb-47c2-8719-d30d42ddf05d",
   "metadata": {},
   "outputs": [],
   "source": []
  },
  {
   "cell_type": "code",
   "execution_count": null,
   "id": "211c7080-2114-4e58-a75c-74314eea2840",
   "metadata": {},
   "outputs": [],
   "source": []
  },
  {
   "cell_type": "markdown",
   "id": "51f7bd42-c747-4c6e-952a-b6d004f1611d",
   "metadata": {},
   "source": [
    "# The Python Resolver Discipline\n",
    "\n",
    "- A proven method to get the `function()` that solves your problem"
   ]
  },
  {
   "cell_type": "code",
   "execution_count": null,
   "id": "b8a0082b-eeeb-45a0-9b46-fc386194a4fe",
   "metadata": {},
   "outputs": [],
   "source": []
  },
  {
   "cell_type": "code",
   "execution_count": null,
   "id": "f36987f6-ef1b-46f0-803b-b2114d4552af",
   "metadata": {},
   "outputs": [],
   "source": []
  },
  {
   "cell_type": "code",
   "execution_count": null,
   "id": "4c25d4ac-5e83-4e0d-a929-9ef69fa35bc0",
   "metadata": {},
   "outputs": [],
   "source": []
  },
  {
   "cell_type": "code",
   "execution_count": null,
   "id": "c4d32570-9356-4b07-b80d-f87a5c811f91",
   "metadata": {},
   "outputs": [],
   "source": []
  },
  {
   "cell_type": "markdown",
   "id": "5149e538-3366-4654-9ab1-a7468c29e5c3",
   "metadata": {},
   "source": [
    "# Type of `functions()`"
   ]
  },
  {
   "cell_type": "markdown",
   "id": "b43361d8-2c5b-4719-b9d4-7f4798e13b7d",
   "metadata": {},
   "source": [
    "1. `built_in_function()`\n",
    "2. `instance.function()`\n",
    "3. `module.function()`"
   ]
  },
  {
   "cell_type": "markdown",
   "id": "691c6f83-aa03-4359-9acf-dbd054f3c8b7",
   "metadata": {
    "tags": []
   },
   "source": [
    "## `Built-in` Functions"
   ]
  },
  {
   "cell_type": "markdown",
   "id": "d7ac17c4-5f31-49a6-a6de-025c86614fde",
   "metadata": {},
   "source": [
    "- See how many `functions()` Python has by default, [here ↗︎](https://docs.python.org/3/library/functions.html)"
   ]
  },
  {
   "cell_type": "code",
   "execution_count": null,
   "id": "1b54a90a-8967-4825-bde6-18a11e4f9ba9",
   "metadata": {},
   "outputs": [],
   "source": []
  },
  {
   "cell_type": "code",
   "execution_count": null,
   "id": "b12f6aed-21e7-4259-93fa-4a4e3e46b685",
   "metadata": {},
   "outputs": [],
   "source": []
  },
  {
   "cell_type": "code",
   "execution_count": null,
   "id": "f0021db5-ab45-4a8e-91a4-7cb30d7dda6d",
   "metadata": {},
   "outputs": [],
   "source": []
  },
  {
   "cell_type": "code",
   "execution_count": null,
   "id": "2fd4503c-4d3d-4614-97c1-fa7eae4b2c99",
   "metadata": {},
   "outputs": [],
   "source": []
  },
  {
   "cell_type": "code",
   "execution_count": null,
   "id": "06b3a807-a4c4-470e-8fef-3b1ff113a61d",
   "metadata": {},
   "outputs": [],
   "source": []
  },
  {
   "cell_type": "code",
   "execution_count": null,
   "id": "037a0537-91d8-472c-88c7-9e4dc4410c50",
   "metadata": {},
   "outputs": [],
   "source": []
  },
  {
   "cell_type": "code",
   "execution_count": null,
   "id": "d2690407-67db-4916-bbce-4974947695fc",
   "metadata": {},
   "outputs": [],
   "source": []
  },
  {
   "cell_type": "code",
   "execution_count": null,
   "id": "5886d0bb-3cd8-48a7-955b-aaa556abd3c8",
   "metadata": {},
   "outputs": [],
   "source": []
  },
  {
   "cell_type": "code",
   "execution_count": null,
   "id": "3640bc92-6611-481b-9e6f-0265483646e9",
   "metadata": {},
   "outputs": [],
   "source": []
  },
  {
   "cell_type": "code",
   "execution_count": null,
   "id": "a4759da7-281e-4ba8-a4c6-2222ab3572e5",
   "metadata": {},
   "outputs": [],
   "source": []
  },
  {
   "cell_type": "code",
   "execution_count": null,
   "id": "606f1472-844d-49b6-8ff9-f512fd993f02",
   "metadata": {},
   "outputs": [],
   "source": []
  },
  {
   "cell_type": "code",
   "execution_count": null,
   "id": "ac662e15-e7de-4dbe-90f2-423b09f97c4c",
   "metadata": {},
   "outputs": [],
   "source": []
  },
  {
   "cell_type": "code",
   "execution_count": null,
   "id": "d463a43a-258f-42ef-ac5f-f08df6c7f367",
   "metadata": {},
   "outputs": [],
   "source": []
  },
  {
   "cell_type": "markdown",
   "id": "cd70378a-5711-4a6c-99f9-061eeb75eb3f",
   "metadata": {
    "tags": []
   },
   "source": [
    "## Functions inside `instances`"
   ]
  },
  {
   "cell_type": "markdown",
   "id": "4207878a-a6d0-4410-9ecb-b46aea8e60bc",
   "metadata": {},
   "source": [
    "```pytyhon\n",
    "instance.function()\n",
    "```\n",
    "\n",
    "- ✅ The `dog` makes `guau()`: `dog.guau()`\n",
    "- ✅ The `cat` makes `miau()`: `cat.miau()`\n",
    "- ❌ The `cat` DOESN'T make `guau()`: `cat.guau()`"
   ]
  },
  {
   "cell_type": "code",
   "execution_count": null,
   "id": "01be3ef6-c7c1-4630-9685-d1c701ba257f",
   "metadata": {},
   "outputs": [],
   "source": []
  },
  {
   "cell_type": "code",
   "execution_count": null,
   "id": "8323179c-ae0c-42c5-8485-0f1c3aabdf4d",
   "metadata": {},
   "outputs": [],
   "source": []
  },
  {
   "cell_type": "code",
   "execution_count": null,
   "id": "14295a6c-c2dd-4a87-bf84-1a546a989c0d",
   "metadata": {},
   "outputs": [],
   "source": []
  },
  {
   "cell_type": "code",
   "execution_count": null,
   "id": "cfd4dbb3-66a9-4488-a8e9-bdf930598119",
   "metadata": {},
   "outputs": [],
   "source": []
  },
  {
   "cell_type": "code",
   "execution_count": null,
   "id": "6f091c4b-6a03-4bbe-8d90-248d83612e83",
   "metadata": {},
   "outputs": [],
   "source": []
  },
  {
   "cell_type": "code",
   "execution_count": null,
   "id": "45b1f827-0b09-4c61-b92e-42d7d40258a3",
   "metadata": {},
   "outputs": [],
   "source": []
  },
  {
   "cell_type": "markdown",
   "id": "9a4979d3-c8b5-4441-9343-51c465b809be",
   "metadata": {},
   "source": [
    "- [ ] Can a `dog` make `miau()`: ~~`dog.miau()`~~ ? "
   ]
  },
  {
   "cell_type": "code",
   "execution_count": null,
   "id": "9708d649-0c76-4e24-85a5-df79fbe44c3a",
   "metadata": {},
   "outputs": [],
   "source": []
  },
  {
   "cell_type": "code",
   "execution_count": null,
   "id": "4d15fe44-e0c1-4427-9f3a-420ae417096e",
   "metadata": {},
   "outputs": [],
   "source": []
  },
  {
   "cell_type": "code",
   "execution_count": null,
   "id": "a3483cb4-2c4d-4af4-a667-0ddf1cd54f08",
   "metadata": {},
   "outputs": [],
   "source": []
  },
  {
   "cell_type": "code",
   "execution_count": null,
   "id": "88718f9f-8c06-468c-8153-62628e158c19",
   "metadata": {},
   "outputs": [],
   "source": []
  },
  {
   "cell_type": "markdown",
   "id": "36b1c830-8eb5-462a-986b-3bae8023e19b",
   "metadata": {},
   "source": [
    "## External Functions: from the `module`"
   ]
  },
  {
   "cell_type": "markdown",
   "id": "cf8d041c-f975-4693-939d-354cdf122ed8",
   "metadata": {},
   "source": [
    "- [ ] Load [this Excel](https://github.com/sotastica/data/raw/main/internet_usage_spain.xlsx) into Python\n",
    "- by applying the [Python Resolver Discipline](https://github.com/jsulopz/00-python-resolver-discipline/blob/main/01_Code%20of%20Discipline/02_Google%20Method.md)"
   ]
  },
  {
   "cell_type": "code",
   "execution_count": null,
   "id": "b77c21bb-d474-4774-b5b3-a8668d78653b",
   "metadata": {},
   "outputs": [],
   "source": []
  },
  {
   "cell_type": "code",
   "execution_count": null,
   "id": "9bf91c66-0d86-4e22-8ccc-3fbe2e1845a7",
   "metadata": {},
   "outputs": [],
   "source": []
  },
  {
   "cell_type": "code",
   "execution_count": null,
   "id": "427be50f-0cee-4645-bcb3-0914354847b4",
   "metadata": {},
   "outputs": [],
   "source": []
  },
  {
   "cell_type": "code",
   "execution_count": null,
   "id": "0bb94897-674c-4347-ad29-77470d9b73a2",
   "metadata": {},
   "outputs": [],
   "source": []
  },
  {
   "cell_type": "code",
   "execution_count": null,
   "id": "9837c25f-8031-41e8-8b43-29de620107bb",
   "metadata": {},
   "outputs": [],
   "source": []
  },
  {
   "cell_type": "code",
   "execution_count": null,
   "id": "07a88d4f-f84a-444f-bb22-e646c4e498df",
   "metadata": {},
   "outputs": [],
   "source": []
  },
  {
   "cell_type": "markdown",
   "id": "eba1f9b6-fb5a-45c1-a324-68dd9fefa433",
   "metadata": {},
   "source": [
    "> - [ ] Could you read the **second table** of the `Excel`?"
   ]
  },
  {
   "cell_type": "code",
   "execution_count": null,
   "id": "3b1546d0-f2b9-4653-8b00-8979e4cc8c9e",
   "metadata": {},
   "outputs": [],
   "source": []
  },
  {
   "cell_type": "markdown",
   "id": "4791fe3f-2508-492d-ba5b-34a34c035c2a",
   "metadata": {
    "tags": []
   },
   "source": [
    "# Use of `functions()`"
   ]
  },
  {
   "cell_type": "markdown",
   "id": "ca15e755-a027-4eff-aa6b-c9bf759c3ca2",
   "metadata": {},
   "source": [
    "## Change Default Parameters of a Function"
   ]
  },
  {
   "cell_type": "markdown",
   "id": "cb053560-1296-42d4-bc6f-fd94803a881e",
   "metadata": {},
   "source": [
    "- By Default ↓"
   ]
  },
  {
   "cell_type": "code",
   "execution_count": null,
   "id": "71664811-db50-4df3-bd4d-feb32288de56",
   "metadata": {},
   "outputs": [],
   "source": []
  },
  {
   "cell_type": "markdown",
   "id": "954c5780-ec44-4cd4-af0f-b527c990b116",
   "metadata": {},
   "source": [
    "- [ ] Change the default `object` of the `(parameter=?)` ↓"
   ]
  },
  {
   "cell_type": "code",
   "execution_count": null,
   "id": "48e30005-e825-459c-83d4-64d549ec69f7",
   "metadata": {},
   "outputs": [],
   "source": []
  },
  {
   "cell_type": "markdown",
   "id": "b8e16793-22fb-4cc0-af8a-4f7983a6bac1",
   "metadata": {},
   "source": [
    "## The Elements of Programming"
   ]
  },
  {
   "cell_type": "markdown",
   "id": "b6267445-bfff-4396-a139-55660786cccc",
   "metadata": {},
   "source": [
    "- Detailed [here ↗︎](https://github.com/jsulopz/00-python-resolver-discipline/blob/main/01_Code%20of%20Discipline/00_The%20Elements%20of%20Programming.md)"
   ]
  },
  {
   "cell_type": "markdown",
   "id": "e2c7d721-d2cd-4f0e-abea-0ccbb5a4e17b",
   "metadata": {},
   "source": [
    "# Code Syntax"
   ]
  },
  {
   "cell_type": "markdown",
   "id": "6edab2a4-b271-41c7-ae36-16542de7a810",
   "metadata": {},
   "source": [
    "In which order Python reads the line of code?\n",
    "- From <ins>left to right</ins>.\n",
    "- From <ins>up to down</ins>."
   ]
  },
  {
   "cell_type": "markdown",
   "id": "94077e8e-f3b4-4350-846a-f8574f85c2c2",
   "metadata": {},
   "source": [
    "## The `module`"
   ]
  },
  {
   "cell_type": "markdown",
   "id": "d348f725-ca94-41dd-99e4-defbc01640aa",
   "metadata": {},
   "source": [
    "1. ✅ Think of the library that may contain\n",
    "2. the `function()` that *loads the Excel file*"
   ]
  },
  {
   "cell_type": "code",
   "execution_count": null,
   "id": "04e2d234-9568-4b82-a527-57ec29bb802a",
   "metadata": {},
   "outputs": [],
   "source": []
  },
  {
   "cell_type": "code",
   "execution_count": null,
   "id": "e87be998-e1fe-4ec2-a293-a592ed777f33",
   "metadata": {},
   "outputs": [],
   "source": []
  },
  {
   "cell_type": "markdown",
   "id": "1164afdf-9bfb-4b8b-a1d1-a07bbc3cc481",
   "metadata": {
    "tags": []
   },
   "source": [
    "## The `.` **DOT NOTATION**\n",
    "\n",
    "1. ✅ `library.↹` to get the **autocompletion list**\n",
    "2. of all functions inside the library \n",
    "\n",
    "![](src/suggestion.gif)"
   ]
  },
  {
   "cell_type": "markdown",
   "id": "575b2824-4cae-44f3-9d46-a82e93c23e2b",
   "metadata": {},
   "source": [
    "## The `function()`"
   ]
  },
  {
   "cell_type": "markdown",
   "id": "3364acf2-58c0-480c-a7f1-900047a30891",
   "metadata": {
    "tags": []
   },
   "source": [
    "1. Apply [**deduction**](<https://github.com/jsulopz/python-resolver-discipline/blob/main/01_Code%20of%20Discipline/01_Deduction%20Method.md>) to let Python\n",
    "2. give you the name of the `function()`\n",
    "3. that loads the `Excel` file\n",
    "- [ ] **Which word** do you think the function contains?\n",
    "\n",
    "![](src/excel-suggestion.gif)"
   ]
  },
  {
   "cell_type": "markdown",
   "id": "571afc9a-d1ac-4fef-aa83-7e6cd41f2169",
   "metadata": {
    "tags": []
   },
   "source": [
    "## The `(parameter=object)`"
   ]
  },
  {
   "cell_type": "markdown",
   "id": "c9f8918f-3df3-47ad-92d6-082a486b7595",
   "metadata": {},
   "source": [
    "- Pass the `objects` to the `parameters`"
   ]
  },
  {
   "cell_type": "markdown",
   "id": "0d1a1a08-4faa-4159-9f79-aa0d8151751c",
   "metadata": {},
   "source": [
    "### `(io='internet_usage_spain.xlsx')`\n",
    "\n",
    "- we pass the `string` object `'internet_usage_spain.xlsx'` to the parameter `io`\n",
    "    - because it's the name of the `Excel` file we want to load"
   ]
  },
  {
   "cell_type": "code",
   "execution_count": null,
   "id": "d145e813-f369-4ae8-8c38-9213dafadb50",
   "metadata": {},
   "outputs": [],
   "source": []
  },
  {
   "cell_type": "markdown",
   "id": "c55fd0e2-7d8d-491c-bac0-369043426504",
   "metadata": {},
   "source": [
    "1. [ ] How can we change the configuration of the `function()`\n",
    "2. to load the second table?\n",
    "    1. You should **ask yourself**: is there any `(parameter=?)`\n",
    "    2. to choose the table sheet?\n",
    "    3. Ask Python with `shift` + `↹` inside the parenthesis"
   ]
  },
  {
   "cell_type": "markdown",
   "id": "0a61e15c-8bb1-4a95-8ba6-4001db6bff72",
   "metadata": {},
   "source": [
    "![](src/change-parameter.gif)"
   ]
  },
  {
   "cell_type": "markdown",
   "id": "0872a64a-acb9-4a34-90d1-67d9daef4364",
   "metadata": {},
   "source": [
    "### `(sheet_name=1)`\n",
    "- we pass the `integer` object `1` to the parameter `sheet_name`\n",
    "    - beacuse it's the position of the `Sheet` we want to load"
   ]
  },
  {
   "cell_type": "code",
   "execution_count": null,
   "id": "a0a87220-128e-4bbf-9942-64d7ccf00c45",
   "metadata": {},
   "outputs": [],
   "source": []
  },
  {
   "cell_type": "markdown",
   "id": "997c3941-0c18-475a-8b3b-313a3d943330",
   "metadata": {
    "tags": []
   },
   "source": [
    "## When you `execute`...\n",
    "\n",
    "- [ ] What's tha **magic** that happens inside the computer?"
   ]
  },
  {
   "cell_type": "markdown",
   "id": "94a2e59b-344f-4cee-8365-188d1016ea01",
   "metadata": {},
   "source": [
    "![](src/read-error.png)"
   ]
  },
  {
   "cell_type": "markdown",
   "id": "38fbec18-41b5-410f-bfb9-a7084ca72e52",
   "metadata": {},
   "source": [
    "![](src/source-code.gif)"
   ]
  },
  {
   "cell_type": "markdown",
   "id": "5d578b20-2d55-416b-8485-6545dea757e0",
   "metadata": {},
   "source": [
    "## The `function()` returns an `object`"
   ]
  },
  {
   "cell_type": "code",
   "execution_count": null,
   "id": "ab3659dd-0336-42f3-8598-56f35631f5ee",
   "metadata": {},
   "outputs": [],
   "source": []
  },
  {
   "cell_type": "code",
   "execution_count": null,
   "id": "24b6e627-5ba6-48a8-8fcf-282174b349f7",
   "metadata": {},
   "outputs": [],
   "source": []
  },
  {
   "cell_type": "code",
   "execution_count": null,
   "id": "91cdae3f-ed7c-41d8-ab79-c06501221582",
   "metadata": {},
   "outputs": [],
   "source": []
  },
  {
   "cell_type": "markdown",
   "id": "b210505d-4128-4c71-a08e-76482610ad8d",
   "metadata": {},
   "source": [
    "## Recap"
   ]
  },
  {
   "cell_type": "markdown",
   "id": "474673bb-9801-4c97-a24b-0f92651e618a",
   "metadata": {},
   "source": [
    "1. `module`\n",
    "2. `.` **DOT NOTATION** to look for *functions* inside the `module` or `instance`\n",
    "3. `function()`\n",
    "4. pass `objects` to the `parameters`\n",
    "    - pass `str (\"internet_usage_spain.xlsx\")` to `parameter (io=?)`\n",
    "    - pass `int (1)` to `parameter (sheet_name=?)`\n",
    "5. execute\n",
    "6. [ ] magic?\n",
    "7. the `function()` returns an `object`"
   ]
  },
  {
   "cell_type": "code",
   "execution_count": null,
   "id": "62ca1a1e-e1a6-4400-805a-34fc7c612859",
   "metadata": {},
   "outputs": [],
   "source": []
  },
  {
   "cell_type": "code",
   "execution_count": null,
   "id": "59910a2f-ba2d-45de-842f-c0fb0187f66e",
   "metadata": {},
   "outputs": [],
   "source": []
  },
  {
   "cell_type": "code",
   "execution_count": null,
   "id": "9b2acc0b-ee87-4835-a1ab-0e87e0807d72",
   "metadata": {},
   "outputs": [],
   "source": []
  },
  {
   "cell_type": "code",
   "execution_count": null,
   "id": "d162d001-8b4a-4f7b-8b13-b3b6a98a8d05",
   "metadata": {},
   "outputs": [],
   "source": []
  },
  {
   "cell_type": "markdown",
   "id": "15b9d6d1-bb75-4fa7-badf-b3e125f0d8f2",
   "metadata": {},
   "source": [
    "# Source Code Execution | What happens <ins>inside</ins> the computer ?"
   ]
  },
  {
   "cell_type": "markdown",
   "id": "e649c73c-5103-4bd6-baf2-9b2c2f88dce8",
   "metadata": {},
   "source": [
    "- When we type `pd.read_excel()`\n",
    "- and execute `shift` + `enter`"
   ]
  },
  {
   "cell_type": "code",
   "execution_count": null,
   "id": "ef5cf978-6844-4bd7-82a6-e89462d522d8",
   "metadata": {},
   "outputs": [],
   "source": []
  },
  {
   "cell_type": "markdown",
   "id": "52eaa2a6-256e-4410-b42b-1f837541b90a",
   "metadata": {},
   "source": [
    "`~/miniforge3/lib/python3.9/site-packages/pandas/io/excel/_base.py`"
   ]
  },
  {
   "cell_type": "markdown",
   "id": "071ba97a-0b62-4ed1-af1b-6163a4478e74",
   "metadata": {},
   "source": [
    "- [ ] How Python locates the error when it doesn't find the `filename`?"
   ]
  },
  {
   "cell_type": "code",
   "execution_count": null,
   "id": "e5e9a4f5-086f-4c87-b245-d801d68e1546",
   "metadata": {},
   "outputs": [],
   "source": []
  },
  {
   "cell_type": "code",
   "execution_count": null,
   "id": "1cbf9366-d38e-4970-aeaa-35387b9ef106",
   "metadata": {},
   "outputs": [],
   "source": []
  },
  {
   "cell_type": "code",
   "execution_count": null,
   "id": "d8b1f9b7-fbd2-41f1-a5d9-10450e2891b2",
   "metadata": {},
   "outputs": [],
   "source": []
  },
  {
   "cell_type": "code",
   "execution_count": null,
   "id": "d00a3178-e713-4c9d-84de-41e4bdb61946",
   "metadata": {},
   "outputs": [],
   "source": []
  },
  {
   "cell_type": "markdown",
   "id": "74598ecc-652a-4f4a-90b8-9df308d2e47d",
   "metadata": {},
   "source": [
    "# The Importance of the `function()`"
   ]
  },
  {
   "cell_type": "markdown",
   "id": "707962d5-7de7-434d-b4f8-e76eb3401b1d",
   "metadata": {},
   "source": [
    "- Your focus should always be:\n",
    "- [ ] Which `function()` do I need to calculate this? Or that?\n",
    "- Apply the [Python Resolver Discipline](https://github.com/jsulopz/00-python-resolver-discipline/blob/main/01_Code%20of%20Discipline/02_Google%20Method.md) discover the `function()` you need"
   ]
  },
  {
   "cell_type": "markdown",
   "id": "2aeea07f-37b5-4654-a993-6518c1f55075",
   "metadata": {
    "tags": []
   },
   "source": [
    "## Python doesn't know about the Excel File\n",
    "\n",
    "- Python just interprets a `string`\n",
    "- and an `integer`"
   ]
  },
  {
   "cell_type": "code",
   "execution_count": null,
   "id": "7246bf3a-29dd-477b-94fa-c36a6587627b",
   "metadata": {},
   "outputs": [],
   "source": []
  },
  {
   "cell_type": "code",
   "execution_count": null,
   "id": "107d19e8-53ce-491d-a56a-e2fb598f5923",
   "metadata": {},
   "outputs": [],
   "source": []
  },
  {
   "cell_type": "markdown",
   "id": "26c61205-85c7-4b46-a973-dedd6f0de4c1",
   "metadata": {},
   "source": [
    "- As you pass the `objects` to the `parameters` of the `function()`\n",
    "- `function(parameter=object)`"
   ]
  },
  {
   "cell_type": "code",
   "execution_count": null,
   "id": "3f5063a3-8797-4001-95b8-bb7ca0dca64a",
   "metadata": {},
   "outputs": [],
   "source": []
  },
  {
   "cell_type": "markdown",
   "id": "50cd08df-62a0-42a2-b118-d1d4838813a4",
   "metadata": {},
   "source": [
    "## Other `functions()`"
   ]
  },
  {
   "cell_type": "code",
   "execution_count": null,
   "id": "72113e6b-53dd-4f83-92c9-50a6244d3efd",
   "metadata": {},
   "outputs": [],
   "source": []
  },
  {
   "cell_type": "code",
   "execution_count": null,
   "id": "cf6ea0e1-7ebd-4460-9590-3149d84738a9",
   "metadata": {},
   "outputs": [],
   "source": []
  },
  {
   "cell_type": "code",
   "execution_count": null,
   "id": "ab984028-7d76-4717-ba08-c73b180e0cbc",
   "metadata": {},
   "outputs": [],
   "source": []
  },
  {
   "cell_type": "code",
   "execution_count": null,
   "id": "cc75f383-61af-4dcb-b57a-1155a7fa6552",
   "metadata": {},
   "outputs": [],
   "source": []
  },
  {
   "cell_type": "code",
   "execution_count": null,
   "id": "048c0dfb-ebcd-4edb-b0f9-7460d42fa810",
   "metadata": {},
   "outputs": [],
   "source": []
  },
  {
   "cell_type": "code",
   "execution_count": null,
   "id": "1686774c-1304-4be5-b1a0-c7cac9087d11",
   "metadata": {},
   "outputs": [],
   "source": []
  },
  {
   "cell_type": "code",
   "execution_count": null,
   "id": "414a3665-4979-4741-8bdd-747d89b2fbd8",
   "metadata": {},
   "outputs": [],
   "source": []
  },
  {
   "cell_type": "code",
   "execution_count": null,
   "id": "c3549e7b-aa3e-4fcc-a839-a9c09df16b3b",
   "metadata": {},
   "outputs": [],
   "source": []
  },
  {
   "cell_type": "code",
   "execution_count": null,
   "id": "3a839603-e33f-4cb1-b4e5-04d43174a98a",
   "metadata": {},
   "outputs": [],
   "source": []
  },
  {
   "cell_type": "markdown",
   "id": "9791a328-f16f-4192-afd4-7985ce376487",
   "metadata": {},
   "source": [
    "- Neither the `instance`, nor the `module` automates the process by themselves\n",
    "- They are a bypass to get the `function()` that process the data"
   ]
  },
  {
   "cell_type": "markdown",
   "id": "f92534f0-ecb5-4684-b23a-030da8a995db",
   "metadata": {},
   "source": [
    "# What have we learnt?"
   ]
  },
  {
   "cell_type": "markdown",
   "id": "0a0b0ef6-6162-45f3-8957-a42d4a322fe4",
   "metadata": {},
   "source": [
    "## Why the `function()` is so important in programming?"
   ]
  },
  {
   "cell_type": "code",
   "execution_count": null,
   "id": "54ac2bfc-27aa-47a7-9dcf-5b20b382aec5",
   "metadata": {},
   "outputs": [],
   "source": []
  },
  {
   "cell_type": "markdown",
   "id": "24a2c516-f5d3-4526-8456-6457fe9279b5",
   "metadata": {},
   "source": [
    "## Why have you got **different types of `functions()`**?"
   ]
  },
  {
   "cell_type": "code",
   "execution_count": null,
   "id": "a7c57693-89f5-4d24-958d-cd6bec6de6ed",
   "metadata": {},
   "outputs": [],
   "source": []
  },
  {
   "cell_type": "markdown",
   "id": "914dcd59-0828-40b2-adbd-da116bdc15d0",
   "metadata": {},
   "source": [
    "## How to find **solutions by filtering tutorials on Google**?"
   ]
  },
  {
   "cell_type": "code",
   "execution_count": null,
   "id": "a8ba4231-60a7-48cf-8805-0bc75e13d6d0",
   "metadata": {},
   "outputs": [],
   "source": []
  },
  {
   "cell_type": "markdown",
   "id": "b2f08119-76e1-41a9-a1e9-409eab3a0cbd",
   "metadata": {},
   "source": [
    "## How to **get help from python** and use it wisely?"
   ]
  },
  {
   "cell_type": "code",
   "execution_count": null,
   "id": "61d0c6ce-f2a7-483f-87b4-75394ec8d9cc",
   "metadata": {},
   "outputs": [],
   "source": []
  },
  {
   "cell_type": "markdown",
   "id": "b5589093-7d96-4ce3-946d-3e1e1808bab9",
   "metadata": {
    "tags": []
   },
   "source": [
    "# Define the concepts ↓\n",
    "\n",
    "- [ ] Module:\n",
    "\n",
    "---\n",
    "\n",
    "- [ ] Dot notation:\n",
    "\n",
    "---\n",
    "\n",
    "- [ ] Objects:\n",
    "\n",
    "---\n",
    "\n",
    "- [ ] Variables:\n",
    "\n",
    "---\n",
    "\n",
    "- [ ] The Autocompletion Tool:\n",
    "\n",
    "---\n",
    "\n",
    "- [ ] The Docstring:\n",
    "\n",
    "---\n",
    "\n",
    "- [ ] Function:\n",
    "\n",
    "    - [ ] `object.function()`:\n",
    "    \n",
    "    \n",
    "    - [ ] `module.function()`:\n",
    "    \n",
    "    \n",
    "    - [ ] `built_in_function()`:\n",
    "    \n",
    "---\n",
    "    \n",
    "- [ ] Google Method:"
   ]
  }
 ],
 "metadata": {
  "authors": [
   {
    "blog": "https//blog.pythonresolver.com",
    "name": "Jesús López",
    "twitter": "https://twitter.com/jsulopz"
   }
  ],
  "kernelspec": {
   "display_name": "Python 3 (ipykernel)",
   "language": "python",
   "name": "python3"
  },
  "language_info": {
   "codemirror_mode": {
    "name": "ipython",
    "version": 3
   },
   "file_extension": ".py",
   "mimetype": "text/x-python",
   "name": "python",
   "nbconvert_exporter": "python",
   "pygments_lexer": "ipython3",
   "version": "3.9.7"
  },
  "title": "The Use of Functions"
 },
 "nbformat": 4,
 "nbformat_minor": 5
}
