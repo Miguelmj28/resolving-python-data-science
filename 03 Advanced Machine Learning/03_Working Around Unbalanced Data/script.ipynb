{
 "cells": [
  {
   "cell_type": "code",
   "execution_count": 18,
   "metadata": {},
   "outputs": [],
   "source": [
    "import dataframe_image as dfi"
   ]
  },
  {
   "cell_type": "code",
   "execution_count": 1,
   "metadata": {},
   "outputs": [],
   "source": [
    "frases = '''1. [ ] **Qué voy a escribir? Objetivo**\n",
    "2. [ ] **Decidir Estilo: Diálogo o Narración o Tweet**\n",
    "3. [ ] **Planning del desarrollo**\n",
    "4. [ ] **Desarrollar historia vigilando el esquema 3)**\n",
    "5. [ ] **Una vez termine, descansar **un día****\n",
    "6. [ ] **Revisar**\n",
    "7. [ ] **Ponerle título**\n",
    "8. [ ] **Publicarlo**'''\n",
    "\n",
    "import nbformat as nbf\n",
    "import nbformat.v4 as cell\n",
    "\n",
    "nb = cell.new_notebook()\n",
    "\n",
    "for i in frases.splitlines():\n",
    "    nb['cells'].append(cell.new_markdown_cell(i))\n",
    "    nb['cells'].append(cell.new_code_cell(''))\n",
    "\n",
    "with open('new.ipynb', 'w') as notebook:\n",
    "    nbf.write(nb, notebook)"
   ]
  },
  {
   "cell_type": "markdown",
   "metadata": {},
   "source": [
    "# Planning"
   ]
  },
  {
   "cell_type": "markdown",
   "metadata": {},
   "source": [
    "## [X] What to Write? `Target`\n",
    "\n",
    "- Title: 03_Working Around Unbalanced Data"
   ]
  },
  {
   "cell_type": "markdown",
   "metadata": {},
   "source": [
    "## [X] Choose `Content Type` ↓\n",
    "\n",
    "- [ ] Tweet\n",
    "- [ ] Image\n",
    "- [ ] Video\n",
    "- [X] Lesson Materials\n",
    "- [ ] Blog"
   ]
  },
  {
   "cell_type": "markdown",
   "metadata": {},
   "source": [
    "## [X] Choose `Style` ↓\n",
    "\n",
    "- [ ] Dialog\n",
    "- [X] Narrative"
   ]
  },
  {
   "cell_type": "markdown",
   "metadata": {},
   "source": [
    "## [X] Sketch `script`"
   ]
  },
  {
   "cell_type": "markdown",
   "metadata": {},
   "source": [
    "- Load the Data\n",
    "    - Simple example with 1000 people\n",
    "- Decision Tree Model\n",
    "    - Fit\n",
    "    - Predict\n",
    "    - Score\n",
    "    - Confusion Matrix\n",
    "    - ROC Curve\n",
    "    - Reflect Results? How to Solve?\n",
    "- SMOTE\n",
    "    - Decision Tree Model\n",
    "        - Fit\n",
    "        - Predict\n",
    "        - Score\n",
    "        - Confusion Matrix\n",
    "        - ROC Curve\n",
    "        - Reflect Results? How to Solve?\n",
    "    - SMOTE Data Visualization\n",
    "        - PCA\n",
    "        - Plot plotly\n",
    "    - Reflections"
   ]
  },
  {
   "cell_type": "markdown",
   "metadata": {},
   "source": [
    "## [ ] `Develop` script watching previous step"
   ]
  },
  {
   "cell_type": "code",
   "execution_count": null,
   "metadata": {},
   "outputs": [],
   "source": []
  },
  {
   "cell_type": "code",
   "execution_count": 9,
   "metadata": {},
   "outputs": [],
   "source": [
    "#Copy Paste Sketch **HERE**"
   ]
  },
  {
   "cell_type": "markdown",
   "metadata": {},
   "source": [
    "## [ ] Put the `script to rest` for a day"
   ]
  },
  {
   "cell_type": "markdown",
   "metadata": {},
   "source": [
    "## [ ] Review"
   ]
  },
  {
   "cell_type": "code",
   "execution_count": 10,
   "metadata": {},
   "outputs": [],
   "source": [
    "#Copy Paste Complete Script **HERE**"
   ]
  },
  {
   "cell_type": "markdown",
   "metadata": {},
   "source": [
    "## [ ] Final `Title` ↓"
   ]
  },
  {
   "cell_type": "code",
   "execution_count": null,
   "metadata": {},
   "outputs": [],
   "source": []
  },
  {
   "cell_type": "markdown",
   "metadata": {
    "tags": []
   },
   "source": [
    "## [ ] Tags:\n",
    "\n",
    "1. Machine Learning\n",
    "2. Data Science\n",
    "3. Data Visualization\n",
    "4. Python\n",
    "5. Pandas"
   ]
  },
  {
   "cell_type": "markdown",
   "metadata": {},
   "source": [
    "## [ ] Publish"
   ]
  },
  {
   "cell_type": "code",
   "execution_count": null,
   "metadata": {},
   "outputs": [],
   "source": []
  },
  {
   "cell_type": "code",
   "execution_count": 25,
   "metadata": {},
   "outputs": [
    {
     "name": "stdout",
     "output_type": "stream",
     "text": [
      "[NbConvertApp] Converting notebook script.ipynb to markdown\n",
      "[NbConvertApp] Support files will be in script_files/\n",
      "[NbConvertApp] Making directory script_files\n",
      "[NbConvertApp] Making directory script_files\n",
      "[NbConvertApp] Writing 4640 bytes to script.md\n"
     ]
    }
   ],
   "source": [
    "!jupyter nbconvert -TagRemovePreprocessor.remove_cell_tags='{\"remove_cell\"}' -TagRemovePreprocessor.remove_all_outputs_tags='{\"remove_output\"}' \\\n",
    "    -TagRemovePreprocessor.remove_input_tags='{\"remove_input\"}' --to markdown script.ipynb"
   ]
  }
 ],
 "metadata": {
  "kernelspec": {
   "display_name": "Python 3 (ipykernel)",
   "language": "python",
   "name": "python3"
  },
  "language_info": {
   "codemirror_mode": {
    "name": "ipython",
    "version": 3
   },
   "file_extension": ".py",
   "mimetype": "text/x-python",
   "name": "python",
   "nbconvert_exporter": "python",
   "pygments_lexer": "ipython3",
   "version": "3.9.7"
  },
  "toc-autonumbering": true
 },
 "nbformat": 4,
 "nbformat_minor": 4
}
