{
 "cells": [
  {
   "cell_type": "code",
   "execution_count": 42,
   "id": "f8a1d4fd-45b6-49cb-af1f-803164f9cad8",
   "metadata": {},
   "outputs": [],
   "source": [
    "import nbformat as nb"
   ]
  },
  {
   "cell_type": "code",
   "execution_count": 43,
   "id": "955bf564-3dac-4705-8e65-9442bb87dc90",
   "metadata": {},
   "outputs": [],
   "source": [
    "from nbformat import v4"
   ]
  },
  {
   "cell_type": "code",
   "execution_count": 44,
   "id": "153a942c-395b-4ba1-900b-28563b4fa67c",
   "metadata": {},
   "outputs": [],
   "source": [
    "notebook = v4.new_notebook()"
   ]
  },
  {
   "cell_type": "markdown",
   "id": "6be85d5f-8c8f-47f1-96a0-50f22424f22b",
   "metadata": {},
   "source": [
    "## Load the Data\n",
    "## Modelling\n",
    "### Create Decision Tree Model\n",
    "### Create a Random Forest Model\n",
    "### Create a Logistic Regression Model\n",
    "## Make Predictions with Every Model\n",
    "## Which is the Best Model?\n",
    "## How to Interpret? Feature Importance\n",
    "### Is it enough?\n",
    "## Shapley Values Theory\n",
    "### Microsoft Shapley Values Video\n",
    "### Alice, Bob & Celine Video\n",
    "### Kaggle Explanation on Feature Importance\n",
    "## Shapley Values Implementation with Every Model\n",
    "### Shapley Value for One Prediction\n",
    "### Which Model should you take into account\n",
    "## Pick Up Best Model\n",
    "### Shapley Values for All Predictions\n",
    "### Ranking of Variables\n",
    "## Final Reflections"
   ]
  },
  {
   "cell_type": "code",
   "execution_count": 45,
   "id": "eab7fb7f-a171-4a71-9fa5-d7afe629d1c2",
   "metadata": {},
   "outputs": [],
   "source": [
    "script = '''## Load the Data\n",
    "## Modelling\n",
    "### Create Decision Tree Model\n",
    "### Create a Random Forest Model\n",
    "### Create a Logistic Regression Model\n",
    "## Make Predictions with Every Model\n",
    "## Which is the Best Model?\n",
    "## How to Interpret? Feature Importance\n",
    "### Is it enough?\n",
    "## Shapley Values Theory\n",
    "### Microsoft Shapley Values Video\n",
    "### Alice, Bob & Celine Video\n",
    "### Kaggle Explanation on Feature Importance\n",
    "## Shapley Values Implementation with Every Model\n",
    "### Shapley Value for One Prediction\n",
    "### Which Model should you take into account\n",
    "## Pick Up Best Model\n",
    "### Shapley Values for All Predictions\n",
    "### Ranking of Variables\n",
    "## Final Reflections'''"
   ]
  },
  {
   "cell_type": "code",
   "execution_count": 46,
   "id": "5539ba68-9569-45f4-97d3-e3ef6ce73be8",
   "metadata": {},
   "outputs": [],
   "source": [
    "script = script.splitlines()"
   ]
  },
  {
   "cell_type": "code",
   "execution_count": 47,
   "id": "aa2ba933-eaa5-458d-85df-bbb6cf52b4ee",
   "metadata": {},
   "outputs": [],
   "source": [
    "script_clean = []"
   ]
  },
  {
   "cell_type": "code",
   "execution_count": 48,
   "id": "4175cc2b-4b7e-4f7e-ad6b-ee2dbb9a9464",
   "metadata": {},
   "outputs": [],
   "source": [
    "subsection = ''\n",
    "for i in script:\n",
    "    if '#' in i:\n",
    "        if len(subsection) > 1:\n",
    "            script_clean.append(subsection)\n",
    "            script_clean.append(i)\n",
    "            subsection = ''\n",
    "        else:\n",
    "            script_clean.append(i)\n",
    "    else:\n",
    "        subsection = subsection + '\\n' + i"
   ]
  },
  {
   "cell_type": "code",
   "execution_count": 49,
   "id": "34ac04c6-1a83-4e1a-8771-400b8d72b008",
   "metadata": {},
   "outputs": [
    {
     "data": {
      "text/plain": [
       "['## Load the Data',\n",
       " '## Modelling',\n",
       " '### Create Decision Tree Model',\n",
       " '### Create a Random Forest Model',\n",
       " '### Create a Logistic Regression Model',\n",
       " '## Make Predictions with Every Model',\n",
       " '## Which is the Best Model?',\n",
       " '## How to Interpret? Feature Importance',\n",
       " '### Is it enough?',\n",
       " '## Shapley Values Theory',\n",
       " '### Microsoft Shapley Values Video',\n",
       " '### Alice, Bob & Celine Video',\n",
       " '### Kaggle Explanation on Feature Importance',\n",
       " '## Shapley Values Implementation with Every Model',\n",
       " '### Shapley Value for One Prediction',\n",
       " '### Which Model should you take into account',\n",
       " '## Pick Up Best Model',\n",
       " '### Shapley Values for All Predictions',\n",
       " '### Ranking of Variables',\n",
       " '## Final Reflections']"
      ]
     },
     "execution_count": 49,
     "metadata": {},
     "output_type": "execute_result"
    }
   ],
   "source": [
    "script_clean"
   ]
  },
  {
   "cell_type": "code",
   "execution_count": 50,
   "id": "f57c9ef1-03db-4c0b-8def-bf37d88bba72",
   "metadata": {},
   "outputs": [],
   "source": [
    "for i in script_clean:\n",
    "    notebook['cells'].append(v4.new_markdown_cell(i))\n",
    "    notebook['cells'].append(v4.new_code_cell(''))"
   ]
  },
  {
   "cell_type": "code",
   "execution_count": 51,
   "id": "f5233656-057e-47c4-8cad-e8a90af6d4f2",
   "metadata": {},
   "outputs": [],
   "source": [
    "with open('file.ipynb', 'w') as f:\n",
    "    nb.write(notebook, f)"
   ]
  },
  {
   "cell_type": "code",
   "execution_count": null,
   "id": "f655cc63-463d-4ba3-8473-e484fbb8b309",
   "metadata": {},
   "outputs": [],
   "source": []
  }
 ],
 "metadata": {
  "kernelspec": {
   "display_name": "Python 3 (ipykernel)",
   "language": "python",
   "name": "python3"
  },
  "language_info": {
   "codemirror_mode": {
    "name": "ipython",
    "version": 3
   },
   "file_extension": ".py",
   "mimetype": "text/x-python",
   "name": "python",
   "nbconvert_exporter": "python",
   "pygments_lexer": "ipython3",
   "version": "3.9.7"
  }
 },
 "nbformat": 4,
 "nbformat_minor": 5
}
