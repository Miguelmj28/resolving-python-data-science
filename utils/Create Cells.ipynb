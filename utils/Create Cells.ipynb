{
 "cells": [
  {
   "cell_type": "code",
   "execution_count": 13,
   "id": "f8a1d4fd-45b6-49cb-af1f-803164f9cad8",
   "metadata": {},
   "outputs": [],
   "source": [
    "import nbformat as nb"
   ]
  },
  {
   "cell_type": "code",
   "execution_count": 14,
   "id": "955bf564-3dac-4705-8e65-9442bb87dc90",
   "metadata": {},
   "outputs": [],
   "source": [
    "from nbformat import v4"
   ]
  },
  {
   "cell_type": "code",
   "execution_count": 15,
   "id": "153a942c-395b-4ba1-900b-28563b4fa67c",
   "metadata": {},
   "outputs": [],
   "source": [
    "notebook = v4.new_notebook()"
   ]
  },
  {
   "cell_type": "code",
   "execution_count": 16,
   "id": "eab7fb7f-a171-4a71-9fa5-d7afe629d1c2",
   "metadata": {},
   "outputs": [],
   "source": [
    "script = '''## Load the Data\n",
    "### Canada Car Accidents\n",
    "## Explore the Data\n",
    "### What represents every row?\n",
    "### What would you like to predict?\n",
    "### Rows should be independents\n",
    "## How to implement it in Python?\n",
    "### For loops Simple Example\n",
    "- Procedure Discipline\n",
    "### Apply it to the Data to Configure Final Data Frame\n",
    "## Modelling\n",
    "### Target Variable\n",
    "### SMOTE?\n",
    "### Train Test Split\n",
    "### Cross Validation\n",
    "### Best Model?\n",
    "### Visualize Model & Data\n",
    "### Feature Importance Shapley Values\n",
    "## Final Reflections'''"
   ]
  },
  {
   "cell_type": "code",
   "execution_count": 17,
   "id": "5539ba68-9569-45f4-97d3-e3ef6ce73be8",
   "metadata": {},
   "outputs": [],
   "source": [
    "script = script.splitlines()"
   ]
  },
  {
   "cell_type": "code",
   "execution_count": 18,
   "id": "aa2ba933-eaa5-458d-85df-bbb6cf52b4ee",
   "metadata": {},
   "outputs": [],
   "source": [
    "script_clean = []"
   ]
  },
  {
   "cell_type": "code",
   "execution_count": 19,
   "id": "4175cc2b-4b7e-4f7e-ad6b-ee2dbb9a9464",
   "metadata": {},
   "outputs": [],
   "source": [
    "subsection = ''\n",
    "for i in script:\n",
    "    if '#' in i:\n",
    "        if len(subsection) > 1:\n",
    "            script_clean.append(subsection)\n",
    "            script_clean.append(i)\n",
    "            subsection = ''\n",
    "        else:\n",
    "            script_clean.append(i)\n",
    "    else:\n",
    "        subsection = subsection + '\\n' + i"
   ]
  },
  {
   "cell_type": "code",
   "execution_count": 20,
   "id": "34ac04c6-1a83-4e1a-8771-400b8d72b008",
   "metadata": {},
   "outputs": [
    {
     "data": {
      "text/plain": [
       "['## Load the Data',\n",
       " '### Canada Car Accidents',\n",
       " '## Explore the Data',\n",
       " '### What represents every row?',\n",
       " '### What would you like to predict?',\n",
       " '### Rows should be independents',\n",
       " '## How to implement it in Python?',\n",
       " '### For loops Simple Example',\n",
       " '\\n- Procedure Discipline',\n",
       " '### Apply it to the Data to Configure Final Data Frame',\n",
       " '## Modelling',\n",
       " '### Target Variable',\n",
       " '### SMOTE?',\n",
       " '### Train Test Split',\n",
       " '### Cross Validation',\n",
       " '### Best Model?',\n",
       " '### Visualize Model & Data',\n",
       " '### Feature Importance Shapley Values',\n",
       " '## Final Reflections']"
      ]
     },
     "execution_count": 20,
     "metadata": {},
     "output_type": "execute_result"
    }
   ],
   "source": [
    "script_clean"
   ]
  },
  {
   "cell_type": "code",
   "execution_count": 21,
   "id": "f57c9ef1-03db-4c0b-8def-bf37d88bba72",
   "metadata": {},
   "outputs": [],
   "source": [
    "for i in script_clean:\n",
    "    notebook['cells'].append(v4.new_markdown_cell(i))\n",
    "    notebook['cells'].append(v4.new_code_cell(''))"
   ]
  },
  {
   "cell_type": "code",
   "execution_count": 22,
   "id": "f5233656-057e-47c4-8cad-e8a90af6d4f2",
   "metadata": {},
   "outputs": [],
   "source": [
    "with open('file.ipynb', 'w') as f:\n",
    "    nb.write(notebook, f)"
   ]
  },
  {
   "cell_type": "code",
   "execution_count": null,
   "id": "f655cc63-463d-4ba3-8473-e484fbb8b309",
   "metadata": {},
   "outputs": [],
   "source": []
  },
  {
   "cell_type": "code",
   "execution_count": null,
   "id": "ee190907-663c-4774-b133-821bff5c8dc8",
   "metadata": {},
   "outputs": [],
   "source": []
  }
 ],
 "metadata": {
  "kernelspec": {
   "display_name": "Python 3 (ipykernel)",
   "language": "python",
   "name": "python3"
  },
  "language_info": {
   "codemirror_mode": {
    "name": "ipython",
    "version": 3
   },
   "file_extension": ".py",
   "mimetype": "text/x-python",
   "name": "python",
   "nbconvert_exporter": "python",
   "pygments_lexer": "ipython3",
   "version": "3.9.7"
  }
 },
 "nbformat": 4,
 "nbformat_minor": 5
}
