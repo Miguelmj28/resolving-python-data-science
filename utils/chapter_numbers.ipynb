{
 "cells": [
  {
   "cell_type": "markdown",
   "id": "d87d5a31-f6f2-4451-b233-f545fd7d7fb8",
   "metadata": {},
   "source": [
    "# Change Chapter Numbers"
   ]
  },
  {
   "cell_type": "code",
   "execution_count": 1,
   "id": "ad70ba3d-d195-4329-84fe-6c662fe401c5",
   "metadata": {},
   "outputs": [],
   "source": [
    "import os\n",
    "import re"
   ]
  },
  {
   "cell_type": "markdown",
   "id": "d3cadc3b-0301-429e-a0c3-cc697d0820f9",
   "metadata": {},
   "source": [
    "- [ ] function for the chapter"
   ]
  },
  {
   "cell_type": "code",
   "execution_count": 2,
   "id": "7aeb1fcb-ecf0-42e6-9809-00a319eff733",
   "metadata": {},
   "outputs": [],
   "source": [
    "def change_notebook_filename(chapter_path):\n",
    "    split_path = chapter_path.split('/')\n",
    "    chapter = split_path[-1]\n",
    "    subject = split_path[-2]\n",
    "    files = os.listdir(chapter_path)\n",
    "    chapter_number = re.match('(\\d+)', chapter)\n",
    "    for file in files:\n",
    "        if re.search('^\\d.+', file):\n",
    "            file_name_no_number = re.match('^\\d+(.*)', file).group(1)\n",
    "            file_final_name = f'{chapter_number.group(1)}{file_name_no_number}'\n",
    "            file_final_path = os.path.join(chapter_path, file_final_name)\n",
    "            file_previous_path = os.path.join(chapter_path, file)\n",
    "            os.rename(file_previous_path, file_final_path)"
   ]
  },
  {
   "cell_type": "code",
   "execution_count": 3,
   "id": "40c6f2ed-c59b-4625-8bb2-c501b61fd89e",
   "metadata": {},
   "outputs": [],
   "source": [
    "change_notebook_filename('../01 Resolving Python with Data Science/01_Data Tables & Basic Concepts of Programming')"
   ]
  },
  {
   "cell_type": "markdown",
   "id": "9b451f49-249b-41fe-8d4d-5194d640e870",
   "metadata": {},
   "source": [
    "- [ ] for loop to navigate inside folders"
   ]
  },
  {
   "cell_type": "code",
   "execution_count": 11,
   "id": "d3825959-4df0-4428-abc9-a579de09578f",
   "metadata": {},
   "outputs": [],
   "source": [
    "base = '..'"
   ]
  },
  {
   "cell_type": "code",
   "execution_count": 12,
   "id": "140ae3cf-df5a-4d34-b59e-40381849910e",
   "metadata": {},
   "outputs": [],
   "source": [
    "subjects = os.listdir(base)"
   ]
  },
  {
   "cell_type": "code",
   "execution_count": 15,
   "id": "75050f9d-d956-48ed-95ac-e4a9978acaea",
   "metadata": {},
   "outputs": [],
   "source": [
    "for subject in subjects:\n",
    "    if re.search('^\\d.+', subject):\n",
    "        subject_path = os.path.join(base, subject)\n",
    "        chapters = os.listdir(subject_path)\n",
    "        for chapter in chapters:\n",
    "            chapter_path = os.path.join(subject_path, chapter)\n",
    "            if re.search('^\\d.+', chapter):\n",
    "                change_notebook_filename(chapter_path)"
   ]
  }
 ],
 "metadata": {
  "kernelspec": {
   "display_name": "Python 3 (ipykernel)",
   "language": "python",
   "name": "python3"
  },
  "language_info": {
   "codemirror_mode": {
    "name": "ipython",
    "version": 3
   },
   "file_extension": ".py",
   "mimetype": "text/x-python",
   "name": "python",
   "nbconvert_exporter": "python",
   "pygments_lexer": "ipython3",
   "version": "3.9.7"
  }
 },
 "nbformat": 4,
 "nbformat_minor": 5
}
