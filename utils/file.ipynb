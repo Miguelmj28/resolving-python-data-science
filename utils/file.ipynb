{
 "cells": [
  {
   "cell_type": "markdown",
   "id": "034834a2",
   "metadata": {},
   "source": [
    "## Load the Data"
   ]
  },
  {
   "cell_type": "code",
   "execution_count": null,
   "id": "8bb163a2",
   "metadata": {},
   "outputs": [],
   "source": []
  },
  {
   "cell_type": "markdown",
   "id": "ec5cc90b",
   "metadata": {},
   "source": [
    "## Modelling"
   ]
  },
  {
   "cell_type": "code",
   "execution_count": null,
   "id": "4d2c4aad",
   "metadata": {},
   "outputs": [],
   "source": []
  },
  {
   "cell_type": "markdown",
   "id": "7767eefc",
   "metadata": {},
   "source": [
    "### Create Decision Tree Model"
   ]
  },
  {
   "cell_type": "code",
   "execution_count": null,
   "id": "0085030c",
   "metadata": {},
   "outputs": [],
   "source": []
  },
  {
   "cell_type": "markdown",
   "id": "38e6c2dc",
   "metadata": {},
   "source": [
    "### Create a Random Forest Model"
   ]
  },
  {
   "cell_type": "code",
   "execution_count": null,
   "id": "2a0d612c",
   "metadata": {},
   "outputs": [],
   "source": []
  },
  {
   "cell_type": "markdown",
   "id": "29bd9cc6",
   "metadata": {},
   "source": [
    "### Create a Logistic Regression Model"
   ]
  },
  {
   "cell_type": "code",
   "execution_count": null,
   "id": "bce18917",
   "metadata": {},
   "outputs": [],
   "source": []
  },
  {
   "cell_type": "markdown",
   "id": "68e13158",
   "metadata": {},
   "source": [
    "## Make Predictions with Every Model"
   ]
  },
  {
   "cell_type": "code",
   "execution_count": null,
   "id": "cf40da46",
   "metadata": {},
   "outputs": [],
   "source": []
  },
  {
   "cell_type": "markdown",
   "id": "0c4b6af7",
   "metadata": {},
   "source": [
    "## Which is the Best Model?"
   ]
  },
  {
   "cell_type": "code",
   "execution_count": null,
   "id": "1e0df735",
   "metadata": {},
   "outputs": [],
   "source": []
  },
  {
   "cell_type": "markdown",
   "id": "7271a921",
   "metadata": {},
   "source": [
    "## How to Interpret? Feature Importance"
   ]
  },
  {
   "cell_type": "code",
   "execution_count": null,
   "id": "798f697d",
   "metadata": {},
   "outputs": [],
   "source": []
  },
  {
   "cell_type": "markdown",
   "id": "1bb4a5cf",
   "metadata": {},
   "source": [
    "### Is it enough?"
   ]
  },
  {
   "cell_type": "code",
   "execution_count": null,
   "id": "dd7d0dd5",
   "metadata": {},
   "outputs": [],
   "source": []
  },
  {
   "cell_type": "markdown",
   "id": "4f114a20",
   "metadata": {},
   "source": [
    "## Shapley Values Theory"
   ]
  },
  {
   "cell_type": "code",
   "execution_count": null,
   "id": "d395c1c3",
   "metadata": {},
   "outputs": [],
   "source": []
  },
  {
   "cell_type": "markdown",
   "id": "a699fc58",
   "metadata": {},
   "source": [
    "### Microsoft Shapley Values Video"
   ]
  },
  {
   "cell_type": "code",
   "execution_count": null,
   "id": "8c69876d",
   "metadata": {},
   "outputs": [],
   "source": []
  },
  {
   "cell_type": "markdown",
   "id": "10040cc6",
   "metadata": {},
   "source": [
    "### Alice, Bob & Celine Video"
   ]
  },
  {
   "cell_type": "code",
   "execution_count": null,
   "id": "ce35f95e",
   "metadata": {},
   "outputs": [],
   "source": []
  },
  {
   "cell_type": "markdown",
   "id": "b5e84e97",
   "metadata": {},
   "source": [
    "### Kaggle Explanation on Feature Importance"
   ]
  },
  {
   "cell_type": "code",
   "execution_count": null,
   "id": "10621382",
   "metadata": {},
   "outputs": [],
   "source": []
  },
  {
   "cell_type": "markdown",
   "id": "5a890cb6",
   "metadata": {},
   "source": [
    "## Shapley Values Implementation with Every Model"
   ]
  },
  {
   "cell_type": "code",
   "execution_count": null,
   "id": "e821dc9d",
   "metadata": {},
   "outputs": [],
   "source": []
  },
  {
   "cell_type": "markdown",
   "id": "e9ed1fda",
   "metadata": {},
   "source": [
    "### Shapley Value for One Prediction"
   ]
  },
  {
   "cell_type": "code",
   "execution_count": null,
   "id": "22d38589",
   "metadata": {},
   "outputs": [],
   "source": []
  },
  {
   "cell_type": "markdown",
   "id": "2b040544",
   "metadata": {},
   "source": [
    "### Which Model should you take into account"
   ]
  },
  {
   "cell_type": "code",
   "execution_count": null,
   "id": "4752bede",
   "metadata": {},
   "outputs": [],
   "source": []
  },
  {
   "cell_type": "markdown",
   "id": "dd510c8f",
   "metadata": {},
   "source": [
    "## Pick Up Best Model"
   ]
  },
  {
   "cell_type": "code",
   "execution_count": null,
   "id": "41d8c2c3",
   "metadata": {},
   "outputs": [],
   "source": []
  },
  {
   "cell_type": "markdown",
   "id": "b9030a84",
   "metadata": {},
   "source": [
    "### Shapley Values for All Predictions"
   ]
  },
  {
   "cell_type": "code",
   "execution_count": null,
   "id": "4a76b321",
   "metadata": {},
   "outputs": [],
   "source": []
  },
  {
   "cell_type": "markdown",
   "id": "52fec403",
   "metadata": {},
   "source": [
    "### Ranking of Variables"
   ]
  },
  {
   "cell_type": "code",
   "execution_count": null,
   "id": "c3affe4a",
   "metadata": {},
   "outputs": [],
   "source": []
  },
  {
   "cell_type": "markdown",
   "id": "46e66bb6",
   "metadata": {},
   "source": [
    "## Final Reflections"
   ]
  },
  {
   "cell_type": "code",
   "execution_count": null,
   "id": "b1d9bd46",
   "metadata": {},
   "outputs": [],
   "source": []
  }
 ],
 "metadata": {
  "kernelspec": {
   "display_name": "Python 3 (ipykernel)",
   "language": "python",
   "name": "python3"
  },
  "language_info": {
   "codemirror_mode": {
    "name": "ipython",
    "version": 3
   },
   "file_extension": ".py",
   "mimetype": "text/x-python",
   "name": "python",
   "nbconvert_exporter": "python",
   "pygments_lexer": "ipython3",
   "version": "3.9.7"
  }
 },
 "nbformat": 4,
 "nbformat_minor": 5
}
