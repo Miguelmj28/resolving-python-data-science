{
 "cells": [
  {
   "cell_type": "markdown",
   "id": "bf22dbe1",
   "metadata": {},
   "source": [
    "## Load the Data"
   ]
  },
  {
   "cell_type": "code",
   "execution_count": null,
   "id": "7b91dfb1",
   "metadata": {},
   "outputs": [],
   "source": []
  },
  {
   "cell_type": "markdown",
   "id": "21c95942",
   "metadata": {},
   "source": [
    "### Canada Car Accidents"
   ]
  },
  {
   "cell_type": "code",
   "execution_count": null,
   "id": "7c35600c",
   "metadata": {},
   "outputs": [],
   "source": []
  },
  {
   "cell_type": "markdown",
   "id": "c9a6fd44",
   "metadata": {},
   "source": [
    "## Explore the Data"
   ]
  },
  {
   "cell_type": "code",
   "execution_count": null,
   "id": "5d76d58d",
   "metadata": {},
   "outputs": [],
   "source": []
  },
  {
   "cell_type": "markdown",
   "id": "c84052fc",
   "metadata": {},
   "source": [
    "### What represents every row?"
   ]
  },
  {
   "cell_type": "code",
   "execution_count": null,
   "id": "a8e768eb",
   "metadata": {},
   "outputs": [],
   "source": []
  },
  {
   "cell_type": "markdown",
   "id": "718c8b77",
   "metadata": {},
   "source": [
    "### What would you like to predict?"
   ]
  },
  {
   "cell_type": "code",
   "execution_count": null,
   "id": "ec0f43e5",
   "metadata": {},
   "outputs": [],
   "source": []
  },
  {
   "cell_type": "markdown",
   "id": "dda1e094",
   "metadata": {},
   "source": [
    "### Rows should be independents"
   ]
  },
  {
   "cell_type": "code",
   "execution_count": null,
   "id": "098aa956",
   "metadata": {},
   "outputs": [],
   "source": []
  },
  {
   "cell_type": "markdown",
   "id": "d7be3ae0",
   "metadata": {},
   "source": [
    "## How to implement it in Python?"
   ]
  },
  {
   "cell_type": "code",
   "execution_count": null,
   "id": "f458692f",
   "metadata": {},
   "outputs": [],
   "source": []
  },
  {
   "cell_type": "markdown",
   "id": "8f717e8e",
   "metadata": {},
   "source": [
    "### For loops Simple Example"
   ]
  },
  {
   "cell_type": "code",
   "execution_count": null,
   "id": "08f1d95f",
   "metadata": {},
   "outputs": [],
   "source": []
  },
  {
   "cell_type": "markdown",
   "id": "b56f86a0",
   "metadata": {},
   "source": [
    "\n",
    "- Procedure Discipline"
   ]
  },
  {
   "cell_type": "code",
   "execution_count": null,
   "id": "1647b58f",
   "metadata": {},
   "outputs": [],
   "source": []
  },
  {
   "cell_type": "markdown",
   "id": "7f278fad",
   "metadata": {},
   "source": [
    "### Apply it to the Data to Configure Final Data Frame"
   ]
  },
  {
   "cell_type": "code",
   "execution_count": null,
   "id": "fefaacd1",
   "metadata": {},
   "outputs": [],
   "source": []
  },
  {
   "cell_type": "markdown",
   "id": "e4dd5415",
   "metadata": {},
   "source": [
    "## Modelling"
   ]
  },
  {
   "cell_type": "code",
   "execution_count": null,
   "id": "4c5d0fa8",
   "metadata": {},
   "outputs": [],
   "source": []
  },
  {
   "cell_type": "markdown",
   "id": "5bcbce3f",
   "metadata": {},
   "source": [
    "### Target Variable"
   ]
  },
  {
   "cell_type": "code",
   "execution_count": null,
   "id": "048ad78d",
   "metadata": {},
   "outputs": [],
   "source": []
  },
  {
   "cell_type": "markdown",
   "id": "fba59eac",
   "metadata": {},
   "source": [
    "### SMOTE?"
   ]
  },
  {
   "cell_type": "code",
   "execution_count": null,
   "id": "1b33ee1e",
   "metadata": {},
   "outputs": [],
   "source": []
  },
  {
   "cell_type": "markdown",
   "id": "b5a02a14",
   "metadata": {},
   "source": [
    "### Train Test Split"
   ]
  },
  {
   "cell_type": "code",
   "execution_count": null,
   "id": "8f709fb0",
   "metadata": {},
   "outputs": [],
   "source": []
  },
  {
   "cell_type": "markdown",
   "id": "b86d844e",
   "metadata": {},
   "source": [
    "### Cross Validation"
   ]
  },
  {
   "cell_type": "code",
   "execution_count": null,
   "id": "02dc512f",
   "metadata": {},
   "outputs": [],
   "source": []
  },
  {
   "cell_type": "markdown",
   "id": "e1537d80",
   "metadata": {},
   "source": [
    "### Best Model?"
   ]
  },
  {
   "cell_type": "code",
   "execution_count": null,
   "id": "b1505137",
   "metadata": {},
   "outputs": [],
   "source": []
  },
  {
   "cell_type": "markdown",
   "id": "42649e9e",
   "metadata": {},
   "source": [
    "### Visualize Model & Data"
   ]
  },
  {
   "cell_type": "code",
   "execution_count": null,
   "id": "6038d768",
   "metadata": {},
   "outputs": [],
   "source": []
  },
  {
   "cell_type": "markdown",
   "id": "e47126e1",
   "metadata": {},
   "source": [
    "### Feature Importance Shapley Values"
   ]
  },
  {
   "cell_type": "code",
   "execution_count": null,
   "id": "8b73a9c7",
   "metadata": {},
   "outputs": [],
   "source": []
  },
  {
   "cell_type": "markdown",
   "id": "ffbec357",
   "metadata": {},
   "source": [
    "## Final Reflections"
   ]
  },
  {
   "cell_type": "code",
   "execution_count": null,
   "id": "168c3554",
   "metadata": {},
   "outputs": [],
   "source": []
  }
 ],
 "metadata": {},
 "nbformat": 4,
 "nbformat_minor": 5
}
