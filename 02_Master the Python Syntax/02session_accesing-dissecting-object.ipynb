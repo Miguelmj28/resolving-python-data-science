{
 "cells": [
  {
   "cell_type": "markdown",
   "id": "9a3cd13d-4f55-47e5-8e9e-7de35cd17bc1",
   "metadata": {
    "tags": []
   },
   "source": [
    "<font size=\"+5\">#02 | Dissecting the Object Like an Onion</font>"
   ]
  },
  {
   "cell_type": "markdown",
   "id": "f6149105-9e94-40b5-8f77-e9d0782d4b0d",
   "metadata": {},
   "source": [
    "- <ins>Python</ins> + <ins>Data Science</ins> Tutorials in [YouTube ↗︎](https://www.youtube.com/c/PythonResolver)"
   ]
  },
  {
   "cell_type": "markdown",
   "id": "add3e73d-301a-467d-ad21-c90ed4b5d5ad",
   "metadata": {},
   "source": [
    "# How to Access the `items` of an `Object`"
   ]
  },
  {
   "cell_type": "markdown",
   "id": "6c21d472-76bc-499a-bd07-338bf72350e4",
   "metadata": {},
   "source": [
    "## The `list`"
   ]
  },
  {
   "cell_type": "markdown",
   "id": "5ab63a44-c14a-42e0-abba-4c7312ce86a0",
   "metadata": {},
   "source": [
    "> - [ ] Create a `list` of your best friends"
   ]
  },
  {
   "cell_type": "code",
   "execution_count": null,
   "id": "184755cc-867e-4c8c-9e11-4296eeac141f",
   "metadata": {},
   "outputs": [],
   "source": []
  },
  {
   "cell_type": "markdown",
   "id": "77a25ba8-dd4a-48a2-90ce-dc76e3d17b20",
   "metadata": {},
   "source": [
    "> - [ ] Access the 2nd element ↓"
   ]
  },
  {
   "cell_type": "code",
   "execution_count": null,
   "id": "fcb9c3de-ba47-4bcd-800b-d1aeb99801c2",
   "metadata": {},
   "outputs": [],
   "source": []
  },
  {
   "cell_type": "code",
   "execution_count": null,
   "id": "337366c6-bb6c-4ec8-89e2-6f75e7e2d9bd",
   "metadata": {},
   "outputs": [],
   "source": []
  },
  {
   "cell_type": "markdown",
   "id": "144e0890-65c5-457a-b828-62a783d90504",
   "metadata": {},
   "source": [
    "## The `dict`"
   ]
  },
  {
   "cell_type": "markdown",
   "id": "f874c721-9669-49b7-8a2e-80f459dd6d6f",
   "metadata": {},
   "source": [
    "> - [ ] Create a `dict` of your best friends"
   ]
  },
  {
   "cell_type": "code",
   "execution_count": null,
   "id": "0086bff4-e5c4-46c8-9b53-995439b7328c",
   "metadata": {},
   "outputs": [],
   "source": []
  },
  {
   "cell_type": "markdown",
   "id": "8f126557-96f2-44c0-a1a9-a39583f84be2",
   "metadata": {},
   "source": [
    "> - [ ] Access the 2nd element ↓"
   ]
  },
  {
   "cell_type": "code",
   "execution_count": null,
   "id": "3488bb85-d2e4-4237-96e6-6f87335a8ecf",
   "metadata": {},
   "outputs": [],
   "source": []
  },
  {
   "cell_type": "code",
   "execution_count": null,
   "id": "c1f788c7-fa53-4a21-8aa9-5da36678e13f",
   "metadata": {},
   "outputs": [],
   "source": []
  },
  {
   "cell_type": "code",
   "execution_count": null,
   "id": "3c0bba4a-30bf-4e89-a9d1-6f643992f725",
   "metadata": {},
   "outputs": [],
   "source": []
  },
  {
   "cell_type": "markdown",
   "id": "8b342bb8-cb9b-4356-8b15-9b8aab92faa1",
   "metadata": {},
   "source": [
    "## The `DataFrame`"
   ]
  },
  {
   "cell_type": "markdown",
   "id": "ced9c1b8-413d-44ea-8894-2f33d9e8ec6d",
   "metadata": {},
   "source": [
    "> - [ ] Create a `nested dict` with your **3 best friends' personal data**"
   ]
  },
  {
   "cell_type": "code",
   "execution_count": null,
   "id": "4612aae2-c5c4-4eb0-b095-013e68e8b7ec",
   "metadata": {},
   "outputs": [],
   "source": []
  },
  {
   "cell_type": "markdown",
   "id": "8b224109-6e2d-4a16-9bc1-72bd59056d78",
   "metadata": {},
   "source": [
    "> - [ ] Access the `age` of your `2nd best friend`"
   ]
  },
  {
   "cell_type": "code",
   "execution_count": null,
   "id": "15ef39e1-1d9e-4d52-bc23-252ca7e40049",
   "metadata": {},
   "outputs": [],
   "source": []
  },
  {
   "cell_type": "code",
   "execution_count": null,
   "id": "f93c63f2-6d78-4e74-b327-f680370c13bc",
   "metadata": {},
   "outputs": [],
   "source": []
  },
  {
   "cell_type": "code",
   "execution_count": null,
   "id": "7b0bcaf7-4e3f-4b4a-a1c2-c6a58b7a24ab",
   "metadata": {},
   "outputs": [],
   "source": []
  },
  {
   "cell_type": "code",
   "execution_count": null,
   "id": "b69d278f-0a30-454f-a0e2-45df91cca97d",
   "metadata": {},
   "outputs": [],
   "source": []
  },
  {
   "cell_type": "code",
   "execution_count": null,
   "id": "479d7be0-67b9-4e78-a990-f78237a78516",
   "metadata": {},
   "outputs": [],
   "source": []
  },
  {
   "cell_type": "markdown",
   "id": "0b728260-b4e6-41c9-8cd0-e3a654c80025",
   "metadata": {},
   "source": [
    "> - [ ] Convert the `dict` to a `DataFrame`"
   ]
  },
  {
   "cell_type": "code",
   "execution_count": null,
   "id": "82de53a1-05fc-4306-a53b-5003fd35e682",
   "metadata": {},
   "outputs": [],
   "source": []
  },
  {
   "cell_type": "code",
   "execution_count": null,
   "id": "9fee8b60-67b0-456c-a97c-5cbd69796c60",
   "metadata": {},
   "outputs": [],
   "source": []
  },
  {
   "cell_type": "code",
   "execution_count": null,
   "id": "ca1170e7-731e-4576-8f7a-08d9612ab988",
   "metadata": {},
   "outputs": [],
   "source": []
  },
  {
   "cell_type": "code",
   "execution_count": null,
   "id": "1e6da5d8-038b-4176-b372-2f82b0e0c6da",
   "metadata": {},
   "outputs": [],
   "source": []
  },
  {
   "cell_type": "markdown",
   "id": "7f53735d-0530-416f-b8cb-cb5ada74e367",
   "metadata": {},
   "source": [
    "- [ ] Access the `age` of your `2nd best friend`"
   ]
  },
  {
   "cell_type": "code",
   "execution_count": null,
   "id": "a414ff04-1de0-48ff-9af5-b3949d0c762c",
   "metadata": {},
   "outputs": [],
   "source": []
  },
  {
   "cell_type": "code",
   "execution_count": null,
   "id": "94bead13-f5e7-43d8-81a6-2364bad0800e",
   "metadata": {},
   "outputs": [],
   "source": []
  },
  {
   "cell_type": "code",
   "execution_count": null,
   "id": "e1da0d26-0986-44bf-b319-d4e73248d8be",
   "metadata": {},
   "outputs": [],
   "source": []
  },
  {
   "cell_type": "markdown",
   "id": "2c1bbf85-554e-441f-8777-4705947271d9",
   "metadata": {},
   "source": [
    "> - What would have happened if the `DataFrame` looks like this ↓"
   ]
  },
  {
   "cell_type": "code",
   "execution_count": null,
   "id": "3f5de2f6-140e-4437-8d66-0e266c81a4f0",
   "metadata": {},
   "outputs": [],
   "source": []
  },
  {
   "cell_type": "code",
   "execution_count": null,
   "id": "3b9f7a3f-3846-4bcd-9063-76c675f13634",
   "metadata": {},
   "outputs": [],
   "source": []
  },
  {
   "cell_type": "markdown",
   "id": "04d20ea9-d2f1-4971-8bad-7c6d2e1f594e",
   "metadata": {},
   "source": [
    "> - [ ] Is your best friends' name a `key` of the `DataFrame`?"
   ]
  },
  {
   "cell_type": "code",
   "execution_count": null,
   "id": "182fb581-18e1-4c0c-b9bc-bc82e49a28f4",
   "metadata": {},
   "outputs": [],
   "source": []
  },
  {
   "cell_type": "code",
   "execution_count": null,
   "id": "663be2ff-290e-4e9c-a042-d8e294ad0ec7",
   "metadata": {},
   "outputs": [],
   "source": []
  },
  {
   "cell_type": "markdown",
   "id": "9523dcb8-df6a-4b92-802e-a66078828bf1",
   "metadata": {},
   "source": [
    "> - [ ] How then can you access your second best friend's age?"
   ]
  },
  {
   "cell_type": "code",
   "execution_count": null,
   "id": "780e07dd-753e-428b-8749-6e13e9824e33",
   "metadata": {},
   "outputs": [],
   "source": []
  },
  {
   "cell_type": "code",
   "execution_count": null,
   "id": "111da84c-4cb4-404a-966d-bbd58cea565b",
   "metadata": {},
   "outputs": [],
   "source": []
  },
  {
   "cell_type": "markdown",
   "id": "d4797650-03dc-4dc5-969e-e082748db1c0",
   "metadata": {},
   "source": [
    "## Recap"
   ]
  },
  {
   "cell_type": "markdown",
   "id": "e31e0f24-54c4-47b2-ba38-5e41ed2b0418",
   "metadata": {},
   "source": [
    "### The `list`"
   ]
  },
  {
   "cell_type": "code",
   "execution_count": null,
   "id": "bbbb6e82-4919-497b-ab88-4eb8ecb503ae",
   "metadata": {},
   "outputs": [],
   "source": []
  },
  {
   "cell_type": "code",
   "execution_count": null,
   "id": "b63cfc8c-3475-4d5f-a0b3-fd5567602305",
   "metadata": {},
   "outputs": [],
   "source": []
  },
  {
   "cell_type": "markdown",
   "id": "9858f8c9-657e-491b-8673-b9615daa4a06",
   "metadata": {},
   "source": [
    "### The `dictionary`"
   ]
  },
  {
   "cell_type": "code",
   "execution_count": null,
   "id": "1da6d55f-8b80-494b-97bf-c8b993ad9b08",
   "metadata": {},
   "outputs": [],
   "source": []
  },
  {
   "cell_type": "code",
   "execution_count": null,
   "id": "f6caa5a9-6a26-4005-a734-6414d6aaf1cd",
   "metadata": {},
   "outputs": [],
   "source": []
  },
  {
   "cell_type": "code",
   "execution_count": null,
   "id": "ffd60987-ebb9-4157-b1b9-09dd364d573e",
   "metadata": {},
   "outputs": [],
   "source": []
  },
  {
   "cell_type": "code",
   "execution_count": null,
   "id": "1f632016-4ff7-4479-ae8d-bd6b722327c5",
   "metadata": {},
   "outputs": [],
   "source": []
  },
  {
   "cell_type": "code",
   "execution_count": null,
   "id": "ea449293-9d1e-414a-bc79-21d03c6cbaad",
   "metadata": {},
   "outputs": [],
   "source": []
  },
  {
   "cell_type": "code",
   "execution_count": null,
   "id": "73f813ba-f8ce-4e5f-8fe3-26f60ad99fa8",
   "metadata": {},
   "outputs": [],
   "source": []
  },
  {
   "cell_type": "markdown",
   "id": "b7f0fa20-79b3-44c6-8aaa-a25f9fe59e6f",
   "metadata": {},
   "source": [
    "### The `DataFrame`"
   ]
  },
  {
   "cell_type": "code",
   "execution_count": null,
   "id": "914bf604-521f-4eeb-8890-6c4a9ea8fdb2",
   "metadata": {},
   "outputs": [],
   "source": []
  },
  {
   "cell_type": "code",
   "execution_count": null,
   "id": "af25738b-c059-464b-a173-61a4c1da6476",
   "metadata": {},
   "outputs": [],
   "source": []
  },
  {
   "cell_type": "code",
   "execution_count": null,
   "id": "b0382223-0135-468e-b335-8d1c30a2d39b",
   "metadata": {},
   "outputs": [],
   "source": []
  },
  {
   "cell_type": "markdown",
   "id": "1953f7f1-7ca3-41b3-8fb6-3d2a84f0b35b",
   "metadata": {},
   "source": [
    "## What the heck is a `key`?\n",
    "\n",
    "> - A `key` that opens a door to get the `values`"
   ]
  },
  {
   "cell_type": "code",
   "execution_count": 53,
   "id": "0489a5c1-9fec-4e5d-b23d-ee51e41f33e6",
   "metadata": {},
   "outputs": [
    {
     "data": {
      "text/html": [
       "<div>\n",
       "<style scoped>\n",
       "    .dataframe tbody tr th:only-of-type {\n",
       "        vertical-align: middle;\n",
       "    }\n",
       "\n",
       "    .dataframe tbody tr th {\n",
       "        vertical-align: top;\n",
       "    }\n",
       "\n",
       "    .dataframe thead th {\n",
       "        text-align: right;\n",
       "    }\n",
       "</style>\n",
       "<table border=\"1\" class=\"dataframe\">\n",
       "  <thead>\n",
       "    <tr style=\"text-align: right;\">\n",
       "      <th></th>\n",
       "      <th>internet_usage</th>\n",
       "      <th>sex</th>\n",
       "      <th>age</th>\n",
       "      <th>education</th>\n",
       "      <th>weight</th>\n",
       "    </tr>\n",
       "    <tr>\n",
       "      <th>name</th>\n",
       "      <th></th>\n",
       "      <th></th>\n",
       "      <th></th>\n",
       "      <th></th>\n",
       "      <th></th>\n",
       "    </tr>\n",
       "  </thead>\n",
       "  <tbody>\n",
       "    <tr>\n",
       "      <th>Josefina</th>\n",
       "      <td>0</td>\n",
       "      <td>Female</td>\n",
       "      <td>66</td>\n",
       "      <td>Elementary</td>\n",
       "      <td>81</td>\n",
       "    </tr>\n",
       "    <tr>\n",
       "      <th>Vicki</th>\n",
       "      <td>1</td>\n",
       "      <td>Male</td>\n",
       "      <td>72</td>\n",
       "      <td>Elementary</td>\n",
       "      <td>78</td>\n",
       "    </tr>\n",
       "    <tr>\n",
       "      <th>David</th>\n",
       "      <td>1</td>\n",
       "      <td>Male</td>\n",
       "      <td>48</td>\n",
       "      <td>University</td>\n",
       "      <td>69</td>\n",
       "    </tr>\n",
       "    <tr>\n",
       "      <th>Curtis</th>\n",
       "      <td>0</td>\n",
       "      <td>Male</td>\n",
       "      <td>59</td>\n",
       "      <td>PhD</td>\n",
       "      <td>107</td>\n",
       "    </tr>\n",
       "    <tr>\n",
       "      <th>Josephine</th>\n",
       "      <td>1</td>\n",
       "      <td>Female</td>\n",
       "      <td>44</td>\n",
       "      <td>PhD</td>\n",
       "      <td>80</td>\n",
       "    </tr>\n",
       "  </tbody>\n",
       "</table>\n",
       "</div>"
      ],
      "text/plain": [
       "           internet_usage     sex  age   education  weight\n",
       "name                                                      \n",
       "Josefina                0  Female   66  Elementary      81\n",
       "Vicki                   1    Male   72  Elementary      78\n",
       "David                   1    Male   48  University      69\n",
       "Curtis                  0    Male   59         PhD     107\n",
       "Josephine               1  Female   44         PhD      80"
      ]
     },
     "execution_count": 53,
     "metadata": {},
     "output_type": "execute_result"
    }
   ],
   "source": [
    "df = pd.read_excel('internet_usage_spain.xlsx', sheet_name=1, index_col=0) #!\n",
    "df.head()"
   ]
  },
  {
   "cell_type": "markdown",
   "id": "478b6367-aa5b-4ebb-b304-3fe187688662",
   "metadata": {},
   "source": [
    "> - [ ] For example, get the values contained in the `age` key"
   ]
  },
  {
   "cell_type": "code",
   "execution_count": null,
   "id": "d1c12195-b16f-47a0-b1b0-f3010b443b37",
   "metadata": {},
   "outputs": [],
   "source": []
  },
  {
   "cell_type": "markdown",
   "id": "74ca8e71-3988-454a-8bda-f7016b39c96d",
   "metadata": {},
   "source": [
    "> - [ ] Access the `name` of the people"
   ]
  },
  {
   "cell_type": "code",
   "execution_count": null,
   "id": "2d819627-5566-4832-a4be-b40d6badff77",
   "metadata": {},
   "outputs": [],
   "source": []
  },
  {
   "cell_type": "markdown",
   "id": "f9214012-8648-4ca5-80a9-6b7f243db2df",
   "metadata": {},
   "source": [
    "> - What is the error saying?\n",
    "> - [ ] Could you ask which are the `keys` for the `df`?"
   ]
  },
  {
   "cell_type": "code",
   "execution_count": null,
   "id": "95afdbeb-987c-448c-80f7-568e7482da87",
   "metadata": {},
   "outputs": [],
   "source": []
  },
  {
   "cell_type": "code",
   "execution_count": null,
   "id": "fabfd626-bcc5-4e18-be8d-830c8b519d01",
   "metadata": {},
   "outputs": [],
   "source": []
  },
  {
   "cell_type": "markdown",
   "id": "d0a9a7c5-3533-4fa5-8b98-67956fe86f19",
   "metadata": {},
   "source": [
    "> - [ ] Which `keys` could you access then?"
   ]
  },
  {
   "cell_type": "code",
   "execution_count": null,
   "id": "b0250d60-0ff4-4167-922d-acadedfa0f13",
   "metadata": {},
   "outputs": [],
   "source": []
  },
  {
   "cell_type": "markdown",
   "id": "e060f0e5-8c89-416d-8334-414e6a25982a",
   "metadata": {},
   "source": [
    "> - [ ] How could you then access the `names`?"
   ]
  },
  {
   "cell_type": "code",
   "execution_count": null,
   "id": "648adbf3-f72a-4f7e-ac4a-d5a609837e14",
   "metadata": {},
   "outputs": [],
   "source": []
  },
  {
   "cell_type": "markdown",
   "id": "5f2d5eaf-72a6-441e-8343-be2f839dccf1",
   "metadata": {},
   "source": [
    "# Dissecting the Objects to Understand the Elements of Programming"
   ]
  },
  {
   "cell_type": "markdown",
   "id": "a46c9768-9978-462b-ad4a-5b2ac45c9868",
   "metadata": {},
   "source": [
    "> - Objects are **data structures** that store information. \n",
    "> - [ ] Which **syntax** do we use to access the information?"
   ]
  },
  {
   "cell_type": "markdown",
   "id": "a99f1b5b-8c05-44c0-8b89-8c0d32c68210",
   "metadata": {},
   "source": [
    "## Dot Notation `.`"
   ]
  },
  {
   "cell_type": "markdown",
   "id": "b1d0b79a-4f2c-403a-9144-b0b12c7d25f4",
   "metadata": {},
   "source": [
    "> - [ ] Show just the `age` column from `df`"
   ]
  },
  {
   "cell_type": "code",
   "execution_count": null,
   "id": "f390059e-bec9-43e0-adc2-0c0fdc77c054",
   "metadata": {},
   "outputs": [],
   "source": []
  },
  {
   "cell_type": "code",
   "execution_count": null,
   "id": "264a19bf-0263-4e4d-b08d-7ce4402b8ab0",
   "metadata": {},
   "outputs": [],
   "source": []
  },
  {
   "cell_type": "code",
   "execution_count": null,
   "id": "679dffe2-c618-4865-9c10-515e840d968e",
   "metadata": {},
   "outputs": [],
   "source": []
  },
  {
   "cell_type": "markdown",
   "id": "31d3c8aa-8018-41f0-831d-85edfa5b51f2",
   "metadata": {},
   "source": [
    "> - [ ] Could we **access to more information** than just the columns?"
   ]
  },
  {
   "cell_type": "code",
   "execution_count": null,
   "id": "bbfbb94e-0e11-4162-a9a2-3a532ee4b106",
   "metadata": {},
   "outputs": [],
   "source": []
  },
  {
   "cell_type": "code",
   "execution_count": null,
   "id": "70f3f405-ed91-4e21-bb7f-2c6191c5eb9b",
   "metadata": {},
   "outputs": [],
   "source": []
  },
  {
   "cell_type": "markdown",
   "id": "4699b326-52a2-4288-bd1a-a71c26324161",
   "metadata": {},
   "source": [
    "### The `function()`"
   ]
  },
  {
   "cell_type": "code",
   "execution_count": null,
   "id": "96c6169e-dbaf-4c1e-85ac-088aa902da94",
   "metadata": {},
   "outputs": [],
   "source": []
  },
  {
   "cell_type": "code",
   "execution_count": null,
   "id": "66f0fafe-634b-4803-b71d-4115c5ba3255",
   "metadata": {},
   "outputs": [],
   "source": []
  },
  {
   "cell_type": "code",
   "execution_count": null,
   "id": "1989faf7-d6a9-4451-b2c5-ed40ece3d6cc",
   "metadata": {},
   "outputs": [],
   "source": []
  },
  {
   "cell_type": "code",
   "execution_count": null,
   "id": "d2301727-7cd9-4d67-94a3-19aeeaac00fd",
   "metadata": {},
   "outputs": [],
   "source": []
  },
  {
   "cell_type": "code",
   "execution_count": null,
   "id": "d4c96f36-d4d1-442e-81ff-1705771d8c6d",
   "metadata": {},
   "outputs": [],
   "source": []
  },
  {
   "cell_type": "code",
   "execution_count": null,
   "id": "e64e4bf0-4f27-4b71-88ad-34a57a4fd8fa",
   "metadata": {},
   "outputs": [],
   "source": []
  },
  {
   "cell_type": "code",
   "execution_count": null,
   "id": "980cbded-9005-4616-9c0e-66dbc9a45398",
   "metadata": {},
   "outputs": [],
   "source": []
  },
  {
   "cell_type": "markdown",
   "id": "5eac4580-5d8f-409c-bdf5-dbb55d45f426",
   "metadata": {},
   "source": [
    "### The `instance`"
   ]
  },
  {
   "cell_type": "code",
   "execution_count": null,
   "id": "7e4fc2e7-8e2d-4af1-ace0-7cd0dd935630",
   "metadata": {},
   "outputs": [],
   "source": []
  },
  {
   "cell_type": "code",
   "execution_count": null,
   "id": "42e5f442-91e6-41cf-a11d-8ad7c6da5dc7",
   "metadata": {},
   "outputs": [],
   "source": []
  },
  {
   "cell_type": "code",
   "execution_count": null,
   "id": "f6b848e9-3f5c-4d8a-8216-675089c069d6",
   "metadata": {},
   "outputs": [],
   "source": []
  },
  {
   "cell_type": "code",
   "execution_count": null,
   "id": "4b8e87f4-d540-49b7-9dbf-cbe14fa2a765",
   "metadata": {},
   "outputs": [],
   "source": []
  },
  {
   "cell_type": "code",
   "execution_count": null,
   "id": "7181f3d2-8483-4e3f-9149-41ec0d1d4a5b",
   "metadata": {},
   "outputs": [],
   "source": []
  },
  {
   "cell_type": "markdown",
   "id": "dcd9a257-0594-4fc0-92b8-a06b010b428f",
   "metadata": {},
   "source": [
    "### Recap"
   ]
  },
  {
   "cell_type": "markdown",
   "id": "109a6bce-7989-41bf-83ce-92117fc61c83",
   "metadata": {},
   "source": [
    "#### The `instance`"
   ]
  },
  {
   "cell_type": "markdown",
   "id": "d4d37ab7-5a80-412a-9b1a-a1e9cd70b183",
   "metadata": {},
   "source": [
    "The **instance** (object) may contain:\n",
    "- `function`\n",
    "- more `instance`s"
   ]
  },
  {
   "cell_type": "code",
   "execution_count": null,
   "id": "45484f90-960c-4fb5-99bf-c08091ad711e",
   "metadata": {},
   "outputs": [],
   "source": []
  },
  {
   "cell_type": "code",
   "execution_count": null,
   "id": "4f0ebab9-22aa-4323-8f7a-45858cd58abb",
   "metadata": {},
   "outputs": [],
   "source": []
  },
  {
   "cell_type": "markdown",
   "id": "70d1e40b-9491-4c10-ab9b-132bdf5ff213",
   "metadata": {},
   "source": [
    "#### The `function()`"
   ]
  },
  {
   "cell_type": "markdown",
   "id": "51d105d0-2303-4e8c-8d0e-4df8b1ae4fff",
   "metadata": {},
   "source": [
    "The **function** contains nothing\n",
    "- ` `; it's the endpoint of programming"
   ]
  },
  {
   "cell_type": "code",
   "execution_count": null,
   "id": "70190060-3de6-4862-82ce-b11be3e85358",
   "metadata": {},
   "outputs": [],
   "source": []
  },
  {
   "cell_type": "code",
   "execution_count": null,
   "id": "17fa7598-dacc-4648-958b-cc91d97eca6e",
   "metadata": {},
   "outputs": [],
   "source": []
  },
  {
   "cell_type": "markdown",
   "id": "63a2df32-ddf8-4b38-9317-ea53bdd06424",
   "metadata": {},
   "source": [
    "#### Module"
   ]
  },
  {
   "cell_type": "markdown",
   "id": "d75eac57-b401-4dcc-aaf0-035fa19186e4",
   "metadata": {},
   "source": [
    "The **module** may contain:\n",
    "- `module` (subfolder)\n",
    "- `function`\n",
    "- object `class` **to be created**\n",
    "- object `instance` **(object) already created**"
   ]
  },
  {
   "cell_type": "code",
   "execution_count": null,
   "id": "150da50e-04d1-494d-88f8-a672773e064c",
   "metadata": {},
   "outputs": [],
   "source": []
  },
  {
   "cell_type": "code",
   "execution_count": null,
   "id": "97204c79-48a7-4fc3-8e2f-de622b1c40fb",
   "metadata": {},
   "outputs": [],
   "source": []
  },
  {
   "cell_type": "code",
   "execution_count": null,
   "id": "d932c507-4033-4860-b94d-dd319b8b9974",
   "metadata": {},
   "outputs": [],
   "source": []
  },
  {
   "cell_type": "code",
   "execution_count": null,
   "id": "08764491-0a6c-4210-9ab4-bd6c438e69ec",
   "metadata": {},
   "outputs": [],
   "source": []
  }
 ],
 "metadata": {
  "kernelspec": {
   "display_name": "Python 3 (ipykernel)",
   "language": "python",
   "name": "python3"
  },
  "language_info": {
   "codemirror_mode": {
    "name": "ipython",
    "version": 3
   },
   "file_extension": ".py",
   "mimetype": "text/x-python",
   "name": "python",
   "nbconvert_exporter": "python",
   "pygments_lexer": "ipython3",
   "version": "3.9.7"
  },
  "toc-autonumbering": true
 },
 "nbformat": 4,
 "nbformat_minor": 5
}
