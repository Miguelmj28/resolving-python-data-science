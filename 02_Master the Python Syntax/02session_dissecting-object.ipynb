{
 "cells": [
  {
   "cell_type": "markdown",
   "id": "8e52b97d-1dd5-4585-b589-964f954af941",
   "metadata": {},
   "source": [
    "<font size=\"+5\">#01 | The Use of Functions</font>"
   ]
  },
  {
   "cell_type": "markdown",
   "id": "ee404e98-7cce-4d1a-897d-572ec26ee648",
   "metadata": {},
   "source": [
    "\n",
    "<div class=\"alert alert-warning\">\n",
    "  <ul>\n",
    "    <li>\n",
    "      <b>Python</b> + <b>Data Science</b> Tutorials in ↓\n",
    "      <ul>\n",
    "        <li>\n",
    "          <a href=\"https://www.youtube.com/c/PythonResolver?sub_confirmation=1\"\n",
    "            >YouTube</a\n",
    "          >\n",
    "        </li>\n",
    "        <li>\n",
    "          <a href=\"https://blog.pythonresolver.com/\">Blog</a>\n",
    "        </li>\n",
    "        <li>\n",
    "          <a href=\"https://github.com/jsulopz/00-python-resolver-discipline\">GitHub</a>\n",
    "        </li>\n",
    "      </ul>\n",
    "    </li>\n",
    "    <li>\n",
    "      Author: <a href=\"https://twitter.com/jsulopz\"><b>@jsulopz</b></a>\n",
    "    </li>\n",
    "  </ul>\n",
    "</div>\n"
   ]
  },
  {
   "cell_type": "markdown",
   "id": "ff269276-6dc1-406c-a20a-952c1792b995",
   "metadata": {
    "tags": []
   },
   "source": [
    "# The starting *thing*"
   ]
  },
  {
   "cell_type": "code",
   "execution_count": null,
   "id": "c3f7b612-d16e-474b-8c3b-f52aedc1d15e",
   "metadata": {},
   "outputs": [],
   "source": []
  },
  {
   "cell_type": "markdown",
   "id": "60ac3a49-cd1d-455c-a24d-3841c45ea3f3",
   "metadata": {},
   "source": [
    "- [ ] How can we play around with the `DataFrame`?"
   ]
  },
  {
   "cell_type": "code",
   "execution_count": null,
   "id": "3f1dc5d2-d0ce-48a0-8694-c175f3c454f7",
   "metadata": {},
   "outputs": [],
   "source": []
  },
  {
   "cell_type": "markdown",
   "id": "085765e5-df06-43de-85fa-ec6f5b8186b1",
   "metadata": {},
   "source": [
    "- [ ] Isn't there a more **efficient** to write the code?"
   ]
  },
  {
   "cell_type": "markdown",
   "id": "a85b770f-8e13-4ffb-9000-2c0bc6d6072a",
   "metadata": {},
   "source": [
    "# The use of `variables` - `instances`"
   ]
  },
  {
   "cell_type": "markdown",
   "id": "eda3d07e-22ec-43d9-adb3-fae4d0135b5c",
   "metadata": {},
   "source": [
    "- A `variable` is an `instance` of `Class`\n",
    "- We'll refer to the *created variable* as an **instance**"
   ]
  },
  {
   "cell_type": "code",
   "execution_count": null,
   "id": "23619ea2-1eb5-4eb3-8deb-26c129bdc950",
   "metadata": {},
   "outputs": [],
   "source": []
  },
  {
   "cell_type": "code",
   "execution_count": null,
   "id": "7794dbb9-03a4-4742-83f0-f414d789856e",
   "metadata": {},
   "outputs": [],
   "source": []
  },
  {
   "cell_type": "code",
   "execution_count": null,
   "id": "f1dbabb9-0d2b-4d37-aa86-dfca33e23f06",
   "metadata": {},
   "outputs": [],
   "source": []
  },
  {
   "cell_type": "markdown",
   "id": "ec8055e3-733d-4878-bf58-75929d0827b3",
   "metadata": {},
   "source": [
    "## The `string` object-instance"
   ]
  },
  {
   "cell_type": "markdown",
   "id": "e5a70d50-2eab-41e3-b3ef-25b66d2c50aa",
   "metadata": {},
   "source": [
    "### Using the `instance`"
   ]
  },
  {
   "cell_type": "code",
   "execution_count": null,
   "id": "78aaa728-37d7-4290-b3fa-373ec061704c",
   "metadata": {},
   "outputs": [],
   "source": []
  },
  {
   "cell_type": "code",
   "execution_count": null,
   "id": "a3687b39-c51b-4ce3-b755-a07350190d72",
   "metadata": {},
   "outputs": [],
   "source": []
  },
  {
   "cell_type": "code",
   "execution_count": null,
   "id": "73496297-6bdb-4948-a660-b74530d3a881",
   "metadata": {},
   "outputs": [],
   "source": []
  },
  {
   "cell_type": "markdown",
   "id": "040b7737-87ac-489b-91fd-bac7b6027251",
   "metadata": {},
   "source": [
    "### Using the `object` Directly"
   ]
  },
  {
   "cell_type": "code",
   "execution_count": null,
   "id": "1865b4be-f46f-4e18-804d-7bf677957426",
   "metadata": {},
   "outputs": [],
   "source": []
  },
  {
   "cell_type": "code",
   "execution_count": null,
   "id": "029f624f-5b22-4b88-ade7-3026b191d9c0",
   "metadata": {},
   "outputs": [],
   "source": []
  },
  {
   "cell_type": "markdown",
   "id": "b8303de8-763b-42cf-b0e3-37b030038cd5",
   "metadata": {},
   "source": [
    "## The `DataFrame` object"
   ]
  },
  {
   "cell_type": "code",
   "execution_count": 103,
   "id": "7aadea7b-d31a-4299-97d2-244ba0f70121",
   "metadata": {},
   "outputs": [
    {
     "data": {
      "text/html": [
       "<div>\n",
       "<style scoped>\n",
       "    .dataframe tbody tr th:only-of-type {\n",
       "        vertical-align: middle;\n",
       "    }\n",
       "\n",
       "    .dataframe tbody tr th {\n",
       "        vertical-align: top;\n",
       "    }\n",
       "\n",
       "    .dataframe thead th {\n",
       "        text-align: right;\n",
       "    }\n",
       "</style>\n",
       "<table border=\"1\" class=\"dataframe\">\n",
       "  <thead>\n",
       "    <tr style=\"text-align: right;\">\n",
       "      <th></th>\n",
       "      <th>0</th>\n",
       "      <th>1</th>\n",
       "    </tr>\n",
       "  </thead>\n",
       "  <tbody>\n",
       "    <tr>\n",
       "      <th>0</th>\n",
       "      <td>joseph</td>\n",
       "      <td>74</td>\n",
       "    </tr>\n",
       "    <tr>\n",
       "      <th>1</th>\n",
       "      <td>mary</td>\n",
       "      <td>75</td>\n",
       "    </tr>\n",
       "  </tbody>\n",
       "</table>\n",
       "</div>"
      ],
      "text/plain": [
       "        0   1\n",
       "0  joseph  74\n",
       "1    mary  75"
      ]
     },
     "execution_count": 103,
     "metadata": {},
     "output_type": "execute_result"
    }
   ],
   "source": [
    "df = pd.DataFrame(data=[['joseph', 74], ['mary', 75]]) #!\n",
    "df"
   ]
  },
  {
   "cell_type": "code",
   "execution_count": null,
   "id": "e0089c12-71df-43c9-a464-d4890e49cd85",
   "metadata": {},
   "outputs": [],
   "source": []
  },
  {
   "cell_type": "markdown",
   "id": "4c7bc0d1-a823-45a1-8ad3-5229caebc55c",
   "metadata": {},
   "source": [
    "### Using the `instance`"
   ]
  },
  {
   "cell_type": "code",
   "execution_count": null,
   "id": "3953dbec-1338-4f9e-9868-6e9f210280f0",
   "metadata": {},
   "outputs": [],
   "source": []
  },
  {
   "cell_type": "markdown",
   "id": "de20fb0c-8a7c-4528-81f2-a12866be8849",
   "metadata": {},
   "source": [
    "### Using the `object` Directly"
   ]
  },
  {
   "cell_type": "code",
   "execution_count": null,
   "id": "4b968301-5525-40f3-949c-7beaf97a5988",
   "metadata": {},
   "outputs": [],
   "source": []
  },
  {
   "cell_type": "markdown",
   "id": "22edb124-0e9b-48e6-8913-2de44d7a34be",
   "metadata": {},
   "source": [
    "## Exploiting the `DataFrame` instance"
   ]
  },
  {
   "cell_type": "markdown",
   "id": "d15957a4-05bb-41dc-ba86-17ea7c5f3ddd",
   "metadata": {},
   "source": [
    "- [ ] Can you do the `.average()` of the `DataFrame`?"
   ]
  },
  {
   "cell_type": "code",
   "execution_count": null,
   "id": "ec0e33bd-1e86-46aa-acf9-e472c0100369",
   "metadata": {},
   "outputs": [],
   "source": []
  },
  {
   "cell_type": "markdown",
   "id": "04d90dd6-132a-4548-8125-191a4aad7e0d",
   "metadata": {},
   "source": [
    "- [ ] Why?\n",
    "- [ ] Is there a way to know which `.functions()` we can use with `instances`?"
   ]
  },
  {
   "cell_type": "markdown",
   "id": "b86e2cbe-6d6b-4524-8b7e-633ce22dff1e",
   "metadata": {},
   "source": [
    "# Working with the `instance`\n",
    "\n",
    "- Objects are **data structures** that store information\n",
    "- [ ] Which [**syntax**](https://github.com/jsulopz/00-python-resolver-discipline/blob/main/01_Code%20of%20Discipline/00_The%20Elements%20of%20Programming.md) do you write to exploit the `object`?"
   ]
  },
  {
   "cell_type": "code",
   "execution_count": null,
   "id": "d8ddbc11-41ea-4f7e-947d-0088abcd2c57",
   "metadata": {},
   "outputs": [],
   "source": []
  },
  {
   "cell_type": "code",
   "execution_count": null,
   "id": "e8497cea-6892-4b4a-ae23-955ae7d19e24",
   "metadata": {},
   "outputs": [],
   "source": []
  },
  {
   "cell_type": "markdown",
   "id": "030a8a83-6189-4fce-82f4-d3157e1ee3ce",
   "metadata": {},
   "source": [
    "- [ ] Can you compute the *correlation*?"
   ]
  },
  {
   "cell_type": "code",
   "execution_count": null,
   "id": "d4a7d7b3-8133-4493-aef3-3f4f2c38deab",
   "metadata": {},
   "outputs": [],
   "source": []
  },
  {
   "cell_type": "markdown",
   "id": "c0b7678a-c4a7-4605-8065-81f17c3ad16b",
   "metadata": {},
   "source": [
    "- [ ] Can you create a *histogram*?"
   ]
  },
  {
   "cell_type": "code",
   "execution_count": null,
   "id": "461af73a-04f0-4b22-83bf-30cfebed07ac",
   "metadata": {},
   "outputs": [],
   "source": []
  },
  {
   "cell_type": "markdown",
   "id": "21443221-041c-4faa-84da-b460f001d958",
   "metadata": {},
   "source": [
    "- [ ] Can you use the brackets `[]` for a `function[]`?"
   ]
  },
  {
   "cell_type": "code",
   "execution_count": null,
   "id": "6bd32c1d-6b7a-4ffe-8cec-17bc79f73e3b",
   "metadata": {},
   "outputs": [],
   "source": []
  },
  {
   "cell_type": "markdown",
   "id": "a6a36d78-f912-4976-a2ce-2bd3f9165212",
   "metadata": {},
   "source": [
    "- [ ] Why?\n",
    "- [ ] Is there a rule to put `[]` vs `()`?"
   ]
  },
  {
   "cell_type": "markdown",
   "id": "e969e199-7d60-408b-a6bb-ffd5bb21a898",
   "metadata": {},
   "source": [
    "# Brackets `[]` vs Parenthesis `()`"
   ]
  },
  {
   "cell_type": "markdown",
   "id": "b33e45a9-7109-40be-b8a2-bb3c31861160",
   "metadata": {},
   "source": [
    "## Accessing the `instance[access]`"
   ]
  },
  {
   "cell_type": "code",
   "execution_count": null,
   "id": "18633ce5-ef43-4daa-8791-d913416ad904",
   "metadata": {},
   "outputs": [],
   "source": []
  },
  {
   "cell_type": "code",
   "execution_count": null,
   "id": "df9029ef-9ed7-4d96-ba02-8b6b90b52a08",
   "metadata": {},
   "outputs": [],
   "source": []
  },
  {
   "cell_type": "markdown",
   "id": "48e3f0af-f265-4d8e-b727-611cb68a94fd",
   "metadata": {},
   "source": [
    "## Execute the `instance.function()`"
   ]
  },
  {
   "cell_type": "code",
   "execution_count": null,
   "id": "9605e5d2-fa64-492a-a673-79030ee56218",
   "metadata": {},
   "outputs": [],
   "source": []
  },
  {
   "cell_type": "code",
   "execution_count": null,
   "id": "9f82af84-cf15-4205-88e1-f9356fb8107e",
   "metadata": {},
   "outputs": [],
   "source": []
  },
  {
   "cell_type": "code",
   "execution_count": null,
   "id": "80e8297b-a8c4-49c3-b4ea-f35203125681",
   "metadata": {},
   "outputs": [],
   "source": []
  },
  {
   "cell_type": "markdown",
   "id": "c91c6ff2-d10a-4380-ba1e-dbacd6c8e04c",
   "metadata": {},
   "source": [
    "- [ ] Can you access the column `mpg` with the position number?"
   ]
  },
  {
   "cell_type": "code",
   "execution_count": null,
   "id": "235a5069-9158-4d62-96ab-c6c34c12bf9b",
   "metadata": {},
   "outputs": [],
   "source": []
  },
  {
   "cell_type": "markdown",
   "id": "b71cfaa6-e49b-42b4-adaa-fbcba7433a2a",
   "metadata": {},
   "source": [
    "- [ ] Why?"
   ]
  },
  {
   "cell_type": "code",
   "execution_count": null,
   "id": "96657cca-321e-4ee5-ac4c-dc5317f23a07",
   "metadata": {},
   "outputs": [],
   "source": []
  },
  {
   "cell_type": "markdown",
   "id": "a7f64809-cf78-4b5a-88d3-9663971adf44",
   "metadata": {},
   "source": [
    "## Different ways to *Access* an instance"
   ]
  },
  {
   "cell_type": "code",
   "execution_count": null,
   "id": "d4d86224-5d38-42b5-a8ef-850121a77ad6",
   "metadata": {},
   "outputs": [],
   "source": []
  },
  {
   "cell_type": "markdown",
   "id": "3f9fd356-6dfd-491c-80ae-484e21100b2b",
   "metadata": {},
   "source": [
    "### `list[index]`"
   ]
  },
  {
   "cell_type": "code",
   "execution_count": null,
   "id": "d0a36358-a5bc-4803-9178-1a4a1d7aeabe",
   "metadata": {},
   "outputs": [],
   "source": []
  },
  {
   "cell_type": "code",
   "execution_count": null,
   "id": "e71b4d22-c66a-4958-84eb-a34083cb5a14",
   "metadata": {},
   "outputs": [],
   "source": []
  },
  {
   "cell_type": "markdown",
   "id": "e8f0b375-69b5-4fc1-bdce-570da1976b05",
   "metadata": {},
   "source": [
    "### `dict[key]`"
   ]
  },
  {
   "cell_type": "code",
   "execution_count": null,
   "id": "2ec80e23-974b-4a03-b5f8-568decaecb03",
   "metadata": {},
   "outputs": [],
   "source": []
  },
  {
   "cell_type": "code",
   "execution_count": null,
   "id": "01075f13-1a24-4baf-97c8-f5dde3d1a3ee",
   "metadata": {},
   "outputs": [],
   "source": []
  },
  {
   "cell_type": "code",
   "execution_count": null,
   "id": "336a53ee-f12f-4d9a-b7d3-ab7e4b856c5c",
   "metadata": {},
   "outputs": [],
   "source": []
  },
  {
   "cell_type": "code",
   "execution_count": null,
   "id": "524c72b8-9d33-4bda-87a7-d1c0070887b0",
   "metadata": {},
   "outputs": [],
   "source": []
  },
  {
   "cell_type": "markdown",
   "id": "eb5daad7-e61a-47f1-b5f0-bf10fc533478",
   "metadata": {},
   "source": [
    "### `DataFrame[key]`"
   ]
  },
  {
   "cell_type": "code",
   "execution_count": null,
   "id": "d1e5efaf-849e-47b9-8faa-0017a038be4f",
   "metadata": {},
   "outputs": [],
   "source": []
  },
  {
   "cell_type": "code",
   "execution_count": null,
   "id": "43a5f092-cbd6-45e0-bdaf-fe690d5cde04",
   "metadata": {},
   "outputs": [],
   "source": []
  },
  {
   "cell_type": "markdown",
   "id": "744b4294-9722-483b-ab95-68d57845630d",
   "metadata": {},
   "source": [
    "- But... there must be a way of accessing the `DataFrame` by the position number!"
   ]
  },
  {
   "cell_type": "code",
   "execution_count": null,
   "id": "c8341052-53de-4e0b-baad-ac8e862e0f39",
   "metadata": {},
   "outputs": [],
   "source": []
  },
  {
   "cell_type": "code",
   "execution_count": null,
   "id": "b6fa9ee6-aa85-4b2a-b90d-50a2734f66a2",
   "metadata": {},
   "outputs": [],
   "source": []
  },
  {
   "cell_type": "markdown",
   "id": "588768f5-d590-4e5b-97a9-aa0efd492ac2",
   "metadata": {},
   "source": [
    "- [ ] How could you know you had to put `[]` vs `()`?"
   ]
  },
  {
   "cell_type": "code",
   "execution_count": null,
   "id": "5532a4f1-90b1-452f-ab04-ca5055b31b59",
   "metadata": {},
   "outputs": [],
   "source": []
  },
  {
   "cell_type": "markdown",
   "id": "4c1c6fc1-502b-4945-86ba-7b338b803b52",
   "metadata": {},
   "source": [
    "- [ ] Could have you searched this in Google?"
   ]
  },
  {
   "cell_type": "code",
   "execution_count": null,
   "id": "5bd18c29-ade9-423b-9117-108a95eb951d",
   "metadata": {},
   "outputs": [],
   "source": []
  },
  {
   "cell_type": "markdown",
   "id": "6bf9807c-b9e2-40f8-b147-568dab923dca",
   "metadata": {},
   "source": [
    "- [ ] Can you access the instance and execute a `function()` in the same line?"
   ]
  },
  {
   "cell_type": "code",
   "execution_count": null,
   "id": "69759b98-7840-40ab-ba21-326965756113",
   "metadata": {},
   "outputs": [],
   "source": []
  },
  {
   "cell_type": "markdown",
   "id": "ed5a5dfc-5c62-4703-9c0e-9154ddc78b22",
   "metadata": {},
   "source": [
    "# Chaining Functions"
   ]
  },
  {
   "cell_type": "code",
   "execution_count": null,
   "id": "9eb0a688-1a20-454f-9f9b-1be0b4f98b0a",
   "metadata": {},
   "outputs": [],
   "source": []
  },
  {
   "cell_type": "code",
   "execution_count": null,
   "id": "63818d8a-aac0-462b-ae1c-7ffb5ae6a44e",
   "metadata": {},
   "outputs": [],
   "source": []
  },
  {
   "cell_type": "code",
   "execution_count": null,
   "id": "c704de9c-d0ac-479f-9582-46dcdc161742",
   "metadata": {},
   "outputs": [],
   "source": []
  },
  {
   "cell_type": "code",
   "execution_count": null,
   "id": "c0dd5c65-6d41-4fe9-9fcb-7d4649de5bc0",
   "metadata": {},
   "outputs": [],
   "source": []
  },
  {
   "cell_type": "code",
   "execution_count": null,
   "id": "c96910a4-a8e2-4bdd-9362-0fea041f4b76",
   "metadata": {},
   "outputs": [],
   "source": []
  },
  {
   "cell_type": "code",
   "execution_count": null,
   "id": "0956dec5-65b1-432e-9640-55228d1990a8",
   "metadata": {},
   "outputs": [],
   "source": []
  },
  {
   "cell_type": "code",
   "execution_count": null,
   "id": "54aeb43d-0912-426d-bea0-5602f0f1ae74",
   "metadata": {},
   "outputs": [],
   "source": []
  },
  {
   "cell_type": "code",
   "execution_count": null,
   "id": "ec30c882-c140-493d-a061-75b634931149",
   "metadata": {},
   "outputs": [],
   "source": []
  },
  {
   "cell_type": "code",
   "execution_count": null,
   "id": "d253966c-64e9-41d5-b8bc-d68b8282308c",
   "metadata": {},
   "outputs": [],
   "source": []
  },
  {
   "cell_type": "code",
   "execution_count": null,
   "id": "479271aa-3a6d-4c75-b766-2e04eed7f136",
   "metadata": {},
   "outputs": [],
   "source": []
  },
  {
   "cell_type": "code",
   "execution_count": null,
   "id": "86c17a5e-172b-4c4e-9add-d37136719b8f",
   "metadata": {},
   "outputs": [],
   "source": []
  },
  {
   "cell_type": "code",
   "execution_count": null,
   "id": "eb136d5a-046f-4d44-ab3f-2072d134b392",
   "metadata": {},
   "outputs": [],
   "source": []
  },
  {
   "cell_type": "code",
   "execution_count": null,
   "id": "2d105262-4c8e-44db-b0a5-6da871251a5a",
   "metadata": {},
   "outputs": [],
   "source": []
  },
  {
   "cell_type": "code",
   "execution_count": null,
   "id": "77641058-951a-49e7-bee4-0c036c27dc06",
   "metadata": {},
   "outputs": [],
   "source": []
  },
  {
   "cell_type": "code",
   "execution_count": null,
   "id": "6ac1d5f7-5856-4005-af66-71b23afe150a",
   "metadata": {},
   "outputs": [],
   "source": []
  },
  {
   "cell_type": "code",
   "execution_count": null,
   "id": "83eacbc5-2ff5-4b09-908e-24284c7e7f65",
   "metadata": {},
   "outputs": [],
   "source": []
  },
  {
   "cell_type": "code",
   "execution_count": null,
   "id": "da305d12-c91b-4828-b58d-23dfc39de19c",
   "metadata": {},
   "outputs": [],
   "source": []
  },
  {
   "cell_type": "code",
   "execution_count": null,
   "id": "0c57cfcb-4248-4407-a639-b08d2894c706",
   "metadata": {},
   "outputs": [],
   "source": []
  },
  {
   "cell_type": "code",
   "execution_count": null,
   "id": "e0fe91de-7e31-4f04-a878-50ad226c3c8a",
   "metadata": {},
   "outputs": [],
   "source": []
  },
  {
   "cell_type": "code",
   "execution_count": null,
   "id": "fac77890-ae42-45c5-a8c7-3d6cb33a44dd",
   "metadata": {},
   "outputs": [],
   "source": []
  },
  {
   "cell_type": "code",
   "execution_count": null,
   "id": "42708fc5-4dfa-4944-a534-4a6e68f99b85",
   "metadata": {},
   "outputs": [],
   "source": []
  },
  {
   "cell_type": "code",
   "execution_count": null,
   "id": "3273de84-ee38-4473-98ba-333a7e4a52d4",
   "metadata": {},
   "outputs": [],
   "source": []
  },
  {
   "cell_type": "code",
   "execution_count": null,
   "id": "d3ef5ca0-8a86-4d8f-b6df-f1e3fda3f4f9",
   "metadata": {},
   "outputs": [],
   "source": []
  },
  {
   "cell_type": "markdown",
   "id": "eb8a6079-ea5f-4469-a27a-9297d368588d",
   "metadata": {},
   "source": [
    "- [ ] Why?"
   ]
  },
  {
   "cell_type": "code",
   "execution_count": null,
   "id": "694de379-3b97-4afb-85cf-a463060b3f8d",
   "metadata": {},
   "outputs": [],
   "source": []
  },
  {
   "cell_type": "markdown",
   "id": "4ca5cef9-0a1d-4151-b09b-9a8e9add534f",
   "metadata": {},
   "source": [
    "- Let's reconnect with the challenge..."
   ]
  },
  {
   "cell_type": "code",
   "execution_count": null,
   "id": "9772019f-8c04-4549-be75-e05d7e51fa38",
   "metadata": {},
   "outputs": [],
   "source": []
  },
  {
   "cell_type": "markdown",
   "id": "11c86191-4b1f-4c38-9f48-22bc6eeec5b2",
   "metadata": {},
   "source": [
    "# Working with the `module`"
   ]
  },
  {
   "cell_type": "markdown",
   "id": "3ff1123c-b8ba-49f7-b79d-e1217627cbde",
   "metadata": {},
   "source": [
    "- [ ] Create the same type of visualization with\n",
    "    - the function `scatter()`\n",
    "    - within `express` module\n",
    "    - within the `plotly` module"
   ]
  },
  {
   "cell_type": "code",
   "execution_count": null,
   "id": "4407dba0-eddd-4254-bca3-c9fe58c8a326",
   "metadata": {},
   "outputs": [],
   "source": []
  },
  {
   "cell_type": "code",
   "execution_count": null,
   "id": "cf2463fc-4fcb-41e8-bd71-6d841b6dff47",
   "metadata": {},
   "outputs": [],
   "source": []
  },
  {
   "cell_type": "code",
   "execution_count": null,
   "id": "e1711bc0-1263-402e-a61b-f1e3983d3ff0",
   "metadata": {},
   "outputs": [],
   "source": []
  },
  {
   "cell_type": "code",
   "execution_count": null,
   "id": "bd2caf89-ff32-442d-bd5c-f0e73892dc32",
   "metadata": {},
   "outputs": [],
   "source": []
  },
  {
   "cell_type": "code",
   "execution_count": null,
   "id": "2a4134a6-848c-4bd4-b40d-874d91d54f68",
   "metadata": {},
   "outputs": [],
   "source": []
  },
  {
   "cell_type": "code",
   "execution_count": null,
   "id": "6b6ba902-e02d-4343-930c-f1018dc6c5e3",
   "metadata": {},
   "outputs": [],
   "source": []
  },
  {
   "cell_type": "markdown",
   "id": "21167b08-d430-4732-a42b-890500245fc4",
   "metadata": {},
   "source": [
    "# The Most Important [Elements of Programming](https://github.com/jsulopz/00-python-resolver-discipline/blob/main/01_Code%20of%20Discipline/00_The%20Elements%20of%20Programming.md)"
   ]
  },
  {
   "cell_type": "markdown",
   "id": "c13c3868-52dc-4f54-9d16-861ddd81570e",
   "metadata": {},
   "source": [
    "## The `function()`"
   ]
  },
  {
   "cell_type": "markdown",
   "id": "e76c85e1-dd66-4237-b7dd-b9dd0ffd7d7c",
   "metadata": {},
   "source": [
    "The **function** contains nothing\n",
    "- ` `; it's the endpoint of programming"
   ]
  },
  {
   "cell_type": "markdown",
   "id": "d8c65dc4-e11e-4d61-8f32-a50df720ee99",
   "metadata": {},
   "source": [
    "## The `instance`"
   ]
  },
  {
   "cell_type": "markdown",
   "id": "cc95cb38-6b03-43b9-852e-ea8aafd02f0b",
   "metadata": {},
   "source": [
    "The **instance** (object) may contain:\n",
    "- `function`\n",
    "- more `instance`s"
   ]
  },
  {
   "cell_type": "markdown",
   "id": "5259a021-b8a5-4903-bcc2-afd5bea11030",
   "metadata": {},
   "source": [
    "## The `module`"
   ]
  },
  {
   "cell_type": "markdown",
   "id": "27d3b90d-d5bd-4e3b-9342-bae94d1b8aac",
   "metadata": {},
   "source": [
    "The **module** may contain:\n",
    "- `module` (subfolder)\n",
    "- `function`\n",
    "- object `class` **to be created**\n",
    "- object `instance` **(object) already created**"
   ]
  },
  {
   "cell_type": "markdown",
   "id": "6e305c8e-7cdc-420d-abbd-8f5b15238b18",
   "metadata": {},
   "source": [
    "- [ ] What's the most important element of programming? Why?"
   ]
  },
  {
   "cell_type": "markdown",
   "id": "f92534f0-ecb5-4684-b23a-030da8a995db",
   "metadata": {},
   "source": [
    "# What have we learnt?"
   ]
  },
  {
   "cell_type": "markdown",
   "id": "0a0b0ef6-6162-45f3-8957-a42d4a322fe4",
   "metadata": {},
   "source": [
    "## Why the `function()` is so important in programming?"
   ]
  },
  {
   "cell_type": "code",
   "execution_count": null,
   "id": "54ac2bfc-27aa-47a7-9dcf-5b20b382aec5",
   "metadata": {},
   "outputs": [],
   "source": []
  },
  {
   "cell_type": "markdown",
   "id": "24a2c516-f5d3-4526-8456-6457fe9279b5",
   "metadata": {},
   "source": [
    "## Why have you got **different types of `functions()`**?"
   ]
  },
  {
   "cell_type": "code",
   "execution_count": null,
   "id": "a7c57693-89f5-4d24-958d-cd6bec6de6ed",
   "metadata": {},
   "outputs": [],
   "source": []
  },
  {
   "cell_type": "markdown",
   "id": "914dcd59-0828-40b2-adbd-da116bdc15d0",
   "metadata": {},
   "source": [
    "## How to find **solutions by filtering tutorials on Google**?"
   ]
  },
  {
   "cell_type": "code",
   "execution_count": null,
   "id": "a8ba4231-60a7-48cf-8805-0bc75e13d6d0",
   "metadata": {},
   "outputs": [],
   "source": []
  },
  {
   "cell_type": "markdown",
   "id": "b2f08119-76e1-41a9-a1e9-409eab3a0cbd",
   "metadata": {},
   "source": [
    "## How to **get help from python** and use it wisely?"
   ]
  },
  {
   "cell_type": "code",
   "execution_count": null,
   "id": "61d0c6ce-f2a7-483f-87b4-75394ec8d9cc",
   "metadata": {},
   "outputs": [],
   "source": []
  },
  {
   "cell_type": "markdown",
   "id": "b5589093-7d96-4ce3-946d-3e1e1808bab9",
   "metadata": {
    "tags": []
   },
   "source": [
    "# Define the concepts ↓\n",
    "\n",
    "- [ ] Module:\n",
    "\n",
    "---\n",
    "\n",
    "- [ ] Dot notation:\n",
    "\n",
    "---\n",
    "\n",
    "- [ ] Objects:\n",
    "\n",
    "---\n",
    "\n",
    "- [ ] Variables:\n",
    "\n",
    "---\n",
    "\n",
    "- [ ] The Autocompletion Tool:\n",
    "\n",
    "---\n",
    "\n",
    "- [ ] The Docstring:\n",
    "\n",
    "---\n",
    "\n",
    "- [ ] Function:\n",
    "\n",
    "    - [ ] `object.function()`:\n",
    "    \n",
    "    \n",
    "    - [ ] `module.function()`:\n",
    "    \n",
    "    \n",
    "    - [ ] `built_in_function()`:\n",
    "    \n",
    "---\n",
    "    \n",
    "- [ ] Google Method:"
   ]
  }
 ],
 "metadata": {
  "authors": [
   {
    "blog": "https//blog.pythonresolver.com",
    "name": "Jesús López",
    "twitter": "https://twitter.com/jsulopz"
   }
  ],
  "kernelspec": {
   "display_name": "Python 3 (ipykernel)",
   "language": "python",
   "name": "python3"
  },
  "language_info": {
   "codemirror_mode": {
    "name": "ipython",
    "version": 3
   },
   "file_extension": ".py",
   "mimetype": "text/x-python",
   "name": "python",
   "nbconvert_exporter": "python",
   "pygments_lexer": "ipython3",
   "version": "3.9.7"
  },
  "title": "The Use of Functions"
 },
 "nbformat": 4,
 "nbformat_minor": 5
}
