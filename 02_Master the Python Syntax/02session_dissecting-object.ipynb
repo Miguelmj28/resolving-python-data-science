{
 "cells": [
  {
   "cell_type": "markdown",
   "id": "9a3cd13d-4f55-47e5-8e9e-7de35cd17bc1",
   "metadata": {
    "tags": []
   },
   "source": [
    "<font size=\"+5\">#02 | Master the Python Syntax</font>"
   ]
  },
  {
   "cell_type": "markdown",
   "id": "f6149105-9e94-40b5-8f77-e9d0782d4b0d",
   "metadata": {},
   "source": [
    "\n",
    "<div class=\"alert alert-warning\">\n",
    "  <ul>\n",
    "    <li>\n",
    "      <b>Python</b> + <b>Data Science</b> Tutorials in ↓\n",
    "      <ul>\n",
    "        <li>\n",
    "          <a href=\"https://www.youtube.com/c/PythonResolver?sub_confirmation=1\"\n",
    "            >YouTube</a\n",
    "          >\n",
    "        </li>\n",
    "        <li>\n",
    "          <a href=\"https://blog.pythonresolver.com/\">Blog</a>\n",
    "        </li>\n",
    "        <li>\n",
    "          <a href=\"https://github.com/jsulopz/00-python-resolver-discipline\">GitHub</a>\n",
    "        </li>\n",
    "      </ul>\n",
    "    </li>\n",
    "    <li>\n",
    "      Author: <a href=\"https://twitter.com/jsulopz\"><b>@jsulopz</b></a>\n",
    "    </li>\n",
    "  </ul>\n",
    "</div>\n"
   ]
  },
  {
   "cell_type": "markdown",
   "id": "a64a3be4-89c1-4049-ad45-693d24995aa0",
   "metadata": {},
   "source": [
    "# Working with the `object`"
   ]
  },
  {
   "cell_type": "code",
   "execution_count": 153,
   "id": "f7bab174-59bd-4987-9960-43f79c817e95",
   "metadata": {},
   "outputs": [
    {
     "data": {
      "text/html": [
       "<div>\n",
       "<style scoped>\n",
       "    .dataframe tbody tr th:only-of-type {\n",
       "        vertical-align: middle;\n",
       "    }\n",
       "\n",
       "    .dataframe tbody tr th {\n",
       "        vertical-align: top;\n",
       "    }\n",
       "\n",
       "    .dataframe thead th {\n",
       "        text-align: right;\n",
       "    }\n",
       "</style>\n",
       "<table border=\"1\" class=\"dataframe\">\n",
       "  <thead>\n",
       "    <tr style=\"text-align: right;\">\n",
       "      <th></th>\n",
       "      <th>partidos</th>\n",
       "      <th>goles</th>\n",
       "      <th>asistencias</th>\n",
       "      <th>tarjetas amarillas</th>\n",
       "      <th>tarjetas rojas</th>\n",
       "      <th>segundas amarillas</th>\n",
       "      <th>minutos jugados</th>\n",
       "      <th>birthday</th>\n",
       "    </tr>\n",
       "  </thead>\n",
       "  <tbody>\n",
       "    <tr>\n",
       "      <th>CR7</th>\n",
       "      <td>923</td>\n",
       "      <td>689</td>\n",
       "      <td>231</td>\n",
       "      <td>112</td>\n",
       "      <td>7</td>\n",
       "      <td>4</td>\n",
       "      <td>75372</td>\n",
       "      <td>1985-02-05</td>\n",
       "    </tr>\n",
       "    <tr>\n",
       "      <th>Messi</th>\n",
       "      <td>800</td>\n",
       "      <td>679</td>\n",
       "      <td>312</td>\n",
       "      <td>82</td>\n",
       "      <td>1</td>\n",
       "      <td>0</td>\n",
       "      <td>65299</td>\n",
       "      <td>1987-06-24</td>\n",
       "    </tr>\n",
       "    <tr>\n",
       "      <th>Lewandowski</th>\n",
       "      <td>662</td>\n",
       "      <td>498</td>\n",
       "      <td>131</td>\n",
       "      <td>68</td>\n",
       "      <td>0</td>\n",
       "      <td>1</td>\n",
       "      <td>65299</td>\n",
       "      <td>1988-08-21</td>\n",
       "    </tr>\n",
       "    <tr>\n",
       "      <th>Benzema</th>\n",
       "      <td>737</td>\n",
       "      <td>370</td>\n",
       "      <td>182</td>\n",
       "      <td>15</td>\n",
       "      <td>0</td>\n",
       "      <td>0</td>\n",
       "      <td>52245</td>\n",
       "      <td>1987-12-19</td>\n",
       "    </tr>\n",
       "  </tbody>\n",
       "</table>\n",
       "</div>"
      ],
      "text/plain": [
       "             partidos  goles  asistencias  tarjetas amarillas  tarjetas rojas  \\\n",
       "CR7               923    689          231                 112               7   \n",
       "Messi             800    679          312                  82               1   \n",
       "Lewandowski       662    498          131                  68               0   \n",
       "Benzema           737    370          182                  15               0   \n",
       "\n",
       "             segundas amarillas  minutos jugados   birthday  \n",
       "CR7                           4            75372 1985-02-05  \n",
       "Messi                         0            65299 1987-06-24  \n",
       "Lewandowski                   1            65299 1988-08-21  \n",
       "Benzema                       0            52245 1987-12-19  "
      ]
     },
     "execution_count": 153,
     "metadata": {},
     "output_type": "execute_result"
    }
   ],
   "source": [
    "import pandas as pd #!\n",
    "\n",
    "df = pd.read_json('https://raw.githubusercontent.com/jsulopz/data/main/football_players_stats.json').transpose()\n",
    "df = df.convert_dtypes()\n",
    "df.birthday = pd.to_datetime(df.birthday)\n",
    "df.head()"
   ]
  },
  {
   "cell_type": "code",
   "execution_count": null,
   "id": "e3bab7c5-e491-4565-9f98-7cfdb0778029",
   "metadata": {},
   "outputs": [],
   "source": []
  },
  {
   "cell_type": "code",
   "execution_count": null,
   "id": "088d7538-b77e-46a7-8ebc-28379464f3d9",
   "metadata": {},
   "outputs": [],
   "source": []
  },
  {
   "cell_type": "markdown",
   "id": "a46c9768-9978-462b-ad4a-5b2ac45c9868",
   "metadata": {},
   "source": [
    "- Objects are **data structures** that store information\n",
    "- [ ] Which [**syntax**](https://github.com/jsulopz/00-python-resolver-discipline/blob/main/01_Code%20of%20Discipline/00_The%20Elements%20of%20Programming.md) do you write to exploit the `object`?"
   ]
  },
  {
   "cell_type": "markdown",
   "id": "b0e90c27-0d21-4bae-ab92-17a0394c038d",
   "metadata": {
    "tags": []
   },
   "source": [
    "## The `function()`"
   ]
  },
  {
   "cell_type": "markdown",
   "id": "6866a3a2-26e2-4cc7-95ab-edfb64b3d393",
   "metadata": {},
   "source": [
    "- [ ] `Describe` every `Series` to compute metrics such as:\n",
    "    - mean\n",
    "    - std\n",
    "    - min\n",
    "    - max\n",
    "    - and more..."
   ]
  },
  {
   "cell_type": "code",
   "execution_count": null,
   "id": "74e75f29-1ed7-4780-8b28-29e487c92baf",
   "metadata": {},
   "outputs": [],
   "source": []
  },
  {
   "cell_type": "markdown",
   "id": "1e9da2c2-e907-4c57-8f50-1651b25bce06",
   "metadata": {},
   "source": [
    "- [ ] Get the `max`imum number for every `Series`"
   ]
  },
  {
   "cell_type": "code",
   "execution_count": null,
   "id": "f8e34341-0682-4e21-a541-651640749566",
   "metadata": {},
   "outputs": [],
   "source": []
  },
  {
   "cell_type": "markdown",
   "id": "9ea44bc9-490e-44db-a90a-9815c6ec9d37",
   "metadata": {},
   "source": [
    "- [ ] Get the `min`imum number for every `Series`"
   ]
  },
  {
   "cell_type": "code",
   "execution_count": null,
   "id": "40991b68-3066-4236-a01a-89872e548004",
   "metadata": {},
   "outputs": [],
   "source": []
  },
  {
   "cell_type": "markdown",
   "id": "d92f88f7-7783-4f28-8a8f-a4f1eeda713f",
   "metadata": {},
   "source": [
    "- [ ] `Sum`marise the information for all players"
   ]
  },
  {
   "cell_type": "code",
   "execution_count": null,
   "id": "b9c3a8bf-46de-48b8-8ee7-e2e93f44dc7f",
   "metadata": {},
   "outputs": [],
   "source": []
  },
  {
   "cell_type": "markdown",
   "id": "c3339aed-106d-4756-a127-223b072898e9",
   "metadata": {},
   "source": [
    "## The `instance`"
   ]
  },
  {
   "cell_type": "markdown",
   "id": "59341ccb-7088-40a3-ab57-ba7f0ca85a4c",
   "metadata": {},
   "source": [
    "- [ ] `Series` inside the `DataFrame`"
   ]
  },
  {
   "cell_type": "code",
   "execution_count": null,
   "id": "b766bb4e-cfd4-4ff2-acb1-5a3f0d4bb217",
   "metadata": {},
   "outputs": [],
   "source": []
  },
  {
   "cell_type": "markdown",
   "id": "8e31efc8-d557-4efe-895e-0a09b367ceae",
   "metadata": {},
   "source": [
    "- [ ] The `columns` of the `DataFrame`"
   ]
  },
  {
   "cell_type": "code",
   "execution_count": null,
   "id": "ce02073c-8bff-4591-8612-297dc1c87645",
   "metadata": {},
   "outputs": [],
   "source": []
  },
  {
   "cell_type": "markdown",
   "id": "f111151d-53fd-4a23-996b-0faa24b29a8f",
   "metadata": {},
   "source": [
    "- [ ] The `index` of the `DataFrame`"
   ]
  },
  {
   "cell_type": "code",
   "execution_count": null,
   "id": "b675ea60-603a-4e15-bbf6-8c7a76583406",
   "metadata": {},
   "outputs": [],
   "source": []
  },
  {
   "cell_type": "markdown",
   "id": "98cc0c2d-b227-42f7-afb1-24fa14f4db6d",
   "metadata": {},
   "source": [
    "- [ ] The `values` of the `DataFrame`"
   ]
  },
  {
   "cell_type": "code",
   "execution_count": null,
   "id": "1a4cc9b5-2ef5-41f5-b94d-034f615c6feb",
   "metadata": {},
   "outputs": [],
   "source": []
  },
  {
   "cell_type": "markdown",
   "id": "cf8e421d-8edc-4839-8047-ec8f6bcffbfb",
   "metadata": {},
   "source": [
    "- [ ] The `dimension` of the `DataFrame`"
   ]
  },
  {
   "cell_type": "code",
   "execution_count": null,
   "id": "6f42d422-d880-411e-a18a-d42e1adaf8b1",
   "metadata": {},
   "outputs": [],
   "source": []
  },
  {
   "cell_type": "markdown",
   "id": "ada48fe5-4df1-437c-a3a0-93b0a1e8c52f",
   "metadata": {},
   "source": [
    "## Why are these concepts important?"
   ]
  },
  {
   "cell_type": "markdown",
   "id": "dbc276f9-f1d6-4a5f-b98e-30c0bf6b515e",
   "metadata": {},
   "source": [
    "- [ ] Create a new column with the `month_name` for every player"
   ]
  },
  {
   "cell_type": "code",
   "execution_count": null,
   "id": "28835b41-44d7-4074-ba1a-4c0a1e617b89",
   "metadata": {},
   "outputs": [],
   "source": []
  },
  {
   "cell_type": "code",
   "execution_count": null,
   "id": "eef22df7-10f6-4b03-8d25-0f0ea41726a9",
   "metadata": {},
   "outputs": [],
   "source": []
  },
  {
   "cell_type": "code",
   "execution_count": null,
   "id": "d0402ccd-06d1-4193-9917-6cad17bceeee",
   "metadata": {},
   "outputs": [],
   "source": []
  },
  {
   "cell_type": "code",
   "execution_count": null,
   "id": "35c1dbb0-df7d-462c-bd0b-75dd3f12e77c",
   "metadata": {},
   "outputs": [],
   "source": []
  },
  {
   "cell_type": "markdown",
   "id": "ca60ee22-ce38-4488-abde-8636aa01de0a",
   "metadata": {},
   "source": [
    "# Working with the `module`"
   ]
  },
  {
   "cell_type": "markdown",
   "id": "29cad7cf-d58d-4f27-8818-6ae4668e15cd",
   "metadata": {},
   "source": [
    "- [ ] Can you use the `max()` function with the `pandas` *module*?"
   ]
  },
  {
   "cell_type": "code",
   "execution_count": null,
   "id": "65a657ec-2d63-425e-a6c5-a463c4e1c3f8",
   "metadata": {},
   "outputs": [],
   "source": []
  },
  {
   "cell_type": "markdown",
   "id": "2a1784dc-7b6f-4ff9-b8a4-876fca04cc5d",
   "metadata": {},
   "source": [
    "- [ ] Can you use it with the `DataFrame` of `pandas`?"
   ]
  },
  {
   "cell_type": "code",
   "execution_count": null,
   "id": "850c032c-4945-4987-a6b0-6cfd58929c18",
   "metadata": {},
   "outputs": [],
   "source": []
  },
  {
   "cell_type": "markdown",
   "id": "f43fff51-ac8d-4457-aa46-a988f934811b",
   "metadata": {},
   "source": [
    "- [ ] Why is it happening?\n",
    "- [ ] What else could we do with the `pandas`?"
   ]
  },
  {
   "cell_type": "markdown",
   "id": "a5e9d30e-6322-4b9e-8c94-4c40ddb28575",
   "metadata": {},
   "source": [
    "## Read this [file](https://raw.githubusercontent.com/jsulopz/pandas_exercises/master/09_Time_Series/Apple_Stock/appl_1980_2014.csv) to a `DataFrame`"
   ]
  },
  {
   "cell_type": "code",
   "execution_count": null,
   "id": "96e5617d-f834-4f8b-a70d-58605b93d242",
   "metadata": {},
   "outputs": [],
   "source": []
  },
  {
   "cell_type": "markdown",
   "id": "b4ce6513-f202-44c5-bb14-ce032d12617d",
   "metadata": {},
   "source": [
    "## Create a DataFrame from scratch"
   ]
  },
  {
   "cell_type": "code",
   "execution_count": 171,
   "id": "8da6b72b-affd-4399-b471-dc6f33e25056",
   "metadata": {},
   "outputs": [],
   "source": [
    "values = [['juan', 54, 1.78], #!\n",
    "          ['maria', 75, 1.90],\n",
    "          ['pepe', 91, 1.84]]"
   ]
  },
  {
   "cell_type": "code",
   "execution_count": 172,
   "id": "3fe07d5d-aa34-499c-b7a8-a11d0c00aa69",
   "metadata": {},
   "outputs": [],
   "source": [
    "column_names = ['name', 'weight', 'height'] #!"
   ]
  },
  {
   "cell_type": "code",
   "execution_count": null,
   "id": "2d5111ee-cd2d-4065-80e3-d6d0fc89091d",
   "metadata": {},
   "outputs": [],
   "source": []
  },
  {
   "cell_type": "code",
   "execution_count": null,
   "id": "09222b38-1a5d-4025-ac72-e619f4de9a4c",
   "metadata": {},
   "outputs": [],
   "source": []
  },
  {
   "cell_type": "code",
   "execution_count": null,
   "id": "9c92a3ae-8186-4cde-8529-782ec0410b56",
   "metadata": {},
   "outputs": [],
   "source": []
  },
  {
   "cell_type": "code",
   "execution_count": null,
   "id": "74db6b82-8412-4deb-8d2b-a7c6bca95672",
   "metadata": {},
   "outputs": [],
   "source": []
  },
  {
   "cell_type": "code",
   "execution_count": null,
   "id": "30f6c228-463e-4361-853e-62244ef41461",
   "metadata": {},
   "outputs": [],
   "source": []
  },
  {
   "cell_type": "code",
   "execution_count": null,
   "id": "16991841-2735-4817-a8f4-d4aab59f843f",
   "metadata": {},
   "outputs": [],
   "source": []
  },
  {
   "cell_type": "code",
   "execution_count": null,
   "id": "fb703796-97aa-418f-a3ce-9f0bd3d4404c",
   "metadata": {},
   "outputs": [],
   "source": []
  },
  {
   "cell_type": "markdown",
   "id": "24b49d13-2a2c-460f-9929-e77d21b68f16",
   "metadata": {},
   "source": [
    "# The Most Important [Elements of Programming](https://github.com/jsulopz/00-python-resolver-discipline/blob/main/01_Code%20of%20Discipline/00_The%20Elements%20of%20Programming.md)"
   ]
  },
  {
   "cell_type": "markdown",
   "id": "c7d6981d-6ace-4d37-aa00-9d2eab38f639",
   "metadata": {},
   "source": [
    "## The `instance`"
   ]
  },
  {
   "cell_type": "markdown",
   "id": "1ff6fce5-a8ee-4295-b466-fd6306e1030d",
   "metadata": {},
   "source": [
    "The **instance** (object) may contain:\n",
    "- `function`\n",
    "- more `instance`s"
   ]
  },
  {
   "cell_type": "markdown",
   "id": "c06923ba-e34a-45d6-a29f-d8de06e8e039",
   "metadata": {},
   "source": [
    "## The `function()`"
   ]
  },
  {
   "cell_type": "markdown",
   "id": "88feaca8-045c-4d01-9dba-e4d24fea5275",
   "metadata": {},
   "source": [
    "The **function** contains nothing\n",
    "- ` `; it's the endpoint of programming"
   ]
  },
  {
   "cell_type": "markdown",
   "id": "82bd2a96-0eeb-4c0f-b2c7-22c440616fdb",
   "metadata": {},
   "source": [
    "## The `module`"
   ]
  },
  {
   "cell_type": "markdown",
   "id": "7d841b03-d389-4421-b7f0-90b8962ca839",
   "metadata": {},
   "source": [
    "The **module** may contain:\n",
    "- `module` (subfolder)\n",
    "- `function`\n",
    "- object `class` **to be created**\n",
    "- object `instance` **(object) already created**"
   ]
  },
  {
   "cell_type": "markdown",
   "id": "45060678-e103-41f5-8ffb-955e9c266db9",
   "metadata": {},
   "source": [
    "- [ ] What's the most important element of programming? Why?"
   ]
  },
  {
   "cell_type": "markdown",
   "id": "5f195974-7139-484c-813f-a56054699a31",
   "metadata": {},
   "source": [
    "# Practice the Utility of this Knowledge\n",
    "\n",
    "- With another `DataFrame`"
   ]
  },
  {
   "cell_type": "code",
   "execution_count": 180,
   "id": "49ef0388-2a19-40cc-b470-22dcf59c4803",
   "metadata": {},
   "outputs": [
    {
     "data": {
      "text/html": [
       "<div>\n",
       "<style scoped>\n",
       "    .dataframe tbody tr th:only-of-type {\n",
       "        vertical-align: middle;\n",
       "    }\n",
       "\n",
       "    .dataframe tbody tr th {\n",
       "        vertical-align: top;\n",
       "    }\n",
       "\n",
       "    .dataframe thead th {\n",
       "        text-align: right;\n",
       "    }\n",
       "</style>\n",
       "<table border=\"1\" class=\"dataframe\">\n",
       "  <thead>\n",
       "    <tr style=\"text-align: right;\">\n",
       "      <th></th>\n",
       "      <th>internet_usage</th>\n",
       "      <th>sex</th>\n",
       "      <th>age</th>\n",
       "      <th>education</th>\n",
       "      <th>weight</th>\n",
       "    </tr>\n",
       "  </thead>\n",
       "  <tbody>\n",
       "    <tr>\n",
       "      <th>Josefina</th>\n",
       "      <td>0</td>\n",
       "      <td>Female</td>\n",
       "      <td>66</td>\n",
       "      <td>Elementary</td>\n",
       "      <td>81</td>\n",
       "    </tr>\n",
       "    <tr>\n",
       "      <th>Vicki</th>\n",
       "      <td>1</td>\n",
       "      <td>Male</td>\n",
       "      <td>72</td>\n",
       "      <td>Elementary</td>\n",
       "      <td>78</td>\n",
       "    </tr>\n",
       "    <tr>\n",
       "      <th>David</th>\n",
       "      <td>1</td>\n",
       "      <td>Male</td>\n",
       "      <td>48</td>\n",
       "      <td>University</td>\n",
       "      <td>69</td>\n",
       "    </tr>\n",
       "    <tr>\n",
       "      <th>Curtis</th>\n",
       "      <td>0</td>\n",
       "      <td>Male</td>\n",
       "      <td>59</td>\n",
       "      <td>PhD</td>\n",
       "      <td>107</td>\n",
       "    </tr>\n",
       "    <tr>\n",
       "      <th>Josephine</th>\n",
       "      <td>1</td>\n",
       "      <td>Female</td>\n",
       "      <td>44</td>\n",
       "      <td>PhD</td>\n",
       "      <td>80</td>\n",
       "    </tr>\n",
       "  </tbody>\n",
       "</table>\n",
       "</div>"
      ],
      "text/plain": [
       "           internet_usage     sex  age   education  weight\n",
       "Josefina                0  Female   66  Elementary      81\n",
       "Vicki                   1    Male   72  Elementary      78\n",
       "David                   1    Male   48  University      69\n",
       "Curtis                  0    Male   59         PhD     107\n",
       "Josephine               1  Female   44         PhD      80"
      ]
     },
     "execution_count": 180,
     "metadata": {},
     "output_type": "execute_result"
    }
   ],
   "source": [
    "df = pd.read_excel('../../data/internet_usage_spain.xlsx', index_col=0) #!\n",
    "df.head()"
   ]
  },
  {
   "cell_type": "markdown",
   "id": "b4e8f217-4835-4761-9812-f3949622bcc2",
   "metadata": {},
   "source": [
    "## The `instance`"
   ]
  },
  {
   "cell_type": "markdown",
   "id": "972feea6-1ea1-4397-833c-bad030108768",
   "metadata": {},
   "source": [
    "The **instance** (object) may contain:\n",
    "- `function`\n",
    "- more `instance`s"
   ]
  },
  {
   "cell_type": "code",
   "execution_count": null,
   "id": "45484f90-960c-4fb5-99bf-c08091ad711e",
   "metadata": {},
   "outputs": [],
   "source": []
  },
  {
   "cell_type": "code",
   "execution_count": null,
   "id": "4f0ebab9-22aa-4323-8f7a-45858cd58abb",
   "metadata": {},
   "outputs": [],
   "source": []
  },
  {
   "cell_type": "markdown",
   "id": "7f6066b9-081f-40da-b1b3-d8b34f7e303e",
   "metadata": {},
   "source": [
    "## The `function()`"
   ]
  },
  {
   "cell_type": "markdown",
   "id": "fffc7af5-23ed-44d0-ab5e-ff4ab5e784b8",
   "metadata": {},
   "source": [
    "The **function** contains nothing\n",
    "- ` `; it's the endpoint of programming"
   ]
  },
  {
   "cell_type": "code",
   "execution_count": null,
   "id": "70190060-3de6-4862-82ce-b11be3e85358",
   "metadata": {},
   "outputs": [],
   "source": []
  },
  {
   "cell_type": "code",
   "execution_count": null,
   "id": "17fa7598-dacc-4648-958b-cc91d97eca6e",
   "metadata": {},
   "outputs": [],
   "source": []
  },
  {
   "cell_type": "code",
   "execution_count": null,
   "id": "5764dc49-a89f-4309-b38e-a0f74c12368b",
   "metadata": {},
   "outputs": [],
   "source": []
  },
  {
   "cell_type": "code",
   "execution_count": null,
   "id": "f7a013ef-4419-4ec8-a284-31547e0bfc7f",
   "metadata": {},
   "outputs": [],
   "source": []
  },
  {
   "cell_type": "code",
   "execution_count": null,
   "id": "ea13640b-92ed-48e1-9d17-70eb417894da",
   "metadata": {},
   "outputs": [],
   "source": []
  },
  {
   "cell_type": "code",
   "execution_count": null,
   "id": "0da625ee-d86d-4f4b-992d-abc401e1cb24",
   "metadata": {},
   "outputs": [],
   "source": []
  },
  {
   "cell_type": "code",
   "execution_count": null,
   "id": "696e5759-33e2-489f-8d61-7adcec701272",
   "metadata": {},
   "outputs": [],
   "source": []
  },
  {
   "cell_type": "code",
   "execution_count": null,
   "id": "a808122b-c8a3-4a73-a70a-097555f607c1",
   "metadata": {},
   "outputs": [],
   "source": []
  },
  {
   "cell_type": "code",
   "execution_count": null,
   "id": "a9f8adf8-b726-4da6-97e3-6ebc1a6cc12c",
   "metadata": {},
   "outputs": [],
   "source": []
  },
  {
   "cell_type": "code",
   "execution_count": null,
   "id": "025e279c-0f78-467e-8b43-1765a0ea0a54",
   "metadata": {},
   "outputs": [],
   "source": []
  },
  {
   "cell_type": "code",
   "execution_count": null,
   "id": "298d72ce-8bd2-4d17-aee2-5dfe034df8f7",
   "metadata": {},
   "outputs": [],
   "source": []
  },
  {
   "cell_type": "markdown",
   "id": "faa1fa86-57c3-466c-997a-711fb15dc267",
   "metadata": {},
   "source": [
    "## Module"
   ]
  },
  {
   "cell_type": "markdown",
   "id": "c7b20e94-8e05-4f4a-b718-acbccfc34841",
   "metadata": {},
   "source": [
    "The **module** may contain:\n",
    "- `module` (subfolder)\n",
    "- `function`\n",
    "- object `class` **to be created**\n",
    "- object `instance` **(object) already created**"
   ]
  },
  {
   "cell_type": "code",
   "execution_count": null,
   "id": "150da50e-04d1-494d-88f8-a672773e064c",
   "metadata": {},
   "outputs": [],
   "source": []
  },
  {
   "cell_type": "code",
   "execution_count": null,
   "id": "97204c79-48a7-4fc3-8e2f-de622b1c40fb",
   "metadata": {},
   "outputs": [],
   "source": []
  },
  {
   "cell_type": "code",
   "execution_count": null,
   "id": "d932c507-4033-4860-b94d-dd319b8b9974",
   "metadata": {},
   "outputs": [],
   "source": []
  },
  {
   "cell_type": "code",
   "execution_count": null,
   "id": "08764491-0a6c-4210-9ab4-bd6c438e69ec",
   "metadata": {},
   "outputs": [],
   "source": []
  }
 ],
 "metadata": {
  "authors": [
   {
    "name": "Jesús López",
    "twitter": "https://twitter.com/jsulopz"
   }
  ],
  "kernelspec": {
   "display_name": "Python 3 (ipykernel)",
   "language": "python",
   "name": "python3"
  },
  "language_info": {
   "codemirror_mode": {
    "name": "ipython",
    "version": 3
   },
   "file_extension": ".py",
   "mimetype": "text/x-python",
   "name": "python",
   "nbconvert_exporter": "python",
   "pygments_lexer": "ipython3",
   "version": "3.9.7"
  },
  "title": "Master the Python Syntax",
  "toc-autonumbering": true
 },
 "nbformat": 4,
 "nbformat_minor": 5
}
