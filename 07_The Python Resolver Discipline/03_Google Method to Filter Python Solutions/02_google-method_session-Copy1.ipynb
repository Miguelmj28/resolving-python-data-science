{
 "cells": [
  {
   "cell_type": "markdown",
   "id": "9bbbd733-d2b7-430e-853c-570203c65fb6",
   "metadata": {},
   "source": [
    "<font size=\"+5\">Google Method to filter Python Solutions</font>"
   ]
  },
  {
   "cell_type": "markdown",
   "id": "270e2bcd-3933-4955-8fee-86dd401fed40",
   "metadata": {},
   "source": [
    "\n",
    "<div class=\"alert alert-warning\">\n",
    "  <ul>\n",
    "    <li>\n",
    "      <b>Python</b> + <b>Data Science</b> Tutorials in ↓\n",
    "      <ul>\n",
    "        <li>\n",
    "          <a href=\"https://www.youtube.com/c/PythonResolver?sub_confirmation=1\"\n",
    "            >YouTube</a\n",
    "          >\n",
    "        </li>\n",
    "        <li>\n",
    "          <a href=\"https://blog.pythonresolver.com/\">Blog</a>\n",
    "        </li>\n",
    "        <li>\n",
    "          <a href=\"https://github.com/jsulopz/00-python-resolver-discipline\">GitHub</a>\n",
    "        </li>\n",
    "      </ul>\n",
    "    </li>\n",
    "    <li>\n",
    "      Author: <a href=\"https://twitter.com/jsulopz\"><b>@jsulopz</b></a>\n",
    "    </li>\n",
    "  </ul>\n",
    "</div>\n"
   ]
  },
  {
   "cell_type": "markdown",
   "id": "2e7a56fd-8d80-470c-bbe9-7ca080c2fca4",
   "metadata": {},
   "source": [
    "# The Starting *Thing*"
   ]
  },
  {
   "cell_type": "code",
   "execution_count": 102,
   "id": "940d8c7d-144c-4854-9f95-4fc5116df54f",
   "metadata": {},
   "outputs": [
    {
     "data": {
      "text/html": [
       "<div>\n",
       "<style scoped>\n",
       "    .dataframe tbody tr th:only-of-type {\n",
       "        vertical-align: middle;\n",
       "    }\n",
       "\n",
       "    .dataframe tbody tr th {\n",
       "        vertical-align: top;\n",
       "    }\n",
       "\n",
       "    .dataframe thead th {\n",
       "        text-align: right;\n",
       "    }\n",
       "</style>\n",
       "<table border=\"1\" class=\"dataframe\">\n",
       "  <thead>\n",
       "    <tr style=\"text-align: right;\">\n",
       "      <th></th>\n",
       "      <th>Date</th>\n",
       "      <th>Open</th>\n",
       "      <th>High</th>\n",
       "      <th>Low</th>\n",
       "      <th>Close</th>\n",
       "      <th>Volume</th>\n",
       "      <th>Adj Close</th>\n",
       "    </tr>\n",
       "  </thead>\n",
       "  <tbody>\n",
       "    <tr>\n",
       "      <th>0</th>\n",
       "      <td>2014-07-08</td>\n",
       "      <td>96.27</td>\n",
       "      <td>96.80</td>\n",
       "      <td>93.92</td>\n",
       "      <td>95.35</td>\n",
       "      <td>65130000</td>\n",
       "      <td>95.35</td>\n",
       "    </tr>\n",
       "    <tr>\n",
       "      <th>1</th>\n",
       "      <td>2014-07-07</td>\n",
       "      <td>94.14</td>\n",
       "      <td>95.99</td>\n",
       "      <td>94.10</td>\n",
       "      <td>95.97</td>\n",
       "      <td>56305400</td>\n",
       "      <td>95.97</td>\n",
       "    </tr>\n",
       "    <tr>\n",
       "      <th>2</th>\n",
       "      <td>2014-07-03</td>\n",
       "      <td>93.67</td>\n",
       "      <td>94.10</td>\n",
       "      <td>93.20</td>\n",
       "      <td>94.03</td>\n",
       "      <td>22891800</td>\n",
       "      <td>94.03</td>\n",
       "    </tr>\n",
       "    <tr>\n",
       "      <th>3</th>\n",
       "      <td>2014-07-02</td>\n",
       "      <td>93.87</td>\n",
       "      <td>94.06</td>\n",
       "      <td>93.09</td>\n",
       "      <td>93.48</td>\n",
       "      <td>28420900</td>\n",
       "      <td>93.48</td>\n",
       "    </tr>\n",
       "    <tr>\n",
       "      <th>4</th>\n",
       "      <td>2014-07-01</td>\n",
       "      <td>93.52</td>\n",
       "      <td>94.07</td>\n",
       "      <td>93.13</td>\n",
       "      <td>93.52</td>\n",
       "      <td>38170200</td>\n",
       "      <td>93.52</td>\n",
       "    </tr>\n",
       "    <tr>\n",
       "      <th>...</th>\n",
       "      <td>...</td>\n",
       "      <td>...</td>\n",
       "      <td>...</td>\n",
       "      <td>...</td>\n",
       "      <td>...</td>\n",
       "      <td>...</td>\n",
       "      <td>...</td>\n",
       "    </tr>\n",
       "    <tr>\n",
       "      <th>8460</th>\n",
       "      <td>1980-12-18</td>\n",
       "      <td>26.63</td>\n",
       "      <td>26.75</td>\n",
       "      <td>26.63</td>\n",
       "      <td>26.63</td>\n",
       "      <td>18362400</td>\n",
       "      <td>0.41</td>\n",
       "    </tr>\n",
       "    <tr>\n",
       "      <th>8461</th>\n",
       "      <td>1980-12-17</td>\n",
       "      <td>25.87</td>\n",
       "      <td>26.00</td>\n",
       "      <td>25.87</td>\n",
       "      <td>25.87</td>\n",
       "      <td>21610400</td>\n",
       "      <td>0.40</td>\n",
       "    </tr>\n",
       "    <tr>\n",
       "      <th>8462</th>\n",
       "      <td>1980-12-16</td>\n",
       "      <td>25.37</td>\n",
       "      <td>25.37</td>\n",
       "      <td>25.25</td>\n",
       "      <td>25.25</td>\n",
       "      <td>26432000</td>\n",
       "      <td>0.39</td>\n",
       "    </tr>\n",
       "    <tr>\n",
       "      <th>8463</th>\n",
       "      <td>1980-12-15</td>\n",
       "      <td>27.38</td>\n",
       "      <td>27.38</td>\n",
       "      <td>27.25</td>\n",
       "      <td>27.25</td>\n",
       "      <td>43971200</td>\n",
       "      <td>0.42</td>\n",
       "    </tr>\n",
       "    <tr>\n",
       "      <th>8464</th>\n",
       "      <td>1980-12-12</td>\n",
       "      <td>28.75</td>\n",
       "      <td>28.87</td>\n",
       "      <td>28.75</td>\n",
       "      <td>28.75</td>\n",
       "      <td>117258400</td>\n",
       "      <td>0.45</td>\n",
       "    </tr>\n",
       "  </tbody>\n",
       "</table>\n",
       "<p>8465 rows × 7 columns</p>\n",
       "</div>"
      ],
      "text/plain": [
       "            Date   Open   High    Low  Close     Volume  Adj Close\n",
       "0     2014-07-08  96.27  96.80  93.92  95.35   65130000      95.35\n",
       "1     2014-07-07  94.14  95.99  94.10  95.97   56305400      95.97\n",
       "2     2014-07-03  93.67  94.10  93.20  94.03   22891800      94.03\n",
       "3     2014-07-02  93.87  94.06  93.09  93.48   28420900      93.48\n",
       "4     2014-07-01  93.52  94.07  93.13  93.52   38170200      93.52\n",
       "...          ...    ...    ...    ...    ...        ...        ...\n",
       "8460  1980-12-18  26.63  26.75  26.63  26.63   18362400       0.41\n",
       "8461  1980-12-17  25.87  26.00  25.87  25.87   21610400       0.40\n",
       "8462  1980-12-16  25.37  25.37  25.25  25.25   26432000       0.39\n",
       "8463  1980-12-15  27.38  27.38  27.25  27.25   43971200       0.42\n",
       "8464  1980-12-12  28.75  28.87  28.75  28.75  117258400       0.45\n",
       "\n",
       "[8465 rows x 7 columns]"
      ]
     },
     "execution_count": 102,
     "metadata": {},
     "output_type": "execute_result"
    }
   ],
   "source": [
    "import pandas as pd #!\n",
    "\n",
    "df = pd.read_csv('https://raw.githubusercontent.com/jsulopz/pandas_exercises/master/09_Time_Series/Apple_Stock/appl_1980_2014.csv')\n",
    "df"
   ]
  },
  {
   "cell_type": "markdown",
   "id": "2a8c3b82-d93e-4b49-97c4-a11c9f49c11f",
   "metadata": {
    "tags": []
   },
   "source": [
    "# Look for the `function()` in Google\n",
    "\n",
    "- Apply the [Python Resolver Discipline](https://github.com/jsulopz/python-resolver-discipline/blob/main/01_Code%20of%20Discipline/01_Sketch%20the%20Result.md)"
   ]
  },
  {
   "cell_type": "code",
   "execution_count": null,
   "id": "064fab7e-cb0c-4fbc-a40f-c227581fde19",
   "metadata": {},
   "outputs": [],
   "source": []
  },
  {
   "cell_type": "markdown",
   "id": "de9ed4a3-de7a-495c-8630-155a8ae428c9",
   "metadata": {},
   "source": [
    "- Zoom in and see the Timestamp\n",
    "- [ ] Is it Monthly?"
   ]
  },
  {
   "cell_type": "markdown",
   "id": "f365b5f6-0f3c-4fb2-a019-5b93e30fd88d",
   "metadata": {},
   "source": [
    "# Check If Previous Solution is Your Desired Result?\n",
    "\n",
    "- Apply the [Python Resolver Discipline](https://github.com/jsulopz/python-resolver-discipline/blob/main/01_Code%20of%20Discipline/01_Sketch%20the%20Result.md)"
   ]
  },
  {
   "cell_type": "markdown",
   "id": "340c8b6a-6cd2-4458-84ff-14e16f392587",
   "metadata": {},
   "source": [
    "## Understand the Problem\n",
    "\n",
    "- Compute the Total `Volume` per Month\n",
    "    - `Volume` is a numerical column\n",
    "    - Month is implicitly said in `Date` column"
   ]
  },
  {
   "cell_type": "markdown",
   "id": "52b36c2a-fb74-46c9-91bc-4c874012d32d",
   "metadata": {},
   "source": [
    "## The Starting *Thing*"
   ]
  },
  {
   "cell_type": "code",
   "execution_count": null,
   "id": "704be1b8-f820-4137-9cb0-3c9dc279e48c",
   "metadata": {},
   "outputs": [],
   "source": []
  },
  {
   "cell_type": "markdown",
   "id": "8007c4f7-97fd-4cec-a4b0-954cfe620f56",
   "metadata": {},
   "source": [
    "## The Desired Result"
   ]
  },
  {
   "cell_type": "code",
   "execution_count": null,
   "id": "5dd61266-96a0-43d0-8999-06bffe0f5b9d",
   "metadata": {},
   "outputs": [],
   "source": []
  },
  {
   "cell_type": "markdown",
   "id": "fc666239-f219-4ec6-a581-3da85a472541",
   "metadata": {},
   "source": [
    "## Work Out the Solution"
   ]
  },
  {
   "cell_type": "markdown",
   "id": "b91622b9-c533-4fb3-8c1f-e834b2a0b5d6",
   "metadata": {},
   "source": [
    "**1. Extract the month-year for every row**"
   ]
  },
  {
   "cell_type": "code",
   "execution_count": null,
   "id": "62a4c84a-29a4-4baa-8fb0-52b278ff5021",
   "metadata": {},
   "outputs": [],
   "source": []
  },
  {
   "cell_type": "markdown",
   "id": "02616665-54ef-4381-9ad5-9e95b26e1583",
   "metadata": {
    "tags": []
   },
   "source": [
    "**2. Aggregate the data to get the Volume per Month**"
   ]
  },
  {
   "cell_type": "code",
   "execution_count": null,
   "id": "8a8051b4-c659-4c2b-8480-6a396a2b81cb",
   "metadata": {},
   "outputs": [],
   "source": []
  },
  {
   "cell_type": "markdown",
   "id": "c0aae7f2-1aac-4adc-8b04-1ff41a043a39",
   "metadata": {},
   "source": [
    "## Try Again"
   ]
  },
  {
   "cell_type": "code",
   "execution_count": null,
   "id": "16cc9972-6c49-441a-a738-a8111b06c4b7",
   "metadata": {},
   "outputs": [],
   "source": []
  },
  {
   "cell_type": "markdown",
   "id": "106ca675-8b5b-4a8b-9f51-89495231a59b",
   "metadata": {},
   "source": [
    "# Rethink the Problem and Adapt the Solution as You Go\n",
    "\n",
    "- Apply the [Python Resolver Discipline](https://github.com/jsulopz/python-resolver-discipline/blob/main/01_Code%20of%20Discipline/01_Sketch%20the%20Result.md)"
   ]
  },
  {
   "cell_type": "markdown",
   "id": "2af3d4fd-2437-4371-b4b8-49430806e8b2",
   "metadata": {},
   "source": [
    "## Understand the Problem"
   ]
  },
  {
   "cell_type": "code",
   "execution_count": null,
   "id": "f568c9af-4be9-4948-a980-4bd017a97bdd",
   "metadata": {},
   "outputs": [],
   "source": []
  },
  {
   "cell_type": "markdown",
   "id": "4a8d8659-db17-4999-9deb-15094d19a96f",
   "metadata": {},
   "source": [
    "## The Starting *Thing*"
   ]
  },
  {
   "cell_type": "code",
   "execution_count": null,
   "id": "66615c2a-19d8-40c3-b6be-9986f6ad8c95",
   "metadata": {},
   "outputs": [],
   "source": []
  },
  {
   "cell_type": "markdown",
   "id": "fa7e254d-f662-43bb-988c-274bf1f823cc",
   "metadata": {},
   "source": [
    "## The Desired Result"
   ]
  },
  {
   "cell_type": "markdown",
   "id": "c047f12c-1d93-4209-bfb0-6718de2bdc3f",
   "metadata": {},
   "source": [
    "- We need to convert `res` (now a `Series`) to a `DataFrame` object\n",
    "- Like the one below ↓"
   ]
  },
  {
   "cell_type": "code",
   "execution_count": null,
   "id": "01d90e2c-6104-4f1f-bbcd-9db6a84d6dea",
   "metadata": {},
   "outputs": [],
   "source": []
  },
  {
   "cell_type": "markdown",
   "id": "03afe9d6-b5f6-4e9f-a12a-bc24dfa8bb47",
   "metadata": {},
   "source": [
    "## Work Out the Solution"
   ]
  },
  {
   "cell_type": "code",
   "execution_count": null,
   "id": "5c270d3a-9de3-4ddd-8459-c6edfc7b02e6",
   "metadata": {},
   "outputs": [],
   "source": []
  },
  {
   "cell_type": "markdown",
   "id": "e20353df-bb82-499f-a23c-4f89df6bd931",
   "metadata": {},
   "source": [
    "## Try Again"
   ]
  },
  {
   "cell_type": "code",
   "execution_count": null,
   "id": "a1f2aa8d-5f60-4889-930a-1ca8d048c515",
   "metadata": {},
   "outputs": [],
   "source": []
  },
  {
   "cell_type": "markdown",
   "id": "48b546bb-5eed-49da-8b97-0c7ae6ab9c74",
   "metadata": {},
   "source": [
    "# Pay Attention to the Computer Errors\n",
    "\n",
    "- Apply the [Python Resolver Discipline](https://github.com/jsulopz/python-resolver-discipline/blob/main/01_Code%20of%20Discipline/01_Sketch%20the%20Result.md)"
   ]
  },
  {
   "cell_type": "markdown",
   "id": "d453afce-f601-4da0-8d68-b3c8c0c0dc2e",
   "metadata": {},
   "source": [
    "## Understand the Problem"
   ]
  },
  {
   "cell_type": "code",
   "execution_count": null,
   "id": "4b245e6a-4101-405f-868a-e61142d5db76",
   "metadata": {},
   "outputs": [],
   "source": []
  },
  {
   "cell_type": "markdown",
   "id": "bdcbbc0d-303e-4fbe-b361-bbc3d6db70e5",
   "metadata": {},
   "source": [
    "## The Starting *Thing*"
   ]
  },
  {
   "cell_type": "code",
   "execution_count": null,
   "id": "b815797d-07de-40e5-880d-d7a519356125",
   "metadata": {},
   "outputs": [],
   "source": []
  },
  {
   "cell_type": "markdown",
   "id": "060cf0e3-91ac-47e1-bec5-17ebfabe98e5",
   "metadata": {},
   "source": [
    "## The Desired Result"
   ]
  },
  {
   "cell_type": "markdown",
   "id": "8d78613b-ee12-4f1e-91b9-a6847066a779",
   "metadata": {},
   "source": [
    "Monthly ~ object | datetime"
   ]
  },
  {
   "cell_type": "markdown",
   "id": "62c43559-c746-4a50-afed-8c03399c4c33",
   "metadata": {},
   "source": [
    "## Work Out the Solution"
   ]
  },
  {
   "cell_type": "code",
   "execution_count": null,
   "id": "f815da59-2ccb-412e-9167-b54a23323620",
   "metadata": {},
   "outputs": [],
   "source": []
  },
  {
   "cell_type": "markdown",
   "id": "6508a4f4-a71e-492f-9a75-c22346f1cfd0",
   "metadata": {},
   "source": [
    "## Try Again"
   ]
  },
  {
   "cell_type": "code",
   "execution_count": null,
   "id": "4dd4278b-d00b-44c8-b7f5-824164d6fcd1",
   "metadata": {},
   "outputs": [],
   "source": []
  },
  {
   "cell_type": "markdown",
   "id": "10ef7866-ee0b-491f-8dc8-485d25087ff9",
   "metadata": {},
   "source": [
    "# The Uncovered Solution"
   ]
  },
  {
   "cell_type": "code",
   "execution_count": 97,
   "id": "c8a6ae18-303a-4ffc-a183-22c211936542",
   "metadata": {},
   "outputs": [
    {
     "data": {
      "text/html": [
       "<div>\n",
       "<style scoped>\n",
       "    .dataframe tbody tr th:only-of-type {\n",
       "        vertical-align: middle;\n",
       "    }\n",
       "\n",
       "    .dataframe tbody tr th {\n",
       "        vertical-align: top;\n",
       "    }\n",
       "\n",
       "    .dataframe thead th {\n",
       "        text-align: right;\n",
       "    }\n",
       "</style>\n",
       "<table border=\"1\" class=\"dataframe\">\n",
       "  <thead>\n",
       "    <tr style=\"text-align: right;\">\n",
       "      <th></th>\n",
       "      <th>Date</th>\n",
       "      <th>Open</th>\n",
       "      <th>High</th>\n",
       "      <th>Low</th>\n",
       "      <th>Close</th>\n",
       "      <th>Volume</th>\n",
       "      <th>Adj Close</th>\n",
       "    </tr>\n",
       "  </thead>\n",
       "  <tbody>\n",
       "    <tr>\n",
       "      <th>0</th>\n",
       "      <td>2014-07-08</td>\n",
       "      <td>96.27</td>\n",
       "      <td>96.80</td>\n",
       "      <td>93.92</td>\n",
       "      <td>95.35</td>\n",
       "      <td>65130000</td>\n",
       "      <td>95.35</td>\n",
       "    </tr>\n",
       "    <tr>\n",
       "      <th>1</th>\n",
       "      <td>2014-07-07</td>\n",
       "      <td>94.14</td>\n",
       "      <td>95.99</td>\n",
       "      <td>94.10</td>\n",
       "      <td>95.97</td>\n",
       "      <td>56305400</td>\n",
       "      <td>95.97</td>\n",
       "    </tr>\n",
       "    <tr>\n",
       "      <th>2</th>\n",
       "      <td>2014-07-03</td>\n",
       "      <td>93.67</td>\n",
       "      <td>94.10</td>\n",
       "      <td>93.20</td>\n",
       "      <td>94.03</td>\n",
       "      <td>22891800</td>\n",
       "      <td>94.03</td>\n",
       "    </tr>\n",
       "    <tr>\n",
       "      <th>3</th>\n",
       "      <td>2014-07-02</td>\n",
       "      <td>93.87</td>\n",
       "      <td>94.06</td>\n",
       "      <td>93.09</td>\n",
       "      <td>93.48</td>\n",
       "      <td>28420900</td>\n",
       "      <td>93.48</td>\n",
       "    </tr>\n",
       "    <tr>\n",
       "      <th>4</th>\n",
       "      <td>2014-07-01</td>\n",
       "      <td>93.52</td>\n",
       "      <td>94.07</td>\n",
       "      <td>93.13</td>\n",
       "      <td>93.52</td>\n",
       "      <td>38170200</td>\n",
       "      <td>93.52</td>\n",
       "    </tr>\n",
       "  </tbody>\n",
       "</table>\n",
       "</div>"
      ],
      "text/plain": [
       "         Date   Open   High    Low  Close    Volume  Adj Close\n",
       "0  2014-07-08  96.27  96.80  93.92  95.35  65130000      95.35\n",
       "1  2014-07-07  94.14  95.99  94.10  95.97  56305400      95.97\n",
       "2  2014-07-03  93.67  94.10  93.20  94.03  22891800      94.03\n",
       "3  2014-07-02  93.87  94.06  93.09  93.48  28420900      93.48\n",
       "4  2014-07-01  93.52  94.07  93.13  93.52  38170200      93.52"
      ]
     },
     "execution_count": 97,
     "metadata": {},
     "output_type": "execute_result"
    }
   ],
   "source": [
    "df = pd.read_csv('https://raw.githubusercontent.com/jsulopz/pandas_exercises/master/09_Time_Series/Apple_Stock/appl_1980_2014.csv')\n",
    "df.head()"
   ]
  },
  {
   "cell_type": "code",
   "execution_count": 98,
   "id": "0d0b3720-5c8b-4693-9fa8-67503429ce1f",
   "metadata": {},
   "outputs": [
    {
     "data": {
      "text/plain": [
       "Date          object\n",
       "Open         float64\n",
       "High         float64\n",
       "Low          float64\n",
       "Close        float64\n",
       "Volume         int64\n",
       "Adj Close    float64\n",
       "dtype: object"
      ]
     },
     "execution_count": 98,
     "metadata": {},
     "output_type": "execute_result"
    }
   ],
   "source": [
    "df.dtypes"
   ]
  },
  {
   "cell_type": "code",
   "execution_count": 99,
   "id": "706f4d83-e4ad-4e4c-aef7-69988e445bac",
   "metadata": {},
   "outputs": [
    {
     "data": {
      "text/plain": [
       "Date         datetime64[ns]\n",
       "Open                float64\n",
       "High                float64\n",
       "Low                 float64\n",
       "Close               float64\n",
       "Volume                int64\n",
       "Adj Close           float64\n",
       "dtype: object"
      ]
     },
     "execution_count": 99,
     "metadata": {},
     "output_type": "execute_result"
    }
   ],
   "source": [
    "df.Date = pd.to_datetime(df.Date)\n",
    "df.dtypes"
   ]
  },
  {
   "cell_type": "code",
   "execution_count": 90,
   "id": "1b458ff6-a14f-4a14-9282-c03422a262c4",
   "metadata": {},
   "outputs": [
    {
     "data": {
      "text/html": [
       "<div>\n",
       "<style scoped>\n",
       "    .dataframe tbody tr th:only-of-type {\n",
       "        vertical-align: middle;\n",
       "    }\n",
       "\n",
       "    .dataframe tbody tr th {\n",
       "        vertical-align: top;\n",
       "    }\n",
       "\n",
       "    .dataframe thead th {\n",
       "        text-align: right;\n",
       "    }\n",
       "</style>\n",
       "<table border=\"1\" class=\"dataframe\">\n",
       "  <thead>\n",
       "    <tr style=\"text-align: right;\">\n",
       "      <th></th>\n",
       "      <th>Date</th>\n",
       "      <th>Open</th>\n",
       "      <th>High</th>\n",
       "      <th>Low</th>\n",
       "      <th>Close</th>\n",
       "      <th>Volume</th>\n",
       "      <th>Adj Close</th>\n",
       "      <th>Monthly</th>\n",
       "    </tr>\n",
       "  </thead>\n",
       "  <tbody>\n",
       "    <tr>\n",
       "      <th>0</th>\n",
       "      <td>2014-07-08</td>\n",
       "      <td>96.27</td>\n",
       "      <td>96.80</td>\n",
       "      <td>93.92</td>\n",
       "      <td>95.35</td>\n",
       "      <td>65130000</td>\n",
       "      <td>95.35</td>\n",
       "      <td>2014-07</td>\n",
       "    </tr>\n",
       "    <tr>\n",
       "      <th>1</th>\n",
       "      <td>2014-07-07</td>\n",
       "      <td>94.14</td>\n",
       "      <td>95.99</td>\n",
       "      <td>94.10</td>\n",
       "      <td>95.97</td>\n",
       "      <td>56305400</td>\n",
       "      <td>95.97</td>\n",
       "      <td>2014-07</td>\n",
       "    </tr>\n",
       "    <tr>\n",
       "      <th>2</th>\n",
       "      <td>2014-07-03</td>\n",
       "      <td>93.67</td>\n",
       "      <td>94.10</td>\n",
       "      <td>93.20</td>\n",
       "      <td>94.03</td>\n",
       "      <td>22891800</td>\n",
       "      <td>94.03</td>\n",
       "      <td>2014-07</td>\n",
       "    </tr>\n",
       "    <tr>\n",
       "      <th>3</th>\n",
       "      <td>2014-07-02</td>\n",
       "      <td>93.87</td>\n",
       "      <td>94.06</td>\n",
       "      <td>93.09</td>\n",
       "      <td>93.48</td>\n",
       "      <td>28420900</td>\n",
       "      <td>93.48</td>\n",
       "      <td>2014-07</td>\n",
       "    </tr>\n",
       "    <tr>\n",
       "      <th>4</th>\n",
       "      <td>2014-07-01</td>\n",
       "      <td>93.52</td>\n",
       "      <td>94.07</td>\n",
       "      <td>93.13</td>\n",
       "      <td>93.52</td>\n",
       "      <td>38170200</td>\n",
       "      <td>93.52</td>\n",
       "      <td>2014-07</td>\n",
       "    </tr>\n",
       "    <tr>\n",
       "      <th>...</th>\n",
       "      <td>...</td>\n",
       "      <td>...</td>\n",
       "      <td>...</td>\n",
       "      <td>...</td>\n",
       "      <td>...</td>\n",
       "      <td>...</td>\n",
       "      <td>...</td>\n",
       "      <td>...</td>\n",
       "    </tr>\n",
       "    <tr>\n",
       "      <th>8460</th>\n",
       "      <td>1980-12-18</td>\n",
       "      <td>26.63</td>\n",
       "      <td>26.75</td>\n",
       "      <td>26.63</td>\n",
       "      <td>26.63</td>\n",
       "      <td>18362400</td>\n",
       "      <td>0.41</td>\n",
       "      <td>1980-12</td>\n",
       "    </tr>\n",
       "    <tr>\n",
       "      <th>8461</th>\n",
       "      <td>1980-12-17</td>\n",
       "      <td>25.87</td>\n",
       "      <td>26.00</td>\n",
       "      <td>25.87</td>\n",
       "      <td>25.87</td>\n",
       "      <td>21610400</td>\n",
       "      <td>0.40</td>\n",
       "      <td>1980-12</td>\n",
       "    </tr>\n",
       "    <tr>\n",
       "      <th>8462</th>\n",
       "      <td>1980-12-16</td>\n",
       "      <td>25.37</td>\n",
       "      <td>25.37</td>\n",
       "      <td>25.25</td>\n",
       "      <td>25.25</td>\n",
       "      <td>26432000</td>\n",
       "      <td>0.39</td>\n",
       "      <td>1980-12</td>\n",
       "    </tr>\n",
       "    <tr>\n",
       "      <th>8463</th>\n",
       "      <td>1980-12-15</td>\n",
       "      <td>27.38</td>\n",
       "      <td>27.38</td>\n",
       "      <td>27.25</td>\n",
       "      <td>27.25</td>\n",
       "      <td>43971200</td>\n",
       "      <td>0.42</td>\n",
       "      <td>1980-12</td>\n",
       "    </tr>\n",
       "    <tr>\n",
       "      <th>8464</th>\n",
       "      <td>1980-12-12</td>\n",
       "      <td>28.75</td>\n",
       "      <td>28.87</td>\n",
       "      <td>28.75</td>\n",
       "      <td>28.75</td>\n",
       "      <td>117258400</td>\n",
       "      <td>0.45</td>\n",
       "      <td>1980-12</td>\n",
       "    </tr>\n",
       "  </tbody>\n",
       "</table>\n",
       "<p>8465 rows × 8 columns</p>\n",
       "</div>"
      ],
      "text/plain": [
       "           Date   Open   High    Low  Close     Volume  Adj Close  Monthly\n",
       "0    2014-07-08  96.27  96.80  93.92  95.35   65130000      95.35  2014-07\n",
       "1    2014-07-07  94.14  95.99  94.10  95.97   56305400      95.97  2014-07\n",
       "2    2014-07-03  93.67  94.10  93.20  94.03   22891800      94.03  2014-07\n",
       "3    2014-07-02  93.87  94.06  93.09  93.48   28420900      93.48  2014-07\n",
       "4    2014-07-01  93.52  94.07  93.13  93.52   38170200      93.52  2014-07\n",
       "...         ...    ...    ...    ...    ...        ...        ...      ...\n",
       "8460 1980-12-18  26.63  26.75  26.63  26.63   18362400       0.41  1980-12\n",
       "8461 1980-12-17  25.87  26.00  25.87  25.87   21610400       0.40  1980-12\n",
       "8462 1980-12-16  25.37  25.37  25.25  25.25   26432000       0.39  1980-12\n",
       "8463 1980-12-15  27.38  27.38  27.25  27.25   43971200       0.42  1980-12\n",
       "8464 1980-12-12  28.75  28.87  28.75  28.75  117258400       0.45  1980-12\n",
       "\n",
       "[8465 rows x 8 columns]"
      ]
     },
     "execution_count": 90,
     "metadata": {},
     "output_type": "execute_result"
    }
   ],
   "source": [
    "df"
   ]
  },
  {
   "cell_type": "code",
   "execution_count": 100,
   "id": "1f49214c-ce28-4bc5-a0c0-51c4653aaf2e",
   "metadata": {},
   "outputs": [
    {
     "data": {
      "text/html": [
       "<div>\n",
       "<style scoped>\n",
       "    .dataframe tbody tr th:only-of-type {\n",
       "        vertical-align: middle;\n",
       "    }\n",
       "\n",
       "    .dataframe tbody tr th {\n",
       "        vertical-align: top;\n",
       "    }\n",
       "\n",
       "    .dataframe thead th {\n",
       "        text-align: right;\n",
       "    }\n",
       "</style>\n",
       "<table border=\"1\" class=\"dataframe\">\n",
       "  <thead>\n",
       "    <tr style=\"text-align: right;\">\n",
       "      <th></th>\n",
       "      <th>Date</th>\n",
       "      <th>Open</th>\n",
       "      <th>High</th>\n",
       "      <th>Low</th>\n",
       "      <th>Close</th>\n",
       "      <th>Volume</th>\n",
       "      <th>Adj Close</th>\n",
       "      <th>Monthly</th>\n",
       "    </tr>\n",
       "  </thead>\n",
       "  <tbody>\n",
       "    <tr>\n",
       "      <th>0</th>\n",
       "      <td>2014-07-08</td>\n",
       "      <td>96.27</td>\n",
       "      <td>96.80</td>\n",
       "      <td>93.92</td>\n",
       "      <td>95.35</td>\n",
       "      <td>65130000</td>\n",
       "      <td>95.35</td>\n",
       "      <td>2014-07</td>\n",
       "    </tr>\n",
       "    <tr>\n",
       "      <th>1</th>\n",
       "      <td>2014-07-07</td>\n",
       "      <td>94.14</td>\n",
       "      <td>95.99</td>\n",
       "      <td>94.10</td>\n",
       "      <td>95.97</td>\n",
       "      <td>56305400</td>\n",
       "      <td>95.97</td>\n",
       "      <td>2014-07</td>\n",
       "    </tr>\n",
       "    <tr>\n",
       "      <th>2</th>\n",
       "      <td>2014-07-03</td>\n",
       "      <td>93.67</td>\n",
       "      <td>94.10</td>\n",
       "      <td>93.20</td>\n",
       "      <td>94.03</td>\n",
       "      <td>22891800</td>\n",
       "      <td>94.03</td>\n",
       "      <td>2014-07</td>\n",
       "    </tr>\n",
       "    <tr>\n",
       "      <th>3</th>\n",
       "      <td>2014-07-02</td>\n",
       "      <td>93.87</td>\n",
       "      <td>94.06</td>\n",
       "      <td>93.09</td>\n",
       "      <td>93.48</td>\n",
       "      <td>28420900</td>\n",
       "      <td>93.48</td>\n",
       "      <td>2014-07</td>\n",
       "    </tr>\n",
       "    <tr>\n",
       "      <th>4</th>\n",
       "      <td>2014-07-01</td>\n",
       "      <td>93.52</td>\n",
       "      <td>94.07</td>\n",
       "      <td>93.13</td>\n",
       "      <td>93.52</td>\n",
       "      <td>38170200</td>\n",
       "      <td>93.52</td>\n",
       "      <td>2014-07</td>\n",
       "    </tr>\n",
       "    <tr>\n",
       "      <th>...</th>\n",
       "      <td>...</td>\n",
       "      <td>...</td>\n",
       "      <td>...</td>\n",
       "      <td>...</td>\n",
       "      <td>...</td>\n",
       "      <td>...</td>\n",
       "      <td>...</td>\n",
       "      <td>...</td>\n",
       "    </tr>\n",
       "    <tr>\n",
       "      <th>8460</th>\n",
       "      <td>1980-12-18</td>\n",
       "      <td>26.63</td>\n",
       "      <td>26.75</td>\n",
       "      <td>26.63</td>\n",
       "      <td>26.63</td>\n",
       "      <td>18362400</td>\n",
       "      <td>0.41</td>\n",
       "      <td>1980-12</td>\n",
       "    </tr>\n",
       "    <tr>\n",
       "      <th>8461</th>\n",
       "      <td>1980-12-17</td>\n",
       "      <td>25.87</td>\n",
       "      <td>26.00</td>\n",
       "      <td>25.87</td>\n",
       "      <td>25.87</td>\n",
       "      <td>21610400</td>\n",
       "      <td>0.40</td>\n",
       "      <td>1980-12</td>\n",
       "    </tr>\n",
       "    <tr>\n",
       "      <th>8462</th>\n",
       "      <td>1980-12-16</td>\n",
       "      <td>25.37</td>\n",
       "      <td>25.37</td>\n",
       "      <td>25.25</td>\n",
       "      <td>25.25</td>\n",
       "      <td>26432000</td>\n",
       "      <td>0.39</td>\n",
       "      <td>1980-12</td>\n",
       "    </tr>\n",
       "    <tr>\n",
       "      <th>8463</th>\n",
       "      <td>1980-12-15</td>\n",
       "      <td>27.38</td>\n",
       "      <td>27.38</td>\n",
       "      <td>27.25</td>\n",
       "      <td>27.25</td>\n",
       "      <td>43971200</td>\n",
       "      <td>0.42</td>\n",
       "      <td>1980-12</td>\n",
       "    </tr>\n",
       "    <tr>\n",
       "      <th>8464</th>\n",
       "      <td>1980-12-12</td>\n",
       "      <td>28.75</td>\n",
       "      <td>28.87</td>\n",
       "      <td>28.75</td>\n",
       "      <td>28.75</td>\n",
       "      <td>117258400</td>\n",
       "      <td>0.45</td>\n",
       "      <td>1980-12</td>\n",
       "    </tr>\n",
       "  </tbody>\n",
       "</table>\n",
       "<p>8465 rows × 8 columns</p>\n",
       "</div>"
      ],
      "text/plain": [
       "           Date   Open   High    Low  Close     Volume  Adj Close  Monthly\n",
       "0    2014-07-08  96.27  96.80  93.92  95.35   65130000      95.35  2014-07\n",
       "1    2014-07-07  94.14  95.99  94.10  95.97   56305400      95.97  2014-07\n",
       "2    2014-07-03  93.67  94.10  93.20  94.03   22891800      94.03  2014-07\n",
       "3    2014-07-02  93.87  94.06  93.09  93.48   28420900      93.48  2014-07\n",
       "4    2014-07-01  93.52  94.07  93.13  93.52   38170200      93.52  2014-07\n",
       "...         ...    ...    ...    ...    ...        ...        ...      ...\n",
       "8460 1980-12-18  26.63  26.75  26.63  26.63   18362400       0.41  1980-12\n",
       "8461 1980-12-17  25.87  26.00  25.87  25.87   21610400       0.40  1980-12\n",
       "8462 1980-12-16  25.37  25.37  25.25  25.25   26432000       0.39  1980-12\n",
       "8463 1980-12-15  27.38  27.38  27.25  27.25   43971200       0.42  1980-12\n",
       "8464 1980-12-12  28.75  28.87  28.75  28.75  117258400       0.45  1980-12\n",
       "\n",
       "[8465 rows x 8 columns]"
      ]
     },
     "execution_count": 100,
     "metadata": {},
     "output_type": "execute_result"
    }
   ],
   "source": [
    "df['Monthly'] = df['Date'].dt.to_period('M')\n",
    "df"
   ]
  },
  {
   "cell_type": "code",
   "execution_count": 94,
   "id": "c9ef3299-1c05-4df9-9b32-cf1544748e2a",
   "metadata": {},
   "outputs": [
    {
     "data": {
      "text/plain": [
       "Monthly\n",
       "1980-12     336212800\n",
       "1981-01     152247200\n",
       "1981-02      80404800\n",
       "1981-03     175179200\n",
       "1981-04     134232000\n",
       "              ...    \n",
       "2014-03    1250424700\n",
       "2014-04    1608765200\n",
       "2014-05    1433917100\n",
       "2014-06    1206556300\n",
       "2014-07     210918300\n",
       "Freq: M, Name: Volume, Length: 404, dtype: int64"
      ]
     },
     "execution_count": 94,
     "metadata": {},
     "output_type": "execute_result"
    }
   ],
   "source": [
    "res = df.groupby(by='Monthly').Volume.sum()\n",
    "res"
   ]
  },
  {
   "cell_type": "code",
   "execution_count": 89,
   "id": "27ed4bf1-0f5d-4c4b-90a8-957ed1aebf72",
   "metadata": {},
   "outputs": [
    {
     "ename": "TypeError",
     "evalue": "unsupported Type DatetimeIndex",
     "output_type": "error",
     "traceback": [
      "\u001b[0;31m---------------------------------------------------------------------------\u001b[0m",
      "\u001b[0;31mTypeError\u001b[0m                                 Traceback (most recent call last)",
      "\u001b[0;32m/var/folders/24/tg28vxls25l9mjvqrnh0plc80000gn/T/ipykernel_10862/2297610586.py\u001b[0m in \u001b[0;36m<module>\u001b[0;34m\u001b[0m\n\u001b[0;32m----> 1\u001b[0;31m \u001b[0mres\u001b[0m \u001b[0;34m=\u001b[0m \u001b[0mres\u001b[0m\u001b[0;34m.\u001b[0m\u001b[0mto_timestamp\u001b[0m\u001b[0;34m(\u001b[0m\u001b[0;34m)\u001b[0m\u001b[0;34m\u001b[0m\u001b[0;34m\u001b[0m\u001b[0m\n\u001b[0m\u001b[1;32m      2\u001b[0m \u001b[0mres\u001b[0m\u001b[0;34m\u001b[0m\u001b[0;34m\u001b[0m\u001b[0m\n",
      "\u001b[0;32m~/miniforge3/lib/python3.9/site-packages/pandas/core/series.py\u001b[0m in \u001b[0;36mto_timestamp\u001b[0;34m(self, freq, how, copy)\u001b[0m\n\u001b[1;32m   5342\u001b[0m \u001b[0;34m\u001b[0m\u001b[0m\n\u001b[1;32m   5343\u001b[0m         \u001b[0;32mif\u001b[0m \u001b[0;32mnot\u001b[0m \u001b[0misinstance\u001b[0m\u001b[0;34m(\u001b[0m\u001b[0mself\u001b[0m\u001b[0;34m.\u001b[0m\u001b[0mindex\u001b[0m\u001b[0;34m,\u001b[0m \u001b[0mPeriodIndex\u001b[0m\u001b[0;34m)\u001b[0m\u001b[0;34m:\u001b[0m\u001b[0;34m\u001b[0m\u001b[0;34m\u001b[0m\u001b[0m\n\u001b[0;32m-> 5344\u001b[0;31m             \u001b[0;32mraise\u001b[0m \u001b[0mTypeError\u001b[0m\u001b[0;34m(\u001b[0m\u001b[0;34mf\"unsupported Type {type(self.index).__name__}\"\u001b[0m\u001b[0;34m)\u001b[0m\u001b[0;34m\u001b[0m\u001b[0;34m\u001b[0m\u001b[0m\n\u001b[0m\u001b[1;32m   5345\u001b[0m         \u001b[0mnew_index\u001b[0m \u001b[0;34m=\u001b[0m \u001b[0mself\u001b[0m\u001b[0;34m.\u001b[0m\u001b[0mindex\u001b[0m\u001b[0;34m.\u001b[0m\u001b[0mto_timestamp\u001b[0m\u001b[0;34m(\u001b[0m\u001b[0mfreq\u001b[0m\u001b[0;34m=\u001b[0m\u001b[0mfreq\u001b[0m\u001b[0;34m,\u001b[0m \u001b[0mhow\u001b[0m\u001b[0;34m=\u001b[0m\u001b[0mhow\u001b[0m\u001b[0;34m)\u001b[0m\u001b[0;34m\u001b[0m\u001b[0;34m\u001b[0m\u001b[0m\n\u001b[1;32m   5346\u001b[0m         return self._constructor(new_values, index=new_index).__finalize__(\n",
      "\u001b[0;31mTypeError\u001b[0m: unsupported Type DatetimeIndex"
     ]
    }
   ],
   "source": [
    "res = res.to_timestamp()\n",
    "res"
   ]
  },
  {
   "cell_type": "code",
   "execution_count": 88,
   "id": "b7f431ec-d150-4d1d-a1d1-b66643bd0de8",
   "metadata": {},
   "outputs": [
    {
     "data": {
      "text/html": [
       "<div>\n",
       "<style scoped>\n",
       "    .dataframe tbody tr th:only-of-type {\n",
       "        vertical-align: middle;\n",
       "    }\n",
       "\n",
       "    .dataframe tbody tr th {\n",
       "        vertical-align: top;\n",
       "    }\n",
       "\n",
       "    .dataframe thead th {\n",
       "        text-align: right;\n",
       "    }\n",
       "</style>\n",
       "<table border=\"1\" class=\"dataframe\">\n",
       "  <thead>\n",
       "    <tr style=\"text-align: right;\">\n",
       "      <th></th>\n",
       "      <th>Monthly</th>\n",
       "      <th>Volume</th>\n",
       "    </tr>\n",
       "  </thead>\n",
       "  <tbody>\n",
       "    <tr>\n",
       "      <th>0</th>\n",
       "      <td>1980-12-01</td>\n",
       "      <td>336212800</td>\n",
       "    </tr>\n",
       "    <tr>\n",
       "      <th>1</th>\n",
       "      <td>1981-01-01</td>\n",
       "      <td>152247200</td>\n",
       "    </tr>\n",
       "    <tr>\n",
       "      <th>2</th>\n",
       "      <td>1981-02-01</td>\n",
       "      <td>80404800</td>\n",
       "    </tr>\n",
       "    <tr>\n",
       "      <th>3</th>\n",
       "      <td>1981-03-01</td>\n",
       "      <td>175179200</td>\n",
       "    </tr>\n",
       "    <tr>\n",
       "      <th>4</th>\n",
       "      <td>1981-04-01</td>\n",
       "      <td>134232000</td>\n",
       "    </tr>\n",
       "    <tr>\n",
       "      <th>...</th>\n",
       "      <td>...</td>\n",
       "      <td>...</td>\n",
       "    </tr>\n",
       "    <tr>\n",
       "      <th>399</th>\n",
       "      <td>2014-03-01</td>\n",
       "      <td>1250424700</td>\n",
       "    </tr>\n",
       "    <tr>\n",
       "      <th>400</th>\n",
       "      <td>2014-04-01</td>\n",
       "      <td>1608765200</td>\n",
       "    </tr>\n",
       "    <tr>\n",
       "      <th>401</th>\n",
       "      <td>2014-05-01</td>\n",
       "      <td>1433917100</td>\n",
       "    </tr>\n",
       "    <tr>\n",
       "      <th>402</th>\n",
       "      <td>2014-06-01</td>\n",
       "      <td>1206556300</td>\n",
       "    </tr>\n",
       "    <tr>\n",
       "      <th>403</th>\n",
       "      <td>2014-07-01</td>\n",
       "      <td>210918300</td>\n",
       "    </tr>\n",
       "  </tbody>\n",
       "</table>\n",
       "<p>404 rows × 2 columns</p>\n",
       "</div>"
      ],
      "text/plain": [
       "       Monthly      Volume\n",
       "0   1980-12-01   336212800\n",
       "1   1981-01-01   152247200\n",
       "2   1981-02-01    80404800\n",
       "3   1981-03-01   175179200\n",
       "4   1981-04-01   134232000\n",
       "..         ...         ...\n",
       "399 2014-03-01  1250424700\n",
       "400 2014-04-01  1608765200\n",
       "401 2014-05-01  1433917100\n",
       "402 2014-06-01  1206556300\n",
       "403 2014-07-01   210918300\n",
       "\n",
       "[404 rows x 2 columns]"
      ]
     },
     "execution_count": 88,
     "metadata": {},
     "output_type": "execute_result"
    }
   ],
   "source": [
    "dfres = res.reset_index()\n",
    "dfres"
   ]
  },
  {
   "cell_type": "code",
   "execution_count": 87,
   "id": "a9a5c7f3-17ac-4b71-b864-8f6d39c26984",
   "metadata": {},
   "outputs": [
    {
     "data": {
      "application/vnd.plotly.v1+json": {
       "config": {
        "plotlyServerURL": "https://plotly.com"
       },
       "data": [
        {
         "hovertemplate": "Monthly=%{x}<br>Volume=%{y}<extra></extra>",
         "legendgroup": "",
         "line": {
          "color": "#636efa"
         },
         "marker": {
          "symbol": "circle"
         },
         "mode": "lines",
         "name": "",
         "orientation": "v",
         "showlegend": false,
         "stackgroup": "1",
         "type": "scatter",
         "x": [
          "1980-12-01T00:00:00",
          "1981-01-01T00:00:00",
          "1981-02-01T00:00:00",
          "1981-03-01T00:00:00",
          "1981-04-01T00:00:00",
          "1981-05-01T00:00:00",
          "1981-06-01T00:00:00",
          "1981-07-01T00:00:00",
          "1981-08-01T00:00:00",
          "1981-09-01T00:00:00",
          "1981-10-01T00:00:00",
          "1981-11-01T00:00:00",
          "1981-12-01T00:00:00",
          "1982-01-01T00:00:00",
          "1982-02-01T00:00:00",
          "1982-03-01T00:00:00",
          "1982-04-01T00:00:00",
          "1982-05-01T00:00:00",
          "1982-06-01T00:00:00",
          "1982-07-01T00:00:00",
          "1982-08-01T00:00:00",
          "1982-09-01T00:00:00",
          "1982-10-01T00:00:00",
          "1982-11-01T00:00:00",
          "1982-12-01T00:00:00",
          "1983-01-01T00:00:00",
          "1983-02-01T00:00:00",
          "1983-03-01T00:00:00",
          "1983-04-01T00:00:00",
          "1983-05-01T00:00:00",
          "1983-06-01T00:00:00",
          "1983-07-01T00:00:00",
          "1983-08-01T00:00:00",
          "1983-09-01T00:00:00",
          "1983-10-01T00:00:00",
          "1983-11-01T00:00:00",
          "1983-12-01T00:00:00",
          "1984-01-01T00:00:00",
          "1984-02-01T00:00:00",
          "1984-03-01T00:00:00",
          "1984-04-01T00:00:00",
          "1984-05-01T00:00:00",
          "1984-06-01T00:00:00",
          "1984-07-01T00:00:00",
          "1984-08-01T00:00:00",
          "1984-09-01T00:00:00",
          "1984-10-01T00:00:00",
          "1984-11-01T00:00:00",
          "1984-12-01T00:00:00",
          "1985-01-01T00:00:00",
          "1985-02-01T00:00:00",
          "1985-03-01T00:00:00",
          "1985-04-01T00:00:00",
          "1985-05-01T00:00:00",
          "1985-06-01T00:00:00",
          "1985-07-01T00:00:00",
          "1985-08-01T00:00:00",
          "1985-09-01T00:00:00",
          "1985-10-01T00:00:00",
          "1985-11-01T00:00:00",
          "1985-12-01T00:00:00",
          "1986-01-01T00:00:00",
          "1986-02-01T00:00:00",
          "1986-03-01T00:00:00",
          "1986-04-01T00:00:00",
          "1986-05-01T00:00:00",
          "1986-06-01T00:00:00",
          "1986-07-01T00:00:00",
          "1986-08-01T00:00:00",
          "1986-09-01T00:00:00",
          "1986-10-01T00:00:00",
          "1986-11-01T00:00:00",
          "1986-12-01T00:00:00",
          "1987-01-01T00:00:00",
          "1987-02-01T00:00:00",
          "1987-03-01T00:00:00",
          "1987-04-01T00:00:00",
          "1987-05-01T00:00:00",
          "1987-06-01T00:00:00",
          "1987-07-01T00:00:00",
          "1987-08-01T00:00:00",
          "1987-09-01T00:00:00",
          "1987-10-01T00:00:00",
          "1987-11-01T00:00:00",
          "1987-12-01T00:00:00",
          "1988-01-01T00:00:00",
          "1988-02-01T00:00:00",
          "1988-03-01T00:00:00",
          "1988-04-01T00:00:00",
          "1988-05-01T00:00:00",
          "1988-06-01T00:00:00",
          "1988-07-01T00:00:00",
          "1988-08-01T00:00:00",
          "1988-09-01T00:00:00",
          "1988-10-01T00:00:00",
          "1988-11-01T00:00:00",
          "1988-12-01T00:00:00",
          "1989-01-01T00:00:00",
          "1989-02-01T00:00:00",
          "1989-03-01T00:00:00",
          "1989-04-01T00:00:00",
          "1989-05-01T00:00:00",
          "1989-06-01T00:00:00",
          "1989-07-01T00:00:00",
          "1989-08-01T00:00:00",
          "1989-09-01T00:00:00",
          "1989-10-01T00:00:00",
          "1989-11-01T00:00:00",
          "1989-12-01T00:00:00",
          "1990-01-01T00:00:00",
          "1990-02-01T00:00:00",
          "1990-03-01T00:00:00",
          "1990-04-01T00:00:00",
          "1990-05-01T00:00:00",
          "1990-06-01T00:00:00",
          "1990-07-01T00:00:00",
          "1990-08-01T00:00:00",
          "1990-09-01T00:00:00",
          "1990-10-01T00:00:00",
          "1990-11-01T00:00:00",
          "1990-12-01T00:00:00",
          "1991-01-01T00:00:00",
          "1991-02-01T00:00:00",
          "1991-03-01T00:00:00",
          "1991-04-01T00:00:00",
          "1991-05-01T00:00:00",
          "1991-06-01T00:00:00",
          "1991-07-01T00:00:00",
          "1991-08-01T00:00:00",
          "1991-09-01T00:00:00",
          "1991-10-01T00:00:00",
          "1991-11-01T00:00:00",
          "1991-12-01T00:00:00",
          "1992-01-01T00:00:00",
          "1992-02-01T00:00:00",
          "1992-03-01T00:00:00",
          "1992-04-01T00:00:00",
          "1992-05-01T00:00:00",
          "1992-06-01T00:00:00",
          "1992-07-01T00:00:00",
          "1992-08-01T00:00:00",
          "1992-09-01T00:00:00",
          "1992-10-01T00:00:00",
          "1992-11-01T00:00:00",
          "1992-12-01T00:00:00",
          "1993-01-01T00:00:00",
          "1993-02-01T00:00:00",
          "1993-03-01T00:00:00",
          "1993-04-01T00:00:00",
          "1993-05-01T00:00:00",
          "1993-06-01T00:00:00",
          "1993-07-01T00:00:00",
          "1993-08-01T00:00:00",
          "1993-09-01T00:00:00",
          "1993-10-01T00:00:00",
          "1993-11-01T00:00:00",
          "1993-12-01T00:00:00",
          "1994-01-01T00:00:00",
          "1994-02-01T00:00:00",
          "1994-03-01T00:00:00",
          "1994-04-01T00:00:00",
          "1994-05-01T00:00:00",
          "1994-06-01T00:00:00",
          "1994-07-01T00:00:00",
          "1994-08-01T00:00:00",
          "1994-09-01T00:00:00",
          "1994-10-01T00:00:00",
          "1994-11-01T00:00:00",
          "1994-12-01T00:00:00",
          "1995-01-01T00:00:00",
          "1995-02-01T00:00:00",
          "1995-03-01T00:00:00",
          "1995-04-01T00:00:00",
          "1995-05-01T00:00:00",
          "1995-06-01T00:00:00",
          "1995-07-01T00:00:00",
          "1995-08-01T00:00:00",
          "1995-09-01T00:00:00",
          "1995-10-01T00:00:00",
          "1995-11-01T00:00:00",
          "1995-12-01T00:00:00",
          "1996-01-01T00:00:00",
          "1996-02-01T00:00:00",
          "1996-03-01T00:00:00",
          "1996-04-01T00:00:00",
          "1996-05-01T00:00:00",
          "1996-06-01T00:00:00",
          "1996-07-01T00:00:00",
          "1996-08-01T00:00:00",
          "1996-09-01T00:00:00",
          "1996-10-01T00:00:00",
          "1996-11-01T00:00:00",
          "1996-12-01T00:00:00",
          "1997-01-01T00:00:00",
          "1997-02-01T00:00:00",
          "1997-03-01T00:00:00",
          "1997-04-01T00:00:00",
          "1997-05-01T00:00:00",
          "1997-06-01T00:00:00",
          "1997-07-01T00:00:00",
          "1997-08-01T00:00:00",
          "1997-09-01T00:00:00",
          "1997-10-01T00:00:00",
          "1997-11-01T00:00:00",
          "1997-12-01T00:00:00",
          "1998-01-01T00:00:00",
          "1998-02-01T00:00:00",
          "1998-03-01T00:00:00",
          "1998-04-01T00:00:00",
          "1998-05-01T00:00:00",
          "1998-06-01T00:00:00",
          "1998-07-01T00:00:00",
          "1998-08-01T00:00:00",
          "1998-09-01T00:00:00",
          "1998-10-01T00:00:00",
          "1998-11-01T00:00:00",
          "1998-12-01T00:00:00",
          "1999-01-01T00:00:00",
          "1999-02-01T00:00:00",
          "1999-03-01T00:00:00",
          "1999-04-01T00:00:00",
          "1999-05-01T00:00:00",
          "1999-06-01T00:00:00",
          "1999-07-01T00:00:00",
          "1999-08-01T00:00:00",
          "1999-09-01T00:00:00",
          "1999-10-01T00:00:00",
          "1999-11-01T00:00:00",
          "1999-12-01T00:00:00",
          "2000-01-01T00:00:00",
          "2000-02-01T00:00:00",
          "2000-03-01T00:00:00",
          "2000-04-01T00:00:00",
          "2000-05-01T00:00:00",
          "2000-06-01T00:00:00",
          "2000-07-01T00:00:00",
          "2000-08-01T00:00:00",
          "2000-09-01T00:00:00",
          "2000-10-01T00:00:00",
          "2000-11-01T00:00:00",
          "2000-12-01T00:00:00",
          "2001-01-01T00:00:00",
          "2001-02-01T00:00:00",
          "2001-03-01T00:00:00",
          "2001-04-01T00:00:00",
          "2001-05-01T00:00:00",
          "2001-06-01T00:00:00",
          "2001-07-01T00:00:00",
          "2001-08-01T00:00:00",
          "2001-09-01T00:00:00",
          "2001-10-01T00:00:00",
          "2001-11-01T00:00:00",
          "2001-12-01T00:00:00",
          "2002-01-01T00:00:00",
          "2002-02-01T00:00:00",
          "2002-03-01T00:00:00",
          "2002-04-01T00:00:00",
          "2002-05-01T00:00:00",
          "2002-06-01T00:00:00",
          "2002-07-01T00:00:00",
          "2002-08-01T00:00:00",
          "2002-09-01T00:00:00",
          "2002-10-01T00:00:00",
          "2002-11-01T00:00:00",
          "2002-12-01T00:00:00",
          "2003-01-01T00:00:00",
          "2003-02-01T00:00:00",
          "2003-03-01T00:00:00",
          "2003-04-01T00:00:00",
          "2003-05-01T00:00:00",
          "2003-06-01T00:00:00",
          "2003-07-01T00:00:00",
          "2003-08-01T00:00:00",
          "2003-09-01T00:00:00",
          "2003-10-01T00:00:00",
          "2003-11-01T00:00:00",
          "2003-12-01T00:00:00",
          "2004-01-01T00:00:00",
          "2004-02-01T00:00:00",
          "2004-03-01T00:00:00",
          "2004-04-01T00:00:00",
          "2004-05-01T00:00:00",
          "2004-06-01T00:00:00",
          "2004-07-01T00:00:00",
          "2004-08-01T00:00:00",
          "2004-09-01T00:00:00",
          "2004-10-01T00:00:00",
          "2004-11-01T00:00:00",
          "2004-12-01T00:00:00",
          "2005-01-01T00:00:00",
          "2005-02-01T00:00:00",
          "2005-03-01T00:00:00",
          "2005-04-01T00:00:00",
          "2005-05-01T00:00:00",
          "2005-06-01T00:00:00",
          "2005-07-01T00:00:00",
          "2005-08-01T00:00:00",
          "2005-09-01T00:00:00",
          "2005-10-01T00:00:00",
          "2005-11-01T00:00:00",
          "2005-12-01T00:00:00",
          "2006-01-01T00:00:00",
          "2006-02-01T00:00:00",
          "2006-03-01T00:00:00",
          "2006-04-01T00:00:00",
          "2006-05-01T00:00:00",
          "2006-06-01T00:00:00",
          "2006-07-01T00:00:00",
          "2006-08-01T00:00:00",
          "2006-09-01T00:00:00",
          "2006-10-01T00:00:00",
          "2006-11-01T00:00:00",
          "2006-12-01T00:00:00",
          "2007-01-01T00:00:00",
          "2007-02-01T00:00:00",
          "2007-03-01T00:00:00",
          "2007-04-01T00:00:00",
          "2007-05-01T00:00:00",
          "2007-06-01T00:00:00",
          "2007-07-01T00:00:00",
          "2007-08-01T00:00:00",
          "2007-09-01T00:00:00",
          "2007-10-01T00:00:00",
          "2007-11-01T00:00:00",
          "2007-12-01T00:00:00",
          "2008-01-01T00:00:00",
          "2008-02-01T00:00:00",
          "2008-03-01T00:00:00",
          "2008-04-01T00:00:00",
          "2008-05-01T00:00:00",
          "2008-06-01T00:00:00",
          "2008-07-01T00:00:00",
          "2008-08-01T00:00:00",
          "2008-09-01T00:00:00",
          "2008-10-01T00:00:00",
          "2008-11-01T00:00:00",
          "2008-12-01T00:00:00",
          "2009-01-01T00:00:00",
          "2009-02-01T00:00:00",
          "2009-03-01T00:00:00",
          "2009-04-01T00:00:00",
          "2009-05-01T00:00:00",
          "2009-06-01T00:00:00",
          "2009-07-01T00:00:00",
          "2009-08-01T00:00:00",
          "2009-09-01T00:00:00",
          "2009-10-01T00:00:00",
          "2009-11-01T00:00:00",
          "2009-12-01T00:00:00",
          "2010-01-01T00:00:00",
          "2010-02-01T00:00:00",
          "2010-03-01T00:00:00",
          "2010-04-01T00:00:00",
          "2010-05-01T00:00:00",
          "2010-06-01T00:00:00",
          "2010-07-01T00:00:00",
          "2010-08-01T00:00:00",
          "2010-09-01T00:00:00",
          "2010-10-01T00:00:00",
          "2010-11-01T00:00:00",
          "2010-12-01T00:00:00",
          "2011-01-01T00:00:00",
          "2011-02-01T00:00:00",
          "2011-03-01T00:00:00",
          "2011-04-01T00:00:00",
          "2011-05-01T00:00:00",
          "2011-06-01T00:00:00",
          "2011-07-01T00:00:00",
          "2011-08-01T00:00:00",
          "2011-09-01T00:00:00",
          "2011-10-01T00:00:00",
          "2011-11-01T00:00:00",
          "2011-12-01T00:00:00",
          "2012-01-01T00:00:00",
          "2012-02-01T00:00:00",
          "2012-03-01T00:00:00",
          "2012-04-01T00:00:00",
          "2012-05-01T00:00:00",
          "2012-06-01T00:00:00",
          "2012-07-01T00:00:00",
          "2012-08-01T00:00:00",
          "2012-09-01T00:00:00",
          "2012-10-01T00:00:00",
          "2012-11-01T00:00:00",
          "2012-12-01T00:00:00",
          "2013-01-01T00:00:00",
          "2013-02-01T00:00:00",
          "2013-03-01T00:00:00",
          "2013-04-01T00:00:00",
          "2013-05-01T00:00:00",
          "2013-06-01T00:00:00",
          "2013-07-01T00:00:00",
          "2013-08-01T00:00:00",
          "2013-09-01T00:00:00",
          "2013-10-01T00:00:00",
          "2013-11-01T00:00:00",
          "2013-12-01T00:00:00",
          "2014-01-01T00:00:00",
          "2014-02-01T00:00:00",
          "2014-03-01T00:00:00",
          "2014-04-01T00:00:00",
          "2014-05-01T00:00:00",
          "2014-06-01T00:00:00",
          "2014-07-01T00:00:00"
         ],
         "xaxis": "x",
         "y": [
          336212800,
          152247200,
          80404800,
          175179200,
          134232000,
          147604800,
          237641600,
          166857600,
          137155200,
          185920000,
          226044000,
          146669600,
          259280000,
          216053600,
          152101600,
          299919200,
          437399200,
          310973600,
          200911200,
          354552800,
          539000000,
          415889600,
          944876800,
          788076800,
          681497600,
          1144757600,
          788323200,
          662082400,
          834708000,
          521102400,
          701870400,
          774457600,
          765385600,
          1277315200,
          1255469600,
          1030540000,
          664154400,
          1089704000,
          777840000,
          491472800,
          804176800,
          1328919200,
          793783200,
          708724800,
          1277948000,
          625156000,
          890764000,
          842514400,
          863755200,
          1591604000,
          1183347200,
          1153896800,
          717007200,
          1159782400,
          1452847200,
          650148800,
          454686400,
          449549600,
          946478400,
          721168000,
          892802400,
          1572950400,
          855215200,
          1066083200,
          1115671200,
          1238512800,
          1015840000,
          1422909600,
          910879200,
          894549600,
          746009600,
          1301540800,
          1190644000,
          2067228800,
          1654044000,
          1489829600,
          1703290400,
          959739200,
          874384000,
          767564000,
          779825200,
          768871600,
          1643924800,
          1058559600,
          1175566000,
          1555400000,
          842116800,
          1220525600,
          824482400,
          659626800,
          883682800,
          546604800,
          663328400,
          765080400,
          890912400,
          734966400,
          736517600,
          1836458400,
          1221567200,
          964919200,
          991606000,
          1313345600,
          985320000,
          922157600,
          838076400,
          505212400,
          1031262400,
          631234800,
          1485296400,
          936874400,
          620972800,
          1139118400,
          910618800,
          1028907600,
          988013600,
          1040953200,
          782084800,
          551737200,
          1264029200,
          813652000,
          1023523200,
          1759326800,
          1386445200,
          1302649600,
          1810762800,
          1993210800,
          1022915600,
          945873600,
          1043162400,
          598267600,
          898497600,
          924008400,
          651792400,
          1175790000,
          633749200,
          746415600,
          982847600,
          675931200,
          1212920800,
          908202400,
          686632800,
          763915600,
          882856800,
          781636800,
          833579600,
          1385566000,
          1162820400,
          915381600,
          978602800,
          800136400,
          1918599200,
          1785728000,
          920791200,
          917005600,
          1476330800,
          863027200,
          989242800,
          1833008800,
          1071114800,
          1314496400,
          1010534000,
          840414400,
          1167947200,
          1212016400,
          1143724400,
          808161200,
          1928371200,
          1012236400,
          946948800,
          2040525200,
          1324836800,
          1749286000,
          1418575200,
          1596168000,
          1380486800,
          1424894800,
          1323229600,
          1827870800,
          1624627200,
          1216073600,
          1640060800,
          2575053600,
          1163024800,
          836687600,
          716769200,
          900975600,
          1168484800,
          1200872400,
          796843600,
          803387200,
          1454244400,
          645341200,
          1036870800,
          2268184800,
          1143542400,
          1125560800,
          952431200,
          573176800,
          643076000,
          1695593200,
          4418926400,
          901518800,
          1607510800,
          1386870800,
          1274448000,
          2552894400,
          1838541600,
          2656494400,
          2020471600,
          1700834800,
          977460400,
          2731915200,
          3305218000,
          2020079600,
          3232731600,
          2530880800,
          3231026400,
          3781850800,
          2029129200,
          2487998800,
          3972242400,
          2227226400,
          1729655200,
          2866645600,
          2311150800,
          4741867200,
          3617124000,
          2156232400,
          2354553600,
          3138794400,
          1829945600,
          2174589200,
          2165601200,
          2451937600,
          2026301200,
          1436692600,
          1409021600,
          3629232600,
          5476447200,
          2122093400,
          2214742600,
          3427365200,
          1755941600,
          2699765600,
          2789747800,
          1867108600,
          1909566400,
          2163775600,
          1282339800,
          1382880800,
          1886061800,
          1342436200,
          1157459800,
          2128844200,
          1959356000,
          1329645800,
          1605709000,
          1494039400,
          2177004200,
          2029603800,
          1287921600,
          1322959400,
          1652858200,
          1132930400,
          1132609800,
          1511458200,
          1028575800,
          1007101200,
          1943835600,
          2702886200,
          1528333800,
          1304567600,
          1076891200,
          1336871200,
          1760047800,
          1243526200,
          1363468400,
          1981950600,
          1230507600,
          2906528800,
          2232543600,
          1326068800,
          2056808600,
          2424144800,
          2002841400,
          1918376600,
          4023591600,
          4359901000,
          3987153800,
          6427061200,
          5362236600,
          3668980000,
          4843879600,
          3214573600,
          2831798900,
          2523561600,
          2350201700,
          3086942600,
          4660861800,
          3364106900,
          3266041100,
          5469592800,
          4690174300,
          5798158100,
          5029820600,
          3902194800,
          4484155900,
          4369935500,
          4471911500,
          4430389600,
          3596989200,
          3458721000,
          4222698200,
          6802445300,
          3430588700,
          3979661000,
          3364935000,
          4341267000,
          5819885400,
          6004643400,
          6090199500,
          5232805900,
          5819447900,
          6549947600,
          4313169700,
          8793472100,
          6216488600,
          5731818400,
          5696745600,
          4647053600,
          4868948700,
          4937440200,
          3271438800,
          6016890600,
          10356677800,
          5904865400,
          5053461700,
          4526435200,
          3466862700,
          3856149500,
          2955420300,
          2364285700,
          3168893000,
          2735534200,
          2041281200,
          2497329800,
          3239044200,
          2113696200,
          2848489700,
          3792248600,
          2694020000,
          3038543200,
          3091782400,
          4520663700,
          4162813200,
          3917426100,
          2397280200,
          2962479800,
          3058644400,
          2377021500,
          1743308700,
          2710383900,
          2323987400,
          2826614700,
          2313457300,
          1728015100,
          2315962600,
          2663486700,
          4035649800,
          2994362000,
          3285356900,
          2240925400,
          1576633100,
          1714963600,
          2842138600,
          3896084500,
          3899747600,
          2776586400,
          1963956400,
          2227412600,
          2069051600,
          2299751300,
          3035707500,
          3232462800,
          3033188200,
          3280855900,
          2336008500,
          2294219200,
          2740872400,
          2361882600,
          1754634000,
          1634528700,
          2014584600,
          2157735300,
          1959433000,
          1306288900,
          1764349300,
          2191488600,
          1470091700,
          1250424700,
          1608765200,
          1433917100,
          1206556300,
          210918300
         ],
         "yaxis": "y"
        }
       ],
       "layout": {
        "autosize": true,
        "legend": {
         "tracegroupgap": 0
        },
        "margin": {
         "t": 60
        },
        "template": {
         "data": {
          "bar": [
           {
            "error_x": {
             "color": "#2a3f5f"
            },
            "error_y": {
             "color": "#2a3f5f"
            },
            "marker": {
             "line": {
              "color": "#E5ECF6",
              "width": 0.5
             },
             "pattern": {
              "fillmode": "overlay",
              "size": 10,
              "solidity": 0.2
             }
            },
            "type": "bar"
           }
          ],
          "barpolar": [
           {
            "marker": {
             "line": {
              "color": "#E5ECF6",
              "width": 0.5
             },
             "pattern": {
              "fillmode": "overlay",
              "size": 10,
              "solidity": 0.2
             }
            },
            "type": "barpolar"
           }
          ],
          "carpet": [
           {
            "aaxis": {
             "endlinecolor": "#2a3f5f",
             "gridcolor": "white",
             "linecolor": "white",
             "minorgridcolor": "white",
             "startlinecolor": "#2a3f5f"
            },
            "baxis": {
             "endlinecolor": "#2a3f5f",
             "gridcolor": "white",
             "linecolor": "white",
             "minorgridcolor": "white",
             "startlinecolor": "#2a3f5f"
            },
            "type": "carpet"
           }
          ],
          "choropleth": [
           {
            "colorbar": {
             "outlinewidth": 0,
             "ticks": ""
            },
            "type": "choropleth"
           }
          ],
          "contour": [
           {
            "colorbar": {
             "outlinewidth": 0,
             "ticks": ""
            },
            "colorscale": [
             [
              0,
              "#0d0887"
             ],
             [
              0.1111111111111111,
              "#46039f"
             ],
             [
              0.2222222222222222,
              "#7201a8"
             ],
             [
              0.3333333333333333,
              "#9c179e"
             ],
             [
              0.4444444444444444,
              "#bd3786"
             ],
             [
              0.5555555555555556,
              "#d8576b"
             ],
             [
              0.6666666666666666,
              "#ed7953"
             ],
             [
              0.7777777777777778,
              "#fb9f3a"
             ],
             [
              0.8888888888888888,
              "#fdca26"
             ],
             [
              1,
              "#f0f921"
             ]
            ],
            "type": "contour"
           }
          ],
          "contourcarpet": [
           {
            "colorbar": {
             "outlinewidth": 0,
             "ticks": ""
            },
            "type": "contourcarpet"
           }
          ],
          "heatmap": [
           {
            "colorbar": {
             "outlinewidth": 0,
             "ticks": ""
            },
            "colorscale": [
             [
              0,
              "#0d0887"
             ],
             [
              0.1111111111111111,
              "#46039f"
             ],
             [
              0.2222222222222222,
              "#7201a8"
             ],
             [
              0.3333333333333333,
              "#9c179e"
             ],
             [
              0.4444444444444444,
              "#bd3786"
             ],
             [
              0.5555555555555556,
              "#d8576b"
             ],
             [
              0.6666666666666666,
              "#ed7953"
             ],
             [
              0.7777777777777778,
              "#fb9f3a"
             ],
             [
              0.8888888888888888,
              "#fdca26"
             ],
             [
              1,
              "#f0f921"
             ]
            ],
            "type": "heatmap"
           }
          ],
          "heatmapgl": [
           {
            "colorbar": {
             "outlinewidth": 0,
             "ticks": ""
            },
            "colorscale": [
             [
              0,
              "#0d0887"
             ],
             [
              0.1111111111111111,
              "#46039f"
             ],
             [
              0.2222222222222222,
              "#7201a8"
             ],
             [
              0.3333333333333333,
              "#9c179e"
             ],
             [
              0.4444444444444444,
              "#bd3786"
             ],
             [
              0.5555555555555556,
              "#d8576b"
             ],
             [
              0.6666666666666666,
              "#ed7953"
             ],
             [
              0.7777777777777778,
              "#fb9f3a"
             ],
             [
              0.8888888888888888,
              "#fdca26"
             ],
             [
              1,
              "#f0f921"
             ]
            ],
            "type": "heatmapgl"
           }
          ],
          "histogram": [
           {
            "marker": {
             "pattern": {
              "fillmode": "overlay",
              "size": 10,
              "solidity": 0.2
             }
            },
            "type": "histogram"
           }
          ],
          "histogram2d": [
           {
            "colorbar": {
             "outlinewidth": 0,
             "ticks": ""
            },
            "colorscale": [
             [
              0,
              "#0d0887"
             ],
             [
              0.1111111111111111,
              "#46039f"
             ],
             [
              0.2222222222222222,
              "#7201a8"
             ],
             [
              0.3333333333333333,
              "#9c179e"
             ],
             [
              0.4444444444444444,
              "#bd3786"
             ],
             [
              0.5555555555555556,
              "#d8576b"
             ],
             [
              0.6666666666666666,
              "#ed7953"
             ],
             [
              0.7777777777777778,
              "#fb9f3a"
             ],
             [
              0.8888888888888888,
              "#fdca26"
             ],
             [
              1,
              "#f0f921"
             ]
            ],
            "type": "histogram2d"
           }
          ],
          "histogram2dcontour": [
           {
            "colorbar": {
             "outlinewidth": 0,
             "ticks": ""
            },
            "colorscale": [
             [
              0,
              "#0d0887"
             ],
             [
              0.1111111111111111,
              "#46039f"
             ],
             [
              0.2222222222222222,
              "#7201a8"
             ],
             [
              0.3333333333333333,
              "#9c179e"
             ],
             [
              0.4444444444444444,
              "#bd3786"
             ],
             [
              0.5555555555555556,
              "#d8576b"
             ],
             [
              0.6666666666666666,
              "#ed7953"
             ],
             [
              0.7777777777777778,
              "#fb9f3a"
             ],
             [
              0.8888888888888888,
              "#fdca26"
             ],
             [
              1,
              "#f0f921"
             ]
            ],
            "type": "histogram2dcontour"
           }
          ],
          "mesh3d": [
           {
            "colorbar": {
             "outlinewidth": 0,
             "ticks": ""
            },
            "type": "mesh3d"
           }
          ],
          "parcoords": [
           {
            "line": {
             "colorbar": {
              "outlinewidth": 0,
              "ticks": ""
             }
            },
            "type": "parcoords"
           }
          ],
          "pie": [
           {
            "automargin": true,
            "type": "pie"
           }
          ],
          "scatter": [
           {
            "marker": {
             "colorbar": {
              "outlinewidth": 0,
              "ticks": ""
             }
            },
            "type": "scatter"
           }
          ],
          "scatter3d": [
           {
            "line": {
             "colorbar": {
              "outlinewidth": 0,
              "ticks": ""
             }
            },
            "marker": {
             "colorbar": {
              "outlinewidth": 0,
              "ticks": ""
             }
            },
            "type": "scatter3d"
           }
          ],
          "scattercarpet": [
           {
            "marker": {
             "colorbar": {
              "outlinewidth": 0,
              "ticks": ""
             }
            },
            "type": "scattercarpet"
           }
          ],
          "scattergeo": [
           {
            "marker": {
             "colorbar": {
              "outlinewidth": 0,
              "ticks": ""
             }
            },
            "type": "scattergeo"
           }
          ],
          "scattergl": [
           {
            "marker": {
             "colorbar": {
              "outlinewidth": 0,
              "ticks": ""
             }
            },
            "type": "scattergl"
           }
          ],
          "scattermapbox": [
           {
            "marker": {
             "colorbar": {
              "outlinewidth": 0,
              "ticks": ""
             }
            },
            "type": "scattermapbox"
           }
          ],
          "scatterpolar": [
           {
            "marker": {
             "colorbar": {
              "outlinewidth": 0,
              "ticks": ""
             }
            },
            "type": "scatterpolar"
           }
          ],
          "scatterpolargl": [
           {
            "marker": {
             "colorbar": {
              "outlinewidth": 0,
              "ticks": ""
             }
            },
            "type": "scatterpolargl"
           }
          ],
          "scatterternary": [
           {
            "marker": {
             "colorbar": {
              "outlinewidth": 0,
              "ticks": ""
             }
            },
            "type": "scatterternary"
           }
          ],
          "surface": [
           {
            "colorbar": {
             "outlinewidth": 0,
             "ticks": ""
            },
            "colorscale": [
             [
              0,
              "#0d0887"
             ],
             [
              0.1111111111111111,
              "#46039f"
             ],
             [
              0.2222222222222222,
              "#7201a8"
             ],
             [
              0.3333333333333333,
              "#9c179e"
             ],
             [
              0.4444444444444444,
              "#bd3786"
             ],
             [
              0.5555555555555556,
              "#d8576b"
             ],
             [
              0.6666666666666666,
              "#ed7953"
             ],
             [
              0.7777777777777778,
              "#fb9f3a"
             ],
             [
              0.8888888888888888,
              "#fdca26"
             ],
             [
              1,
              "#f0f921"
             ]
            ],
            "type": "surface"
           }
          ],
          "table": [
           {
            "cells": {
             "fill": {
              "color": "#EBF0F8"
             },
             "line": {
              "color": "white"
             }
            },
            "header": {
             "fill": {
              "color": "#C8D4E3"
             },
             "line": {
              "color": "white"
             }
            },
            "type": "table"
           }
          ]
         },
         "layout": {
          "annotationdefaults": {
           "arrowcolor": "#2a3f5f",
           "arrowhead": 0,
           "arrowwidth": 1
          },
          "autotypenumbers": "strict",
          "coloraxis": {
           "colorbar": {
            "outlinewidth": 0,
            "ticks": ""
           }
          },
          "colorscale": {
           "diverging": [
            [
             0,
             "#8e0152"
            ],
            [
             0.1,
             "#c51b7d"
            ],
            [
             0.2,
             "#de77ae"
            ],
            [
             0.3,
             "#f1b6da"
            ],
            [
             0.4,
             "#fde0ef"
            ],
            [
             0.5,
             "#f7f7f7"
            ],
            [
             0.6,
             "#e6f5d0"
            ],
            [
             0.7,
             "#b8e186"
            ],
            [
             0.8,
             "#7fbc41"
            ],
            [
             0.9,
             "#4d9221"
            ],
            [
             1,
             "#276419"
            ]
           ],
           "sequential": [
            [
             0,
             "#0d0887"
            ],
            [
             0.1111111111111111,
             "#46039f"
            ],
            [
             0.2222222222222222,
             "#7201a8"
            ],
            [
             0.3333333333333333,
             "#9c179e"
            ],
            [
             0.4444444444444444,
             "#bd3786"
            ],
            [
             0.5555555555555556,
             "#d8576b"
            ],
            [
             0.6666666666666666,
             "#ed7953"
            ],
            [
             0.7777777777777778,
             "#fb9f3a"
            ],
            [
             0.8888888888888888,
             "#fdca26"
            ],
            [
             1,
             "#f0f921"
            ]
           ],
           "sequentialminus": [
            [
             0,
             "#0d0887"
            ],
            [
             0.1111111111111111,
             "#46039f"
            ],
            [
             0.2222222222222222,
             "#7201a8"
            ],
            [
             0.3333333333333333,
             "#9c179e"
            ],
            [
             0.4444444444444444,
             "#bd3786"
            ],
            [
             0.5555555555555556,
             "#d8576b"
            ],
            [
             0.6666666666666666,
             "#ed7953"
            ],
            [
             0.7777777777777778,
             "#fb9f3a"
            ],
            [
             0.8888888888888888,
             "#fdca26"
            ],
            [
             1,
             "#f0f921"
            ]
           ]
          },
          "colorway": [
           "#636efa",
           "#EF553B",
           "#00cc96",
           "#ab63fa",
           "#FFA15A",
           "#19d3f3",
           "#FF6692",
           "#B6E880",
           "#FF97FF",
           "#FECB52"
          ],
          "font": {
           "color": "#2a3f5f"
          },
          "geo": {
           "bgcolor": "white",
           "lakecolor": "white",
           "landcolor": "#E5ECF6",
           "showlakes": true,
           "showland": true,
           "subunitcolor": "white"
          },
          "hoverlabel": {
           "align": "left"
          },
          "hovermode": "closest",
          "mapbox": {
           "style": "light"
          },
          "paper_bgcolor": "white",
          "plot_bgcolor": "#E5ECF6",
          "polar": {
           "angularaxis": {
            "gridcolor": "white",
            "linecolor": "white",
            "ticks": ""
           },
           "bgcolor": "#E5ECF6",
           "radialaxis": {
            "gridcolor": "white",
            "linecolor": "white",
            "ticks": ""
           }
          },
          "scene": {
           "xaxis": {
            "backgroundcolor": "#E5ECF6",
            "gridcolor": "white",
            "gridwidth": 2,
            "linecolor": "white",
            "showbackground": true,
            "ticks": "",
            "zerolinecolor": "white"
           },
           "yaxis": {
            "backgroundcolor": "#E5ECF6",
            "gridcolor": "white",
            "gridwidth": 2,
            "linecolor": "white",
            "showbackground": true,
            "ticks": "",
            "zerolinecolor": "white"
           },
           "zaxis": {
            "backgroundcolor": "#E5ECF6",
            "gridcolor": "white",
            "gridwidth": 2,
            "linecolor": "white",
            "showbackground": true,
            "ticks": "",
            "zerolinecolor": "white"
           }
          },
          "shapedefaults": {
           "line": {
            "color": "#2a3f5f"
           }
          },
          "ternary": {
           "aaxis": {
            "gridcolor": "white",
            "linecolor": "white",
            "ticks": ""
           },
           "baxis": {
            "gridcolor": "white",
            "linecolor": "white",
            "ticks": ""
           },
           "bgcolor": "#E5ECF6",
           "caxis": {
            "gridcolor": "white",
            "linecolor": "white",
            "ticks": ""
           }
          },
          "title": {
           "x": 0.05
          },
          "xaxis": {
           "automargin": true,
           "gridcolor": "white",
           "linecolor": "white",
           "ticks": "",
           "title": {
            "standoff": 15
           },
           "zerolinecolor": "white",
           "zerolinewidth": 2
          },
          "yaxis": {
           "automargin": true,
           "gridcolor": "white",
           "linecolor": "white",
           "ticks": "",
           "title": {
            "standoff": 15
           },
           "zerolinecolor": "white",
           "zerolinewidth": 2
          }
         }
        },
        "xaxis": {
         "anchor": "y",
         "autorange": true,
         "domain": [
          0,
          1
         ],
         "range": [
          "1980-12-01",
          "2014-07-01"
         ],
         "title": {
          "text": "Monthly"
         },
         "type": "date"
        },
        "yaxis": {
         "anchor": "x",
         "autorange": true,
         "domain": [
          0,
          1
         ],
         "range": [
          0,
          10901766105.263157
         ],
         "title": {
          "text": "Volume"
         },
         "type": "linear"
        }
       }
      },
      "image/png": "[encoded data removed]",
      "text/html": [
       "<div>                            <div id=\"ee889b8b-89d4-4885-a409-11bd6ca56a87\" class=\"plotly-graph-div\" style=\"height:525px; width:100%;\"></div>            <script type=\"text/javascript\">                require([\"plotly\"], function(Plotly) {                    window.PLOTLYENV=window.PLOTLYENV || {};                                    if (document.getElementById(\"ee889b8b-89d4-4885-a409-11bd6ca56a87\")) {                    Plotly.newPlot(                        \"ee889b8b-89d4-4885-a409-11bd6ca56a87\",                        [{\"hovertemplate\":\"Monthly=%{x}<br>Volume=%{y}<extra></extra>\",\"legendgroup\":\"\",\"line\":{\"color\":\"#636efa\"},\"marker\":{\"symbol\":\"circle\"},\"mode\":\"lines\",\"name\":\"\",\"orientation\":\"v\",\"showlegend\":false,\"stackgroup\":\"1\",\"x\":[\"1980-12-01T00:00:00\",\"1981-01-01T00:00:00\",\"1981-02-01T00:00:00\",\"1981-03-01T00:00:00\",\"1981-04-01T00:00:00\",\"1981-05-01T00:00:00\",\"1981-06-01T00:00:00\",\"1981-07-01T00:00:00\",\"1981-08-01T00:00:00\",\"1981-09-01T00:00:00\",\"1981-10-01T00:00:00\",\"1981-11-01T00:00:00\",\"1981-12-01T00:00:00\",\"1982-01-01T00:00:00\",\"1982-02-01T00:00:00\",\"1982-03-01T00:00:00\",\"1982-04-01T00:00:00\",\"1982-05-01T00:00:00\",\"1982-06-01T00:00:00\",\"1982-07-01T00:00:00\",\"1982-08-01T00:00:00\",\"1982-09-01T00:00:00\",\"1982-10-01T00:00:00\",\"1982-11-01T00:00:00\",\"1982-12-01T00:00:00\",\"1983-01-01T00:00:00\",\"1983-02-01T00:00:00\",\"1983-03-01T00:00:00\",\"1983-04-01T00:00:00\",\"1983-05-01T00:00:00\",\"1983-06-01T00:00:00\",\"1983-07-01T00:00:00\",\"1983-08-01T00:00:00\",\"1983-09-01T00:00:00\",\"1983-10-01T00:00:00\",\"1983-11-01T00:00:00\",\"1983-12-01T00:00:00\",\"1984-01-01T00:00:00\",\"1984-02-01T00:00:00\",\"1984-03-01T00:00:00\",\"1984-04-01T00:00:00\",\"1984-05-01T00:00:00\",\"1984-06-01T00:00:00\",\"1984-07-01T00:00:00\",\"1984-08-01T00:00:00\",\"1984-09-01T00:00:00\",\"1984-10-01T00:00:00\",\"1984-11-01T00:00:00\",\"1984-12-01T00:00:00\",\"1985-01-01T00:00:00\",\"1985-02-01T00:00:00\",\"1985-03-01T00:00:00\",\"1985-04-01T00:00:00\",\"1985-05-01T00:00:00\",\"1985-06-01T00:00:00\",\"1985-07-01T00:00:00\",\"1985-08-01T00:00:00\",\"1985-09-01T00:00:00\",\"1985-10-01T00:00:00\",\"1985-11-01T00:00:00\",\"1985-12-01T00:00:00\",\"1986-01-01T00:00:00\",\"1986-02-01T00:00:00\",\"1986-03-01T00:00:00\",\"1986-04-01T00:00:00\",\"1986-05-01T00:00:00\",\"1986-06-01T00:00:00\",\"1986-07-01T00:00:00\",\"1986-08-01T00:00:00\",\"1986-09-01T00:00:00\",\"1986-10-01T00:00:00\",\"1986-11-01T00:00:00\",\"1986-12-01T00:00:00\",\"1987-01-01T00:00:00\",\"1987-02-01T00:00:00\",\"1987-03-01T00:00:00\",\"1987-04-01T00:00:00\",\"1987-05-01T00:00:00\",\"1987-06-01T00:00:00\",\"1987-07-01T00:00:00\",\"1987-08-01T00:00:00\",\"1987-09-01T00:00:00\",\"1987-10-01T00:00:00\",\"1987-11-01T00:00:00\",\"1987-12-01T00:00:00\",\"1988-01-01T00:00:00\",\"1988-02-01T00:00:00\",\"1988-03-01T00:00:00\",\"1988-04-01T00:00:00\",\"1988-05-01T00:00:00\",\"1988-06-01T00:00:00\",\"1988-07-01T00:00:00\",\"1988-08-01T00:00:00\",\"1988-09-01T00:00:00\",\"1988-10-01T00:00:00\",\"1988-11-01T00:00:00\",\"1988-12-01T00:00:00\",\"1989-01-01T00:00:00\",\"1989-02-01T00:00:00\",\"1989-03-01T00:00:00\",\"1989-04-01T00:00:00\",\"1989-05-01T00:00:00\",\"1989-06-01T00:00:00\",\"1989-07-01T00:00:00\",\"1989-08-01T00:00:00\",\"1989-09-01T00:00:00\",\"1989-10-01T00:00:00\",\"1989-11-01T00:00:00\",\"1989-12-01T00:00:00\",\"1990-01-01T00:00:00\",\"1990-02-01T00:00:00\",\"1990-03-01T00:00:00\",\"1990-04-01T00:00:00\",\"1990-05-01T00:00:00\",\"1990-06-01T00:00:00\",\"1990-07-01T00:00:00\",\"1990-08-01T00:00:00\",\"1990-09-01T00:00:00\",\"1990-10-01T00:00:00\",\"1990-11-01T00:00:00\",\"1990-12-01T00:00:00\",\"1991-01-01T00:00:00\",\"1991-02-01T00:00:00\",\"1991-03-01T00:00:00\",\"1991-04-01T00:00:00\",\"1991-05-01T00:00:00\",\"1991-06-01T00:00:00\",\"1991-07-01T00:00:00\",\"1991-08-01T00:00:00\",\"1991-09-01T00:00:00\",\"1991-10-01T00:00:00\",\"1991-11-01T00:00:00\",\"1991-12-01T00:00:00\",\"1992-01-01T00:00:00\",\"1992-02-01T00:00:00\",\"1992-03-01T00:00:00\",\"1992-04-01T00:00:00\",\"1992-05-01T00:00:00\",\"1992-06-01T00:00:00\",\"1992-07-01T00:00:00\",\"1992-08-01T00:00:00\",\"1992-09-01T00:00:00\",\"1992-10-01T00:00:00\",\"1992-11-01T00:00:00\",\"1992-12-01T00:00:00\",\"1993-01-01T00:00:00\",\"1993-02-01T00:00:00\",\"1993-03-01T00:00:00\",\"1993-04-01T00:00:00\",\"1993-05-01T00:00:00\",\"1993-06-01T00:00:00\",\"1993-07-01T00:00:00\",\"1993-08-01T00:00:00\",\"1993-09-01T00:00:00\",\"1993-10-01T00:00:00\",\"1993-11-01T00:00:00\",\"1993-12-01T00:00:00\",\"1994-01-01T00:00:00\",\"1994-02-01T00:00:00\",\"1994-03-01T00:00:00\",\"1994-04-01T00:00:00\",\"1994-05-01T00:00:00\",\"1994-06-01T00:00:00\",\"1994-07-01T00:00:00\",\"1994-08-01T00:00:00\",\"1994-09-01T00:00:00\",\"1994-10-01T00:00:00\",\"1994-11-01T00:00:00\",\"1994-12-01T00:00:00\",\"1995-01-01T00:00:00\",\"1995-02-01T00:00:00\",\"1995-03-01T00:00:00\",\"1995-04-01T00:00:00\",\"1995-05-01T00:00:00\",\"1995-06-01T00:00:00\",\"1995-07-01T00:00:00\",\"1995-08-01T00:00:00\",\"1995-09-01T00:00:00\",\"1995-10-01T00:00:00\",\"1995-11-01T00:00:00\",\"1995-12-01T00:00:00\",\"1996-01-01T00:00:00\",\"1996-02-01T00:00:00\",\"1996-03-01T00:00:00\",\"1996-04-01T00:00:00\",\"1996-05-01T00:00:00\",\"1996-06-01T00:00:00\",\"1996-07-01T00:00:00\",\"1996-08-01T00:00:00\",\"1996-09-01T00:00:00\",\"1996-10-01T00:00:00\",\"1996-11-01T00:00:00\",\"1996-12-01T00:00:00\",\"1997-01-01T00:00:00\",\"1997-02-01T00:00:00\",\"1997-03-01T00:00:00\",\"1997-04-01T00:00:00\",\"1997-05-01T00:00:00\",\"1997-06-01T00:00:00\",\"1997-07-01T00:00:00\",\"1997-08-01T00:00:00\",\"1997-09-01T00:00:00\",\"1997-10-01T00:00:00\",\"1997-11-01T00:00:00\",\"1997-12-01T00:00:00\",\"1998-01-01T00:00:00\",\"1998-02-01T00:00:00\",\"1998-03-01T00:00:00\",\"1998-04-01T00:00:00\",\"1998-05-01T00:00:00\",\"1998-06-01T00:00:00\",\"1998-07-01T00:00:00\",\"1998-08-01T00:00:00\",\"1998-09-01T00:00:00\",\"1998-10-01T00:00:00\",\"1998-11-01T00:00:00\",\"1998-12-01T00:00:00\",\"1999-01-01T00:00:00\",\"1999-02-01T00:00:00\",\"1999-03-01T00:00:00\",\"1999-04-01T00:00:00\",\"1999-05-01T00:00:00\",\"1999-06-01T00:00:00\",\"1999-07-01T00:00:00\",\"1999-08-01T00:00:00\",\"1999-09-01T00:00:00\",\"1999-10-01T00:00:00\",\"1999-11-01T00:00:00\",\"1999-12-01T00:00:00\",\"2000-01-01T00:00:00\",\"2000-02-01T00:00:00\",\"2000-03-01T00:00:00\",\"2000-04-01T00:00:00\",\"2000-05-01T00:00:00\",\"2000-06-01T00:00:00\",\"2000-07-01T00:00:00\",\"2000-08-01T00:00:00\",\"2000-09-01T00:00:00\",\"2000-10-01T00:00:00\",\"2000-11-01T00:00:00\",\"2000-12-01T00:00:00\",\"2001-01-01T00:00:00\",\"2001-02-01T00:00:00\",\"2001-03-01T00:00:00\",\"2001-04-01T00:00:00\",\"2001-05-01T00:00:00\",\"2001-06-01T00:00:00\",\"2001-07-01T00:00:00\",\"2001-08-01T00:00:00\",\"2001-09-01T00:00:00\",\"2001-10-01T00:00:00\",\"2001-11-01T00:00:00\",\"2001-12-01T00:00:00\",\"2002-01-01T00:00:00\",\"2002-02-01T00:00:00\",\"2002-03-01T00:00:00\",\"2002-04-01T00:00:00\",\"2002-05-01T00:00:00\",\"2002-06-01T00:00:00\",\"2002-07-01T00:00:00\",\"2002-08-01T00:00:00\",\"2002-09-01T00:00:00\",\"2002-10-01T00:00:00\",\"2002-11-01T00:00:00\",\"2002-12-01T00:00:00\",\"2003-01-01T00:00:00\",\"2003-02-01T00:00:00\",\"2003-03-01T00:00:00\",\"2003-04-01T00:00:00\",\"2003-05-01T00:00:00\",\"2003-06-01T00:00:00\",\"2003-07-01T00:00:00\",\"2003-08-01T00:00:00\",\"2003-09-01T00:00:00\",\"2003-10-01T00:00:00\",\"2003-11-01T00:00:00\",\"2003-12-01T00:00:00\",\"2004-01-01T00:00:00\",\"2004-02-01T00:00:00\",\"2004-03-01T00:00:00\",\"2004-04-01T00:00:00\",\"2004-05-01T00:00:00\",\"2004-06-01T00:00:00\",\"2004-07-01T00:00:00\",\"2004-08-01T00:00:00\",\"2004-09-01T00:00:00\",\"2004-10-01T00:00:00\",\"2004-11-01T00:00:00\",\"2004-12-01T00:00:00\",\"2005-01-01T00:00:00\",\"2005-02-01T00:00:00\",\"2005-03-01T00:00:00\",\"2005-04-01T00:00:00\",\"2005-05-01T00:00:00\",\"2005-06-01T00:00:00\",\"2005-07-01T00:00:00\",\"2005-08-01T00:00:00\",\"2005-09-01T00:00:00\",\"2005-10-01T00:00:00\",\"2005-11-01T00:00:00\",\"2005-12-01T00:00:00\",\"2006-01-01T00:00:00\",\"2006-02-01T00:00:00\",\"2006-03-01T00:00:00\",\"2006-04-01T00:00:00\",\"2006-05-01T00:00:00\",\"2006-06-01T00:00:00\",\"2006-07-01T00:00:00\",\"2006-08-01T00:00:00\",\"2006-09-01T00:00:00\",\"2006-10-01T00:00:00\",\"2006-11-01T00:00:00\",\"2006-12-01T00:00:00\",\"2007-01-01T00:00:00\",\"2007-02-01T00:00:00\",\"2007-03-01T00:00:00\",\"2007-04-01T00:00:00\",\"2007-05-01T00:00:00\",\"2007-06-01T00:00:00\",\"2007-07-01T00:00:00\",\"2007-08-01T00:00:00\",\"2007-09-01T00:00:00\",\"2007-10-01T00:00:00\",\"2007-11-01T00:00:00\",\"2007-12-01T00:00:00\",\"2008-01-01T00:00:00\",\"2008-02-01T00:00:00\",\"2008-03-01T00:00:00\",\"2008-04-01T00:00:00\",\"2008-05-01T00:00:00\",\"2008-06-01T00:00:00\",\"2008-07-01T00:00:00\",\"2008-08-01T00:00:00\",\"2008-09-01T00:00:00\",\"2008-10-01T00:00:00\",\"2008-11-01T00:00:00\",\"2008-12-01T00:00:00\",\"2009-01-01T00:00:00\",\"2009-02-01T00:00:00\",\"2009-03-01T00:00:00\",\"2009-04-01T00:00:00\",\"2009-05-01T00:00:00\",\"2009-06-01T00:00:00\",\"2009-07-01T00:00:00\",\"2009-08-01T00:00:00\",\"2009-09-01T00:00:00\",\"2009-10-01T00:00:00\",\"2009-11-01T00:00:00\",\"2009-12-01T00:00:00\",\"2010-01-01T00:00:00\",\"2010-02-01T00:00:00\",\"2010-03-01T00:00:00\",\"2010-04-01T00:00:00\",\"2010-05-01T00:00:00\",\"2010-06-01T00:00:00\",\"2010-07-01T00:00:00\",\"2010-08-01T00:00:00\",\"2010-09-01T00:00:00\",\"2010-10-01T00:00:00\",\"2010-11-01T00:00:00\",\"2010-12-01T00:00:00\",\"2011-01-01T00:00:00\",\"2011-02-01T00:00:00\",\"2011-03-01T00:00:00\",\"2011-04-01T00:00:00\",\"2011-05-01T00:00:00\",\"2011-06-01T00:00:00\",\"2011-07-01T00:00:00\",\"2011-08-01T00:00:00\",\"2011-09-01T00:00:00\",\"2011-10-01T00:00:00\",\"2011-11-01T00:00:00\",\"2011-12-01T00:00:00\",\"2012-01-01T00:00:00\",\"2012-02-01T00:00:00\",\"2012-03-01T00:00:00\",\"2012-04-01T00:00:00\",\"2012-05-01T00:00:00\",\"2012-06-01T00:00:00\",\"2012-07-01T00:00:00\",\"2012-08-01T00:00:00\",\"2012-09-01T00:00:00\",\"2012-10-01T00:00:00\",\"2012-11-01T00:00:00\",\"2012-12-01T00:00:00\",\"2013-01-01T00:00:00\",\"2013-02-01T00:00:00\",\"2013-03-01T00:00:00\",\"2013-04-01T00:00:00\",\"2013-05-01T00:00:00\",\"2013-06-01T00:00:00\",\"2013-07-01T00:00:00\",\"2013-08-01T00:00:00\",\"2013-09-01T00:00:00\",\"2013-10-01T00:00:00\",\"2013-11-01T00:00:00\",\"2013-12-01T00:00:00\",\"2014-01-01T00:00:00\",\"2014-02-01T00:00:00\",\"2014-03-01T00:00:00\",\"2014-04-01T00:00:00\",\"2014-05-01T00:00:00\",\"2014-06-01T00:00:00\",\"2014-07-01T00:00:00\"],\"xaxis\":\"x\",\"y\":[336212800,152247200,80404800,175179200,134232000,147604800,237641600,166857600,137155200,185920000,226044000,146669600,259280000,216053600,152101600,299919200,437399200,310973600,200911200,354552800,539000000,415889600,944876800,788076800,681497600,1144757600,788323200,662082400,834708000,521102400,701870400,774457600,765385600,1277315200,1255469600,1030540000,664154400,1089704000,777840000,491472800,804176800,1328919200,793783200,708724800,1277948000,625156000,890764000,842514400,863755200,1591604000,1183347200,1153896800,717007200,1159782400,1452847200,650148800,454686400,449549600,946478400,721168000,892802400,1572950400,855215200,1066083200,1115671200,1238512800,1015840000,1422909600,910879200,894549600,746009600,1301540800,1190644000,2067228800,1654044000,1489829600,1703290400,959739200,874384000,767564000,779825200,768871600,1643924800,1058559600,1175566000,1555400000,842116800,1220525600,824482400,659626800,883682800,546604800,663328400,765080400,890912400,734966400,736517600,1836458400,1221567200,964919200,991606000,1313345600,985320000,922157600,838076400,505212400,1031262400,631234800,1485296400,936874400,620972800,1139118400,910618800,1028907600,988013600,1040953200,782084800,551737200,1264029200,813652000,1023523200,1759326800,1386445200,1302649600,1810762800,1993210800,1022915600,945873600,1043162400,598267600,898497600,924008400,651792400,1175790000,633749200,746415600,982847600,675931200,1212920800,908202400,686632800,763915600,882856800,781636800,833579600,1385566000,1162820400,915381600,978602800,800136400,1918599200,1785728000,920791200,917005600,1476330800,863027200,989242800,1833008800,1071114800,1314496400,1010534000,840414400,1167947200,1212016400,1143724400,808161200,1928371200,1012236400,946948800,2040525200,1324836800,1749286000,1418575200,1596168000,1380486800,1424894800,1323229600,1827870800,1624627200,1216073600,1640060800,2575053600,1163024800,836687600,716769200,900975600,1168484800,1200872400,796843600,803387200,1454244400,645341200,1036870800,2268184800,1143542400,1125560800,952431200,573176800,643076000,1695593200,4418926400,901518800,1607510800,1386870800,1274448000,2552894400,1838541600,2656494400,2020471600,1700834800,977460400,2731915200,3305218000,2020079600,3232731600,2530880800,3231026400,3781850800,2029129200,2487998800,3972242400,2227226400,1729655200,2866645600,2311150800,4741867200,3617124000,2156232400,2354553600,3138794400,1829945600,2174589200,2165601200,2451937600,2026301200,1436692600,1409021600,3629232600,5476447200,2122093400,2214742600,3427365200,1755941600,2699765600,2789747800,1867108600,1909566400,2163775600,1282339800,1382880800,1886061800,1342436200,1157459800,2128844200,1959356000,1329645800,1605709000,1494039400,2177004200,2029603800,1287921600,1322959400,1652858200,1132930400,1132609800,1511458200,1028575800,1007101200,1943835600,2702886200,1528333800,1304567600,1076891200,1336871200,1760047800,1243526200,1363468400,1981950600,1230507600,2906528800,2232543600,1326068800,2056808600,2424144800,2002841400,1918376600,4023591600,4359901000,3987153800,6427061200,5362236600,3668980000,4843879600,3214573600,2831798900,2523561600,2350201700,3086942600,4660861800,3364106900,3266041100,5469592800,4690174300,5798158100,5029820600,3902194800,4484155900,4369935500,4471911500,4430389600,3596989200,3458721000,4222698200,6802445300,3430588700,3979661000,3364935000,4341267000,5819885400,6004643400,6090199500,5232805900,5819447900,6549947600,4313169700,8793472100,6216488600,5731818400,5696745600,4647053600,4868948700,4937440200,3271438800,6016890600,10356677800,5904865400,5053461700,4526435200,3466862700,3856149500,2955420300,2364285700,3168893000,2735534200,2041281200,2497329800,3239044200,2113696200,2848489700,3792248600,2694020000,3038543200,3091782400,4520663700,4162813200,3917426100,2397280200,2962479800,3058644400,2377021500,1743308700,2710383900,2323987400,2826614700,2313457300,1728015100,2315962600,2663486700,4035649800,2994362000,3285356900,2240925400,1576633100,1714963600,2842138600,3896084500,3899747600,2776586400,1963956400,2227412600,2069051600,2299751300,3035707500,3232462800,3033188200,3280855900,2336008500,2294219200,2740872400,2361882600,1754634000,1634528700,2014584600,2157735300,1959433000,1306288900,1764349300,2191488600,1470091700,1250424700,1608765200,1433917100,1206556300,210918300],\"yaxis\":\"y\",\"type\":\"scatter\"}],                        {\"template\":{\"data\":{\"bar\":[{\"error_x\":{\"color\":\"#2a3f5f\"},\"error_y\":{\"color\":\"#2a3f5f\"},\"marker\":{\"line\":{\"color\":\"#E5ECF6\",\"width\":0.5},\"pattern\":{\"fillmode\":\"overlay\",\"size\":10,\"solidity\":0.2}},\"type\":\"bar\"}],\"barpolar\":[{\"marker\":{\"line\":{\"color\":\"#E5ECF6\",\"width\":0.5},\"pattern\":{\"fillmode\":\"overlay\",\"size\":10,\"solidity\":0.2}},\"type\":\"barpolar\"}],\"carpet\":[{\"aaxis\":{\"endlinecolor\":\"#2a3f5f\",\"gridcolor\":\"white\",\"linecolor\":\"white\",\"minorgridcolor\":\"white\",\"startlinecolor\":\"#2a3f5f\"},\"baxis\":{\"endlinecolor\":\"#2a3f5f\",\"gridcolor\":\"white\",\"linecolor\":\"white\",\"minorgridcolor\":\"white\",\"startlinecolor\":\"#2a3f5f\"},\"type\":\"carpet\"}],\"choropleth\":[{\"colorbar\":{\"outlinewidth\":0,\"ticks\":\"\"},\"type\":\"choropleth\"}],\"contour\":[{\"colorbar\":{\"outlinewidth\":0,\"ticks\":\"\"},\"colorscale\":[[0.0,\"#0d0887\"],[0.1111111111111111,\"#46039f\"],[0.2222222222222222,\"#7201a8\"],[0.3333333333333333,\"#9c179e\"],[0.4444444444444444,\"#bd3786\"],[0.5555555555555556,\"#d8576b\"],[0.6666666666666666,\"#ed7953\"],[0.7777777777777778,\"#fb9f3a\"],[0.8888888888888888,\"#fdca26\"],[1.0,\"#f0f921\"]],\"type\":\"contour\"}],\"contourcarpet\":[{\"colorbar\":{\"outlinewidth\":0,\"ticks\":\"\"},\"type\":\"contourcarpet\"}],\"heatmap\":[{\"colorbar\":{\"outlinewidth\":0,\"ticks\":\"\"},\"colorscale\":[[0.0,\"#0d0887\"],[0.1111111111111111,\"#46039f\"],[0.2222222222222222,\"#7201a8\"],[0.3333333333333333,\"#9c179e\"],[0.4444444444444444,\"#bd3786\"],[0.5555555555555556,\"#d8576b\"],[0.6666666666666666,\"#ed7953\"],[0.7777777777777778,\"#fb9f3a\"],[0.8888888888888888,\"#fdca26\"],[1.0,\"#f0f921\"]],\"type\":\"heatmap\"}],\"heatmapgl\":[{\"colorbar\":{\"outlinewidth\":0,\"ticks\":\"\"},\"colorscale\":[[0.0,\"#0d0887\"],[0.1111111111111111,\"#46039f\"],[0.2222222222222222,\"#7201a8\"],[0.3333333333333333,\"#9c179e\"],[0.4444444444444444,\"#bd3786\"],[0.5555555555555556,\"#d8576b\"],[0.6666666666666666,\"#ed7953\"],[0.7777777777777778,\"#fb9f3a\"],[0.8888888888888888,\"#fdca26\"],[1.0,\"#f0f921\"]],\"type\":\"heatmapgl\"}],\"histogram\":[{\"marker\":{\"pattern\":{\"fillmode\":\"overlay\",\"size\":10,\"solidity\":0.2}},\"type\":\"histogram\"}],\"histogram2d\":[{\"colorbar\":{\"outlinewidth\":0,\"ticks\":\"\"},\"colorscale\":[[0.0,\"#0d0887\"],[0.1111111111111111,\"#46039f\"],[0.2222222222222222,\"#7201a8\"],[0.3333333333333333,\"#9c179e\"],[0.4444444444444444,\"#bd3786\"],[0.5555555555555556,\"#d8576b\"],[0.6666666666666666,\"#ed7953\"],[0.7777777777777778,\"#fb9f3a\"],[0.8888888888888888,\"#fdca26\"],[1.0,\"#f0f921\"]],\"type\":\"histogram2d\"}],\"histogram2dcontour\":[{\"colorbar\":{\"outlinewidth\":0,\"ticks\":\"\"},\"colorscale\":[[0.0,\"#0d0887\"],[0.1111111111111111,\"#46039f\"],[0.2222222222222222,\"#7201a8\"],[0.3333333333333333,\"#9c179e\"],[0.4444444444444444,\"#bd3786\"],[0.5555555555555556,\"#d8576b\"],[0.6666666666666666,\"#ed7953\"],[0.7777777777777778,\"#fb9f3a\"],[0.8888888888888888,\"#fdca26\"],[1.0,\"#f0f921\"]],\"type\":\"histogram2dcontour\"}],\"mesh3d\":[{\"colorbar\":{\"outlinewidth\":0,\"ticks\":\"\"},\"type\":\"mesh3d\"}],\"parcoords\":[{\"line\":{\"colorbar\":{\"outlinewidth\":0,\"ticks\":\"\"}},\"type\":\"parcoords\"}],\"pie\":[{\"automargin\":true,\"type\":\"pie\"}],\"scatter\":[{\"marker\":{\"colorbar\":{\"outlinewidth\":0,\"ticks\":\"\"}},\"type\":\"scatter\"}],\"scatter3d\":[{\"line\":{\"colorbar\":{\"outlinewidth\":0,\"ticks\":\"\"}},\"marker\":{\"colorbar\":{\"outlinewidth\":0,\"ticks\":\"\"}},\"type\":\"scatter3d\"}],\"scattercarpet\":[{\"marker\":{\"colorbar\":{\"outlinewidth\":0,\"ticks\":\"\"}},\"type\":\"scattercarpet\"}],\"scattergeo\":[{\"marker\":{\"colorbar\":{\"outlinewidth\":0,\"ticks\":\"\"}},\"type\":\"scattergeo\"}],\"scattergl\":[{\"marker\":{\"colorbar\":{\"outlinewidth\":0,\"ticks\":\"\"}},\"type\":\"scattergl\"}],\"scattermapbox\":[{\"marker\":{\"colorbar\":{\"outlinewidth\":0,\"ticks\":\"\"}},\"type\":\"scattermapbox\"}],\"scatterpolar\":[{\"marker\":{\"colorbar\":{\"outlinewidth\":0,\"ticks\":\"\"}},\"type\":\"scatterpolar\"}],\"scatterpolargl\":[{\"marker\":{\"colorbar\":{\"outlinewidth\":0,\"ticks\":\"\"}},\"type\":\"scatterpolargl\"}],\"scatterternary\":[{\"marker\":{\"colorbar\":{\"outlinewidth\":0,\"ticks\":\"\"}},\"type\":\"scatterternary\"}],\"surface\":[{\"colorbar\":{\"outlinewidth\":0,\"ticks\":\"\"},\"colorscale\":[[0.0,\"#0d0887\"],[0.1111111111111111,\"#46039f\"],[0.2222222222222222,\"#7201a8\"],[0.3333333333333333,\"#9c179e\"],[0.4444444444444444,\"#bd3786\"],[0.5555555555555556,\"#d8576b\"],[0.6666666666666666,\"#ed7953\"],[0.7777777777777778,\"#fb9f3a\"],[0.8888888888888888,\"#fdca26\"],[1.0,\"#f0f921\"]],\"type\":\"surface\"}],\"table\":[{\"cells\":{\"fill\":{\"color\":\"#EBF0F8\"},\"line\":{\"color\":\"white\"}},\"header\":{\"fill\":{\"color\":\"#C8D4E3\"},\"line\":{\"color\":\"white\"}},\"type\":\"table\"}]},\"layout\":{\"annotationdefaults\":{\"arrowcolor\":\"#2a3f5f\",\"arrowhead\":0,\"arrowwidth\":1},\"autotypenumbers\":\"strict\",\"coloraxis\":{\"colorbar\":{\"outlinewidth\":0,\"ticks\":\"\"}},\"colorscale\":{\"diverging\":[[0,\"#8e0152\"],[0.1,\"#c51b7d\"],[0.2,\"#de77ae\"],[0.3,\"#f1b6da\"],[0.4,\"#fde0ef\"],[0.5,\"#f7f7f7\"],[0.6,\"#e6f5d0\"],[0.7,\"#b8e186\"],[0.8,\"#7fbc41\"],[0.9,\"#4d9221\"],[1,\"#276419\"]],\"sequential\":[[0.0,\"#0d0887\"],[0.1111111111111111,\"#46039f\"],[0.2222222222222222,\"#7201a8\"],[0.3333333333333333,\"#9c179e\"],[0.4444444444444444,\"#bd3786\"],[0.5555555555555556,\"#d8576b\"],[0.6666666666666666,\"#ed7953\"],[0.7777777777777778,\"#fb9f3a\"],[0.8888888888888888,\"#fdca26\"],[1.0,\"#f0f921\"]],\"sequentialminus\":[[0.0,\"#0d0887\"],[0.1111111111111111,\"#46039f\"],[0.2222222222222222,\"#7201a8\"],[0.3333333333333333,\"#9c179e\"],[0.4444444444444444,\"#bd3786\"],[0.5555555555555556,\"#d8576b\"],[0.6666666666666666,\"#ed7953\"],[0.7777777777777778,\"#fb9f3a\"],[0.8888888888888888,\"#fdca26\"],[1.0,\"#f0f921\"]]},\"colorway\":[\"#636efa\",\"#EF553B\",\"#00cc96\",\"#ab63fa\",\"#FFA15A\",\"#19d3f3\",\"#FF6692\",\"#B6E880\",\"#FF97FF\",\"#FECB52\"],\"font\":{\"color\":\"#2a3f5f\"},\"geo\":{\"bgcolor\":\"white\",\"lakecolor\":\"white\",\"landcolor\":\"#E5ECF6\",\"showlakes\":true,\"showland\":true,\"subunitcolor\":\"white\"},\"hoverlabel\":{\"align\":\"left\"},\"hovermode\":\"closest\",\"mapbox\":{\"style\":\"light\"},\"paper_bgcolor\":\"white\",\"plot_bgcolor\":\"#E5ECF6\",\"polar\":{\"angularaxis\":{\"gridcolor\":\"white\",\"linecolor\":\"white\",\"ticks\":\"\"},\"bgcolor\":\"#E5ECF6\",\"radialaxis\":{\"gridcolor\":\"white\",\"linecolor\":\"white\",\"ticks\":\"\"}},\"scene\":{\"xaxis\":{\"backgroundcolor\":\"#E5ECF6\",\"gridcolor\":\"white\",\"gridwidth\":2,\"linecolor\":\"white\",\"showbackground\":true,\"ticks\":\"\",\"zerolinecolor\":\"white\"},\"yaxis\":{\"backgroundcolor\":\"#E5ECF6\",\"gridcolor\":\"white\",\"gridwidth\":2,\"linecolor\":\"white\",\"showbackground\":true,\"ticks\":\"\",\"zerolinecolor\":\"white\"},\"zaxis\":{\"backgroundcolor\":\"#E5ECF6\",\"gridcolor\":\"white\",\"gridwidth\":2,\"linecolor\":\"white\",\"showbackground\":true,\"ticks\":\"\",\"zerolinecolor\":\"white\"}},\"shapedefaults\":{\"line\":{\"color\":\"#2a3f5f\"}},\"ternary\":{\"aaxis\":{\"gridcolor\":\"white\",\"linecolor\":\"white\",\"ticks\":\"\"},\"baxis\":{\"gridcolor\":\"white\",\"linecolor\":\"white\",\"ticks\":\"\"},\"bgcolor\":\"#E5ECF6\",\"caxis\":{\"gridcolor\":\"white\",\"linecolor\":\"white\",\"ticks\":\"\"}},\"title\":{\"x\":0.05},\"xaxis\":{\"automargin\":true,\"gridcolor\":\"white\",\"linecolor\":\"white\",\"ticks\":\"\",\"title\":{\"standoff\":15},\"zerolinecolor\":\"white\",\"zerolinewidth\":2},\"yaxis\":{\"automargin\":true,\"gridcolor\":\"white\",\"linecolor\":\"white\",\"ticks\":\"\",\"title\":{\"standoff\":15},\"zerolinecolor\":\"white\",\"zerolinewidth\":2}}},\"xaxis\":{\"anchor\":\"y\",\"domain\":[0.0,1.0],\"title\":{\"text\":\"Monthly\"}},\"yaxis\":{\"anchor\":\"x\",\"domain\":[0.0,1.0],\"title\":{\"text\":\"Volume\"}},\"legend\":{\"tracegroupgap\":0},\"margin\":{\"t\":60}},                        {\"responsive\": true}                    ).then(function(){\n",
       "                            \n",
       "var gd = document.getElementById('ee889b8b-89d4-4885-a409-11bd6ca56a87');\n",
       "var x = new MutationObserver(function (mutations, observer) {{\n",
       "        var display = window.getComputedStyle(gd).display;\n",
       "        if (!display || display === 'none') {{\n",
       "            console.log([gd, 'removed!']);\n",
       "            Plotly.purge(gd);\n",
       "            observer.disconnect();\n",
       "        }}\n",
       "}});\n",
       "\n",
       "// Listen for the removal of the full notebook cells\n",
       "var notebookContainer = gd.closest('#notebook-container');\n",
       "if (notebookContainer) {{\n",
       "    x.observe(notebookContainer, {childList: true});\n",
       "}}\n",
       "\n",
       "// Listen for the clearing of the current output cell\n",
       "var outputEl = gd.closest('.output');\n",
       "if (outputEl) {{\n",
       "    x.observe(outputEl, {childList: true});\n",
       "}}\n",
       "\n",
       "                        })                };                });            </script>        </div>"
      ]
     },
     "metadata": {},
     "output_type": "display_data"
    }
   ],
   "source": [
    "px.area(x='Monthly', y='Volume', data_frame=dfres)"
   ]
  },
  {
   "cell_type": "markdown",
   "id": "922e944e-293f-46b7-9e92-a95065ae4c92",
   "metadata": {},
   "source": [
    "# What Have We Learnt?\n",
    "\n",
    "- How to get a correct diagnosis of the error?\n",
    "- How to ask for solutions in Google applying the [Python Resolver Discipline](https://github.com/jsulopz/python-resolver-discipline)?\n",
    "- How to break up the problem into pieces to finally reach the solution?"
   ]
  },
  {
   "cell_type": "markdown",
   "id": "19087f79-2971-497f-b28b-39fba6e25f35",
   "metadata": {},
   "source": [
    "# Which Concepts Have We Learnt?\n",
    "\n",
    "- Series\n",
    "- Datetime\n",
    "- Period\n",
    "- Timestamp\n",
    "- DataFrame\n",
    "- `pandas.Series.reset_index()`\n",
    "- Index"
   ]
  }
 ],
 "metadata": {
  "kernelspec": {
   "display_name": "Python 3 (ipykernel)",
   "language": "python",
   "name": "python3"
  },
  "language_info": {
   "codemirror_mode": {
    "name": "ipython",
    "version": 3
   },
   "file_extension": ".py",
   "mimetype": "text/x-python",
   "name": "python",
   "nbconvert_exporter": "python",
   "pygments_lexer": "ipython3",
   "version": "3.9.7"
  },
  "toc-autonumbering": true
 },
 "nbformat": 4,
 "nbformat_minor": 5
}
