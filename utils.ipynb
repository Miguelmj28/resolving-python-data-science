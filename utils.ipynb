{
 "cells": [
  {
   "cell_type": "markdown",
   "id": "27f8482b-058f-408b-9b21-120e77a68ee5",
   "metadata": {},
   "source": [
    "# 1 File"
   ]
  },
  {
   "cell_type": "code",
   "execution_count": 1,
   "id": "0d93f373-64e6-44f5-9ffc-f44862841c0c",
   "metadata": {},
   "outputs": [],
   "source": [
    "import nbformat as nb\n",
    "import re\n",
    "import os"
   ]
  },
  {
   "cell_type": "code",
   "execution_count": 2,
   "id": "8867504e-a533-4fc6-9d59-c80808ecc7ac",
   "metadata": {},
   "outputs": [],
   "source": [
    "packages = []\n",
    "\n",
    "for i in os.listdir():\n",
    "    if re.search('^I', i):\n",
    "        packages.append(i)"
   ]
  },
  {
   "cell_type": "markdown",
   "id": "db5fc677-b9c7-4ab8-a740-6e2d46bf8cb7",
   "metadata": {},
   "source": [
    "## small change in material name (material is the file 02practice.ipynb)"
   ]
  },
  {
   "cell_type": "code",
   "execution_count": null,
   "id": "5c289e68-aa0b-4e84-819b-cd98d42674db",
   "metadata": {},
   "outputs": [],
   "source": [
    "for package in packages:\n",
    "    chapters = os.listdir(package)\n",
    "    for chapter in chapters:\n",
    "        if re.search('^\\d', chapter):\n",
    "            materials = os.listdir(os.path.join(package, chapter))\n",
    "            for material in materials:\n",
    "                material_path = os.path.join(package, chapter, material)\n",
    "                if re.search('v2', material):\n",
    "                    source = os.path.join(package, chapter, material)\n",
    "                    dest = (re.sub('v2_', '', material_path))\n",
    "                    os.rename(source, dest)"
   ]
  },
  {
   "cell_type": "markdown",
   "id": "d8848dec-dbc9-4a18-936c-7a356f1c57eb",
   "metadata": {},
   "source": [
    "## Small changes within material content"
   ]
  },
  {
   "cell_type": "code",
   "execution_count": 7,
   "id": "9ba18754-75ee-47b0-9a72-f2a448901e20",
   "metadata": {},
   "outputs": [
    {
     "name": "stdout",
     "output_type": "stream",
     "text": [
      "II Machine Learning & Deep Learning/01_Why Neural Networks Deeply Learn a Mathematical Formula/01session_why-neural-networks-deepl.ipynb\n",
      "II Machine Learning & Deep Learning/01_Why Neural Networks Deeply Learn a Mathematical Formula/01practice_why-neural-networks-deepl.ipynb\n",
      "II Machine Learning & Deep Learning/06_Componentes Principales (PCA)/06practice_componentes-principales-(.ipynb\n",
      "II Machine Learning & Deep Learning/06_Componentes Principales (PCA)/06session_componentes-principales-(.ipynb\n",
      "II Machine Learning & Deep Learning/03_Model Selection. Decision Tree vs Support Vector Machines vs Logistic Regression/03practice_model-selection-decision-.ipynb\n",
      "II Machine Learning & Deep Learning/03_Model Selection. Decision Tree vs Support Vector Machines vs Logistic Regression/03session_model-selection-decision-.ipynb\n",
      "II Machine Learning & Deep Learning/04_Hyperparameter Tuning with Cross Validation/04session_hyperparameter-tuning-wit.ipynb\n",
      "II Machine Learning & Deep Learning/04_Hyperparameter Tuning with Cross Validation/04practice_hyperparameter-tuning-wit.ipynb\n",
      "II Machine Learning & Deep Learning/05_Cluster Analysis con k-Means/05practice_cluster-analysis-con-k-me.ipynb\n",
      "II Machine Learning & Deep Learning/05_Cluster Analysis con k-Means/05session_cluster-analysis-con-k-me.ipynb\n",
      "I Resolving Python with Data Science/03_Machine Learning & Linear Regression/03session_machine-learning-&-linear.ipynb\n",
      "I Resolving Python with Data Science/03_Machine Learning & Linear Regression/03practice_machine-learning-&-linear.ipynb\n",
      "I Resolving Python with Data Science/02_Data Manipulation & Visualization to Enhance the Discipline/02session_data-manipulation-&-visua.ipynb\n",
      "I Resolving Python with Data Science/01_Data Tables & Basic Concepts of Programming/01practice_data-tables-&-basic-conce.ipynb\n",
      "I Resolving Python with Data Science/01_Data Tables & Basic Concepts of Programming/01session_data-tables-&-basic-conce.ipynb\n"
     ]
    }
   ],
   "source": [
    "packages = []\n",
    "\n",
    "for i in os.listdir():\n",
    "    if re.search('^I', i):\n",
    "        packages.append(i)\n",
    "\n",
    "for package in packages:\n",
    "\n",
    "    chapters = []\n",
    "\n",
    "    for i in os.listdir(package):\n",
    "        if re.search('^\\d', i):\n",
    "            chapters.append(i)\n",
    "\n",
    "    for chapter in chapters:\n",
    "        match = re.match('^(\\d+)_(.*)', chapter)\n",
    "\n",
    "        n_chapter = match.group(1)\n",
    "        name_chapter = match.group(2)\n",
    "        \n",
    "        chapter_path = os.path.join(package, chapter)\n",
    "\n",
    "        for i in os.listdir(chapter_path):\n",
    "            nfile = re.match('^(\\d+)(\\w+)_.*(\\.ipynb)', i)\n",
    "            \n",
    "            if nfile:\n",
    "                name_chapter_file = name_chapter.lower().replace(' ', '-').replace('.', '')[:25]\n",
    "                nfile_final = f'{n_chapter}{nfile.group(2)}_{name_chapter_file}.ipynb'\n",
    "                nfile_final_path = os.path.join(package, chapter, nfile_final)\n",
    "                os.rename(src=os.path.join(package, chapter, i),\n",
    "                         dst=nfile_final_path)\n",
    "                print(nfile_final_path)\n",
    "\n",
    "        file = nb.read(fp=nfile_final_path, as_version=4)\n",
    "\n",
    "        cells = file['cells']\n",
    "\n",
    "        notebook_title = f'#{n_chapter} | {name_chapter}'\n",
    "\n",
    "        for cell in cells:\n",
    "            if re.search('#\\d+\\.', cell['source']):\n",
    "                cell['source'] = f'<font size=\"+5\">{notebook_title}</font>'\n",
    "\n",
    "            if re.search('linkedin', cell['source']):\n",
    "                cell['source'] = \"- Subscribe to my [Blog ↗](https://blog.pythonassembly.com/)\\n- Let's keep in touch on [LinkedIn ↗](www.linkedin.com/in/jsulopz) 😄\"\n",
    "\n",
    "        with open(nfile_final_path, 'w') as f:\n",
    "            nb.write(nb=file, fp=f)"
   ]
  },
  {
   "cell_type": "code",
   "execution_count": null,
   "id": "f074376f-966d-4011-b2f9-f20fa49caa8a",
   "metadata": {},
   "outputs": [],
   "source": []
  },
  {
   "cell_type": "code",
   "execution_count": null,
   "id": "f6860ed3-e78c-4768-b33d-51a2d09d8db8",
   "metadata": {},
   "outputs": [],
   "source": []
  },
  {
   "cell_type": "code",
   "execution_count": null,
   "id": "2acf1cb4-c464-4346-a322-7b5062c4326a",
   "metadata": {},
   "outputs": [],
   "source": []
  },
  {
   "cell_type": "code",
   "execution_count": null,
   "id": "c3253669-2c06-492c-9f46-3c9e126f03f5",
   "metadata": {},
   "outputs": [],
   "source": []
  },
  {
   "cell_type": "code",
   "execution_count": 1,
   "id": "0303bc5e-637a-4270-b38a-a54f9f9e80fb",
   "metadata": {},
   "outputs": [],
   "source": [
    "import os\n",
    "import re"
   ]
  },
  {
   "cell_type": "code",
   "execution_count": 2,
   "id": "f3d49fc3-6c89-49d6-85aa-db7f0bdfff4f",
   "metadata": {},
   "outputs": [],
   "source": [
    "files = os.listdir()"
   ]
  },
  {
   "cell_type": "code",
   "execution_count": 22,
   "id": "37ec4d81-f203-4486-a753-ccd96e518a9a",
   "metadata": {},
   "outputs": [],
   "source": [
    "for i in files:\n",
    "    if re.match('^I', i):\n",
    "        carpeta_modular = i\n",
    "        for j in os.listdir(carpeta_modular):\n",
    "            if \"|\" in j:\n",
    "                camino_capitulo = os.path.join(i,j)\n",
    "                destino = re.sub(' \\| ', '_', camino_capitulo)\n",
    "                os.rename(camino_capitulo, destino)"
   ]
  },
  {
   "cell_type": "markdown",
   "id": "ac23f77a-7974-46ec-af1f-765270c190e1",
   "metadata": {},
   "source": [
    "# Create Preparation Folder"
   ]
  },
  {
   "cell_type": "code",
   "execution_count": 22,
   "id": "82de84e5-6cf0-4966-8f87-c9f038ecfdaa",
   "metadata": {},
   "outputs": [
    {
     "name": "stdout",
     "output_type": "stream",
     "text": [
      "01session-solution.ipynb\n",
      "01practice-solution.ipynb\n"
     ]
    }
   ],
   "source": [
    "for i in files:\n",
    "    if '#' in i:\n",
    "        subfiles = os.listdir(os.path.join(i))\n",
    "        if 'preparation' not in subfiles:\n",
    "            os.mkdir(os.path.join(i, 'preparation'))\n",
    "            \n",
    "        preparation_folder = os.path.join(i,'preparation')\n",
    "        preparation_folder_files = os.listdir(preparation_folder)\n",
    "        \n",
    "        for j in ['session', 'practice']:\n",
    "            a = []\n",
    "            for k in preparation_folder_files:\n",
    "                if re.search(j, k):\n",
    "                    a.append(k)"
   ]
  },
  {
   "cell_type": "code",
   "execution_count": 21,
   "id": "694e3d57-99fd-488f-b895-f67cb7cda598",
   "metadata": {},
   "outputs": [
    {
     "data": {
      "text/plain": [
       "[]"
      ]
     },
     "execution_count": 21,
     "metadata": {},
     "output_type": "execute_result"
    }
   ],
   "source": [
    "a"
   ]
  },
  {
   "cell_type": "code",
   "execution_count": 17,
   "id": "e5d476ee-a6d0-4240-8d59-bf292161b5e1",
   "metadata": {},
   "outputs": [
    {
     "data": {
      "text/plain": [
       "[]"
      ]
     },
     "execution_count": 17,
     "metadata": {},
     "output_type": "execute_result"
    }
   ],
   "source": [
    "matched_file"
   ]
  },
  {
   "cell_type": "markdown",
   "id": "7caf4d0b-09d3-4e42-8dbb-feb4fc31e20b",
   "metadata": {},
   "source": [
    "## Move Files to Preparation"
   ]
  },
  {
   "cell_type": "code",
   "execution_count": null,
   "id": "5812ada2-6c44-4159-a830-4181e9525d45",
   "metadata": {},
   "outputs": [],
   "source": []
  },
  {
   "cell_type": "code",
   "execution_count": null,
   "id": "60cb2b01-e47d-43d8-91fd-74c75ecd7145",
   "metadata": {},
   "outputs": [],
   "source": []
  },
  {
   "cell_type": "markdown",
   "id": "4b5f3065-f7d1-43b0-b785-b1816dfbfbb0",
   "metadata": {},
   "source": [
    "## Inserting banners"
   ]
  },
  {
   "cell_type": "code",
   "execution_count": 4,
   "id": "2edb488c-0dcd-4fa9-9911-d7189b870291",
   "metadata": {},
   "outputs": [],
   "source": [
    "banner = '''- Book + Lessons [here ↗](https://sotastica.com/reservar)\n",
    "- Subscribe to my [Blog ↗](https://blog.pythonassembly.com/)\n",
    "- **Keep in touch** with me on [LinkedIn ↗](https://www.linkedin.com/in/jsulopz)'''"
   ]
  },
  {
   "cell_type": "code",
   "execution_count": 6,
   "id": "192e5542-132c-4603-b8cd-ac6368a91b5a",
   "metadata": {},
   "outputs": [],
   "source": [
    "import os"
   ]
  },
  {
   "cell_type": "code",
   "execution_count": 13,
   "id": "5a747ced-eb7f-4840-b7a2-de4c8a7ecd61",
   "metadata": {},
   "outputs": [],
   "source": [
    "block_folders = os.listdir()"
   ]
  },
  {
   "cell_type": "code",
   "execution_count": 14,
   "id": "1e010f3e-d1a5-4b6d-b6e1-f321ca7577e5",
   "metadata": {},
   "outputs": [],
   "source": [
    "block_folders.sort()"
   ]
  },
  {
   "cell_type": "code",
   "execution_count": 23,
   "id": "a5058288-80b1-4940-a267-8195c16ad90e",
   "metadata": {},
   "outputs": [],
   "source": [
    "import re\n",
    "import pandas as pd"
   ]
  },
  {
   "cell_type": "code",
   "execution_count": 25,
   "id": "8caf6c10-5ae2-459b-ba79-137888a75e27",
   "metadata": {},
   "outputs": [],
   "source": [
    "df = pd.Series(block_folders)"
   ]
  },
  {
   "cell_type": "code",
   "execution_count": 40,
   "id": "a3b012d8-05fb-4677-af01-a12b04c0536f",
   "metadata": {},
   "outputs": [],
   "source": [
    "mask = df.str.match(r'^I')"
   ]
  },
  {
   "cell_type": "code",
   "execution_count": 46,
   "id": "36bccd15-5716-473c-b179-c1cba9ef6a7f",
   "metadata": {},
   "outputs": [],
   "source": [
    "df = df[mask].values"
   ]
  },
  {
   "cell_type": "code",
   "execution_count": 48,
   "id": "f1698510-65f8-431e-89e8-516ffffe0c38",
   "metadata": {},
   "outputs": [],
   "source": [
    "block = df[0]"
   ]
  },
  {
   "cell_type": "code",
   "execution_count": 54,
   "id": "4f7994e6-76e2-46dc-b1b3-878c3011ac04",
   "metadata": {},
   "outputs": [],
   "source": [
    "block_chapters = [i for i in os.listdir(block) if '#' in i]"
   ]
  },
  {
   "cell_type": "code",
   "execution_count": 59,
   "id": "5d7148f2-4377-49e1-9d6f-633b7b83f2b2",
   "metadata": {},
   "outputs": [],
   "source": [
    "chapter = block_chapters[0]"
   ]
  },
  {
   "cell_type": "code",
   "execution_count": 62,
   "id": "76636cc0-e336-4e59-b484-3c2df0de29a9",
   "metadata": {},
   "outputs": [],
   "source": [
    "chapter_files = pd.Series(os.listdir(os.path.join(block, chapter)))"
   ]
  },
  {
   "cell_type": "code",
   "execution_count": 69,
   "id": "435cfab3-fa3c-4f74-b483-54dc805f3458",
   "metadata": {},
   "outputs": [
    {
     "data": {
      "text/plain": [
       "0             .DS_Store\n",
       "1      02practice.ipynb\n",
       "2       02session.ipynb\n",
       "3    .ipynb_checkpoints\n",
       "4           preparation\n",
       "dtype: object"
      ]
     },
     "execution_count": 69,
     "metadata": {},
     "output_type": "execute_result"
    }
   ],
   "source": [
    "chapter_files"
   ]
  },
  {
   "cell_type": "code",
   "execution_count": 72,
   "id": "f7feeb62-95e0-4f8c-b159-073abab229e9",
   "metadata": {},
   "outputs": [],
   "source": [
    "mask_files = chapter_files.str.contains('practice|session')"
   ]
  },
  {
   "cell_type": "code",
   "execution_count": 74,
   "id": "4669492d-303c-4e13-beee-5353752b8985",
   "metadata": {},
   "outputs": [],
   "source": [
    "df = chapter_files[mask_files]"
   ]
  },
  {
   "cell_type": "code",
   "execution_count": 82,
   "id": "bcdd8b20-825f-40e7-89c8-5ea386909c06",
   "metadata": {},
   "outputs": [],
   "source": [
    "df_complete_path = block + '/' + chapter + '/' + df"
   ]
  },
  {
   "cell_type": "code",
   "execution_count": 85,
   "id": "ce46540f-37d1-46ae-8a28-d6f1dfcf11a8",
   "metadata": {},
   "outputs": [],
   "source": [
    "path_files = df_complete_path.values\n",
    "path_file = path_files[0]"
   ]
  },
  {
   "cell_type": "code",
   "execution_count": 86,
   "id": "e56c62dd-de6a-454c-85bc-8278f49adabc",
   "metadata": {},
   "outputs": [
    {
     "data": {
      "text/plain": [
       "'I Python Basics with Pandas/#02. Data Manipulation & Visualization to Enhance the Discipline/02practice.ipynb'"
      ]
     },
     "execution_count": 86,
     "metadata": {},
     "output_type": "execute_result"
    }
   ],
   "source": [
    "with open(path_file, 'rw') as f:\n",
    "    "
   ]
  },
  {
   "cell_type": "code",
   "execution_count": null,
   "id": "7a101c88-2bb9-4493-9201-68bd03302c9b",
   "metadata": {},
   "outputs": [],
   "source": []
  }
 ],
 "metadata": {
  "kernelspec": {
   "display_name": "Python 3 (ipykernel)",
   "language": "python",
   "name": "python3"
  },
  "language_info": {
   "codemirror_mode": {
    "name": "ipython",
    "version": 3
   },
   "file_extension": ".py",
   "mimetype": "text/x-python",
   "name": "python",
   "nbconvert_exporter": "python",
   "pygments_lexer": "ipython3",
   "version": "3.9.7"
  }
 },
 "nbformat": 4,
 "nbformat_minor": 5
}
