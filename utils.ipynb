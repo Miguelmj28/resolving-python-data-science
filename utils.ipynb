{
 "cells": [
  {
   "cell_type": "markdown",
   "id": "27f8482b-058f-408b-9b21-120e77a68ee5",
   "metadata": {},
   "source": [
    "# 1 File"
   ]
  },
  {
   "cell_type": "code",
   "execution_count": 28,
   "id": "0d93f373-64e6-44f5-9ffc-f44862841c0c",
   "metadata": {},
   "outputs": [],
   "source": [
    "import nbformat as nb\n",
    "import re\n",
    "import os"
   ]
  },
  {
   "cell_type": "code",
   "execution_count": 29,
   "id": "8867504e-a533-4fc6-9d59-c80808ecc7ac",
   "metadata": {},
   "outputs": [],
   "source": [
    "packages = []\n",
    "\n",
    "for i in os.listdir():\n",
    "    if re.search('^I', i):\n",
    "        packages.append(i)"
   ]
  },
  {
   "cell_type": "markdown",
   "id": "db5fc677-b9c7-4ab8-a740-6e2d46bf8cb7",
   "metadata": {},
   "source": [
    "## small change in material name (material is the file 02practice.ipynb)"
   ]
  },
  {
   "cell_type": "code",
   "execution_count": null,
   "id": "5c289e68-aa0b-4e84-819b-cd98d42674db",
   "metadata": {},
   "outputs": [],
   "source": [
    "for package in packages:\n",
    "    chapters = os.listdir(package)\n",
    "    for chapter in chapters:\n",
    "        if re.search('^\\d', chapter):\n",
    "            materials = os.listdir(os.path.join(package, chapter))\n",
    "            for material in materials:\n",
    "                material_path = os.path.join(package, chapter, material)\n",
    "                if re.search('v2', material):\n",
    "                    source = os.path.join(package, chapter, material)\n",
    "                    dest = (re.sub('v2_', '', material_path))\n",
    "                    os.rename(source, dest)"
   ]
  },
  {
   "cell_type": "markdown",
   "id": "d8848dec-dbc9-4a18-936c-7a356f1c57eb",
   "metadata": {},
   "source": [
    "## Small changes within material content"
   ]
  },
  {
   "cell_type": "code",
   "execution_count": 30,
   "id": "1f5a2700-4d7c-45b5-8416-feba19b0db52",
   "metadata": {},
   "outputs": [],
   "source": [
    "packages.sort()"
   ]
  },
  {
   "cell_type": "code",
   "execution_count": 31,
   "id": "a194469f-01f7-4141-839c-72926486c283",
   "metadata": {},
   "outputs": [
    {
     "data": {
      "text/plain": [
       "['I Resolving Python with Data Science',\n",
       " 'II Machine Learning & Deep Learning',\n",
       " 'III Advanced Machine Learning',\n",
       " 'IV Resolving Python for Professionals']"
      ]
     },
     "execution_count": 31,
     "metadata": {},
     "output_type": "execute_result"
    }
   ],
   "source": [
    "packages"
   ]
  },
  {
   "cell_type": "code",
   "execution_count": 32,
   "id": "f9ebc0b4-7d34-441e-a099-1b8c43ff3a81",
   "metadata": {},
   "outputs": [],
   "source": [
    "import pandas as pd"
   ]
  },
  {
   "cell_type": "code",
   "execution_count": 33,
   "id": "abc1400e-a228-4f34-9b25-f31ad85222d8",
   "metadata": {},
   "outputs": [],
   "source": [
    "lista = '''data-tables, data-visualization, machine-learning-linear-regression\n",
    "neural-networks, decision-tree, model-selection, hyperparameter-tuning, cluster-kmeans, pca\n",
    "ml-deployment, shapley-values, smote-imbalanced-data, data-wrangling\n",
    "pandas-excel, apis, for-loops, dashboard, sql'''"
   ]
  },
  {
   "cell_type": "code",
   "execution_count": 34,
   "id": "dc3bc13c-994e-4511-8884-363bacd87960",
   "metadata": {},
   "outputs": [],
   "source": [
    "dic_topic = dict(zip(packages, lista.splitlines()))"
   ]
  },
  {
   "cell_type": "code",
   "execution_count": 35,
   "id": "c3b67019-cf26-48c8-b32f-00f0c6ac22d5",
   "metadata": {},
   "outputs": [],
   "source": [
    "for i in dic_topic:\n",
    "    dic_topic[i] = dic_topic[i].replace(' ', '').split(',')"
   ]
  },
  {
   "cell_type": "code",
   "execution_count": 36,
   "id": "7cf7a22e-de42-477c-aebd-fa67b6f00c87",
   "metadata": {},
   "outputs": [
    {
     "data": {
      "text/plain": [
       "'pandas-excel'"
      ]
     },
     "execution_count": 36,
     "metadata": {},
     "output_type": "execute_result"
    }
   ],
   "source": [
    "dic_topic[package][0]"
   ]
  },
  {
   "cell_type": "code",
   "execution_count": 37,
   "id": "c04ac7ef-d1c8-4297-a9d2-7cc32b6502dc",
   "metadata": {},
   "outputs": [
    {
     "data": {
      "text/plain": [
       "['I Resolving Python with Data Science',\n",
       " 'II Machine Learning & Deep Learning',\n",
       " 'III Advanced Machine Learning',\n",
       " 'IV Resolving Python for Professionals']"
      ]
     },
     "execution_count": 37,
     "metadata": {},
     "output_type": "execute_result"
    }
   ],
   "source": [
    "packages"
   ]
  },
  {
   "cell_type": "code",
   "execution_count": 38,
   "id": "1a6a3176-0138-4f1b-a024-6606629fa4d4",
   "metadata": {},
   "outputs": [
    {
     "data": {
      "text/plain": [
       "['I Resolving Python with Data Science',\n",
       " 'II Machine Learning & Deep Learning',\n",
       " 'III Advanced Machine Learning',\n",
       " 'IV Resolving Python for Professionals']"
      ]
     },
     "execution_count": 38,
     "metadata": {},
     "output_type": "execute_result"
    }
   ],
   "source": [
    "packages"
   ]
  },
  {
   "cell_type": "code",
   "execution_count": 44,
   "id": "3b7ba4d9-13ea-4d4a-bef6-0a5364be82f2",
   "metadata": {},
   "outputs": [],
   "source": [
    "a = '<font size=\"+5\">#01 | Web Development & Machine Learning Deployment</font>'"
   ]
  },
  {
   "cell_type": "code",
   "execution_count": 47,
   "id": "9ba18754-75ee-47b0-9a72-f2a448901e20",
   "metadata": {},
   "outputs": [
    {
     "name": "stdout",
     "output_type": "stream",
     "text": [
      "#02 | Feature Importance with Shapley Values\n",
      "{'cell_type': 'markdown', 'metadata': {}, 'source': '<font size=\"+5\">#01 | Web Development & Machine Learning Deployment</font>'}\n",
      "{'cell_type': 'markdown', 'metadata': {}, 'source': '<font size=\"+5\">#01 | Web Development & Machine Learning Deployment</font>'}\n",
      "{'cell_type': 'markdown', 'metadata': {}, 'source': \"- Subscribe to my [Blog ↗](https://blog.pythonassembly.com/)\\n- Let's keep in touch on [LinkedIn ↗](www.linkedin.com/in/jsulopz) 😄\"}\n",
      "{'cell_type': 'markdown', 'metadata': {}, 'source': '# Discipline to Search Solutions in Google'}\n",
      "{'cell_type': 'markdown', 'metadata': {}, 'source': \"> Apply the following steps when **looking for solutions in Google**:\\n>\\n> 1. **Necesity**: How to load an Excel in Python?\\n> 2. **Search in Google**: by keywords\\n>   - `load excel python`\\n>   - ~~how to load excel in python~~\\n> 3. **Solution**: What's the `function()` that loads an Excel in Python?\\n>   - A Function to Programming is what the Atom to Phisics.\\n>   - Every time you want to do something in programming\\n>   - **You will need a `function()`** to make it\\n>   - Theferore, you must **detect parenthesis `()`**\\n>   - Out of all the words that you see in a website\\n>   - Because they indicate the presence of a `function()`.\"}\n",
      "{'cell_type': 'markdown', 'metadata': {}, 'source': '# Load the Data'}\n",
      "{'cell_type': 'markdown', 'metadata': {}, 'source': \"> - The goal of this dataset is\\n> - To predict if **bank's customers** (rows) `default` next month\\n> - Based on their **socio-demographical characteristics** (columns)\"}\n",
      "{'cell_type': 'code', 'execution_count': 17, 'metadata': {}, 'outputs': [{'data': {'text/html': '<div>\\n<style scoped>\\n    .dataframe tbody tr th:only-of-type {\\n        vertical-align: middle;\\n    }\\n\\n    .dataframe tbody tr th {\\n        vertical-align: top;\\n    }\\n\\n    .dataframe thead th {\\n        text-align: right;\\n    }\\n</style>\\n<table border=\"1\" class=\"dataframe\">\\n  <thead>\\n    <tr style=\"text-align: right;\">\\n      <th></th>\\n      <th>LIMIT_BAL</th>\\n      <th>SEX</th>\\n      <th>EDUCATION</th>\\n      <th>MARRIAGE</th>\\n      <th>AGE</th>\\n      <th>default payment next month</th>\\n    </tr>\\n    <tr>\\n      <th>ID</th>\\n      <th></th>\\n      <th></th>\\n      <th></th>\\n      <th></th>\\n      <th></th>\\n      <th></th>\\n    </tr>\\n  </thead>\\n  <tbody>\\n    <tr>\\n      <th>4360</th>\\n      <td>100000</td>\\n      <td>Female</td>\\n      <td>Secondary</td>\\n      <td>No</td>\\n      <td>25</td>\\n      <td>0</td>\\n    </tr>\\n    <tr>\\n      <th>3021</th>\\n      <td>30000</td>\\n      <td>Female</td>\\n      <td>Bachelor</td>\\n      <td>Yes</td>\\n      <td>44</td>\\n      <td>1</td>\\n    </tr>\\n    <tr>\\n      <th>6121</th>\\n      <td>70000</td>\\n      <td>Male</td>\\n      <td>Secondary</td>\\n      <td>Yes</td>\\n      <td>27</td>\\n      <td>1</td>\\n    </tr>\\n    <tr>\\n      <th>8208</th>\\n      <td>50000</td>\\n      <td>Female</td>\\n      <td>Bachelor</td>\\n      <td>Yes</td>\\n      <td>51</td>\\n      <td>0</td>\\n    </tr>\\n    <tr>\\n      <th>4053</th>\\n      <td>190000</td>\\n      <td>Female</td>\\n      <td>Primary</td>\\n      <td>No</td>\\n      <td>32</td>\\n      <td>0</td>\\n    </tr>\\n    <tr>\\n      <th>7404</th>\\n      <td>70000</td>\\n      <td>Female</td>\\n      <td>Secondary</td>\\n      <td>Yes</td>\\n      <td>43</td>\\n      <td>0</td>\\n    </tr>\\n    <tr>\\n      <th>27045</th>\\n      <td>330000</td>\\n      <td>Female</td>\\n      <td>Secondary</td>\\n      <td>No</td>\\n      <td>37</td>\\n      <td>0</td>\\n    </tr>\\n    <tr>\\n      <th>8060</th>\\n      <td>100000</td>\\n      <td>Female</td>\\n      <td>Secondary</td>\\n      <td>No</td>\\n      <td>27</td>\\n      <td>0</td>\\n    </tr>\\n    <tr>\\n      <th>12528</th>\\n      <td>80000</td>\\n      <td>Male</td>\\n      <td>Secondary</td>\\n      <td>Yes</td>\\n      <td>41</td>\\n      <td>0</td>\\n    </tr>\\n    <tr>\\n      <th>21229</th>\\n      <td>20000</td>\\n      <td>Female</td>\\n      <td>Secondary</td>\\n      <td>No</td>\\n      <td>49</td>\\n      <td>0</td>\\n    </tr>\\n  </tbody>\\n</table>\\n</div>', 'text/plain': '       LIMIT_BAL     SEX  EDUCATION MARRIAGE  AGE  default payment next month\\nID                                                                           \\n4360      100000  Female  Secondary       No   25                           0\\n3021       30000  Female   Bachelor      Yes   44                           1\\n6121       70000    Male  Secondary      Yes   27                           1\\n8208       50000  Female   Bachelor      Yes   51                           0\\n4053      190000  Female    Primary       No   32                           0\\n7404       70000  Female  Secondary      Yes   43                           0\\n27045     330000  Female  Secondary       No   37                           0\\n8060      100000  Female  Secondary       No   27                           0\\n12528      80000    Male  Secondary      Yes   41                           0\\n21229      20000  Female  Secondary       No   49                           0'}, 'execution_count': 17, 'metadata': {}, 'output_type': 'execute_result'}], 'source': 'import pandas as pd\\npd.set_option(\"display.max_columns\", None)\\n\\nurl = \\'https://archive.ics.uci.edu/ml/machine-learning-databases/00350/default%20of%20credit%20card%20clients.xls\\'\\ndf = pd.read_excel(io=url, header=1, index_col=0).loc[:,[\\'LIMIT_BAL\\', \\'SEX\\', \\'EDUCATION\\', \\'MARRIAGE\\', \\'AGE\\', \\'default payment next month\\']]\\ndf.SEX = df.SEX.replace({1: \\'Female\\', 2: \\'Male\\'})\\ndf.EDUCATION = df.EDUCATION.replace({0: \\'No studies\\',\\n                                     1: \\'Primary\\',\\n                                     2: \\'Secondary\\',\\n                                     3: \\'Bachelor\\',\\n                                     4: \\'Undergraduated\\',\\n                                     5: \\'Masters\\',\\n                                     6: \\'PhD\\'})\\ndf.MARRIAGE = df.MARRIAGE.replace({0: \\'Divorced\\',\\n                                   1: \\'Yes\\',\\n                                   2: \\'No\\',\\n                                   3: \\'Widow\\'})\\ndf.sample(10)'}\n",
      "{'cell_type': 'markdown', 'metadata': {}, 'source': '## Modelling'}\n",
      "{'cell_type': 'code', 'execution_count': None, 'metadata': {}, 'outputs': [], 'source': ''}\n",
      "{'cell_type': 'markdown', 'metadata': {}, 'source': '### Build a `DecisionTreeClassifier()` Model'}\n",
      "{'cell_type': 'code', 'execution_count': None, 'metadata': {}, 'outputs': [], 'source': ''}\n",
      "{'cell_type': 'markdown', 'metadata': {}, 'source': '### Build a `RandomForestClassifier()` Model'}\n",
      "{'cell_type': 'code', 'execution_count': None, 'metadata': {}, 'outputs': [], 'source': ''}\n",
      "{'cell_type': 'markdown', 'metadata': {}, 'source': '### Build a `LogisticRegression()` Model'}\n",
      "{'cell_type': 'code', 'execution_count': None, 'metadata': {}, 'outputs': [], 'source': ''}\n",
      "{'cell_type': 'markdown', 'metadata': {}, 'source': '## Make Predictions with Each Model'}\n",
      "{'cell_type': 'code', 'execution_count': None, 'metadata': {}, 'outputs': [], 'source': ''}\n",
      "{'cell_type': 'markdown', 'metadata': {}, 'source': '## Which is the Best Model?'}\n",
      "{'cell_type': 'code', 'execution_count': None, 'metadata': {}, 'outputs': [], 'source': ''}\n",
      "{'cell_type': 'markdown', 'metadata': {}, 'source': '## How to Interpret? Feature Importance'}\n",
      "{'cell_type': 'code', 'execution_count': None, 'metadata': {}, 'outputs': [], 'source': ''}\n",
      "{'cell_type': 'markdown', 'metadata': {}, 'source': '### Is it enough?'}\n",
      "{'cell_type': 'code', 'execution_count': None, 'metadata': {}, 'outputs': [], 'source': ''}\n",
      "{'cell_type': 'markdown', 'metadata': {}, 'source': '## Shapley Values Theory'}\n",
      "{'cell_type': 'code', 'execution_count': None, 'metadata': {}, 'outputs': [], 'source': ''}\n",
      "{'cell_type': 'markdown', 'metadata': {}, 'source': '### Microsoft Shapley Values Video'}\n",
      "{'cell_type': 'code', 'execution_count': 1, 'metadata': {}, 'outputs': [{'data': {'text/html': '<iframe width=\"560\" height=\"315\" src=\"https://www.youtube.com/embed/ngOBhhINWb8\" title=\"YouTube video player\" frameborder=\"0\" allow=\"accelerometer; autoplay; clipboard-write; encrypted-media; gyroscope; picture-in-picture\" allowfullscreen></iframe>\\n', 'text/plain': '<IPython.core.display.HTML object>'}, 'metadata': {}, 'output_type': 'display_data'}], 'source': '%%HTML\\n<iframe width=\"560\" height=\"315\" src=\"https://www.youtube.com/embed/ngOBhhINWb8\" title=\"YouTube video player\" frameborder=\"0\" allow=\"accelerometer; autoplay; clipboard-write; encrypted-media; gyroscope; picture-in-picture\" allowfullscreen></iframe>'}\n",
      "{'cell_type': 'markdown', 'metadata': {}, 'source': '### Alice, Bob & Celine Video'}\n",
      "{'cell_type': 'code', 'execution_count': 2, 'metadata': {}, 'outputs': [{'data': {'text/html': '<iframe width=\"560\" height=\"315\" src=\"https://www.youtube.com/embed/w9O0fkfMkx0\" title=\"YouTube video player\" frameborder=\"0\" allow=\"accelerometer; autoplay; clipboard-write; encrypted-media; gyroscope; picture-in-picture\" allowfullscreen></iframe>\\n', 'text/plain': '<IPython.core.display.HTML object>'}, 'metadata': {}, 'output_type': 'display_data'}], 'source': '%%HTML\\n<iframe width=\"560\" height=\"315\" src=\"https://www.youtube.com/embed/w9O0fkfMkx0\" title=\"YouTube video player\" frameborder=\"0\" allow=\"accelerometer; autoplay; clipboard-write; encrypted-media; gyroscope; picture-in-picture\" allowfullscreen></iframe>'}\n",
      "{'cell_type': 'markdown', 'metadata': {}, 'source': '### Kaggle Explanation on Feature Importance'}\n",
      "{'cell_type': 'markdown', 'metadata': {}, 'source': '- https://www.kaggle.com/dansbecker/shap-values'}\n",
      "{'cell_type': 'markdown', 'metadata': {}, 'source': '## Shapley Values Implementation with Each Model'}\n",
      "{'cell_type': 'markdown', 'metadata': {'tags': []}, 'source': '> - Make the Shapley values with just one prediction'}\n",
      "{'cell_type': 'markdown', 'metadata': {}, 'source': '### `DecisionTreeClassifier()`'}\n",
      "{'cell_type': 'code', 'execution_count': None, 'metadata': {}, 'outputs': [], 'source': ''}\n",
      "{'cell_type': 'markdown', 'metadata': {}, 'source': '### `RandomForestClassifier()`'}\n",
      "{'cell_type': 'code', 'execution_count': None, 'metadata': {}, 'outputs': [], 'source': ''}\n",
      "{'cell_type': 'markdown', 'metadata': {}, 'source': '### `LogisticRegression()`'}\n",
      "{'cell_type': 'code', 'execution_count': None, 'metadata': {}, 'outputs': [], 'source': ''}\n",
      "{'cell_type': 'markdown', 'metadata': {}, 'source': '### Which Model should you take into account?'}\n",
      "{'cell_type': 'code', 'execution_count': None, 'metadata': {}, 'outputs': [], 'source': ''}\n",
      "{'cell_type': 'markdown', 'metadata': {}, 'source': '## Pick Up Best Model'}\n",
      "{'cell_type': 'code', 'execution_count': None, 'metadata': {}, 'outputs': [], 'source': ''}\n",
      "{'cell_type': 'markdown', 'metadata': {}, 'source': '### Shapley Values for All Predictions'}\n",
      "{'cell_type': 'code', 'execution_count': None, 'metadata': {}, 'outputs': [], 'source': ''}\n",
      "{'cell_type': 'markdown', 'metadata': {}, 'source': '### Ranking of Variables'}\n",
      "{'cell_type': 'code', 'execution_count': None, 'metadata': {}, 'outputs': [], 'source': ''}\n",
      "{'cell_type': 'markdown', 'metadata': {}, 'source': '## Final Reflections'}\n",
      "{'cell_type': 'code', 'execution_count': None, 'metadata': {}, 'outputs': [], 'source': ''}\n"
     ]
    }
   ],
   "source": [
    "packages = []\n",
    "\n",
    "for i in os.listdir():\n",
    "    if re.search('^I', i):\n",
    "        packages.append(i)\n",
    "        \n",
    "packages.sort()\n",
    "\n",
    "for package in packages:\n",
    "\n",
    "    chapters = []\n",
    "\n",
    "    for i in os.listdir(package):\n",
    "        if re.search('^\\d', i):\n",
    "            chapters.append(i)\n",
    "            \n",
    "    chapters.sort()\n",
    "\n",
    "    for idx, chapter in enumerate(chapters):\n",
    "        match = re.match('^(\\d+)_(.*)', chapter)\n",
    "\n",
    "        n_chapter = match.group(1)\n",
    "        name_chapter = match.group(2)\n",
    "        \n",
    "        if 'Shapley' in name_chapter:\n",
    "        \n",
    "            chapter_path = os.path.join(package, chapter)\n",
    "\n",
    "            for i in os.listdir(chapter_path):\n",
    "                nfile = re.match('^(\\d+)([A-Za-z]+)_?.*(\\.ipynb)', i)\n",
    "\n",
    "                if nfile:\n",
    "                    name_chapter_file = dic_topic[package][idx]\n",
    "                    nfile_final = f'{n_chapter}{nfile.group(2)}_{name_chapter_file}.ipynb'\n",
    "                    nfile_final_path = os.path.join(package, chapter, nfile_final)\n",
    "                    os.rename(src=os.path.join(package, chapter, i),\n",
    "                             dst=nfile_final_path)\n",
    "\n",
    "            file = nb.read(fp=nfile_final_path, as_version=4)\n",
    "\n",
    "            cells = file['cells']\n",
    "\n",
    "            notebook_title = f'#{n_chapter} | {name_chapter}'\n",
    "            print(notebook_title)\n",
    "            for cell in cells:\n",
    "                if re.search('#\\d+\\.*', cell['source']):\n",
    "                    cell['source'] = f'<font size=\"+5\">{notebook_title}</font>'\n",
    "\n",
    "                if re.search('linkedin', cell['source']):\n",
    "                    cell['source'] = \"- Subscribe to my [Blog ↗](https://blog.pythonassembly.com/)\\n- Let's keep in touch on [LinkedIn ↗](www.linkedin.com/in/jsulopz) 😄\"\n",
    "\n",
    "            with open(nfile_final_path, 'w') as f:\n",
    "                nb.write(nb=file, fp=f)"
   ]
  },
  {
   "cell_type": "code",
   "execution_count": null,
   "id": "f6860ed3-e78c-4768-b33d-51a2d09d8db8",
   "metadata": {},
   "outputs": [],
   "source": []
  },
  {
   "cell_type": "code",
   "execution_count": null,
   "id": "2acf1cb4-c464-4346-a322-7b5062c4326a",
   "metadata": {},
   "outputs": [],
   "source": []
  },
  {
   "cell_type": "code",
   "execution_count": null,
   "id": "c3253669-2c06-492c-9f46-3c9e126f03f5",
   "metadata": {},
   "outputs": [],
   "source": []
  },
  {
   "cell_type": "code",
   "execution_count": 1,
   "id": "0303bc5e-637a-4270-b38a-a54f9f9e80fb",
   "metadata": {},
   "outputs": [],
   "source": [
    "import os\n",
    "import re"
   ]
  },
  {
   "cell_type": "code",
   "execution_count": 2,
   "id": "f3d49fc3-6c89-49d6-85aa-db7f0bdfff4f",
   "metadata": {},
   "outputs": [],
   "source": [
    "files = os.listdir()"
   ]
  },
  {
   "cell_type": "code",
   "execution_count": 22,
   "id": "37ec4d81-f203-4486-a753-ccd96e518a9a",
   "metadata": {},
   "outputs": [],
   "source": [
    "for i in files:\n",
    "    if re.match('^I', i):\n",
    "        carpeta_modular = i\n",
    "        for j in os.listdir(carpeta_modular):\n",
    "            if \"|\" in j:\n",
    "                camino_capitulo = os.path.join(i,j)\n",
    "                destino = re.sub(' \\| ', '_', camino_capitulo)\n",
    "                os.rename(camino_capitulo, destino)"
   ]
  },
  {
   "cell_type": "markdown",
   "id": "ac23f77a-7974-46ec-af1f-765270c190e1",
   "metadata": {},
   "source": [
    "# Create Preparation Folder"
   ]
  },
  {
   "cell_type": "code",
   "execution_count": 22,
   "id": "82de84e5-6cf0-4966-8f87-c9f038ecfdaa",
   "metadata": {},
   "outputs": [
    {
     "name": "stdout",
     "output_type": "stream",
     "text": [
      "01session-solution.ipynb\n",
      "01practice-solution.ipynb\n"
     ]
    }
   ],
   "source": [
    "for i in files:\n",
    "    if '#' in i:\n",
    "        subfiles = os.listdir(os.path.join(i))\n",
    "        if 'preparation' not in subfiles:\n",
    "            os.mkdir(os.path.join(i, 'preparation'))\n",
    "            \n",
    "        preparation_folder = os.path.join(i,'preparation')\n",
    "        preparation_folder_files = os.listdir(preparation_folder)\n",
    "        \n",
    "        for j in ['session', 'practice']:\n",
    "            a = []\n",
    "            for k in preparation_folder_files:\n",
    "                if re.search(j, k):\n",
    "                    a.append(k)"
   ]
  },
  {
   "cell_type": "code",
   "execution_count": 21,
   "id": "694e3d57-99fd-488f-b895-f67cb7cda598",
   "metadata": {},
   "outputs": [
    {
     "data": {
      "text/plain": [
       "[]"
      ]
     },
     "execution_count": 21,
     "metadata": {},
     "output_type": "execute_result"
    }
   ],
   "source": [
    "a"
   ]
  },
  {
   "cell_type": "code",
   "execution_count": 17,
   "id": "e5d476ee-a6d0-4240-8d59-bf292161b5e1",
   "metadata": {},
   "outputs": [
    {
     "data": {
      "text/plain": [
       "[]"
      ]
     },
     "execution_count": 17,
     "metadata": {},
     "output_type": "execute_result"
    }
   ],
   "source": [
    "matched_file"
   ]
  },
  {
   "cell_type": "markdown",
   "id": "7caf4d0b-09d3-4e42-8dbb-feb4fc31e20b",
   "metadata": {},
   "source": [
    "## Move Files to Preparation"
   ]
  },
  {
   "cell_type": "code",
   "execution_count": null,
   "id": "5812ada2-6c44-4159-a830-4181e9525d45",
   "metadata": {},
   "outputs": [],
   "source": []
  },
  {
   "cell_type": "code",
   "execution_count": null,
   "id": "60cb2b01-e47d-43d8-91fd-74c75ecd7145",
   "metadata": {},
   "outputs": [],
   "source": []
  },
  {
   "cell_type": "markdown",
   "id": "4b5f3065-f7d1-43b0-b785-b1816dfbfbb0",
   "metadata": {},
   "source": [
    "## Inserting banners"
   ]
  },
  {
   "cell_type": "code",
   "execution_count": 4,
   "id": "2edb488c-0dcd-4fa9-9911-d7189b870291",
   "metadata": {},
   "outputs": [],
   "source": [
    "banner = '''- Book + Lessons [here ↗](https://sotastica.com/reservar)\n",
    "- Subscribe to my [Blog ↗](https://blog.pythonassembly.com/)\n",
    "- **Keep in touch** with me on [LinkedIn ↗](https://www.linkedin.com/in/jsulopz)'''"
   ]
  },
  {
   "cell_type": "code",
   "execution_count": 6,
   "id": "192e5542-132c-4603-b8cd-ac6368a91b5a",
   "metadata": {},
   "outputs": [],
   "source": [
    "import os"
   ]
  },
  {
   "cell_type": "code",
   "execution_count": 13,
   "id": "5a747ced-eb7f-4840-b7a2-de4c8a7ecd61",
   "metadata": {},
   "outputs": [],
   "source": [
    "block_folders = os.listdir()"
   ]
  },
  {
   "cell_type": "code",
   "execution_count": 14,
   "id": "1e010f3e-d1a5-4b6d-b6e1-f321ca7577e5",
   "metadata": {},
   "outputs": [],
   "source": [
    "block_folders.sort()"
   ]
  },
  {
   "cell_type": "code",
   "execution_count": 23,
   "id": "a5058288-80b1-4940-a267-8195c16ad90e",
   "metadata": {},
   "outputs": [],
   "source": [
    "import re\n",
    "import pandas as pd"
   ]
  },
  {
   "cell_type": "code",
   "execution_count": 25,
   "id": "8caf6c10-5ae2-459b-ba79-137888a75e27",
   "metadata": {},
   "outputs": [],
   "source": [
    "df = pd.Series(block_folders)"
   ]
  },
  {
   "cell_type": "code",
   "execution_count": 40,
   "id": "a3b012d8-05fb-4677-af01-a12b04c0536f",
   "metadata": {},
   "outputs": [],
   "source": [
    "mask = df.str.match(r'^I')"
   ]
  },
  {
   "cell_type": "code",
   "execution_count": 46,
   "id": "36bccd15-5716-473c-b179-c1cba9ef6a7f",
   "metadata": {},
   "outputs": [],
   "source": [
    "df = df[mask].values"
   ]
  },
  {
   "cell_type": "code",
   "execution_count": 48,
   "id": "f1698510-65f8-431e-89e8-516ffffe0c38",
   "metadata": {},
   "outputs": [],
   "source": [
    "block = df[0]"
   ]
  },
  {
   "cell_type": "code",
   "execution_count": 54,
   "id": "4f7994e6-76e2-46dc-b1b3-878c3011ac04",
   "metadata": {},
   "outputs": [],
   "source": [
    "block_chapters = [i for i in os.listdir(block) if '#' in i]"
   ]
  },
  {
   "cell_type": "code",
   "execution_count": 59,
   "id": "5d7148f2-4377-49e1-9d6f-633b7b83f2b2",
   "metadata": {},
   "outputs": [],
   "source": [
    "chapter = block_chapters[0]"
   ]
  },
  {
   "cell_type": "code",
   "execution_count": 62,
   "id": "76636cc0-e336-4e59-b484-3c2df0de29a9",
   "metadata": {},
   "outputs": [],
   "source": [
    "chapter_files = pd.Series(os.listdir(os.path.join(block, chapter)))"
   ]
  },
  {
   "cell_type": "code",
   "execution_count": 69,
   "id": "435cfab3-fa3c-4f74-b483-54dc805f3458",
   "metadata": {},
   "outputs": [
    {
     "data": {
      "text/plain": [
       "0             .DS_Store\n",
       "1      02practice.ipynb\n",
       "2       02session.ipynb\n",
       "3    .ipynb_checkpoints\n",
       "4           preparation\n",
       "dtype: object"
      ]
     },
     "execution_count": 69,
     "metadata": {},
     "output_type": "execute_result"
    }
   ],
   "source": [
    "chapter_files"
   ]
  },
  {
   "cell_type": "code",
   "execution_count": 72,
   "id": "f7feeb62-95e0-4f8c-b159-073abab229e9",
   "metadata": {},
   "outputs": [],
   "source": [
    "mask_files = chapter_files.str.contains('practice|session')"
   ]
  },
  {
   "cell_type": "code",
   "execution_count": 74,
   "id": "4669492d-303c-4e13-beee-5353752b8985",
   "metadata": {},
   "outputs": [],
   "source": [
    "df = chapter_files[mask_files]"
   ]
  },
  {
   "cell_type": "code",
   "execution_count": 82,
   "id": "bcdd8b20-825f-40e7-89c8-5ea386909c06",
   "metadata": {},
   "outputs": [],
   "source": [
    "df_complete_path = block + '/' + chapter + '/' + df"
   ]
  },
  {
   "cell_type": "code",
   "execution_count": 85,
   "id": "ce46540f-37d1-46ae-8a28-d6f1dfcf11a8",
   "metadata": {},
   "outputs": [],
   "source": [
    "path_files = df_complete_path.values\n",
    "path_file = path_files[0]"
   ]
  },
  {
   "cell_type": "code",
   "execution_count": 86,
   "id": "e56c62dd-de6a-454c-85bc-8278f49adabc",
   "metadata": {},
   "outputs": [
    {
     "data": {
      "text/plain": [
       "'I Python Basics with Pandas/#02. Data Manipulation & Visualization to Enhance the Discipline/02practice.ipynb'"
      ]
     },
     "execution_count": 86,
     "metadata": {},
     "output_type": "execute_result"
    }
   ],
   "source": [
    "with open(path_file, 'rw') as f:\n",
    "    "
   ]
  },
  {
   "cell_type": "code",
   "execution_count": null,
   "id": "7a101c88-2bb9-4493-9201-68bd03302c9b",
   "metadata": {},
   "outputs": [],
   "source": []
  }
 ],
 "metadata": {
  "kernelspec": {
   "display_name": "Python 3 (ipykernel)",
   "language": "python",
   "name": "python3"
  },
  "language_info": {
   "codemirror_mode": {
    "name": "ipython",
    "version": 3
   },
   "file_extension": ".py",
   "mimetype": "text/x-python",
   "name": "python",
   "nbconvert_exporter": "python",
   "pygments_lexer": "ipython3",
   "version": "3.9.7"
  }
 },
 "nbformat": 4,
 "nbformat_minor": 5
}
