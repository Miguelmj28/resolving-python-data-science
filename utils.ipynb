{
 "cells": [
  {
   "cell_type": "code",
   "execution_count": 10,
   "id": "0303bc5e-637a-4270-b38a-a54f9f9e80fb",
   "metadata": {},
   "outputs": [],
   "source": [
    "import os\n",
    "import re"
   ]
  },
  {
   "cell_type": "code",
   "execution_count": 11,
   "id": "f3d49fc3-6c89-49d6-85aa-db7f0bdfff4f",
   "metadata": {},
   "outputs": [],
   "source": [
    "files = os.listdir()"
   ]
  },
  {
   "cell_type": "markdown",
   "id": "ac23f77a-7974-46ec-af1f-765270c190e1",
   "metadata": {},
   "source": [
    "# Create Preparation Folder"
   ]
  },
  {
   "cell_type": "code",
   "execution_count": 22,
   "id": "82de84e5-6cf0-4966-8f87-c9f038ecfdaa",
   "metadata": {},
   "outputs": [
    {
     "name": "stdout",
     "output_type": "stream",
     "text": [
      "01session-solution.ipynb\n",
      "01practice-solution.ipynb\n"
     ]
    }
   ],
   "source": [
    "for i in files:\n",
    "    if '#' in i:\n",
    "        subfiles = os.listdir(os.path.join(i))\n",
    "        if 'preparation' not in subfiles:\n",
    "            os.mkdir(os.path.join(i, 'preparation'))\n",
    "            \n",
    "        preparation_folder = os.path.join(i,'preparation')\n",
    "        preparation_folder_files = os.listdir(preparation_folder)\n",
    "        \n",
    "        for j in ['session', 'practice']:\n",
    "            a = []\n",
    "            for k in preparation_folder_files:\n",
    "                if re.search(j, k):\n",
    "                    a.append(k)"
   ]
  },
  {
   "cell_type": "code",
   "execution_count": 21,
   "id": "694e3d57-99fd-488f-b895-f67cb7cda598",
   "metadata": {},
   "outputs": [
    {
     "data": {
      "text/plain": [
       "[]"
      ]
     },
     "execution_count": 21,
     "metadata": {},
     "output_type": "execute_result"
    }
   ],
   "source": [
    "a"
   ]
  },
  {
   "cell_type": "code",
   "execution_count": 17,
   "id": "e5d476ee-a6d0-4240-8d59-bf292161b5e1",
   "metadata": {},
   "outputs": [
    {
     "data": {
      "text/plain": [
       "[]"
      ]
     },
     "execution_count": 17,
     "metadata": {},
     "output_type": "execute_result"
    }
   ],
   "source": [
    "matched_file"
   ]
  },
  {
   "cell_type": "markdown",
   "id": "7caf4d0b-09d3-4e42-8dbb-feb4fc31e20b",
   "metadata": {},
   "source": [
    "## Move Files to Preparation"
   ]
  },
  {
   "cell_type": "code",
   "execution_count": null,
   "id": "5812ada2-6c44-4159-a830-4181e9525d45",
   "metadata": {},
   "outputs": [],
   "source": []
  }
 ],
 "metadata": {
  "kernelspec": {
   "display_name": "Python 3",
   "language": "python",
   "name": "python3"
  },
  "language_info": {
   "codemirror_mode": {
    "name": "ipython",
    "version": 3
   },
   "file_extension": ".py",
   "mimetype": "text/x-python",
   "name": "python",
   "nbconvert_exporter": "python",
   "pygments_lexer": "ipython3",
   "version": "3.8.8"
  }
 },
 "nbformat": 4,
 "nbformat_minor": 5
}
