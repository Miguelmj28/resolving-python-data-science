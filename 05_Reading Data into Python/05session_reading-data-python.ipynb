{
 "cells": [
  {
   "cell_type": "markdown",
   "id": "0964ee3c-4460-4820-b89f-14e4c1ef7b4d",
   "metadata": {},
   "source": [
    "<font size=\"+5\">#05 | Reading Data into Python</font>"
   ]
  },
  {
   "cell_type": "markdown",
   "id": "2938e36c-43b4-4e42-a014-225bb30d30a7",
   "metadata": {},
   "source": [
    "<div class=\"alert alert-warning\"><b>Python</b> + <b>Data Science</b> Tutorials in <a href=\"https://www.youtube.com/c/PythonResolver\">YouTube ↗︎</a>"
   ]
  },
  {
   "cell_type": "markdown",
   "id": "6dbaa86a-3f40-4a59-b316-6e288c48549a",
   "metadata": {},
   "source": [
    "## Read data from a file"
   ]
  },
  {
   "cell_type": "code",
   "execution_count": null,
   "id": "5ac68757-3101-4c24-99e1-12df21ae49b1",
   "metadata": {},
   "outputs": [],
   "source": []
  },
  {
   "cell_type": "code",
   "execution_count": null,
   "id": "1543a76c-6d60-438d-9f08-a48f2f2bb812",
   "metadata": {},
   "outputs": [],
   "source": []
  },
  {
   "cell_type": "code",
   "execution_count": null,
   "id": "ffcee79e-5484-4432-b3ce-03227eff074f",
   "metadata": {},
   "outputs": [],
   "source": []
  },
  {
   "cell_type": "code",
   "execution_count": null,
   "id": "defeb0b6-c868-4ea0-a2cf-cdb3c436dbef",
   "metadata": {},
   "outputs": [],
   "source": []
  },
  {
   "cell_type": "code",
   "execution_count": null,
   "id": "925270e7-0986-4049-b6e4-e91e5a2f6f32",
   "metadata": {},
   "outputs": [],
   "source": []
  },
  {
   "cell_type": "code",
   "execution_count": null,
   "id": "b69013cb-797f-4031-925c-39fcd5b652e0",
   "metadata": {},
   "outputs": [],
   "source": []
  },
  {
   "cell_type": "code",
   "execution_count": null,
   "id": "9120495c-9302-40b7-878d-c364e7a0b339",
   "metadata": {},
   "outputs": [],
   "source": []
  }
 ],
 "metadata": {
  "kernelspec": {
   "display_name": "Python 3 (ipykernel)",
   "language": "python",
   "name": "python3"
  },
  "language_info": {
   "codemirror_mode": {
    "name": "ipython",
    "version": 3
   },
   "file_extension": ".py",
   "mimetype": "text/x-python",
   "name": "python",
   "nbconvert_exporter": "python",
   "pygments_lexer": "ipython3",
   "version": "3.9.7"
  }
 },
 "nbformat": 4,
 "nbformat_minor": 5
}
