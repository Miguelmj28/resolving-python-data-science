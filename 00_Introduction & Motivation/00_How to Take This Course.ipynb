{
 "cells": [
  {
   "cell_type": "markdown",
   "id": "56112c4d-1588-4685-8412-7200ba88dc39",
   "metadata": {},
   "source": [
    "- First 3 videos are mandatory to understand the core concepts of programming\n",
    "    - 01 Basic Elements of Programming\n",
    "        - [ ] The challenge of loading the excel\n",
    "            - at the very beginning of the script\n",
    "    - 02 Master the Syntax\n",
    "        - Reconsider a Challenge\n",
    "        - with the DateTime\n",
    "    - 03 Apple Stock on Why is this Important\n",
    "        - You can try to interact with them,\n",
    "        - but don't pay too much attention\n",
    "- When to start working out the code?\n",
    "    - In the exercises...\n",
    "    - I will tell you when they are\n",
    "- \n",
    "- Have the theory as a reference"
   ]
  },
  {
   "cell_type": "markdown",
   "id": "e357fd42-7ab7-4dfb-9cb8-03a3c1ba75eb",
   "metadata": {},
   "source": [
    "- Do as I tell you\n",
    "- Focus on the exercises\n",
    "- Not the theory\n",
    "- The theory is there as a reference\n",
    "- Try to learn by first practice, then theory\n",
    "- Practical Example (Linear Programming), etc…\n",
    "- I will show you how in the lesson\n",
    "- Get back to the theory when you have doubts\n",
    "- Mark videos to put them as View Only, or View & Interact\n",
    "- Solving Exercise Videos"
   ]
  },
  {
   "cell_type": "code",
   "execution_count": null,
   "id": "8141adc3-429d-4966-9424-5b8134d7e32d",
   "metadata": {},
   "outputs": [],
   "source": []
  }
 ],
 "metadata": {
  "kernelspec": {
   "display_name": "Python 3 (ipykernel)",
   "language": "python",
   "name": "python3"
  },
  "language_info": {
   "codemirror_mode": {
    "name": "ipython",
    "version": 3
   },
   "file_extension": ".py",
   "mimetype": "text/x-python",
   "name": "python",
   "nbconvert_exporter": "python",
   "pygments_lexer": "ipython3",
   "version": "3.9.7"
  }
 },
 "nbformat": 4,
 "nbformat_minor": 5
}
