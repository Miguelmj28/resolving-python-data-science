{
 "cells": [
  {
   "cell_type": "markdown",
   "id": "9a3cd13d-4f55-47e5-8e9e-7de35cd17bc1",
   "metadata": {
    "tags": []
   },
   "source": [
    "<font size=\"+5\">#05 | Indexing the Object</font>"
   ]
  },
  {
   "cell_type": "markdown",
   "id": "f6149105-9e94-40b5-8f77-e9d0782d4b0d",
   "metadata": {},
   "source": [
    "\n",
    "<div class=\"alert alert-warning\">\n",
    "  <ul>\n",
    "    <li>\n",
    "      <b>Python</b> + <b>Data Science</b> Tutorials in ↓\n",
    "      <ul>\n",
    "        <li>\n",
    "          <a href=\"https://www.youtube.com/c/PythonResolver?sub_confirmation=1\"\n",
    "            >YouTube</a\n",
    "          >\n",
    "        </li>\n",
    "        <li>\n",
    "          <a href=\"https://blog.pythonresolver.com/\">Blog</a>\n",
    "        </li>\n",
    "        <li>\n",
    "          <a href=\"https://github.com/jsulopz/00-python-resolver-discipline\">GitHub</a>\n",
    "        </li>\n",
    "      </ul>\n",
    "    </li>\n",
    "    <li>\n",
    "      Author: <a href=\"https://twitter.com/jsulopz\"><b>@jsulopz</b></a>\n",
    "    </li>\n",
    "  </ul>\n",
    "</div>\n"
   ]
  },
  {
   "cell_type": "markdown",
   "id": "add3e73d-301a-467d-ad21-c90ed4b5d5ad",
   "metadata": {},
   "source": [
    "# How to Index the `items` of an `Object`"
   ]
  },
  {
   "cell_type": "markdown",
   "id": "6c21d472-76bc-499a-bd07-338bf72350e4",
   "metadata": {},
   "source": [
    "## The `list`"
   ]
  },
  {
   "cell_type": "markdown",
   "id": "5ab63a44-c14a-42e0-abba-4c7312ce86a0",
   "metadata": {},
   "source": [
    "> - [ ] Create a `list` of your best friends"
   ]
  },
  {
   "cell_type": "code",
   "execution_count": null,
   "id": "184755cc-867e-4c8c-9e11-4296eeac141f",
   "metadata": {},
   "outputs": [],
   "source": []
  },
  {
   "cell_type": "markdown",
   "id": "77a25ba8-dd4a-48a2-90ce-dc76e3d17b20",
   "metadata": {},
   "source": [
    "> - [ ] Access the 2nd element ↓"
   ]
  },
  {
   "cell_type": "code",
   "execution_count": null,
   "id": "fcb9c3de-ba47-4bcd-800b-d1aeb99801c2",
   "metadata": {},
   "outputs": [],
   "source": []
  },
  {
   "cell_type": "code",
   "execution_count": null,
   "id": "337366c6-bb6c-4ec8-89e2-6f75e7e2d9bd",
   "metadata": {},
   "outputs": [],
   "source": []
  },
  {
   "cell_type": "markdown",
   "id": "144e0890-65c5-457a-b828-62a783d90504",
   "metadata": {},
   "source": [
    "## The `dict`"
   ]
  },
  {
   "cell_type": "markdown",
   "id": "f874c721-9669-49b7-8a2e-80f459dd6d6f",
   "metadata": {},
   "source": [
    "> - [ ] Create a `dict` of your best friends"
   ]
  },
  {
   "cell_type": "code",
   "execution_count": null,
   "id": "0086bff4-e5c4-46c8-9b53-995439b7328c",
   "metadata": {},
   "outputs": [],
   "source": []
  },
  {
   "cell_type": "markdown",
   "id": "8f126557-96f2-44c0-a1a9-a39583f84be2",
   "metadata": {},
   "source": [
    "> - [ ] Index the 2nd element ↓"
   ]
  },
  {
   "cell_type": "code",
   "execution_count": null,
   "id": "3488bb85-d2e4-4237-96e6-6f87335a8ecf",
   "metadata": {},
   "outputs": [],
   "source": []
  },
  {
   "cell_type": "code",
   "execution_count": null,
   "id": "c1f788c7-fa53-4a21-8aa9-5da36678e13f",
   "metadata": {},
   "outputs": [],
   "source": []
  },
  {
   "cell_type": "code",
   "execution_count": null,
   "id": "3c0bba4a-30bf-4e89-a9d1-6f643992f725",
   "metadata": {},
   "outputs": [],
   "source": []
  },
  {
   "cell_type": "markdown",
   "id": "8b342bb8-cb9b-4356-8b15-9b8aab92faa1",
   "metadata": {},
   "source": [
    "## The `DataFrame`"
   ]
  },
  {
   "cell_type": "markdown",
   "id": "ced9c1b8-413d-44ea-8894-2f33d9e8ec6d",
   "metadata": {},
   "source": [
    "> - [ ] Create a `nested dict` with your **3 best friends' personal data**"
   ]
  },
  {
   "cell_type": "code",
   "execution_count": 8,
   "id": "4612aae2-c5c4-4eb0-b095-013e68e8b7ec",
   "metadata": {},
   "outputs": [],
   "source": [
    "diccionario_bf = { #!\n",
    "    'maria': {\n",
    "        'altura': 1.78,\n",
    "        'peso': 54,\n",
    "        'edad': 18\n",
    "    },\n",
    "    'juan': {\n",
    "        'altura': 1.87,\n",
    "        'peso': 76,\n",
    "        'edad': 24\n",
    "    },\n",
    "    'pepe': {\n",
    "        'altura': 1.84,\n",
    "        'peso': 94,\n",
    "        'edad': 33\n",
    "    }\n",
    "}"
   ]
  },
  {
   "cell_type": "markdown",
   "id": "8b224109-6e2d-4a16-9bc1-72bd59056d78",
   "metadata": {},
   "source": [
    "> - [ ] Access the `age` of your `2nd best friend`"
   ]
  },
  {
   "cell_type": "code",
   "execution_count": null,
   "id": "15ef39e1-1d9e-4d52-bc23-252ca7e40049",
   "metadata": {},
   "outputs": [],
   "source": []
  },
  {
   "cell_type": "code",
   "execution_count": null,
   "id": "f93c63f2-6d78-4e74-b327-f680370c13bc",
   "metadata": {},
   "outputs": [],
   "source": []
  },
  {
   "cell_type": "code",
   "execution_count": null,
   "id": "7b0bcaf7-4e3f-4b4a-a1c2-c6a58b7a24ab",
   "metadata": {},
   "outputs": [],
   "source": []
  },
  {
   "cell_type": "code",
   "execution_count": null,
   "id": "b69d278f-0a30-454f-a0e2-45df91cca97d",
   "metadata": {},
   "outputs": [],
   "source": []
  },
  {
   "cell_type": "code",
   "execution_count": null,
   "id": "479d7be0-67b9-4e78-a990-f78237a78516",
   "metadata": {},
   "outputs": [],
   "source": []
  },
  {
   "cell_type": "markdown",
   "id": "0b728260-b4e6-41c9-8cd0-e3a654c80025",
   "metadata": {},
   "source": [
    "> - [ ] Convert the `dict` to a `DataFrame`"
   ]
  },
  {
   "cell_type": "code",
   "execution_count": null,
   "id": "82de53a1-05fc-4306-a53b-5003fd35e682",
   "metadata": {},
   "outputs": [],
   "source": []
  },
  {
   "cell_type": "code",
   "execution_count": null,
   "id": "9fee8b60-67b0-456c-a97c-5cbd69796c60",
   "metadata": {},
   "outputs": [],
   "source": []
  },
  {
   "cell_type": "code",
   "execution_count": null,
   "id": "ca1170e7-731e-4576-8f7a-08d9612ab988",
   "metadata": {},
   "outputs": [],
   "source": []
  },
  {
   "cell_type": "code",
   "execution_count": null,
   "id": "1e6da5d8-038b-4176-b372-2f82b0e0c6da",
   "metadata": {},
   "outputs": [],
   "source": []
  },
  {
   "cell_type": "markdown",
   "id": "7f53735d-0530-416f-b8cb-cb5ada74e367",
   "metadata": {},
   "source": [
    "- [ ] Access the `age` of your `2nd best friend`"
   ]
  },
  {
   "cell_type": "code",
   "execution_count": null,
   "id": "a414ff04-1de0-48ff-9af5-b3949d0c762c",
   "metadata": {},
   "outputs": [],
   "source": []
  },
  {
   "cell_type": "code",
   "execution_count": null,
   "id": "94bead13-f5e7-43d8-81a6-2364bad0800e",
   "metadata": {},
   "outputs": [],
   "source": []
  },
  {
   "cell_type": "code",
   "execution_count": null,
   "id": "e1da0d26-0986-44bf-b319-d4e73248d8be",
   "metadata": {},
   "outputs": [],
   "source": []
  },
  {
   "cell_type": "markdown",
   "id": "2c1bbf85-554e-441f-8777-4705947271d9",
   "metadata": {},
   "source": [
    "> - What would have happened if the `DataFrame` looks like this ↓"
   ]
  },
  {
   "cell_type": "code",
   "execution_count": null,
   "id": "3f5de2f6-140e-4437-8d66-0e266c81a4f0",
   "metadata": {},
   "outputs": [],
   "source": []
  },
  {
   "cell_type": "code",
   "execution_count": null,
   "id": "3b9f7a3f-3846-4bcd-9063-76c675f13634",
   "metadata": {},
   "outputs": [],
   "source": []
  },
  {
   "cell_type": "markdown",
   "id": "04d20ea9-d2f1-4971-8bad-7c6d2e1f594e",
   "metadata": {},
   "source": [
    "> - [ ] Is your best friends' name a `key` of the `DataFrame`?"
   ]
  },
  {
   "cell_type": "code",
   "execution_count": null,
   "id": "182fb581-18e1-4c0c-b9bc-bc82e49a28f4",
   "metadata": {},
   "outputs": [],
   "source": []
  },
  {
   "cell_type": "code",
   "execution_count": null,
   "id": "663be2ff-290e-4e9c-a042-d8e294ad0ec7",
   "metadata": {},
   "outputs": [],
   "source": []
  },
  {
   "cell_type": "markdown",
   "id": "9523dcb8-df6a-4b92-802e-a66078828bf1",
   "metadata": {},
   "source": [
    "> - [ ] How then can you access your second best friend's age?"
   ]
  },
  {
   "cell_type": "code",
   "execution_count": null,
   "id": "780e07dd-753e-428b-8749-6e13e9824e33",
   "metadata": {},
   "outputs": [],
   "source": []
  },
  {
   "cell_type": "code",
   "execution_count": null,
   "id": "111da84c-4cb4-404a-966d-bbd58cea565b",
   "metadata": {},
   "outputs": [],
   "source": []
  },
  {
   "cell_type": "markdown",
   "id": "d4797650-03dc-4dc5-969e-e082748db1c0",
   "metadata": {},
   "source": [
    "## Recap"
   ]
  },
  {
   "cell_type": "markdown",
   "id": "e31e0f24-54c4-47b2-ba38-5e41ed2b0418",
   "metadata": {},
   "source": [
    "### The `list`"
   ]
  },
  {
   "cell_type": "code",
   "execution_count": null,
   "id": "bbbb6e82-4919-497b-ab88-4eb8ecb503ae",
   "metadata": {},
   "outputs": [],
   "source": []
  },
  {
   "cell_type": "code",
   "execution_count": null,
   "id": "b63cfc8c-3475-4d5f-a0b3-fd5567602305",
   "metadata": {},
   "outputs": [],
   "source": []
  },
  {
   "cell_type": "markdown",
   "id": "9858f8c9-657e-491b-8673-b9615daa4a06",
   "metadata": {},
   "source": [
    "### The `dictionary`"
   ]
  },
  {
   "cell_type": "code",
   "execution_count": null,
   "id": "1da6d55f-8b80-494b-97bf-c8b993ad9b08",
   "metadata": {},
   "outputs": [],
   "source": []
  },
  {
   "cell_type": "code",
   "execution_count": null,
   "id": "f6caa5a9-6a26-4005-a734-6414d6aaf1cd",
   "metadata": {},
   "outputs": [],
   "source": []
  },
  {
   "cell_type": "code",
   "execution_count": null,
   "id": "ffd60987-ebb9-4157-b1b9-09dd364d573e",
   "metadata": {},
   "outputs": [],
   "source": []
  },
  {
   "cell_type": "code",
   "execution_count": null,
   "id": "1f632016-4ff7-4479-ae8d-bd6b722327c5",
   "metadata": {},
   "outputs": [],
   "source": []
  },
  {
   "cell_type": "code",
   "execution_count": null,
   "id": "ea449293-9d1e-414a-bc79-21d03c6cbaad",
   "metadata": {},
   "outputs": [],
   "source": []
  },
  {
   "cell_type": "code",
   "execution_count": null,
   "id": "73f813ba-f8ce-4e5f-8fe3-26f60ad99fa8",
   "metadata": {},
   "outputs": [],
   "source": []
  },
  {
   "cell_type": "markdown",
   "id": "b7f0fa20-79b3-44c6-8aaa-a25f9fe59e6f",
   "metadata": {},
   "source": [
    "### The `DataFrame`"
   ]
  },
  {
   "cell_type": "code",
   "execution_count": null,
   "id": "914bf604-521f-4eeb-8890-6c4a9ea8fdb2",
   "metadata": {},
   "outputs": [],
   "source": []
  },
  {
   "cell_type": "code",
   "execution_count": null,
   "id": "af25738b-c059-464b-a173-61a4c1da6476",
   "metadata": {},
   "outputs": [],
   "source": []
  },
  {
   "cell_type": "code",
   "execution_count": null,
   "id": "b0382223-0135-468e-b335-8d1c30a2d39b",
   "metadata": {},
   "outputs": [],
   "source": []
  },
  {
   "cell_type": "markdown",
   "id": "1953f7f1-7ca3-41b3-8fb6-3d2a84f0b35b",
   "metadata": {},
   "source": [
    "## What the heck is a `key`?\n",
    "\n",
    "> - A `key` that opens a door to get the `values`"
   ]
  },
  {
   "cell_type": "code",
   "execution_count": 38,
   "id": "0489a5c1-9fec-4e5d-b23d-ee51e41f33e6",
   "metadata": {},
   "outputs": [
    {
     "data": {
      "text/html": [
       "<div>\n",
       "<style scoped>\n",
       "    .dataframe tbody tr th:only-of-type {\n",
       "        vertical-align: middle;\n",
       "    }\n",
       "\n",
       "    .dataframe tbody tr th {\n",
       "        vertical-align: top;\n",
       "    }\n",
       "\n",
       "    .dataframe thead th {\n",
       "        text-align: right;\n",
       "    }\n",
       "</style>\n",
       "<table border=\"1\" class=\"dataframe\">\n",
       "  <thead>\n",
       "    <tr style=\"text-align: right;\">\n",
       "      <th></th>\n",
       "      <th>internet_usage</th>\n",
       "      <th>sex</th>\n",
       "      <th>age</th>\n",
       "      <th>education</th>\n",
       "      <th>weight</th>\n",
       "    </tr>\n",
       "    <tr>\n",
       "      <th>name</th>\n",
       "      <th></th>\n",
       "      <th></th>\n",
       "      <th></th>\n",
       "      <th></th>\n",
       "      <th></th>\n",
       "    </tr>\n",
       "  </thead>\n",
       "  <tbody>\n",
       "    <tr>\n",
       "      <th>Josefina</th>\n",
       "      <td>0</td>\n",
       "      <td>Female</td>\n",
       "      <td>66</td>\n",
       "      <td>Elementary</td>\n",
       "      <td>81</td>\n",
       "    </tr>\n",
       "    <tr>\n",
       "      <th>Vicki</th>\n",
       "      <td>1</td>\n",
       "      <td>Male</td>\n",
       "      <td>72</td>\n",
       "      <td>Elementary</td>\n",
       "      <td>78</td>\n",
       "    </tr>\n",
       "    <tr>\n",
       "      <th>David</th>\n",
       "      <td>1</td>\n",
       "      <td>Male</td>\n",
       "      <td>48</td>\n",
       "      <td>University</td>\n",
       "      <td>69</td>\n",
       "    </tr>\n",
       "    <tr>\n",
       "      <th>Curtis</th>\n",
       "      <td>0</td>\n",
       "      <td>Male</td>\n",
       "      <td>59</td>\n",
       "      <td>PhD</td>\n",
       "      <td>107</td>\n",
       "    </tr>\n",
       "    <tr>\n",
       "      <th>Josephine</th>\n",
       "      <td>1</td>\n",
       "      <td>Female</td>\n",
       "      <td>44</td>\n",
       "      <td>PhD</td>\n",
       "      <td>80</td>\n",
       "    </tr>\n",
       "  </tbody>\n",
       "</table>\n",
       "</div>"
      ],
      "text/plain": [
       "           internet_usage     sex  age   education  weight\n",
       "name                                                      \n",
       "Josefina                0  Female   66  Elementary      81\n",
       "Vicki                   1    Male   72  Elementary      78\n",
       "David                   1    Male   48  University      69\n",
       "Curtis                  0    Male   59         PhD     107\n",
       "Josephine               1  Female   44         PhD      80"
      ]
     },
     "execution_count": 38,
     "metadata": {},
     "output_type": "execute_result"
    }
   ],
   "source": [
    "df = pd.read_excel('internet_usage_spain.xlsx', sheet_name=1, index_col=0) #!\n",
    "df.head()"
   ]
  },
  {
   "cell_type": "markdown",
   "id": "478b6367-aa5b-4ebb-b304-3fe187688662",
   "metadata": {},
   "source": [
    "> - [ ] For example, get the values contained in the `age` key"
   ]
  },
  {
   "cell_type": "code",
   "execution_count": null,
   "id": "d1c12195-b16f-47a0-b1b0-f3010b443b37",
   "metadata": {},
   "outputs": [],
   "source": []
  },
  {
   "cell_type": "markdown",
   "id": "74ca8e71-3988-454a-8bda-f7016b39c96d",
   "metadata": {},
   "source": [
    "> - [ ] Access the `name` of the people"
   ]
  },
  {
   "cell_type": "code",
   "execution_count": null,
   "id": "2d819627-5566-4832-a4be-b40d6badff77",
   "metadata": {},
   "outputs": [],
   "source": []
  },
  {
   "cell_type": "markdown",
   "id": "f9214012-8648-4ca5-80a9-6b7f243db2df",
   "metadata": {},
   "source": [
    "> - What is the error saying?\n",
    "> - [ ] Could you ask which are the `keys` for the `df`?"
   ]
  },
  {
   "cell_type": "code",
   "execution_count": null,
   "id": "95afdbeb-987c-448c-80f7-568e7482da87",
   "metadata": {},
   "outputs": [],
   "source": []
  },
  {
   "cell_type": "code",
   "execution_count": null,
   "id": "fabfd626-bcc5-4e18-be8d-830c8b519d01",
   "metadata": {},
   "outputs": [],
   "source": []
  },
  {
   "cell_type": "markdown",
   "id": "d0a9a7c5-3533-4fa5-8b98-67956fe86f19",
   "metadata": {},
   "source": [
    "> - [ ] Which `keys` could you access then?"
   ]
  },
  {
   "cell_type": "code",
   "execution_count": null,
   "id": "b0250d60-0ff4-4167-922d-acadedfa0f13",
   "metadata": {},
   "outputs": [],
   "source": []
  },
  {
   "cell_type": "markdown",
   "id": "e060f0e5-8c89-416d-8334-414e6a25982a",
   "metadata": {},
   "source": [
    "> - [ ] How could you then access the `names`?"
   ]
  },
  {
   "cell_type": "code",
   "execution_count": null,
   "id": "648adbf3-f72a-4f7e-ac4a-d5a609837e14",
   "metadata": {},
   "outputs": [],
   "source": []
  }
 ],
 "metadata": {
  "authors": [
   {
    "name": "Jesús López",
    "twitter": "https://twitter.com/jsulopz"
   }
  ],
  "kernelspec": {
   "display_name": "Python 3 (ipykernel)",
   "language": "python",
   "name": "python3"
  },
  "language_info": {
   "codemirror_mode": {
    "name": "ipython",
    "version": 3
   },
   "file_extension": ".py",
   "mimetype": "text/x-python",
   "name": "python",
   "nbconvert_exporter": "python",
   "pygments_lexer": "ipython3",
   "version": "3.9.7"
  },
  "title": "Indexing the Object",
  "toc-autonumbering": true
 },
 "nbformat": 4,
 "nbformat_minor": 5
}
