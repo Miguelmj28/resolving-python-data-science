{
 "cells": [
  {
   "cell_type": "markdown",
   "id": "65a62216",
   "metadata": {},
   "source": [
    "<font size=\"+5\">#01 | Data Tables & Basic Concepts of Programming</font>"
   ]
  },
  {
   "cell_type": "markdown",
   "id": "3e9a2e55-8a36-4c00-b184-4286bfc8ce90",
   "metadata": {},
   "source": [
    "- Subscribe to my [Blog ↗](https://blog.pythonassembly.com/)\n",
    "- Let's keep in touch on [LinkedIn ↗](www.linkedin.com/in/jsulopz) 😄"
   ]
  },
  {
   "cell_type": "markdown",
   "id": "b528565b-6b9f-4cab-b4ef-d364a71c5903",
   "metadata": {},
   "source": [
    "# Object-Oriented Programming"
   ]
  },
  {
   "cell_type": "markdown",
   "id": "93fb3fb7-13df-4716-91d3-db25892b6e26",
   "metadata": {},
   "source": [
    "> Which `objects` are predefined by Python?\n",
    "> - numbers\n",
    "> - text\n",
    "> - set of `objects`"
   ]
  },
  {
   "cell_type": "code",
   "execution_count": 1,
   "id": "8d9cc60c-9b7b-4133-9e82-109058862b85",
   "metadata": {},
   "outputs": [
    {
     "data": {
      "text/plain": [
       "2"
      ]
     },
     "execution_count": 1,
     "metadata": {},
     "output_type": "execute_result"
    }
   ],
   "source": [
    "2"
   ]
  },
  {
   "cell_type": "code",
   "execution_count": 2,
   "id": "bdd1187c-0599-4349-9133-d0f86bd6a827",
   "metadata": {},
   "outputs": [
    {
     "data": {
      "text/plain": [
       "2.2"
      ]
     },
     "execution_count": 2,
     "metadata": {},
     "output_type": "execute_result"
    }
   ],
   "source": [
    "2.2"
   ]
  },
  {
   "cell_type": "code",
   "execution_count": 3,
   "id": "88ea03e1-76af-4b07-b73c-a6d42948feca",
   "metadata": {},
   "outputs": [
    {
     "ename": "NameError",
     "evalue": "name 'hola' is not defined",
     "output_type": "error",
     "traceback": [
      "\u001b[0;31m---------------------------------------------------------------------------\u001b[0m",
      "\u001b[0;31mNameError\u001b[0m                                 Traceback (most recent call last)",
      "\u001b[0;32m/var/folders/24/tg28vxls25l9mjvqrnh0plc80000gn/T/ipykernel_62626/3297960001.py\u001b[0m in \u001b[0;36m<module>\u001b[0;34m\u001b[0m\n\u001b[0;32m----> 1\u001b[0;31m \u001b[0mhola\u001b[0m\u001b[0;34m\u001b[0m\u001b[0;34m\u001b[0m\u001b[0m\n\u001b[0m",
      "\u001b[0;31mNameError\u001b[0m: name 'hola' is not defined"
     ]
    }
   ],
   "source": [
    "hola"
   ]
  },
  {
   "cell_type": "code",
   "execution_count": 4,
   "id": "0e2b2a97-439a-4469-b11c-f98c9af24db8",
   "metadata": {},
   "outputs": [
    {
     "data": {
      "text/plain": [
       "'hola'"
      ]
     },
     "execution_count": 4,
     "metadata": {},
     "output_type": "execute_result"
    }
   ],
   "source": [
    "'hola'"
   ]
  },
  {
   "cell_type": "code",
   "execution_count": 5,
   "id": "21dd3098-6d64-4f29-a07d-84d7246fcc78",
   "metadata": {},
   "outputs": [
    {
     "data": {
      "text/plain": [
       "<function len(obj, /)>"
      ]
     },
     "execution_count": 5,
     "metadata": {},
     "output_type": "execute_result"
    }
   ],
   "source": [
    "len"
   ]
  },
  {
   "cell_type": "code",
   "execution_count": 6,
   "id": "c92e60e7-b8ea-4f08-93f1-75eb80fdaaf0",
   "metadata": {},
   "outputs": [
    {
     "data": {
      "text/plain": [
       "<function sum(iterable, /, start=0)>"
      ]
     },
     "execution_count": 6,
     "metadata": {},
     "output_type": "execute_result"
    }
   ],
   "source": [
    "sum"
   ]
  },
  {
   "cell_type": "code",
   "execution_count": 7,
   "id": "66354642-f25f-4151-85a9-00a5df3e4eb6",
   "metadata": {},
   "outputs": [
    {
     "ename": "NameError",
     "evalue": "name 'hola' is not defined",
     "output_type": "error",
     "traceback": [
      "\u001b[0;31m---------------------------------------------------------------------------\u001b[0m",
      "\u001b[0;31mNameError\u001b[0m                                 Traceback (most recent call last)",
      "\u001b[0;32m/var/folders/24/tg28vxls25l9mjvqrnh0plc80000gn/T/ipykernel_62626/3297960001.py\u001b[0m in \u001b[0;36m<module>\u001b[0;34m\u001b[0m\n\u001b[0;32m----> 1\u001b[0;31m \u001b[0mhola\u001b[0m\u001b[0;34m\u001b[0m\u001b[0;34m\u001b[0m\u001b[0m\n\u001b[0m",
      "\u001b[0;31mNameError\u001b[0m: name 'hola' is not defined"
     ]
    }
   ],
   "source": [
    "hola"
   ]
  },
  {
   "cell_type": "code",
   "execution_count": 8,
   "id": "bb0590e5-a534-4ca3-a492-aca91cf6dc2a",
   "metadata": {},
   "outputs": [
    {
     "ename": "NameError",
     "evalue": "name 'pandas' is not defined",
     "output_type": "error",
     "traceback": [
      "\u001b[0;31m---------------------------------------------------------------------------\u001b[0m",
      "\u001b[0;31mNameError\u001b[0m                                 Traceback (most recent call last)",
      "\u001b[0;32m/var/folders/24/tg28vxls25l9mjvqrnh0plc80000gn/T/ipykernel_62626/703571930.py\u001b[0m in \u001b[0;36m<module>\u001b[0;34m\u001b[0m\n\u001b[0;32m----> 1\u001b[0;31m \u001b[0mpandas\u001b[0m\u001b[0;34m\u001b[0m\u001b[0;34m\u001b[0m\u001b[0m\n\u001b[0m",
      "\u001b[0;31mNameError\u001b[0m: name 'pandas' is not defined"
     ]
    }
   ],
   "source": [
    "pandas"
   ]
  },
  {
   "cell_type": "code",
   "execution_count": 9,
   "id": "81aee166-2544-4297-bc13-9f4a4ea21d32",
   "metadata": {},
   "outputs": [],
   "source": [
    "pandas = 8"
   ]
  },
  {
   "cell_type": "code",
   "execution_count": 10,
   "id": "169e0a09-891e-40f7-bd0e-7cd84701d914",
   "metadata": {},
   "outputs": [
    {
     "data": {
      "text/plain": [
       "8"
      ]
     },
     "execution_count": 10,
     "metadata": {},
     "output_type": "execute_result"
    }
   ],
   "source": [
    "pandas"
   ]
  },
  {
   "cell_type": "code",
   "execution_count": 11,
   "id": "259816d0-78ec-4ccf-8fe2-dcecfa8b7442",
   "metadata": {},
   "outputs": [],
   "source": [
    "import pandas"
   ]
  },
  {
   "cell_type": "code",
   "execution_count": 12,
   "id": "5979ab8c-7aba-4a2c-99ab-5441c6e19c7c",
   "metadata": {},
   "outputs": [
    {
     "data": {
      "text/plain": [
       "<module 'pandas' from '/Users/sota/miniforge3/lib/python3.9/site-packages/pandas/__init__.py'>"
      ]
     },
     "execution_count": 12,
     "metadata": {},
     "output_type": "execute_result"
    }
   ],
   "source": [
    "pandas"
   ]
  },
  {
   "cell_type": "code",
   "execution_count": 18,
   "id": "53362d96-a027-4f36-8592-852ef4938715",
   "metadata": {},
   "outputs": [
    {
     "data": {
      "text/plain": [
       "'https://en.wikipedia.org/wiki/List_of_subdivisions_of_Spain_by_population'"
      ]
     },
     "execution_count": 18,
     "metadata": {},
     "output_type": "execute_result"
    }
   ],
   "source": [
    "'https://en.wikipedia.org/wiki/List_of_subdivisions_of_Spain_by_population'"
   ]
  },
  {
   "cell_type": "code",
   "execution_count": null,
   "id": "7a3bee24-607e-4e1c-a867-639eb15347e4",
   "metadata": {},
   "outputs": [],
   "source": []
  },
  {
   "cell_type": "code",
   "execution_count": 14,
   "id": "7c6bfb5c-a7b7-49e4-9dd4-757f5233c3be",
   "metadata": {},
   "outputs": [],
   "source": [
    "data = pandas.read_html(io='https://en.wikipedia.org/wiki/List_of_subdivisions_of_Spain_by_population')"
   ]
  },
  {
   "cell_type": "code",
   "execution_count": 16,
   "id": "91252fee-b930-48b3-8988-efb4ce76b19b",
   "metadata": {},
   "outputs": [
    {
     "data": {
      "text/html": [
       "<div>\n",
       "<style scoped>\n",
       "    .dataframe tbody tr th:only-of-type {\n",
       "        vertical-align: middle;\n",
       "    }\n",
       "\n",
       "    .dataframe tbody tr th {\n",
       "        vertical-align: top;\n",
       "    }\n",
       "\n",
       "    .dataframe thead th {\n",
       "        text-align: right;\n",
       "    }\n",
       "</style>\n",
       "<table border=\"1\" class=\"dataframe\">\n",
       "  <thead>\n",
       "    <tr style=\"text-align: right;\">\n",
       "      <th></th>\n",
       "      <th>0</th>\n",
       "      <th>1</th>\n",
       "    </tr>\n",
       "  </thead>\n",
       "  <tbody>\n",
       "    <tr>\n",
       "      <th>0</th>\n",
       "      <td>NaN</td>\n",
       "      <td>This article needs additional citations for ve...</td>\n",
       "    </tr>\n",
       "  </tbody>\n",
       "</table>\n",
       "</div>"
      ],
      "text/plain": [
       "    0                                                  1\n",
       "0 NaN  This article needs additional citations for ve..."
      ]
     },
     "execution_count": 16,
     "metadata": {},
     "output_type": "execute_result"
    }
   ],
   "source": [
    "data[0]"
   ]
  },
  {
   "cell_type": "code",
   "execution_count": 17,
   "id": "9e067930-5f60-475f-9c0d-b2b3815b7aa3",
   "metadata": {},
   "outputs": [
    {
     "data": {
      "text/html": [
       "<div>\n",
       "<style scoped>\n",
       "    .dataframe tbody tr th:only-of-type {\n",
       "        vertical-align: middle;\n",
       "    }\n",
       "\n",
       "    .dataframe tbody tr th {\n",
       "        vertical-align: top;\n",
       "    }\n",
       "\n",
       "    .dataframe thead th {\n",
       "        text-align: right;\n",
       "    }\n",
       "</style>\n",
       "<table border=\"1\" class=\"dataframe\">\n",
       "  <thead>\n",
       "    <tr style=\"text-align: right;\">\n",
       "      <th></th>\n",
       "      <th>Rankas of2014</th>\n",
       "      <th>Rankas of2010</th>\n",
       "      <th>Autonomous community or city</th>\n",
       "      <th>Population estimate for January 1, 2014</th>\n",
       "      <th>Population estimate for January 1, 2010</th>\n",
       "      <th>Percent of totalSpanish population[1]</th>\n",
       "    </tr>\n",
       "  </thead>\n",
       "  <tbody>\n",
       "    <tr>\n",
       "      <th>0</th>\n",
       "      <td>1</td>\n",
       "      <td>1</td>\n",
       "      <td>Andalusia</td>\n",
       "      <td>8388875</td>\n",
       "      <td>8276017</td>\n",
       "      <td>18.04%</td>\n",
       "    </tr>\n",
       "    <tr>\n",
       "      <th>1</th>\n",
       "      <td>2</td>\n",
       "      <td>2</td>\n",
       "      <td>Catalonia</td>\n",
       "      <td>7518903</td>\n",
       "      <td>7463471</td>\n",
       "      <td>15.94%</td>\n",
       "    </tr>\n",
       "    <tr>\n",
       "      <th>2</th>\n",
       "      <td>3</td>\n",
       "      <td>3</td>\n",
       "      <td>Community of Madrid</td>\n",
       "      <td>6378297</td>\n",
       "      <td>6373532</td>\n",
       "      <td>13.71%</td>\n",
       "    </tr>\n",
       "    <tr>\n",
       "      <th>3</th>\n",
       "      <td>4</td>\n",
       "      <td>4</td>\n",
       "      <td>Valencian Community</td>\n",
       "      <td>4956427</td>\n",
       "      <td>4989631</td>\n",
       "      <td>10.66%</td>\n",
       "    </tr>\n",
       "    <tr>\n",
       "      <th>4</th>\n",
       "      <td>5</td>\n",
       "      <td>5</td>\n",
       "      <td>Galicia</td>\n",
       "      <td>2747226</td>\n",
       "      <td>2747226</td>\n",
       "      <td>5.91%</td>\n",
       "    </tr>\n",
       "    <tr>\n",
       "      <th>5</th>\n",
       "      <td>6</td>\n",
       "      <td>6</td>\n",
       "      <td>Castile and León</td>\n",
       "      <td>2495689</td>\n",
       "      <td>2547408</td>\n",
       "      <td>5.37%</td>\n",
       "    </tr>\n",
       "    <tr>\n",
       "      <th>6</th>\n",
       "      <td>7</td>\n",
       "      <td>7</td>\n",
       "      <td>Basque Autonomous Community</td>\n",
       "      <td>2167166</td>\n",
       "      <td>2179532</td>\n",
       "      <td>4.66%</td>\n",
       "    </tr>\n",
       "    <tr>\n",
       "      <th>7</th>\n",
       "      <td>8</td>\n",
       "      <td>9</td>\n",
       "      <td>Canary Islands</td>\n",
       "      <td>2114845</td>\n",
       "      <td>2045168</td>\n",
       "      <td>4.55%</td>\n",
       "    </tr>\n",
       "    <tr>\n",
       "      <th>8</th>\n",
       "      <td>9</td>\n",
       "      <td>8</td>\n",
       "      <td>Castile-La Mancha</td>\n",
       "      <td>2075197</td>\n",
       "      <td>2084470</td>\n",
       "      <td>4.46%</td>\n",
       "    </tr>\n",
       "    <tr>\n",
       "      <th>9</th>\n",
       "      <td>10</td>\n",
       "      <td>10</td>\n",
       "      <td>Region of Murcia</td>\n",
       "      <td>1461803</td>\n",
       "      <td>1453545</td>\n",
       "      <td>3.14%</td>\n",
       "    </tr>\n",
       "    <tr>\n",
       "      <th>10</th>\n",
       "      <td>11</td>\n",
       "      <td>11</td>\n",
       "      <td>Aragon</td>\n",
       "      <td>1311301</td>\n",
       "      <td>1344184</td>\n",
       "      <td>2.82%</td>\n",
       "    </tr>\n",
       "    <tr>\n",
       "      <th>11</th>\n",
       "      <td>12</td>\n",
       "      <td>12</td>\n",
       "      <td>Extremadura</td>\n",
       "      <td>1099605</td>\n",
       "      <td>1096421</td>\n",
       "      <td>2.36%</td>\n",
       "    </tr>\n",
       "    <tr>\n",
       "      <th>12</th>\n",
       "      <td>13</td>\n",
       "      <td>13</td>\n",
       "      <td>Balearic Islands</td>\n",
       "      <td>1115841</td>\n",
       "      <td>1077103</td>\n",
       "      <td>2.4%</td>\n",
       "    </tr>\n",
       "    <tr>\n",
       "      <th>13</th>\n",
       "      <td>14</td>\n",
       "      <td>14</td>\n",
       "      <td>Asturias</td>\n",
       "      <td>1058975</td>\n",
       "      <td>1077103</td>\n",
       "      <td>2.28%</td>\n",
       "    </tr>\n",
       "    <tr>\n",
       "      <th>14</th>\n",
       "      <td>15</td>\n",
       "      <td>15</td>\n",
       "      <td>Navarre</td>\n",
       "      <td>636450</td>\n",
       "      <td>633017</td>\n",
       "      <td>1.37%</td>\n",
       "    </tr>\n",
       "    <tr>\n",
       "      <th>15</th>\n",
       "      <td>16</td>\n",
       "      <td>16</td>\n",
       "      <td>Cantabria</td>\n",
       "      <td>587682</td>\n",
       "      <td>588518</td>\n",
       "      <td>1.26%</td>\n",
       "    </tr>\n",
       "    <tr>\n",
       "      <th>16</th>\n",
       "      <td>17</td>\n",
       "      <td>17</td>\n",
       "      <td>La Rioja (Spain)</td>\n",
       "      <td>315223</td>\n",
       "      <td>319939</td>\n",
       "      <td>0.68%</td>\n",
       "    </tr>\n",
       "    <tr>\n",
       "      <th>17</th>\n",
       "      <td>18</td>\n",
       "      <td>18</td>\n",
       "      <td>Ceuta</td>\n",
       "      <td>84674</td>\n",
       "      <td>79294</td>\n",
       "      <td>0.18%</td>\n",
       "    </tr>\n",
       "    <tr>\n",
       "      <th>18</th>\n",
       "      <td>19</td>\n",
       "      <td>19</td>\n",
       "      <td>Melilla</td>\n",
       "      <td>83870</td>\n",
       "      <td>76047</td>\n",
       "      <td>0.18%</td>\n",
       "    </tr>\n",
       "    <tr>\n",
       "      <th>19</th>\n",
       "      <td>–</td>\n",
       "      <td>–</td>\n",
       "      <td>Spain</td>\n",
       "      <td>46598049</td>\n",
       "      <td>46486021</td>\n",
       "      <td>100%</td>\n",
       "    </tr>\n",
       "  </tbody>\n",
       "</table>\n",
       "</div>"
      ],
      "text/plain": [
       "   Rankas of2014 Rankas of2010 Autonomous community or city  \\\n",
       "0              1             1                    Andalusia   \n",
       "1              2             2                    Catalonia   \n",
       "2              3             3          Community of Madrid   \n",
       "3              4             4          Valencian Community   \n",
       "4              5             5                      Galicia   \n",
       "5              6             6             Castile and León   \n",
       "6              7             7  Basque Autonomous Community   \n",
       "7              8             9               Canary Islands   \n",
       "8              9             8            Castile-La Mancha   \n",
       "9             10            10             Region of Murcia   \n",
       "10            11            11                       Aragon   \n",
       "11            12            12                  Extremadura   \n",
       "12            13            13             Balearic Islands   \n",
       "13            14            14                     Asturias   \n",
       "14            15            15                      Navarre   \n",
       "15            16            16                    Cantabria   \n",
       "16            17            17             La Rioja (Spain)   \n",
       "17            18            18                        Ceuta   \n",
       "18            19            19                      Melilla   \n",
       "19             –             –                        Spain   \n",
       "\n",
       "    Population estimate for January 1, 2014  \\\n",
       "0                                   8388875   \n",
       "1                                   7518903   \n",
       "2                                   6378297   \n",
       "3                                   4956427   \n",
       "4                                   2747226   \n",
       "5                                   2495689   \n",
       "6                                   2167166   \n",
       "7                                   2114845   \n",
       "8                                   2075197   \n",
       "9                                   1461803   \n",
       "10                                  1311301   \n",
       "11                                  1099605   \n",
       "12                                  1115841   \n",
       "13                                  1058975   \n",
       "14                                   636450   \n",
       "15                                   587682   \n",
       "16                                   315223   \n",
       "17                                    84674   \n",
       "18                                    83870   \n",
       "19                                 46598049   \n",
       "\n",
       "    Population estimate for January 1, 2010  \\\n",
       "0                                   8276017   \n",
       "1                                   7463471   \n",
       "2                                   6373532   \n",
       "3                                   4989631   \n",
       "4                                   2747226   \n",
       "5                                   2547408   \n",
       "6                                   2179532   \n",
       "7                                   2045168   \n",
       "8                                   2084470   \n",
       "9                                   1453545   \n",
       "10                                  1344184   \n",
       "11                                  1096421   \n",
       "12                                  1077103   \n",
       "13                                  1077103   \n",
       "14                                   633017   \n",
       "15                                   588518   \n",
       "16                                   319939   \n",
       "17                                    79294   \n",
       "18                                    76047   \n",
       "19                                 46486021   \n",
       "\n",
       "   Percent of totalSpanish population[1]  \n",
       "0                                 18.04%  \n",
       "1                                 15.94%  \n",
       "2                                 13.71%  \n",
       "3                                 10.66%  \n",
       "4                                  5.91%  \n",
       "5                                  5.37%  \n",
       "6                                  4.66%  \n",
       "7                                  4.55%  \n",
       "8                                  4.46%  \n",
       "9                                  3.14%  \n",
       "10                                 2.82%  \n",
       "11                                 2.36%  \n",
       "12                                  2.4%  \n",
       "13                                 2.28%  \n",
       "14                                 1.37%  \n",
       "15                                 1.26%  \n",
       "16                                 0.68%  \n",
       "17                                 0.18%  \n",
       "18                                 0.18%  \n",
       "19                                  100%  "
      ]
     },
     "execution_count": 17,
     "metadata": {},
     "output_type": "execute_result"
    }
   ],
   "source": [
    "data[1]"
   ]
  },
  {
   "cell_type": "code",
   "execution_count": null,
   "id": "42016914-5957-4945-b15d-eed0cd521634",
   "metadata": {},
   "outputs": [],
   "source": []
  },
  {
   "cell_type": "markdown",
   "id": "72742636-6092-40f4-a634-330da1aa066a",
   "metadata": {},
   "source": [
    "# Use of Functions"
   ]
  },
  {
   "cell_type": "markdown",
   "id": "f1e6d281-9765-4eb8-92a8-6b541b93c9f0",
   "metadata": {},
   "source": [
    "## Functions inside Objects"
   ]
  },
  {
   "cell_type": "markdown",
   "id": "be865b52-fcc2-42d7-a2a6-ba585fdfc957",
   "metadata": {},
   "source": [
    "> - The `dog` makes `guau()`: `dog.guau()`\n",
    "> - The `cat` makes `miau()`: `cat.miau()`\n",
    "> - What could a `DataFrame` make? `object.` + `[tab key]`"
   ]
  },
  {
   "cell_type": "code",
   "execution_count": null,
   "id": "013e54c2-f455-4ba5-b5a8-f587b5358205",
   "metadata": {},
   "outputs": [],
   "source": []
  },
  {
   "cell_type": "markdown",
   "id": "e512f553-8718-42dc-b94d-da705e8992e6",
   "metadata": {},
   "source": [
    "## Predefined Functions in Python (_Built-in_ Functions)"
   ]
  },
  {
   "cell_type": "markdown",
   "id": "9316ba5d-1385-4f1e-bb2b-b4f8a8c06dde",
   "metadata": {},
   "source": [
    "> - https://docs.python.org/3/library/functions.html"
   ]
  },
  {
   "cell_type": "code",
   "execution_count": null,
   "id": "ac5e40b2-2a7e-4b2f-abdd-1d937a89c4b4",
   "metadata": {},
   "outputs": [],
   "source": []
  },
  {
   "cell_type": "markdown",
   "id": "86d29a70",
   "metadata": {},
   "source": [
    "## Discipline to Search Solutions in Google"
   ]
  },
  {
   "cell_type": "markdown",
   "id": "6e4337ce",
   "metadata": {},
   "source": [
    "> Apply the following steps when **looking for solutions in Google**:\n",
    ">\n",
    "> 1. **Necesity**: How to load an Excel in Python?\n",
    "> 2. **Search in Google**: by keywords\n",
    ">   - `load excel python`\n",
    ">   - ~~how to load excel in python~~\n",
    "> 3. **Solution**: What's the `function()` that loads an Excel in Python?\n",
    ">   - A Function to Programming is what the Atom to Phisics.\n",
    ">   - Every time you want to do something in programming\n",
    ">   - **You will need a `function()`** to make it\n",
    ">   - Theferore, you must **detect parenthesis `()`**\n",
    ">   - Out of all the words that you see in a website\n",
    ">   - Because they indicate the presence of a `function()`."
   ]
  },
  {
   "cell_type": "markdown",
   "id": "cf8faa78",
   "metadata": {},
   "source": [
    "## External Functions"
   ]
  },
  {
   "cell_type": "markdown",
   "id": "9f8e0836",
   "metadata": {},
   "source": [
    "> - Download [this Excel](https://github.com/sotastica/data/raw/main/internet_usage_spain.xlsx)\n",
    "> - Apply the above discipline and make it happen 🚀\n",
    "> - I want to see the table, c'mon 👇"
   ]
  },
  {
   "cell_type": "code",
   "execution_count": null,
   "id": "fd283a76-2ff4-4eb3-9359-60e4ffab8c46",
   "metadata": {},
   "outputs": [],
   "source": []
  },
  {
   "cell_type": "markdown",
   "id": "c3826222-2b68-40eb-80db-00f3e42ac908",
   "metadata": {},
   "source": [
    "## The Elements of Programming"
   ]
  },
  {
   "cell_type": "markdown",
   "id": "84675d87-5f44-412b-903a-9c0f7a343f2e",
   "metadata": {},
   "source": [
    "> - `Library`: where the code of functions are stored.\n",
    ">   - `Function`: execute several lines of code with one `word()`.\n",
    ">       - `Parameter`: to **configure** the function's behaviour.\n",
    ">           - `Object`: **data structure** to store information."
   ]
  },
  {
   "cell_type": "markdown",
   "id": "46428e33-a757-4b28-81a0-2d22f15066a7",
   "metadata": {},
   "source": [
    "## Code Syntax"
   ]
  },
  {
   "cell_type": "markdown",
   "id": "c59b0f2b-929a-41ae-9c61-24c2c9bbea3b",
   "metadata": {},
   "source": [
    "**What happens inside the computer when we run the code?**\n",
    "\n",
    "> In which order Python reads the line of code?\n",
    "> - From left to right.\n",
    "> - From up to down.\n",
    "> Which elements are being used in the previous line of code?"
   ]
  },
  {
   "cell_type": "code",
   "execution_count": null,
   "id": "da0b6580",
   "metadata": {},
   "outputs": [],
   "source": []
  },
  {
   "cell_type": "markdown",
   "id": "469b88e8-bea4-4d9b-b1fa-37b5e11d8d9b",
   "metadata": {},
   "source": [
    "## Source Code Execution"
   ]
  },
  {
   "cell_type": "markdown",
   "id": "a3e93e2b-c23b-4e45-922e-d12fdc8f3f6d",
   "metadata": {},
   "source": [
    "> - What have happened **inside the computer** execute `read_excel()`?"
   ]
  },
  {
   "cell_type": "code",
   "execution_count": null,
   "id": "e74dad07-d5b3-48dc-afb4-9fc0292ff015",
   "metadata": {},
   "outputs": [],
   "source": []
  },
  {
   "cell_type": "markdown",
   "id": "1075d94d-bc03-4e9d-9802-45159d287a21",
   "metadata": {},
   "source": [
    "> - How Python locates the error when it doesn't find the `filename`?"
   ]
  },
  {
   "cell_type": "code",
   "execution_count": null,
   "id": "1b30252b-f7e7-4741-9214-9d1fd2a7fc3a",
   "metadata": {},
   "outputs": [],
   "source": []
  },
  {
   "cell_type": "markdown",
   "id": "0d064658",
   "metadata": {},
   "source": [
    "## Conclusion | Types of Functions"
   ]
  },
  {
   "cell_type": "markdown",
   "id": "85a24444",
   "metadata": {},
   "source": [
    "> 1. Buit-in (Predefined) Functions\n",
    "> 2. External Functions from Libraries\n",
    "> 3. Functions within Objects"
   ]
  },
  {
   "cell_type": "markdown",
   "id": "64d133ff",
   "metadata": {},
   "source": [
    "# Accessing `Objects`"
   ]
  },
  {
   "cell_type": "markdown",
   "id": "8c9fe82b",
   "metadata": {},
   "source": [
    "> Objects are **data structures** that store information. \n",
    "> Which **syntax** do we use to access the information?"
   ]
  },
  {
   "cell_type": "markdown",
   "id": "30ec0a18",
   "metadata": {},
   "source": [
    "## Dot Notation `.`"
   ]
  },
  {
   "cell_type": "code",
   "execution_count": null,
   "id": "2a88ab49",
   "metadata": {},
   "outputs": [],
   "source": []
  },
  {
   "cell_type": "markdown",
   "id": "b0281142",
   "metadata": {},
   "source": [
    "## Square Brackets `[]`"
   ]
  },
  {
   "cell_type": "code",
   "execution_count": null,
   "id": "9ef1e18d",
   "metadata": {},
   "outputs": [],
   "source": []
  },
  {
   "cell_type": "markdown",
   "id": "d389f1b6",
   "metadata": {},
   "source": [
    "# Filter & Masking"
   ]
  },
  {
   "cell_type": "markdown",
   "id": "ad60e292-ed77-4c06-8614-7391dcd05ebd",
   "metadata": {},
   "source": [
    "## Filter people older than 70"
   ]
  },
  {
   "cell_type": "code",
   "execution_count": null,
   "id": "e6a41d01-8ad0-4319-95eb-07035d154606",
   "metadata": {},
   "outputs": [],
   "source": []
  },
  {
   "cell_type": "markdown",
   "id": "318a0f0d-6642-4081-a7da-cb3f5c751fac",
   "metadata": {},
   "source": [
    "## Filter people without studies"
   ]
  },
  {
   "cell_type": "code",
   "execution_count": null,
   "id": "63d9b1b6-773a-4e50-8248-b4b6cdd32362",
   "metadata": {},
   "outputs": [],
   "source": []
  },
  {
   "cell_type": "markdown",
   "id": "1900bcb9-1ccc-48a2-b4df-cf15aabfa5fb",
   "metadata": {},
   "source": [
    "## Filter people older than 70 and without studies"
   ]
  },
  {
   "cell_type": "code",
   "execution_count": null,
   "id": "39058bdd-1f7b-4cce-8b4e-0decef944526",
   "metadata": {},
   "outputs": [],
   "source": []
  },
  {
   "cell_type": "markdown",
   "id": "a22f80aa-b1c0-4d3e-ab0b-377661e44c0c",
   "metadata": {},
   "source": [
    "## Filter people older than 70 or without studies"
   ]
  },
  {
   "cell_type": "code",
   "execution_count": null,
   "id": "b49cb601-3ed0-45c3-89af-6c2f9a2ad364",
   "metadata": {},
   "outputs": [],
   "source": []
  }
 ],
 "metadata": {
  "authors": [
   {
    "name": "Jesús López @sotastica"
   }
  ],
  "interpreter": {
   "hash": "414fd6d7c0f0aefb3d4e2db41edbeb0df03134e10d94a689550561b640a17652"
  },
  "kernelspec": {
   "display_name": "Python 3 (ipykernel)",
   "language": "python",
   "name": "python3"
  },
  "language_info": {
   "codemirror_mode": {
    "name": "ipython",
    "version": 3
   },
   "file_extension": ".py",
   "mimetype": "text/x-python",
   "name": "python",
   "nbconvert_exporter": "python",
   "pygments_lexer": "ipython3",
   "version": "3.9.7"
  },
  "toc-autonumbering": true
 },
 "nbformat": 4,
 "nbformat_minor": 5
}
