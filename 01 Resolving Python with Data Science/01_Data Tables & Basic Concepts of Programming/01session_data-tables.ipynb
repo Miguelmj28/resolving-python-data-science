{
 "cells": [
  {
   "cell_type": "markdown",
   "id": "65a62216",
   "metadata": {
    "tags": []
   },
   "source": [
    "<font size=\"+5\">#01 | Data Tables & Basic Concepts of Programming</font>"
   ]
  },
  {
   "cell_type": "markdown",
   "id": "3e9a2e55-8a36-4c00-b184-4286bfc8ce90",
   "metadata": {},
   "source": [
    "- Subscribe to my [Blog ↗](https://blog.pythonassembly.com/)\n",
    "- Let's keep in touch on [LinkedIn ↗](www.linkedin.com/in/jsulopz) 😄"
   ]
  },
  {
   "cell_type": "markdown",
   "id": "de5c0482-fd34-45e2-8f23-7dfb6a507e24",
   "metadata": {},
   "source": [
    "# The Registry (aka the `environment`)"
   ]
  },
  {
   "cell_type": "markdown",
   "id": "21c2d653-fe51-4bfb-8a5f-76ee631650d0",
   "metadata": {
    "tags": []
   },
   "source": [
    "> - Type `your name` and execute ↓"
   ]
  },
  {
   "cell_type": "code",
   "execution_count": null,
   "id": "d9d85d62-1881-4b01-b6b8-0f4b6ae3a4ae",
   "metadata": {},
   "outputs": [],
   "source": []
  },
  {
   "cell_type": "markdown",
   "id": "a5de79f3-8270-4d18-8df6-dfe7da2c9e1c",
   "metadata": {},
   "source": [
    "> - Type `sum` and execute ↓"
   ]
  },
  {
   "cell_type": "code",
   "execution_count": null,
   "id": "bc0c25ea-b26e-4291-aca2-d91835946f10",
   "metadata": {},
   "outputs": [],
   "source": []
  },
  {
   "cell_type": "markdown",
   "id": "7b5790c3-61a4-40c7-934f-bc4c00c1fefa",
   "metadata": {},
   "source": [
    "> - [ ] Why is it recognizing `sum` and not `your name`\n",
    "> - [ ] How can you literally tell `your name` so that Python will recognize it"
   ]
  },
  {
   "cell_type": "code",
   "execution_count": null,
   "id": "2f0d89be-b312-4903-927a-ed60eed47676",
   "metadata": {},
   "outputs": [],
   "source": []
  },
  {
   "cell_type": "code",
   "execution_count": null,
   "id": "4309968e-3bbc-48d9-bced-32b74475e845",
   "metadata": {},
   "outputs": [],
   "source": []
  },
  {
   "cell_type": "code",
   "execution_count": null,
   "id": "5904bcca-a2b0-494a-9923-25a90f4b760b",
   "metadata": {},
   "outputs": [],
   "source": []
  },
  {
   "cell_type": "code",
   "execution_count": null,
   "id": "86b817fd-546c-4e9b-b534-2ca68fa73773",
   "metadata": {},
   "outputs": [],
   "source": []
  },
  {
   "cell_type": "code",
   "execution_count": null,
   "id": "5fe3ff2b-2632-4ade-ac1b-c62d33195033",
   "metadata": {},
   "outputs": [],
   "source": []
  },
  {
   "cell_type": "markdown",
   "id": "b528565b-6b9f-4cab-b4ef-d364a71c5903",
   "metadata": {},
   "source": [
    "# Object-Oriented Programming"
   ]
  },
  {
   "cell_type": "markdown",
   "id": "93fb3fb7-13df-4716-91d3-db25892b6e26",
   "metadata": {},
   "source": [
    "> Which `objects` are predefined by Python?\n",
    "> - numbers\n",
    "> - text\n",
    "> - set of `objects`"
   ]
  },
  {
   "cell_type": "code",
   "execution_count": null,
   "id": "2641fa56-cd37-437d-8566-183676494821",
   "metadata": {},
   "outputs": [],
   "source": []
  },
  {
   "cell_type": "code",
   "execution_count": null,
   "id": "05a1f3f3-a380-4418-bd23-6c2daa9f32d5",
   "metadata": {},
   "outputs": [],
   "source": []
  },
  {
   "cell_type": "code",
   "execution_count": null,
   "id": "c94a2e9a-cbce-4fe7-8c9e-cc587b1682e9",
   "metadata": {},
   "outputs": [],
   "source": []
  },
  {
   "cell_type": "code",
   "execution_count": null,
   "id": "00c579f8-a4ba-48e5-8047-804015fb7d5f",
   "metadata": {},
   "outputs": [],
   "source": []
  },
  {
   "cell_type": "code",
   "execution_count": null,
   "id": "44efe069-0bc4-4a3e-9b70-479deb0643fe",
   "metadata": {},
   "outputs": [],
   "source": []
  },
  {
   "cell_type": "code",
   "execution_count": null,
   "id": "efda6a5f-aca8-4952-873c-3f178475e5e2",
   "metadata": {},
   "outputs": [],
   "source": []
  },
  {
   "cell_type": "markdown",
   "id": "72742636-6092-40f4-a634-330da1aa066a",
   "metadata": {},
   "source": [
    "# Use of Functions"
   ]
  },
  {
   "cell_type": "markdown",
   "id": "f1e6d281-9765-4eb8-92a8-6b541b93c9f0",
   "metadata": {},
   "source": [
    "## Functions inside Objects"
   ]
  },
  {
   "cell_type": "markdown",
   "id": "be865b52-fcc2-42d7-a2a6-ba585fdfc957",
   "metadata": {},
   "source": [
    "> - The `dog` makes `guau()`: `dog.guau()`\n",
    "> - The `cat` makes `miau()`: `cat.miau()`\n",
    "> - What could a `DataFrame` make? `object.` + `[tab key]`"
   ]
  },
  {
   "cell_type": "code",
   "execution_count": null,
   "id": "d19ac62e-6395-4540-ba3a-303a8d0e8756",
   "metadata": {},
   "outputs": [],
   "source": []
  },
  {
   "cell_type": "code",
   "execution_count": null,
   "id": "f2728756-baf2-4012-b468-752d627ba7b8",
   "metadata": {},
   "outputs": [],
   "source": []
  },
  {
   "cell_type": "code",
   "execution_count": null,
   "id": "f6bffa39-c4bf-4bc0-9d6a-7da3a34790b2",
   "metadata": {},
   "outputs": [],
   "source": []
  },
  {
   "cell_type": "code",
   "execution_count": null,
   "id": "16e0484d-a60a-45ca-99b5-8c03c72ec305",
   "metadata": {},
   "outputs": [],
   "source": []
  },
  {
   "cell_type": "markdown",
   "id": "e512f553-8718-42dc-b94d-da705e8992e6",
   "metadata": {},
   "source": [
    "## Predefined Functions in Python (_Built-in_ Functions)"
   ]
  },
  {
   "cell_type": "markdown",
   "id": "9316ba5d-1385-4f1e-bb2b-b4f8a8c06dde",
   "metadata": {},
   "source": [
    "> - https://docs.python.org/3/library/functions.html"
   ]
  },
  {
   "cell_type": "code",
   "execution_count": null,
   "id": "ac5e40b2-2a7e-4b2f-abdd-1d937a89c4b4",
   "metadata": {},
   "outputs": [],
   "source": []
  },
  {
   "cell_type": "code",
   "execution_count": null,
   "id": "bbbcae17-c20b-4c4e-8da7-399962c12029",
   "metadata": {},
   "outputs": [],
   "source": []
  },
  {
   "cell_type": "code",
   "execution_count": null,
   "id": "b3c40fd6-9192-48cd-a67b-e482eb883b6f",
   "metadata": {},
   "outputs": [],
   "source": []
  },
  {
   "cell_type": "code",
   "execution_count": null,
   "id": "3cacec98-6b3c-464a-8afe-9f1f3c3f2a63",
   "metadata": {},
   "outputs": [],
   "source": []
  },
  {
   "cell_type": "code",
   "execution_count": null,
   "id": "db89f2ba-c6e5-4c79-8048-a89e3b6097ed",
   "metadata": {},
   "outputs": [],
   "source": []
  },
  {
   "cell_type": "code",
   "execution_count": null,
   "id": "9b2c7ae1-5c21-4e05-acf3-be5e11d3160a",
   "metadata": {},
   "outputs": [],
   "source": []
  },
  {
   "cell_type": "markdown",
   "id": "86d29a70",
   "metadata": {},
   "source": [
    "## Discipline to Search Solutions in Google"
   ]
  },
  {
   "cell_type": "markdown",
   "id": "6e4337ce",
   "metadata": {},
   "source": [
    "> Apply the following steps when **looking for solutions in Google**:\n",
    ">\n",
    "> 1. **Necesity**: How to load an Excel in Python?\n",
    "> 2. **Search in Google**: by keywords\n",
    ">   - `load excel python`\n",
    ">   - ~~how to load excel in python~~\n",
    "> 3. **Solution**: What's the `function()` that loads an Excel in Python?\n",
    ">   - A Function to Programming is what the Atom to Phisics.\n",
    ">   - Every time you want to do something in programming\n",
    ">   - **You will need a `function()`** to make it\n",
    ">   - Theferore, you must **detect parenthesis `()`**\n",
    ">   - Out of all the words that you see in a website\n",
    ">   - Because they indicate the presence of a `function()`."
   ]
  },
  {
   "cell_type": "markdown",
   "id": "cf8faa78",
   "metadata": {},
   "source": [
    "## External Functions"
   ]
  },
  {
   "cell_type": "markdown",
   "id": "9f8e0836",
   "metadata": {},
   "source": [
    "> - Download [this Excel](https://github.com/sotastica/data/raw/main/internet_usage_spain.xlsx)\n",
    "> - Apply the above discipline and make it happen 🚀\n",
    "> - I want to see the table, c'mon 👇"
   ]
  },
  {
   "cell_type": "code",
   "execution_count": null,
   "id": "fd283a76-2ff4-4eb3-9359-60e4ffab8c46",
   "metadata": {},
   "outputs": [],
   "source": []
  },
  {
   "cell_type": "code",
   "execution_count": null,
   "id": "25ac0f29-982a-45e5-b965-0503d49fc435",
   "metadata": {},
   "outputs": [],
   "source": []
  },
  {
   "cell_type": "code",
   "execution_count": null,
   "id": "ff759df7-0f79-46ab-a66c-a712e49dc6cd",
   "metadata": {},
   "outputs": [],
   "source": []
  },
  {
   "cell_type": "code",
   "execution_count": null,
   "id": "6339b45f-ed40-46c0-837c-b1fb7b170365",
   "metadata": {},
   "outputs": [],
   "source": []
  },
  {
   "cell_type": "code",
   "execution_count": null,
   "id": "d910a206-39fc-44c3-86c0-f1dc60297314",
   "metadata": {},
   "outputs": [],
   "source": []
  },
  {
   "cell_type": "markdown",
   "id": "5da10922-17cf-406a-ba2e-f779d6b72b09",
   "metadata": {},
   "source": [
    "## Change Default Parameters of a Function"
   ]
  },
  {
   "cell_type": "markdown",
   "id": "2e721cf7-a397-4e34-99ed-ac0dd2c5a269",
   "metadata": {},
   "source": [
    "> - By Default ↓"
   ]
  },
  {
   "cell_type": "code",
   "execution_count": null,
   "id": "e141f886-1fae-4ce3-8251-d8fc90801591",
   "metadata": {},
   "outputs": [],
   "source": []
  },
  {
   "cell_type": "markdown",
   "id": "63f7860e-cc76-481f-acd3-15d17864db01",
   "metadata": {},
   "source": [
    "> - Change the Default Object of the Parameter ↓"
   ]
  },
  {
   "cell_type": "code",
   "execution_count": null,
   "id": "a6ce1d13-3c56-4a1e-ac9b-36e3b61ae47b",
   "metadata": {},
   "outputs": [],
   "source": []
  },
  {
   "cell_type": "code",
   "execution_count": null,
   "id": "1de97fdd-f104-4aa0-bf4a-b4c1d536b293",
   "metadata": {},
   "outputs": [],
   "source": []
  },
  {
   "cell_type": "markdown",
   "id": "7d4d82fd",
   "metadata": {},
   "source": [
    "## The Elements of Programming"
   ]
  },
  {
   "cell_type": "markdown",
   "id": "8c5fa32a",
   "metadata": {},
   "source": [
    "> - `Library`: where the code of functions are stored.\n",
    ">   - `Function`: execute several lines of code with one `word()`.\n",
    ">       - `Parameter`: to **configure** the function's behaviour.\n",
    ">           - `Object`: **data structure** to store information."
   ]
  },
  {
   "cell_type": "markdown",
   "id": "140dd81d",
   "metadata": {},
   "source": [
    "## Code Syntax"
   ]
  },
  {
   "cell_type": "markdown",
   "id": "e641dd82",
   "metadata": {},
   "source": [
    "**What happens inside the computer when we run the code?**\n",
    "\n",
    "> In which order Python reads the line of code?\n",
    "> - From left to right.\n",
    "> - From up to down.\n",
    "> Which elements are being used in the previous line of code?"
   ]
  },
  {
   "cell_type": "markdown",
   "id": "c00fb204-a8c5-4533-9e87-bf76d984c5c0",
   "metadata": {},
   "source": [
    "1. `libreria`\n",
    "2. `.` **DOT NOTATION** para acceder a las funcionalidades de la libreria\n",
    "3. `funcion()`\n",
    "4. pasamos `objetos` a los `argumentos`\n",
    "    - pasamos el `str` \"internet_usage_spain.xlsx\" al argumento `io`\n",
    "    - pasamos el `int` al argumento `sheet_name`\n",
    "5. ejecutamos\n",
    "6. magia borras\n",
    "7. la funcion nos devuelve un `objeto`"
   ]
  },
  {
   "cell_type": "code",
   "execution_count": null,
   "id": "444ac959-e687-4cf9-a193-42a0ec9a1d6b",
   "metadata": {},
   "outputs": [],
   "source": []
  },
  {
   "cell_type": "code",
   "execution_count": null,
   "id": "766c760c-83f2-493b-84b8-87a15eaab5ae",
   "metadata": {},
   "outputs": [],
   "source": []
  },
  {
   "cell_type": "markdown",
   "id": "1766242d-996b-4116-a7f8-e8f21f4b5674",
   "metadata": {
    "tags": []
   },
   "source": [
    "## Python doesn't know about the Excel File\n",
    "\n",
    "> - Python just interprets the `string`\n",
    "> - and the `integer`"
   ]
  },
  {
   "cell_type": "code",
   "execution_count": null,
   "id": "410fc5eb-db82-47a5-929d-72e76e29fbd1",
   "metadata": {},
   "outputs": [],
   "source": []
  },
  {
   "cell_type": "code",
   "execution_count": null,
   "id": "ca9a6858-d9fd-4dfe-91bc-e9097e6e4ca2",
   "metadata": {},
   "outputs": [],
   "source": []
  },
  {
   "cell_type": "markdown",
   "id": "40258955-abd7-4872-acaa-618256e61c58",
   "metadata": {},
   "source": [
    "> - As you pass these two parameters to the function\n",
    "> - `pd.read_excel(io='internet_usage_spain.xlsx', sheet_name=1)`"
   ]
  },
  {
   "cell_type": "code",
   "execution_count": null,
   "id": "c2bcc8e0-7edd-4cba-ac9a-4e5760579fc4",
   "metadata": {},
   "outputs": [],
   "source": []
  },
  {
   "cell_type": "markdown",
   "id": "61e27a6b-68da-47b8-8197-866aab11826e",
   "metadata": {},
   "source": [
    "`miniforge3/lib/python3.9/site-packages/pandas/io/excel/_base.py`"
   ]
  },
  {
   "cell_type": "markdown",
   "id": "f77f4b8f-efe7-4525-9a4f-80bd99653c2d",
   "metadata": {},
   "source": [
    "## Source Code Execution"
   ]
  },
  {
   "cell_type": "markdown",
   "id": "f13f8f19-2880-4ac9-aca1-509e188a49fe",
   "metadata": {},
   "source": [
    "> - What have happened **inside the computer** execute `read_excel()`?"
   ]
  },
  {
   "cell_type": "code",
   "execution_count": null,
   "id": "fef020e6-90d3-4f87-9519-3a1a510a2fb2",
   "metadata": {},
   "outputs": [],
   "source": []
  },
  {
   "cell_type": "markdown",
   "id": "f6917b73-6390-47f5-8c83-2a00c92f8dc6",
   "metadata": {},
   "source": [
    "`~/miniforge3/lib/python3.9/site-packages/pandas/io/excel/_base.py`"
   ]
  },
  {
   "cell_type": "markdown",
   "id": "7ea8cc83-7736-4525-9c5b-bd6186ac808b",
   "metadata": {},
   "source": [
    "> - How Python locates the error when it doesn't find the `filename`?"
   ]
  },
  {
   "cell_type": "code",
   "execution_count": null,
   "id": "ab73c0a7-2149-4a05-be21-63b3fb796d2d",
   "metadata": {},
   "outputs": [],
   "source": []
  },
  {
   "cell_type": "markdown",
   "id": "0d064658",
   "metadata": {},
   "source": [
    "## Conclusion | Types of Functions"
   ]
  },
  {
   "cell_type": "markdown",
   "id": "85a24444",
   "metadata": {},
   "source": [
    "> 1. Buit-in (Predefined) Functions\n",
    "> 2. External Functions from Libraries\n",
    "> 3. Functions within Objects"
   ]
  }
 ],
 "metadata": {
  "authors": [
   {
    "name": "Jesús López @sotastica"
   }
  ],
  "interpreter": {
   "hash": "414fd6d7c0f0aefb3d4e2db41edbeb0df03134e10d94a689550561b640a17652"
  },
  "kernelspec": {
   "display_name": "Python 3 (ipykernel)",
   "language": "python",
   "name": "python3"
  },
  "language_info": {
   "codemirror_mode": {
    "name": "ipython",
    "version": 3
   },
   "file_extension": ".py",
   "mimetype": "text/x-python",
   "name": "python",
   "nbconvert_exporter": "python",
   "pygments_lexer": "ipython3",
   "version": "3.9.7"
  },
  "toc-autonumbering": true
 },
 "nbformat": 4,
 "nbformat_minor": 5
}
