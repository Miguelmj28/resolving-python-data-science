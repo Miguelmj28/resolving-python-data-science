{
 "cells": [
  {
   "cell_type": "markdown",
   "id": "9a3cd13d-4f55-47e5-8e9e-7de35cd17bc1",
   "metadata": {
    "tags": []
   },
   "source": [
    "<font size=\"+5\">#02 | Dissecting the Object Like an Onion</font>"
   ]
  },
  {
   "cell_type": "markdown",
   "id": "f6149105-9e94-40b5-8f77-e9d0782d4b0d",
   "metadata": {},
   "source": [
    "<div class=\"alert alert-warning\"><b>Python</b> + <b>Data Science</b> Tutorials in <a href=\"https://www.youtube.com/c/PythonResolver\">YouTube ↗︎</a></div>"
   ]
  },
  {
   "cell_type": "code",
   "execution_count": null,
   "id": "fac064a2-203a-49ad-8696-eedcb8a8a1cd",
   "metadata": {},
   "outputs": [],
   "source": []
  },
  {
   "cell_type": "code",
   "execution_count": null,
   "id": "6e6c878e-3c34-428f-9688-9356d60c4338",
   "metadata": {},
   "outputs": [],
   "source": []
  },
  {
   "cell_type": "code",
   "execution_count": null,
   "id": "ef3e39a5-6791-4a8b-909e-8b369aa90521",
   "metadata": {},
   "outputs": [],
   "source": []
  },
  {
   "cell_type": "code",
   "execution_count": null,
   "id": "088d7538-b77e-46a7-8ebc-28379464f3d9",
   "metadata": {},
   "outputs": [],
   "source": []
  },
  {
   "cell_type": "markdown",
   "id": "f6a53d12-e066-41b3-ade6-1603661103c4",
   "metadata": {},
   "source": [
    "1. `module`\n",
    "2. `function()`\n",
    "3. `objects`\n",
    "    - `class`\n",
    "    - `instance`\n",
    "4. `(parameter=?)`"
   ]
  },
  {
   "cell_type": "markdown",
   "id": "a46c9768-9978-462b-ad4a-5b2ac45c9868",
   "metadata": {},
   "source": [
    "> - Objects are **data structures** that store information. \n",
    "> - [ ] Which **syntax** do we use to access the information?"
   ]
  },
  {
   "cell_type": "markdown",
   "id": "a99f1b5b-8c05-44c0-8b89-8c0d32c68210",
   "metadata": {},
   "source": [
    "## Dot Notation `.`"
   ]
  },
  {
   "cell_type": "markdown",
   "id": "b1d0b79a-4f2c-403a-9144-b0b12c7d25f4",
   "metadata": {},
   "source": [
    "> - [ ] Show just the `age` column from `df`"
   ]
  },
  {
   "cell_type": "code",
   "execution_count": null,
   "id": "f390059e-bec9-43e0-adc2-0c0fdc77c054",
   "metadata": {},
   "outputs": [],
   "source": []
  },
  {
   "cell_type": "code",
   "execution_count": null,
   "id": "264a19bf-0263-4e4d-b08d-7ce4402b8ab0",
   "metadata": {},
   "outputs": [],
   "source": []
  },
  {
   "cell_type": "code",
   "execution_count": null,
   "id": "679dffe2-c618-4865-9c10-515e840d968e",
   "metadata": {},
   "outputs": [],
   "source": []
  },
  {
   "cell_type": "markdown",
   "id": "31d3c8aa-8018-41f0-831d-85edfa5b51f2",
   "metadata": {},
   "source": [
    "> - [ ] Could we **access to more information** than just the columns?"
   ]
  },
  {
   "cell_type": "code",
   "execution_count": null,
   "id": "bbfbb94e-0e11-4162-a9a2-3a532ee4b106",
   "metadata": {},
   "outputs": [],
   "source": []
  },
  {
   "cell_type": "code",
   "execution_count": null,
   "id": "70f3f405-ed91-4e21-bb7f-2c6191c5eb9b",
   "metadata": {},
   "outputs": [],
   "source": []
  },
  {
   "cell_type": "markdown",
   "id": "4699b326-52a2-4288-bd1a-a71c26324161",
   "metadata": {},
   "source": [
    "### The `function()`"
   ]
  },
  {
   "cell_type": "code",
   "execution_count": null,
   "id": "96c6169e-dbaf-4c1e-85ac-088aa902da94",
   "metadata": {},
   "outputs": [],
   "source": []
  },
  {
   "cell_type": "code",
   "execution_count": null,
   "id": "66f0fafe-634b-4803-b71d-4115c5ba3255",
   "metadata": {},
   "outputs": [],
   "source": []
  },
  {
   "cell_type": "code",
   "execution_count": null,
   "id": "1989faf7-d6a9-4451-b2c5-ed40ece3d6cc",
   "metadata": {},
   "outputs": [],
   "source": []
  },
  {
   "cell_type": "code",
   "execution_count": null,
   "id": "d2301727-7cd9-4d67-94a3-19aeeaac00fd",
   "metadata": {},
   "outputs": [],
   "source": []
  },
  {
   "cell_type": "code",
   "execution_count": null,
   "id": "d4c96f36-d4d1-442e-81ff-1705771d8c6d",
   "metadata": {},
   "outputs": [],
   "source": []
  },
  {
   "cell_type": "code",
   "execution_count": null,
   "id": "e64e4bf0-4f27-4b71-88ad-34a57a4fd8fa",
   "metadata": {},
   "outputs": [],
   "source": []
  },
  {
   "cell_type": "code",
   "execution_count": null,
   "id": "980cbded-9005-4616-9c0e-66dbc9a45398",
   "metadata": {},
   "outputs": [],
   "source": []
  },
  {
   "cell_type": "markdown",
   "id": "5eac4580-5d8f-409c-bdf5-dbb55d45f426",
   "metadata": {},
   "source": [
    "### The `instance`"
   ]
  },
  {
   "cell_type": "code",
   "execution_count": null,
   "id": "7e4fc2e7-8e2d-4af1-ace0-7cd0dd935630",
   "metadata": {},
   "outputs": [],
   "source": []
  },
  {
   "cell_type": "code",
   "execution_count": null,
   "id": "42e5f442-91e6-41cf-a11d-8ad7c6da5dc7",
   "metadata": {},
   "outputs": [],
   "source": []
  },
  {
   "cell_type": "code",
   "execution_count": null,
   "id": "f6b848e9-3f5c-4d8a-8216-675089c069d6",
   "metadata": {},
   "outputs": [],
   "source": []
  },
  {
   "cell_type": "code",
   "execution_count": null,
   "id": "4b8e87f4-d540-49b7-9dbf-cbe14fa2a765",
   "metadata": {},
   "outputs": [],
   "source": []
  },
  {
   "cell_type": "code",
   "execution_count": null,
   "id": "7181f3d2-8483-4e3f-9149-41ec0d1d4a5b",
   "metadata": {},
   "outputs": [],
   "source": []
  },
  {
   "cell_type": "markdown",
   "id": "dcd9a257-0594-4fc0-92b8-a06b010b428f",
   "metadata": {},
   "source": [
    "### Recap"
   ]
  },
  {
   "cell_type": "markdown",
   "id": "109a6bce-7989-41bf-83ce-92117fc61c83",
   "metadata": {},
   "source": [
    "#### The `instance`"
   ]
  },
  {
   "cell_type": "markdown",
   "id": "d4d37ab7-5a80-412a-9b1a-a1e9cd70b183",
   "metadata": {},
   "source": [
    "The **instance** (object) may contain:\n",
    "- `function`\n",
    "- more `instance`s"
   ]
  },
  {
   "cell_type": "code",
   "execution_count": null,
   "id": "45484f90-960c-4fb5-99bf-c08091ad711e",
   "metadata": {},
   "outputs": [],
   "source": []
  },
  {
   "cell_type": "code",
   "execution_count": null,
   "id": "4f0ebab9-22aa-4323-8f7a-45858cd58abb",
   "metadata": {},
   "outputs": [],
   "source": []
  },
  {
   "cell_type": "markdown",
   "id": "70d1e40b-9491-4c10-ab9b-132bdf5ff213",
   "metadata": {},
   "source": [
    "#### The `function()`"
   ]
  },
  {
   "cell_type": "markdown",
   "id": "51d105d0-2303-4e8c-8d0e-4df8b1ae4fff",
   "metadata": {},
   "source": [
    "The **function** contains nothing\n",
    "- ` `; it's the endpoint of programming"
   ]
  },
  {
   "cell_type": "code",
   "execution_count": null,
   "id": "70190060-3de6-4862-82ce-b11be3e85358",
   "metadata": {},
   "outputs": [],
   "source": []
  },
  {
   "cell_type": "code",
   "execution_count": null,
   "id": "17fa7598-dacc-4648-958b-cc91d97eca6e",
   "metadata": {},
   "outputs": [],
   "source": []
  },
  {
   "cell_type": "code",
   "execution_count": null,
   "id": "5764dc49-a89f-4309-b38e-a0f74c12368b",
   "metadata": {},
   "outputs": [],
   "source": []
  },
  {
   "cell_type": "code",
   "execution_count": null,
   "id": "f7a013ef-4419-4ec8-a284-31547e0bfc7f",
   "metadata": {},
   "outputs": [],
   "source": []
  },
  {
   "cell_type": "code",
   "execution_count": null,
   "id": "ea13640b-92ed-48e1-9d17-70eb417894da",
   "metadata": {},
   "outputs": [],
   "source": []
  },
  {
   "cell_type": "code",
   "execution_count": null,
   "id": "0da625ee-d86d-4f4b-992d-abc401e1cb24",
   "metadata": {},
   "outputs": [],
   "source": []
  },
  {
   "cell_type": "code",
   "execution_count": null,
   "id": "696e5759-33e2-489f-8d61-7adcec701272",
   "metadata": {},
   "outputs": [],
   "source": []
  },
  {
   "cell_type": "code",
   "execution_count": null,
   "id": "8d6b0629-328e-4985-b4c1-2abcac697392",
   "metadata": {},
   "outputs": [],
   "source": []
  },
  {
   "cell_type": "code",
   "execution_count": null,
   "id": "a808122b-c8a3-4a73-a70a-097555f607c1",
   "metadata": {},
   "outputs": [],
   "source": []
  },
  {
   "cell_type": "code",
   "execution_count": null,
   "id": "a9f8adf8-b726-4da6-97e3-6ebc1a6cc12c",
   "metadata": {},
   "outputs": [],
   "source": []
  },
  {
   "cell_type": "code",
   "execution_count": null,
   "id": "025e279c-0f78-467e-8b43-1765a0ea0a54",
   "metadata": {},
   "outputs": [],
   "source": []
  },
  {
   "cell_type": "code",
   "execution_count": null,
   "id": "298d72ce-8bd2-4d17-aee2-5dfe034df8f7",
   "metadata": {},
   "outputs": [],
   "source": []
  },
  {
   "cell_type": "markdown",
   "id": "63a2df32-ddf8-4b38-9317-ea53bdd06424",
   "metadata": {},
   "source": [
    "#### Module"
   ]
  },
  {
   "cell_type": "markdown",
   "id": "d75eac57-b401-4dcc-aaf0-035fa19186e4",
   "metadata": {},
   "source": [
    "The **module** may contain:\n",
    "- `module` (subfolder)\n",
    "- `function`\n",
    "- object `class` **to be created**\n",
    "- object `instance` **(object) already created**"
   ]
  },
  {
   "cell_type": "code",
   "execution_count": null,
   "id": "150da50e-04d1-494d-88f8-a672773e064c",
   "metadata": {},
   "outputs": [],
   "source": []
  },
  {
   "cell_type": "code",
   "execution_count": null,
   "id": "97204c79-48a7-4fc3-8e2f-de622b1c40fb",
   "metadata": {},
   "outputs": [],
   "source": []
  },
  {
   "cell_type": "code",
   "execution_count": null,
   "id": "d932c507-4033-4860-b94d-dd319b8b9974",
   "metadata": {},
   "outputs": [],
   "source": []
  },
  {
   "cell_type": "code",
   "execution_count": null,
   "id": "08764491-0a6c-4210-9ab4-bd6c438e69ec",
   "metadata": {},
   "outputs": [],
   "source": []
  }
 ],
 "metadata": {
  "kernelspec": {
   "display_name": "Python 3 (ipykernel)",
   "language": "python",
   "name": "python3"
  },
  "language_info": {
   "codemirror_mode": {
    "name": "ipython",
    "version": 3
   },
   "file_extension": ".py",
   "mimetype": "text/x-python",
   "name": "python",
   "nbconvert_exporter": "python",
   "pygments_lexer": "ipython3",
   "version": "3.9.7"
  },
  "toc-autonumbering": true
 },
 "nbformat": 4,
 "nbformat_minor": 5
}
